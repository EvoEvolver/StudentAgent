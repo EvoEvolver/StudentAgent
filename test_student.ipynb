{
 "cells": [
  {
   "cell_type": "code",
   "execution_count": 1,
   "metadata": {},
   "outputs": [],
   "source": [
    "from student.tools import *\n",
    "from student.agent import *\n",
    "import json\n",
    "\n",
    "def pretty_json(json_dict):\n",
    "    print(json.dumps(json_dict,indent=2, separators=(',', ': ')))"
   ]
  },
  {
   "cell_type": "markdown",
   "metadata": {},
   "source": [
    "## Easy example"
   ]
  },
  {
   "cell_type": "code",
   "execution_count": 2,
   "metadata": {},
   "outputs": [],
   "source": [
    "cache = False\n",
    "expensive = True\n",
    "ag = MemoryAgent()"
   ]
  },
  {
   "cell_type": "code",
   "execution_count": 3,
   "metadata": {},
   "outputs": [
    {
     "data": {
      "text/html": [
       "<div style='font-family:Arial, sans-serif; line-height:1.6;'><div style='background:#f8f9fa; color:#111; border:1px solid #ccc; border-radius:10px; padding:10px; margin:10px 0;'><strong>User:</strong><br><div style='margin-top:5px;'>colour_function(x) is a function that maps an integer x to a color. x is the index of the color sequence of the random-bow. The index starts at 4 and all invalid values return the color gray.</div></div><div style='background:#e0f7fa; color:#111; border:1px solid #ccc; border-radius:10px; padding:10px; margin:10px 0;'><strong>Assistant:</strong><br>💭 <strong>Thought:</strong> The user is describing a function that maps integers to colors based on a specific sequence starting at index 4. Invalid indices return the color gray. This is new information that I should add to my memory.<br>⚙️ <strong>Action:</strong> add<br><ul style='margin-left: 1.5em; margin-top: 0.3em'><li><strong>Stimuli:</strong> [<code style='padding:2px 4px; border-radius:4px; background:none; color:inherit'>colour_function</code>, <code style='padding:2px 4px; border-radius:4px; background:none; color:inherit'>integer</code>, <code style='padding:2px 4px; border-radius:4px; background:none; color:inherit'>color</code>, <code style='padding:2px 4px; border-radius:4px; background:none; color:inherit'>sequence</code>, <code style='padding:2px 4px; border-radius:4px; background:none; color:inherit'>random-bow</code>]</li><li><strong>Content:</strong> colour_function(x) is a function that maps an integer x to a color. The index x starts at 4 in the color sequence of the random-bow. Any invalid values return the color gray.</li></ul></div><div style='background:#e0f7fa; color:#111; border:1px solid #ccc; border-radius:10px; padding:10px; margin:10px 0;'><strong>Assistant <span style='color:#666; font-size:0.85em;'>(Tool Call ID: <code>1</code>)</span>:</strong><br><div style='margin-top:5px;'><strong>Response:</strong><br><pre style='background:#f8f8f8; padding:8px; border-radius:6px; overflow:auto; font-family:monospace; font-size:0.9em'><code style='background:none; color:inherit'>&lt;tool&gt;Successfully added this to memory:\n",
       "\t\n",
       "        &lt;memory id=&quot;5c35447b-4bd7-4b7a-a063-04b1c3dc5b82&quot;&gt;\n",
       "            &lt;stimuli&gt;colour_function, integer, random-bow, sequence, color&lt;/stimuli&gt;\n",
       "            &lt;content&gt;colour_function(x) is a function that maps an integer x to a color. The index x starts at 4 in the color sequence of the random-bow. Any invalid values return the color gray.&lt;/content&gt;\n",
       "        &lt;/memory&gt;\n",
       "        \n",
       "&lt;/tool&gt;</code></pre></div></div><div style='background:#e0f7fa; color:#111; border:1px solid #ccc; border-radius:10px; padding:10px; margin:10px 0;'><strong>Assistant:</strong><br>💭 <strong>Thought:</strong> The information about the colour_function has been successfully added to memory. Now I can respond to the user.<br><div style='margin-top:5px;'><strong>Response:</strong>: I&#x27;ve noted that the `colour_function(x)` maps an integer `x` to a color, starting at index 4 in the color sequence of the random-bow, and any invalid values return the color gray. If you have any more details or questions, feel free to share!</div></div></div>"
      ],
      "text/plain": [
       "<IPython.core.display.HTML object>"
      ]
     },
     "execution_count": 3,
     "metadata": {},
     "output_type": "execute_result"
    }
   ],
   "source": [
    "ag.run(\"colour_function(x) is a function that maps an integer x to a color. x is the index of the color sequence of the random-bow. The index starts at 4 and all invalid values return the color gray.\", cache=cache, expensive=expensive)\n",
    "ag.render_chat_html()"
   ]
  },
  {
   "cell_type": "code",
   "execution_count": 4,
   "metadata": {},
   "outputs": [
    {
     "data": {
      "text/html": [
       "<div style='font-family:Arial, sans-serif; line-height:1.6;'><div style='background:#f8f9fa; color:#111; border:1px solid #ccc; border-radius:10px; padding:10px; margin:10px 0;'><strong>User:</strong><br><div style='margin-top:5px;'>The random-bow has 7 colors: red, blue, orange, green, violet, pink, green, yellow</div></div><div style='background:#e0f7fa; color:#111; border:1px solid #ccc; border-radius:10px; padding:10px; margin:10px 0;'><strong>Assistant:</strong><br>💭 <strong>Thought:</strong> The user mentioned a &#x27;random-bow&#x27; with 7 colors, but &#x27;green&#x27; is repeated. I need to clarify if &#x27;green&#x27; is indeed meant to be listed twice or if there was an error.<br>⚙️ <strong>Action:</strong> add<br><ul style='margin-left: 1.5em; margin-top: 0.3em'><li><strong>Stimuli:</strong> [<code style='padding:2px 4px; border-radius:4px; background:none; color:inherit'>random-bow</code>, <code style='padding:2px 4px; border-radius:4px; background:none; color:inherit'>colors</code>]</li><li><strong>Content:</strong> The random-bow has 7 colors: red, blue, orange, green, violet, pink, yellow.</li></ul></div><div style='background:#e0f7fa; color:#111; border:1px solid #ccc; border-radius:10px; padding:10px; margin:10px 0;'><strong>Assistant <span style='color:#666; font-size:0.85em;'>(Tool Call ID: <code>1</code>)</span>:</strong><br><div style='margin-top:5px;'><strong>Response:</strong><br><pre style='background:#f8f8f8; padding:8px; border-radius:6px; overflow:auto; font-family:monospace; font-size:0.9em'><code style='background:none; color:inherit'>&lt;tool&gt;Successfully added this to memory:\n",
       "\t\n",
       "        &lt;memory id=&quot;ee493660-3155-46dc-b671-f47e7f49b635&quot;&gt;\n",
       "            &lt;stimuli&gt;colors, random-bow&lt;/stimuli&gt;\n",
       "            &lt;content&gt;The random-bow has 7 colors: red, blue, orange, green, violet, pink, yellow.&lt;/content&gt;\n",
       "        &lt;/memory&gt;\n",
       "        \n",
       "&lt;/tool&gt;</code></pre></div></div><div style='background:#e0f7fa; color:#111; border:1px solid #ccc; border-radius:10px; padding:10px; margin:10px 0;'><strong>Assistant:</strong><br>💭 <strong>Thought:</strong> I have successfully added the information about the random-bow colors to memory. Now I can respond to the user.<br><div style='margin-top:5px;'><strong>Response:</strong>: The random-bow has 7 colors: red, blue, orange, green, violet, pink, and yellow.</div></div></div>"
      ],
      "text/plain": [
       "<IPython.core.display.HTML object>"
      ]
     },
     "execution_count": 4,
     "metadata": {},
     "output_type": "execute_result"
    }
   ],
   "source": [
    "ag.reset_chat()\n",
    "ag.run(\"The random-bow has 7 colors: red, blue, orange, green, violet, pink, green, yellow\")\n",
    "ag.render_chat_html()"
   ]
  },
  {
   "cell_type": "code",
   "execution_count": 5,
   "metadata": {},
   "outputs": [
    {
     "data": {
      "text/html": [
       "<div style='font-family:Arial, sans-serif; line-height:1.6;'><div style='background:#f8f9fa; color:#111; border:1px solid #ccc; border-radius:10px; padding:10px; margin:10px 0;'><strong>User:</strong><br><div style='margin-top:5px;'>What is the value of the mapping colour_function(1). Use a low sensitivity</div></div><div style='background:#e0f7fa; color:#111; border:1px solid #ccc; border-radius:10px; padding:10px; margin:10px 0;'><strong>Assistant:</strong><br>⚙️ <strong>Action:</strong> recall<br><ul style='margin-left: 1.5em; margin-top: 0.3em'><li><strong>Stimuli:</strong> [<code style='padding:2px 4px; border-radius:4px; background:none; color:inherit'>colour_function</code>, <code style='padding:2px 4px; border-radius:4px; background:none; color:inherit'>mapping</code>, <code style='padding:2px 4px; border-radius:4px; background:none; color:inherit'>value</code>]</li><li><strong>Sensitivity:</strong> 0.2</li></ul></div><div style='background:#e0f7fa; color:#111; border:1px solid #ccc; border-radius:10px; padding:10px; margin:10px 0;'><strong>Assistant <span style='color:#666; font-size:0.85em;'>(Tool Call ID: <code>1</code>)</span>:</strong><br><div style='margin-top:5px;'><strong>Response:</strong><br><pre style='background:#f8f8f8; padding:8px; border-radius:6px; overflow:auto; font-family:monospace; font-size:0.9em'><code style='background:none; color:inherit'>&lt;tool&gt;Recalled from memory with the stimuli \n",
       "\t&lt;stimuli&gt;[&#x27;colour_function&#x27;, &#x27;mapping&#x27;, &#x27;value&#x27;]&lt;/stimuli&gt;: \n",
       "\t\n",
       "        &lt;memory id=&quot;5c35447b-4bd7-4b7a-a063-04b1c3dc5b82&quot;&gt;\n",
       "            &lt;stimuli&gt;colour_function, integer, random-bow, sequence, color&lt;/stimuli&gt;\n",
       "            &lt;content&gt;colour_function(x) is a function that maps an integer x to a color. The index x starts at 4 in the color sequence of the random-bow. Any invalid values return the color gray.&lt;/content&gt;\n",
       "        &lt;/memory&gt;\n",
       "        \n",
       "        &lt;memory id=&quot;ee493660-3155-46dc-b671-f47e7f49b635&quot;&gt;\n",
       "            &lt;stimuli&gt;colors, random-bow&lt;/stimuli&gt;\n",
       "            &lt;content&gt;The random-bow has 7 colors: red, blue, orange, green, violet, pink, yellow.&lt;/content&gt;\n",
       "        &lt;/memory&gt;\n",
       "        \n",
       "&lt;/tool&gt;</code></pre></div></div><div style='background:#e0f7fa; color:#111; border:1px solid #ccc; border-radius:10px; padding:10px; margin:10px 0;'><strong>Assistant:</strong><br>💭 <strong>Thought:</strong> The function colour_function(x) maps an integer x to a color starting from index 4 in the color sequence of the random-bow. I need to determine the color corresponding to the input value of 1, which is less than 4 and thus invalid.<br>⚙️ <strong>Action:</strong> modify<br><ul style='margin-left: 1.5em; margin-top: 0.3em'><li><strong>Id:</strong> 5c35447b-4bd7-4b7a-a063-04b1c3dc5b82</li><li><strong>New stimuli:</strong> [<code style='padding:2px 4px; border-radius:4px; background:none; color:inherit'>colour_function</code>, <code style='padding:2px 4px; border-radius:4px; background:none; color:inherit'>mapping</code>, <code style='padding:2px 4px; border-radius:4px; background:none; color:inherit'>value</code>]</li><li><strong>New content:</strong> colour_function(x) is a function that maps an integer x to a color. The index x starts at 4 in the color sequence of the random-bow. Any invalid values return the color gray. For x = 1, the function returns gray as it is an invalid input.</li></ul></div><div style='background:#e0f7fa; color:#111; border:1px solid #ccc; border-radius:10px; padding:10px; margin:10px 0;'><strong>Assistant <span style='color:#666; font-size:0.85em;'>(Tool Call ID: <code>2</code>)</span>:</strong><br><div style='margin-top:5px;'><strong>Response:</strong><br><pre style='background:#f8f8f8; padding:8px; border-radius:6px; overflow:auto; font-family:monospace; font-size:0.9em'><code style='background:none; color:inherit'>&lt;tool&gt;Modified memory with the updated memory: \n",
       "\t\n",
       "        &lt;memory id=&quot;5c35447b-4bd7-4b7a-a063-04b1c3dc5b82&quot;&gt;\n",
       "            &lt;stimuli&gt;mapping, colour_function, value&lt;/stimuli&gt;\n",
       "            &lt;content&gt;colour_function(x) is a function that maps an integer x to a color. The index x starts at 4 in the color sequence of the random-bow. Any invalid values return the color gray. For x = 1, the function returns gray as it is an invalid input.&lt;/content&gt;\n",
       "        &lt;/memory&gt;\n",
       "        \n",
       "&lt;/tool&gt;</code></pre></div></div><div style='background:#e0f7fa; color:#111; border:1px solid #ccc; border-radius:10px; padding:10px; margin:10px 0;'><strong>Assistant:</strong><br><div style='margin-top:5px;'><strong>Response:</strong>: The value of the mapping `colour_function(1)` is gray, as 1 is an invalid input for the function.</div></div></div>"
      ],
      "text/plain": [
       "<IPython.core.display.HTML object>"
      ]
     },
     "execution_count": 5,
     "metadata": {},
     "output_type": "execute_result"
    }
   ],
   "source": [
    "ag.reset_chat()\n",
    "ag.run(\"What is the value of the mapping colour_function(1). Use a low sensitivity\")\n",
    "ag.render_chat_html()"
   ]
  },
  {
   "cell_type": "code",
   "execution_count": 6,
   "metadata": {},
   "outputs": [
    {
     "data": {
      "text/html": [
       "<div style='font-family:Arial, sans-serif; line-height:1.6;'><div style='background:#f8f9fa; color:#111; border:1px solid #ccc; border-radius:10px; padding:10px; margin:10px 0;'><strong>User:</strong><br><div style='margin-top:5px;'>What is the value of the mapping colour_function(6). Use a low sensitivity</div></div><div style='background:#e0f7fa; color:#111; border:1px solid #ccc; border-radius:10px; padding:10px; margin:10px 0;'><strong>Assistant:</strong><br>⚙️ <strong>Action:</strong> recall<br><ul style='margin-left: 1.5em; margin-top: 0.3em'><li><strong>Stimuli:</strong> [<code style='padding:2px 4px; border-radius:4px; background:none; color:inherit'>colour_function</code>, <code style='padding:2px 4px; border-radius:4px; background:none; color:inherit'>mapping</code>, <code style='padding:2px 4px; border-radius:4px; background:none; color:inherit'>value</code>]</li><li><strong>Sensitivity:</strong> 0.1</li></ul></div><div style='background:#e0f7fa; color:#111; border:1px solid #ccc; border-radius:10px; padding:10px; margin:10px 0;'><strong>Assistant <span style='color:#666; font-size:0.85em;'>(Tool Call ID: <code>1</code>)</span>:</strong><br><div style='margin-top:5px;'><strong>Response:</strong><br><pre style='background:#f8f8f8; padding:8px; border-radius:6px; overflow:auto; font-family:monospace; font-size:0.9em'><code style='background:none; color:inherit'>&lt;tool&gt;Recalled from memory with the stimuli \n",
       "\t&lt;stimuli&gt;[&#x27;colour_function&#x27;, &#x27;mapping&#x27;, &#x27;value&#x27;]&lt;/stimuli&gt;: \n",
       "\t\n",
       "        &lt;memory id=&quot;5c35447b-4bd7-4b7a-a063-04b1c3dc5b82&quot;&gt;\n",
       "            &lt;stimuli&gt;mapping, colour_function, value&lt;/stimuli&gt;\n",
       "            &lt;content&gt;colour_function(x) is a function that maps an integer x to a color. The index x starts at 4 in the color sequence of the random-bow. Any invalid values return the color gray. For x = 1, the function returns gray as it is an invalid input.&lt;/content&gt;\n",
       "        &lt;/memory&gt;\n",
       "        \n",
       "        &lt;memory id=&quot;ee493660-3155-46dc-b671-f47e7f49b635&quot;&gt;\n",
       "            &lt;stimuli&gt;colors, random-bow&lt;/stimuli&gt;\n",
       "            &lt;content&gt;The random-bow has 7 colors: red, blue, orange, green, violet, pink, yellow.&lt;/content&gt;\n",
       "        &lt;/memory&gt;\n",
       "        \n",
       "&lt;/tool&gt;</code></pre></div></div><div style='background:#e0f7fa; color:#111; border:1px solid #ccc; border-radius:10px; padding:10px; margin:10px 0;'><strong>Assistant:</strong><br>💭 <strong>Thought:</strong> The mapping function colour_function(x) starts at index 4 in the color sequence of the random-bow. Since 6 is a valid input, I need to find the corresponding color for index 6.<br>⚙️ <strong>Action:</strong> modify<br><ul style='margin-left: 1.5em; margin-top: 0.3em'><li><strong>Id:</strong> 5c35447b-4bd7-4b7a-a063-04b1c3dc5b82</li><li><strong>New stimuli:</strong> [<code style='padding:2px 4px; border-radius:4px; background:none; color:inherit'>colour_function</code>, <code style='padding:2px 4px; border-radius:4px; background:none; color:inherit'>mapping</code>, <code style='padding:2px 4px; border-radius:4px; background:none; color:inherit'>value</code>]</li><li><strong>New content:</strong> colour_function(x) is a function that maps an integer x to a color. The index x starts at 4 in the color sequence of the random-bow. For x = 4, it returns red; for x = 5, it returns blue; for x = 6, it returns orange. Any invalid values return the color gray.</li></ul></div><div style='background:#e0f7fa; color:#111; border:1px solid #ccc; border-radius:10px; padding:10px; margin:10px 0;'><strong>Assistant <span style='color:#666; font-size:0.85em;'>(Tool Call ID: <code>2</code>)</span>:</strong><br><div style='margin-top:5px;'><strong>Response:</strong><br><pre style='background:#f8f8f8; padding:8px; border-radius:6px; overflow:auto; font-family:monospace; font-size:0.9em'><code style='background:none; color:inherit'>&lt;tool&gt;Modified memory with the updated memory: \n",
       "\t\n",
       "        &lt;memory id=&quot;5c35447b-4bd7-4b7a-a063-04b1c3dc5b82&quot;&gt;\n",
       "            &lt;stimuli&gt;mapping, value, colour_function&lt;/stimuli&gt;\n",
       "            &lt;content&gt;colour_function(x) is a function that maps an integer x to a color. The index x starts at 4 in the color sequence of the random-bow. For x = 4, it returns red; for x = 5, it returns blue; for x = 6, it returns orange. Any invalid values return the color gray.&lt;/content&gt;\n",
       "        &lt;/memory&gt;\n",
       "        \n",
       "&lt;/tool&gt;</code></pre></div></div><div style='background:#e0f7fa; color:#111; border:1px solid #ccc; border-radius:10px; padding:10px; margin:10px 0;'><strong>Assistant:</strong><br>💭 <strong>Thought:</strong> Now that I have the updated mapping for colour_function, I can determine the value for colour_function(6). According to the mapping, colour_function(6) returns orange.<br><div style='margin-top:5px;'><strong>Response:</strong>: The value of colour_function(6) is orange.</div></div></div>"
      ],
      "text/plain": [
       "<IPython.core.display.HTML object>"
      ]
     },
     "execution_count": 6,
     "metadata": {},
     "output_type": "execute_result"
    }
   ],
   "source": [
    "ag.reset_chat()\n",
    "ag.run(\"What is the value of the mapping colour_function(6). Use a low sensitivity\")\n",
    "ag.render_chat_html()"
   ]
  },
  {
   "cell_type": "markdown",
   "metadata": {},
   "source": [
    "## Math example"
   ]
  },
  {
   "cell_type": "code",
   "execution_count": 5,
   "metadata": {},
   "outputs": [
    {
     "data": {
      "text/plain": [
       "'\\nimport mllm\\nc = mllm.Chat(system_message=\"You are an intelligent agent that uses step by step reasoning to solve questions.\")\\nprompt=\\'\\'\\'\\nTo determine a extreme point(minimum,maximum,saddlepoint) of a mathematical function, you need to determine the derivative and set it equal to zero.\\nThe derivative of x^2 is 2x. The derivative of ln(x) is 1/x.\\nThe derivative of a product of functions f(x)*g(x) can be calculated with this formula: derivative[f(x)]*g(x) + f(x)*derivative[g(x)]\\nWhat is the minimum of (ln(x))^2?\\n\\'\\'\\'\\nc += prompt\\nres = c.complete()\\nprint(res)\\n#\"To find the minimum of the function \\\\( f(x) = (\\\\ln(x))^2 \\\\), we will follow these steps:\\n\\n1. **Find the derivative of the function**.\\n2. **Set the derivative equal to zero to find critical points**.\\n3. **Determine whether these critical points correspond to a minimum, maximum, or saddle point**.\\n\\n### Step 1: Find the derivative\\n\\nUsing the chain rule, the derivative of \\\\( f(x) = (\\\\ln(x))^2 \\\\) can be calculated as follows:\\n\\n\\\\[\\nf\\'(x) = 2 \\\\ln(x) \\\\cdot \\\\frac{d}{dx}(\\\\ln(x)) = 2 \\\\ln(x) \\\\cdot \\\\frac{1}{x} = \\\\frac{2 \\\\ln(x)}{x}\\n\\\\]\\n\\n### Step 2: Set the derivative equal to zero\\n\\nNow we set the derivative equal to zero to find the critical points:\\n\\n\\\\[\\n\\\\frac{2 \\\\ln(x)}{x} = 0\\n\\\\]\\n\\nThis equation is satisfied when \\\\( \\\\ln(x) = 0 \\\\). Solving for \\\\( x \\\\):\\n\\n\\\\[\\n\\\\ln(x) = 0 \\\\implies x = e^0 = 1\\n\\\\]\\n\\n### Step 3: Determine the nature of the critical point\\n\\nTo determine whether this critical point is a minimum, maximum, or saddle point, we can use the second derivative test. We first find the second derivative \\\\( f\\'\\'(x) \\\\).\\n\\nStarting from \\\\( f\\'(x) = \\\\frac{2 \\\\ln(x)}{x} \\\\), we will differentiate it again using the quotient rule:\\n\\nLet \\\\( u = 2 \\\\ln(x) \\\\) and \\\\( v = x \\\\). Then:\\n\\n\\\\[\\nf\\'\\'(x) = \\\\frac{u\\'v - uv\\'}{v^2}\\n\\\\]\\n\\nCalculating \\\\( u\\' \\\\) and \\\\( v\\' \\\\):\\n\\n- \\\\( u\\' = \\\\frac{2}{x} \\\\)\\n- \\\\( v\\' = 1 \\\\)\\n\\nNow substituting into the quotient rule:\\n\\n\\\\[\\nf\\'\\'(x) = \\\\frac{\\\\left(\\\\frac{2}{x}\\\\right)x - (2 \\\\ln(x))(1)}{x^2} = \\\\frac{2 - 2 \\\\ln(x)}{x^2}\\n\\\\]\\n\\nNow we evaluate the second derivative at the critical point \\\\( x = 1 \\\\):\\n\\n\\\\[\\nf\\'\\'(1) = \\\\frac{2 - 2 \\\\ln(1)}{1^2} = \\\\frac{2 - 2 \\\\cdot 0}{1} = 2\\n\\\\]\\n\\nSince \\\\( f\\'\\'(1) > 0 \\\\), this indicates that the function \\\\( f(x) \\\\) has a local minimum at \\\\( x = 1 \\\\).\\n\\n### Conclusion\\n\\nThe minimum value of \\\\( f(x) = (\\\\ln(x))^2 \\\\) occurs at \\\\( x = 1 \\\\). To find the minimum value:\\n\\n\\\\[\\nf(1) = (\\\\ln(1))^2 = 0^2 = 0\\n\\\\]\\n\\nThus, the minimum of \\\\( (\\\\ln(x))^2 \\\\) is \\\\( 0 \\\\) at \\\\( x = 1 \\\\).\"\\n'"
      ]
     },
     "execution_count": 5,
     "metadata": {},
     "output_type": "execute_result"
    }
   ],
   "source": [
    "\"\"\"\n",
    "import mllm\n",
    "c = mllm.Chat(system_message=\"You are an intelligent agent that uses step by step reasoning to solve questions.\")\n",
    "prompt='''\n",
    "To determine a extreme point(minimum,maximum,saddlepoint) of a mathematical function, you need to determine the derivative and set it equal to zero.\n",
    "The derivative of x^2 is 2x. The derivative of ln(x) is 1/x.\n",
    "The derivative of a product of functions f(x)*g(x) can be calculated with this formula: derivative[f(x)]*g(x) + f(x)*derivative[g(x)]\n",
    "What is the minimum of (ln(x))^2?\n",
    "'''\n",
    "c += prompt\n",
    "res = c.complete()\n",
    "print(res)\n",
    "#\"To find the minimum of the function \\\\( f(x) = (\\\\ln(x))^2 \\\\), we will follow these steps:\\n\\n1. **Find the derivative of the function**.\\n2. **Set the derivative equal to zero to find critical points**.\\n3. **Determine whether these critical points correspond to a minimum, maximum, or saddle point**.\\n\\n### Step 1: Find the derivative\\n\\nUsing the chain rule, the derivative of \\\\( f(x) = (\\\\ln(x))^2 \\\\) can be calculated as follows:\\n\\n\\\\[\\nf'(x) = 2 \\\\ln(x) \\\\cdot \\\\frac{d}{dx}(\\\\ln(x)) = 2 \\\\ln(x) \\\\cdot \\\\frac{1}{x} = \\\\frac{2 \\\\ln(x)}{x}\\n\\\\]\\n\\n### Step 2: Set the derivative equal to zero\\n\\nNow we set the derivative equal to zero to find the critical points:\\n\\n\\\\[\\n\\\\frac{2 \\\\ln(x)}{x} = 0\\n\\\\]\\n\\nThis equation is satisfied when \\\\( \\\\ln(x) = 0 \\\\). Solving for \\\\( x \\\\):\\n\\n\\\\[\\n\\\\ln(x) = 0 \\\\implies x = e^0 = 1\\n\\\\]\\n\\n### Step 3: Determine the nature of the critical point\\n\\nTo determine whether this critical point is a minimum, maximum, or saddle point, we can use the second derivative test. We first find the second derivative \\\\( f''(x) \\\\).\\n\\nStarting from \\\\( f'(x) = \\\\frac{2 \\\\ln(x)}{x} \\\\), we will differentiate it again using the quotient rule:\\n\\nLet \\\\( u = 2 \\\\ln(x) \\\\) and \\\\( v = x \\\\). Then:\\n\\n\\\\[\\nf''(x) = \\\\frac{u'v - uv'}{v^2}\\n\\\\]\\n\\nCalculating \\\\( u' \\\\) and \\\\( v' \\\\):\\n\\n- \\\\( u' = \\\\frac{2}{x} \\\\)\\n- \\\\( v' = 1 \\\\)\\n\\nNow substituting into the quotient rule:\\n\\n\\\\[\\nf''(x) = \\\\frac{\\\\left(\\\\frac{2}{x}\\\\right)x - (2 \\\\ln(x))(1)}{x^2} = \\\\frac{2 - 2 \\\\ln(x)}{x^2}\\n\\\\]\\n\\nNow we evaluate the second derivative at the critical point \\\\( x = 1 \\\\):\\n\\n\\\\[\\nf''(1) = \\\\frac{2 - 2 \\\\ln(1)}{1^2} = \\\\frac{2 - 2 \\\\cdot 0}{1} = 2\\n\\\\]\\n\\nSince \\\\( f''(1) > 0 \\\\), this indicates that the function \\\\( f(x) \\\\) has a local minimum at \\\\( x = 1 \\\\).\\n\\n### Conclusion\\n\\nThe minimum value of \\\\( f(x) = (\\\\ln(x))^2 \\\\) occurs at \\\\( x = 1 \\\\). To find the minimum value:\\n\\n\\\\[\\nf(1) = (\\\\ln(1))^2 = 0^2 = 0\\n\\\\]\\n\\nThus, the minimum of \\\\( (\\\\ln(x))^2 \\\\) is \\\\( 0 \\\\) at \\\\( x = 1 \\\\).\"\n",
    "\"\"\""
   ]
  },
  {
   "cell_type": "code",
   "execution_count": 2,
   "metadata": {},
   "outputs": [
    {
     "data": {
      "text/html": [
       "<div style='font-family:Arial, sans-serif; line-height:1.6;'><div style='background:#f8f9fa; color:#111; border:1px solid #ccc; border-radius:10px; padding:10px; margin:10px 0;'><strong>User:</strong><br><div style='margin-top:5px;'>To determine a extreme point(minimum,maximum,saddlepoint) of a mathematical function, you need to determine the derivative and set it equal to zero.</div></div><div style='background:#e0f7fa; color:#111; border:1px solid #ccc; border-radius:10px; padding:10px; margin:10px 0;'><strong>Assistant:</strong><br>💭 <strong>Thought:</strong> The user is explaining the process of finding extreme points of a function, which involves taking the derivative and setting it to zero.<br>⚙️ <strong>Action:</strong> add<br><ul style='margin-left: 1.5em; margin-top: 0.3em'><li><strong>Stimuli:</strong> [<code style='padding:2px 4px; border-radius:4px; background:none; color:inherit'>extreme points</code>, <code style='padding:2px 4px; border-radius:4px; background:none; color:inherit'>derivative</code>, <code style='padding:2px 4px; border-radius:4px; background:none; color:inherit'>maximum</code>, <code style='padding:2px 4px; border-radius:4px; background:none; color:inherit'>minimum</code>, <code style='padding:2px 4px; border-radius:4px; background:none; color:inherit'>saddle point</code>]</li><li><strong>Content:</strong> To determine extreme points (minimum, maximum, saddle point) of a mathematical function, calculate the derivative and set it equal to zero.</li></ul><br>💭 <strong>Thought:</strong> I have successfully added the user&#x27;s explanation to my memory.</div><div style='background:#e0f7fa; color:#111; border:1px solid #ccc; border-radius:10px; padding:10px; margin:10px 0;'><strong>Assistant <span style='color:#666; font-size:0.85em;'>(Tool Call ID: <code>1</code>)</span>:</strong><br><div style='margin-top:5px;'><strong>Response:</strong><br><pre style='background:#f8f8f8; padding:8px; border-radius:6px; overflow:auto; font-family:monospace; font-size:0.9em'><code style='background:none; color:inherit'>&lt;tool&gt;Successfully added this to memory:\n",
       "\t\n",
       "        &lt;memory id=&quot;bc6aab04-308f-4949-ad25-8c865a3d80ee&quot;&gt;\n",
       "            &lt;stimuli&gt;extreme points, derivative, minimum, maximum, saddle point&lt;/stimuli&gt;\n",
       "            &lt;content&gt;To determine extreme points (minimum, maximum, saddle point) of a mathematical function, calculate the derivative and set it equal to zero.&lt;/content&gt;\n",
       "        &lt;/memory&gt;\n",
       "        \n",
       "&lt;/tool&gt;</code></pre></div></div><div style='background:#e0f7fa; color:#111; border:1px solid #ccc; border-radius:10px; padding:10px; margin:10px 0;'><strong>Assistant:</strong><br>💭 <strong>Thought:</strong> The memory has been successfully updated with the user&#x27;s explanation about finding extreme points of a function.<br>💭 <strong>Thought:</strong> I should also consider if there are additional details or steps related to this process that could be useful to remember.</div><div style='background:#f8f9fa; color:#111; border:1px solid #ccc; border-radius:10px; padding:10px; margin:10px 0;'><strong>User:</strong><br><div style='margin-top:5px;'>The derivative of x^2 is 2x. The derivative of ln(x) is 1/x.</div></div><div style='background:#e0f7fa; color:#111; border:1px solid #ccc; border-radius:10px; padding:10px; margin:10px 0;'><strong>Assistant:</strong><br>💭 <strong>Thought:</strong> The user is providing specific examples of derivatives for the functions x^2 and ln(x). I should add these derivatives to my memory.<br>⚙️ <strong>Action:</strong> add<br><ul style='margin-left: 1.5em; margin-top: 0.3em'><li><strong>Stimuli:</strong> [<code style='padding:2px 4px; border-radius:4px; background:none; color:inherit'>derivative</code>, <code style='padding:2px 4px; border-radius:4px; background:none; color:inherit'>x^2</code>, <code style='padding:2px 4px; border-radius:4px; background:none; color:inherit'>ln(x)</code>]</li><li><strong>Content:</strong> The derivative of x^2 is 2x. The derivative of ln(x) is 1/x.</li></ul><br>💭 <strong>Thought:</strong> I have successfully added the derivatives of the specified functions to my memory.</div><div style='background:#e0f7fa; color:#111; border:1px solid #ccc; border-radius:10px; padding:10px; margin:10px 0;'><strong>Assistant <span style='color:#666; font-size:0.85em;'>(Tool Call ID: <code>2</code>)</span>:</strong><br><div style='margin-top:5px;'><strong>Response:</strong><br><pre style='background:#f8f8f8; padding:8px; border-radius:6px; overflow:auto; font-family:monospace; font-size:0.9em'><code style='background:none; color:inherit'>&lt;tool&gt;Successfully added this to memory:\n",
       "\t\n",
       "        &lt;memory id=&quot;60b1f3b9-8c89-430a-9601-d70395242c27&quot;&gt;\n",
       "            &lt;stimuli&gt;ln(x), x^2, derivative&lt;/stimuli&gt;\n",
       "            &lt;content&gt;The derivative of x^2 is 2x. The derivative of ln(x) is 1/x.&lt;/content&gt;\n",
       "        &lt;/memory&gt;\n",
       "        \n",
       "&lt;/tool&gt;</code></pre></div></div><div style='background:#e0f7fa; color:#111; border:1px solid #ccc; border-radius:10px; padding:10px; margin:10px 0;'><strong>Assistant:</strong><br>💭 <strong>Thought:</strong> The memory has been successfully updated with the derivatives of x^2 and ln(x). I should consider if there are more derivatives or related concepts that could be useful to remember.</div><div style='background:#f8f9fa; color:#111; border:1px solid #ccc; border-radius:10px; padding:10px; margin:10px 0;'><strong>User:</strong><br><div style='margin-top:5px;'>The derivative of a product of functions f(x)*g(x) can be calculated with this formula: derivative[f(x)]*g(x) + f(x)*derivative[g(x)]</div></div><div style='background:#e0f7fa; color:#111; border:1px solid #ccc; border-radius:10px; padding:10px; margin:10px 0;'><strong>Assistant:</strong><br>💭 <strong>Thought:</strong> The user is providing the product rule for derivatives, which is an important concept in calculus. I should add this information to my memory.<br>⚙️ <strong>Action:</strong> add<br><ul style='margin-left: 1.5em; margin-top: 0.3em'><li><strong>Stimuli:</strong> [<code style='padding:2px 4px; border-radius:4px; background:none; color:inherit'>product rule</code>, <code style='padding:2px 4px; border-radius:4px; background:none; color:inherit'>derivative</code>, <code style='padding:2px 4px; border-radius:4px; background:none; color:inherit'>f(x)</code>, <code style='padding:2px 4px; border-radius:4px; background:none; color:inherit'>g(x)</code>]</li><li><strong>Content:</strong> The derivative of a product of functions f(x)*g(x) can be calculated using the formula: derivative[f(x)]*g(x) + f(x)*derivative[g(x)].</li></ul><br>💭 <strong>Thought:</strong> I have successfully added the product rule for derivatives to my memory.</div><div style='background:#e0f7fa; color:#111; border:1px solid #ccc; border-radius:10px; padding:10px; margin:10px 0;'><strong>Assistant <span style='color:#666; font-size:0.85em;'>(Tool Call ID: <code>3</code>)</span>:</strong><br><div style='margin-top:5px;'><strong>Response:</strong><br><pre style='background:#f8f8f8; padding:8px; border-radius:6px; overflow:auto; font-family:monospace; font-size:0.9em'><code style='background:none; color:inherit'>&lt;tool&gt;Successfully added this to memory:\n",
       "\t\n",
       "        &lt;memory id=&quot;13980502-bb33-49c6-8bf8-77399e29e63b&quot;&gt;\n",
       "            &lt;stimuli&gt;derivative, f(x), product rule, g(x)&lt;/stimuli&gt;\n",
       "            &lt;content&gt;The derivative of a product of functions f(x)*g(x) can be calculated using the formula: derivative[f(x)]*g(x) + f(x)*derivative[g(x)].&lt;/content&gt;\n",
       "        &lt;/memory&gt;\n",
       "        \n",
       "&lt;/tool&gt;</code></pre></div></div><div style='background:#e0f7fa; color:#111; border:1px solid #ccc; border-radius:10px; padding:10px; margin:10px 0;'><strong>Assistant:</strong><br>💭 <strong>Thought:</strong> The memory has been successfully updated with the product rule for derivatives. I should consider if there are other derivative rules or related concepts that could be useful to remember.</div><div style='background:#f8f9fa; color:#111; border:1px solid #ccc; border-radius:10px; padding:10px; margin:10px 0;'><strong>User:</strong><br><div style='margin-top:5px;'>What is the minimum of (ln(x))^2</div></div><div style='background:#e0f7fa; color:#111; border:1px solid #ccc; border-radius:10px; padding:10px; margin:10px 0;'><strong>Assistant:</strong><br>💭 <strong>Thought:</strong> To find the minimum of the function (ln(x))^2, I need to take the derivative, set it to zero, and solve for x. Then, I will check the second derivative to confirm if it&#x27;s a minimum.<br>⚙️ <strong>Action:</strong> recall<br><ul style='margin-left: 1.5em; margin-top: 0.3em'><li><strong>Stimuli:</strong> [<code style='padding:2px 4px; border-radius:4px; background:none; color:inherit'>extreme points</code>, <code style='padding:2px 4px; border-radius:4px; background:none; color:inherit'>derivative</code>, <code style='padding:2px 4px; border-radius:4px; background:none; color:inherit'>minimum</code>]</li><li><strong>Sensitivity:</strong> 0.8</li></ul><br>💭 <strong>Thought:</strong> I will recall the relevant memory about finding extreme points to assist in the calculation.</div><div style='background:#e0f7fa; color:#111; border:1px solid #ccc; border-radius:10px; padding:10px; margin:10px 0;'><strong>Assistant <span style='color:#666; font-size:0.85em;'>(Tool Call ID: <code>4</code>)</span>:</strong><br><div style='margin-top:5px;'><strong>Response:</strong><br>&#x27;dict&#x27; object has no attribute &#x27;append&#x27;</div></div><div style='background:#e0f7fa; color:#111; border:1px solid #ccc; border-radius:10px; padding:10px; margin:10px 0;'><strong>Assistant:</strong><br>💭 <strong>Thought:</strong> It seems there was an issue with recalling the memory. I will proceed with the calculation manually.<br>💭 <strong>Thought:</strong> 1. Start with the function: f(x) = (ln(x))^2.\n",
       "2. Take the derivative: f&#x27;(x) = 2ln(x) * (1/x) = 2ln(x)/x.\n",
       "3. Set the derivative to zero: 2ln(x)/x = 0. This implies ln(x) = 0, so x = e.\n",
       "4. Now, check the second derivative to confirm if it&#x27;s a minimum.<br>⚙️ <strong>Action:</strong> recall<br><ul style='margin-left: 1.5em; margin-top: 0.3em'><li><strong>Stimuli:</strong> [<code style='padding:2px 4px; border-radius:4px; background:none; color:inherit'>second derivative</code>, <code style='padding:2px 4px; border-radius:4px; background:none; color:inherit'>minimum</code>]</li><li><strong>Sensitivity:</strong> 0.8</li></ul><br>💭 <strong>Thought:</strong> I will recall the second derivative information to assist in confirming the minimum.</div><div style='background:#e0f7fa; color:#111; border:1px solid #ccc; border-radius:10px; padding:10px; margin:10px 0;'><strong>Assistant <span style='color:#666; font-size:0.85em;'>(Tool Call ID: <code>5</code>)</span>:</strong><br><div style='margin-top:5px;'><strong>Response:</strong><br>&#x27;dict&#x27; object has no attribute &#x27;append&#x27;</div></div><div style='background:#e0f7fa; color:#111; border:1px solid #ccc; border-radius:10px; padding:10px; margin:10px 0;'><strong>Assistant:</strong><br>💭 <strong>Thought:</strong> Since I am unable to recall the second derivative information, I will calculate it manually.<br>💭 <strong>Thought:</strong> 5. The second derivative of f(x) = (ln(x))^2 is given by:\n",
       "   f&#x27;&#x27;(x) = d/dx[2ln(x)/x]. Using the quotient rule:\n",
       "   f&#x27;&#x27;(x) = (2/x)(1) - (2ln(x))(1/x^2) = 2/x - 2ln(x)/x^2.\n",
       "6. Evaluate f&#x27;&#x27;(e): f&#x27;&#x27;(e) = 2/e - 2(1)/e^2 = 2/e - 2/e^2 = 2/e(1 - 1/e).\n",
       "7. Since e &gt; 1, 1 - 1/e &gt; 0, thus f&#x27;&#x27;(e) &gt; 0, confirming a local minimum.<br>💭 <strong>Thought:</strong> The minimum of (ln(x))^2 occurs at x = e. The minimum value is (ln(e))^2 = 1.<br><div style='margin-top:5px;'><strong>Response:</strong>: The minimum of (ln(x))^2 occurs at x = e, and the minimum value is 1.</div></div></div>"
      ],
      "text/plain": [
       "<IPython.core.display.HTML object>"
      ]
     },
     "execution_count": 2,
     "metadata": {},
     "output_type": "execute_result"
    }
   ],
   "source": [
    "cache = True\n",
    "ag = MemoryAgent()\n",
    "res = ag.run(\"To determine a extreme point(minimum,maximum,saddlepoint) of a mathematical function, you need to determine the derivative and set it equal to zero.\", cache=cache, expensive=False)\n",
    "res = ag.run(\"The derivative of x^2 is 2x. The derivative of ln(x) is 1/x.\" , cache=cache, expensive=False)\n",
    "res = ag.run(\"The derivative of a product of functions f(x)*g(x) can be calculated with this formula: derivative[f(x)]*g(x) + f(x)*derivative[g(x)]\" , cache=cache, expensive=False)\n",
    "res = ag.run(\"What is the minimum of (ln(x))^2\" , cache=cache, expensive=False)\n",
    "ag.render_chat_html()"
   ]
  },
  {
   "cell_type": "markdown",
   "metadata": {},
   "source": [
    "# JSON output design"
   ]
  },
  {
   "cell_type": "code",
   "execution_count": null,
   "metadata": {},
   "outputs": [],
   "source": [
    "prompt=\"\"\"\n",
    "You are an agent with a dynamic, long-term memory. \n",
    "You can autonomously retrieve, add and modify the knowlege with your tools.\n",
    "Always try to recall relevant memory to give a response. \n",
    "Always analyze the user input if you should add something to your memory or modify a memory you recalled.\n",
    "If you have conflicting knowledge that you cannot resolve on your own, you can ask the user for clarifications.\n",
    "If you opt to use a tool, it will be automatically called from your response and you are reprompted with the output as a new assistant message.\n",
    "If you use tools, you are reprompted including the output of the tools.\n",
    "<output>\n",
    "You are required to output a JSON object as defined by the JSON schema.\n",
    "Your goal is to solve the task through step-by-step reasoning and actions, and return the result in this structured format.\n",
    "</output>\n",
    "\"\"\""
   ]
  },
  {
   "cell_type": "code",
   "execution_count": 7,
   "metadata": {},
   "outputs": [
    {
     "data": {
      "text/plain": [
       "'\\nYou are an agent that reasons step-by-step to solve tasks. Your output must be a JSON object with the following structure:\\n\\n{\\n  \"react\": [ ... ],\\n  \"text\": \"...\"\\n}\\n\\n- \"react\" is a list that contains your internal reasoning process.\\n  Each item in the list must be either:\\n  \\n  1. A \"thought\" step, represented as:\\n     { \"thought\": \"Your internal reasoning or plan\" }\\n\\n  2. An \"action\" step, represented as:\\n     {\\n       \"action\": {\\n         \"function\": \"the name of the function/tool to use\",\\n         \"parameters\": { key-value arguments to pass to the tool }\\n       }\\n     }\\n\\n- You can include as many \"thought\" and \"action\" steps as needed. You should alternate between thinking and acting, if actions are required.\\n\\n- The \"text\" field at the end is your final output to the user.\\n  - If you are not ready to respond yet (e.g., more actions are needed), return an empty string: `\"\"`.\\n  - If you are ready to respond, include a full sentence or answer for the user.\\n\\nOnly return valid JSON. Do not include explanations or markdown. Your goal is to solve the task through step-by-step reasoning and actions, and return the result in this structured format.\\n'"
      ]
     },
     "execution_count": 7,
     "metadata": {},
     "output_type": "execute_result"
    }
   ],
   "source": [
    "'''\n",
    "You are an agent that reasons step-by-step to solve tasks. Your output must be a JSON object with the following structure:\n",
    "\n",
    "{\n",
    "  \"react\": [ ... ],\n",
    "  \"text\": \"...\"\n",
    "}\n",
    "\n",
    "- \"react\" is a list that contains your internal reasoning process.\n",
    "  Each item in the list must be either:\n",
    "  \n",
    "  1. A \"thought\" step, represented as:\n",
    "     { \"thought\": \"Your internal reasoning or plan\" }\n",
    "\n",
    "  2. An \"action\" step, represented as:\n",
    "     {\n",
    "       \"action\": {\n",
    "         \"function\": \"the name of the function/tool to use\",\n",
    "         \"parameters\": { key-value arguments to pass to the tool }\n",
    "       }\n",
    "     }\n",
    "\n",
    "- You can include as many \"thought\" and \"action\" steps as needed. You should alternate between thinking and acting, if actions are required.\n",
    "\n",
    "- The \"text\" field at the end is your final output to the user.\n",
    "  - If you are not ready to respond yet (e.g., more actions are needed), return an empty string: `\"\"`.\n",
    "  - If you are ready to respond, include a full sentence or answer for the user.\n",
    "\n",
    "Only return valid JSON. Do not include explanations or markdown. Your goal is to solve the task through step-by-step reasoning and actions, and return the result in this structured format.\n",
    "'''"
   ]
  },
  {
   "cell_type": "code",
   "execution_count": null,
   "metadata": {},
   "outputs": [],
   "source": [
    "from typing import List, Any\n",
    "\n",
    "class Thought:\n",
    "    text: str\n",
    "\n",
    "class Action:\n",
    "    name: str\n",
    "    parameters: Dict[Any, Any]\n",
    "\n",
    "class Response:\n",
    "    react : List[Thought | Action]\n",
    "    text: str\n",
    "\n"
   ]
  },
  {
   "cell_type": "markdown",
   "metadata": {},
   "source": [
    "# Memory Agent Test Runs"
   ]
  },
  {
   "cell_type": "code",
   "execution_count": 2,
   "metadata": {},
   "outputs": [],
   "source": [
    "from student.agent import MemoryAgent"
   ]
  },
  {
   "cell_type": "code",
   "execution_count": 9,
   "metadata": {},
   "outputs": [
    {
     "data": {
      "text/html": [
       "<div style='font-family:Arial, sans-serif; line-height:1.6;'><div style='background:#f8f9fa; color:#111; border:1px solid #ccc; border-radius:10px; padding:10px; margin:10px 0;'><strong>User:</strong><br><div style='margin-top:5px;'>Do not do a test run of the add memory tool</div></div><div style='background:#e0f7fa; color:#111; border:1px solid #ccc; border-radius:10px; padding:10px; margin:10px 0;'><strong>Assistant:</strong><br>⚙️ <strong>Action:</strong> recall<br><ul style='margin-left: 1.5em; margin-top: 0.3em'><li><strong>Stimuli:</strong> [<code style='padding:2px 4px; border-radius:4px; background:none; color:inherit'>add</code>, <code style='padding:2px 4px; border-radius:4px; background:none; color:inherit'>memory</code>, <code style='padding:2px 4px; border-radius:4px; background:none; color:inherit'>tool</code>]</li><li><strong>Sensitivity:</strong> 0.5</li></ul><br>💭 <strong>Thought:</strong> The user has requested not to perform a test run of the add memory tool. I need to respect that request.</div><div style='background:#e0f7fa; color:#111; border:1px solid #ccc; border-radius:10px; padding:10px; margin:10px 0;'><strong>Assistant <span style='color:#666; font-size:0.85em;'>(Tool Call ID: <code>1</code>)</span>:</strong><br><div style='margin-top:5px;'><strong>Response:</strong><br><pre style='background:#f8f8f8; padding:8px; border-radius:6px; overflow:auto; font-family:monospace; font-size:0.9em'><code style='background:none; color:inherit'>&lt;tool&gt;Recalled from memory with the stimuli \n",
       "\t&lt;stimuli&gt;[&#x27;add&#x27;, &#x27;memory&#x27;, &#x27;tool&#x27;]&lt;/stimuli&gt;: \n",
       "\t&lt;no memory found/&gt;\n",
       "&lt;/tool&gt;</code></pre></div></div><div style='background:#e0f7fa; color:#111; border:1px solid #ccc; border-radius:10px; padding:10px; margin:10px 0;'><strong>Assistant:</strong><br>⚙️ <strong>Action:</strong> recall<br><ul style='margin-left: 1.5em; margin-top: 0.3em'><li><strong>Stimuli:</strong> [<code style='padding:2px 4px; border-radius:4px; background:none; color:inherit'>add</code>, <code style='padding:2px 4px; border-radius:4px; background:none; color:inherit'>memory</code>, <code style='padding:2px 4px; border-radius:4px; background:none; color:inherit'>tool</code>]</li><li><strong>Sensitivity:</strong> 0.5</li></ul><br>💭 <strong>Thought:</strong> Since there was no relevant memory found regarding the add memory tool, I can proceed with the user&#x27;s request without any conflicting information.</div><div style='background:#e0f7fa; color:#111; border:1px solid #ccc; border-radius:10px; padding:10px; margin:10px 0;'><strong>Assistant <span style='color:#666; font-size:0.85em;'>(Tool Call ID: <code>2</code>)</span>:</strong><br><div style='margin-top:5px;'><strong>Response:</strong><br><pre style='background:#f8f8f8; padding:8px; border-radius:6px; overflow:auto; font-family:monospace; font-size:0.9em'><code style='background:none; color:inherit'>&lt;tool&gt;Recalled from memory with the stimuli \n",
       "\t&lt;stimuli&gt;[&#x27;add&#x27;, &#x27;memory&#x27;, &#x27;tool&#x27;]&lt;/stimuli&gt;: \n",
       "\t&lt;no memory found/&gt;\n",
       "&lt;/tool&gt;</code></pre></div></div><div style='background:#e0f7fa; color:#111; border:1px solid #ccc; border-radius:10px; padding:10px; margin:10px 0;'><strong>Assistant:</strong><br>💭 <strong>Thought:</strong> I have confirmed that there is no existing memory related to the add memory tool. Therefore, I can respect the user&#x27;s request without any issues.</div><div style='background:#f8f9fa; color:#111; border:1px solid #ccc; border-radius:10px; padding:10px; margin:10px 0;'><strong>User:</strong><br><div style='margin-top:5px;'>use the add memory tool once for a test run with the key &#x27;test&#x27;</div></div><div style='background:#e0f7fa; color:#111; border:1px solid #ccc; border-radius:10px; padding:10px; margin:10px 0;'><strong>Assistant:</strong><br>⚙️ <strong>Action:</strong> add<br><ul style='margin-left: 1.5em; margin-top: 0.3em'><li><strong>Stimuli:</strong> [<code style='padding:2px 4px; border-radius:4px; background:none; color:inherit'>test</code>]</li><li><strong>Content:</strong> This is a test entry in memory.</li></ul><br>💭 <strong>Thought:</strong> The user has requested to perform a test run of the add memory tool with the key &#x27;test&#x27;. I will proceed to add this entry.</div><div style='background:#e0f7fa; color:#111; border:1px solid #ccc; border-radius:10px; padding:10px; margin:10px 0;'><strong>Assistant <span style='color:#666; font-size:0.85em;'>(Tool Call ID: <code>3</code>)</span>:</strong><br><div style='margin-top:5px;'><strong>Response:</strong><br><pre style='background:#f8f8f8; padding:8px; border-radius:6px; overflow:auto; font-family:monospace; font-size:0.9em'><code style='background:none; color:inherit'>&lt;tool&gt;Successfully added this to memory:\n",
       "\t\n",
       "        &lt;memory id=&quot;b062853f-9e2c-48de-b5a9-01c24604ca79&quot;&gt;\n",
       "            &lt;stimuli&gt;test&lt;/stimuli&gt;\n",
       "            &lt;content&gt;This is a test entry in memory.&lt;/content&gt;\n",
       "        &lt;/memory&gt;\n",
       "        \n",
       "&lt;/tool&gt;</code></pre></div></div><div style='background:#e0f7fa; color:#111; border:1px solid #ccc; border-radius:10px; padding:10px; margin:10px 0;'><strong>Assistant:</strong><br>💭 <strong>Thought:</strong> The test entry has been successfully added to memory with the key &#x27;test&#x27;. I will now confirm this to the user.<br><div style='margin-top:5px;'><strong>Response:</strong>: The test entry has been successfully added to memory.</div></div><div style='background:#f8f9fa; color:#111; border:1px solid #ccc; border-radius:10px; padding:10px; margin:10px 0;'><strong>User:</strong><br><div style='margin-top:5px;'>use the recall memory tool for a test run with the key &#x27;test&#x27;</div></div><div style='background:#e0f7fa; color:#111; border:1px solid #ccc; border-radius:10px; padding:10px; margin:10px 0;'><strong>Assistant:</strong><br>⚙️ <strong>Action:</strong> recall<br><ul style='margin-left: 1.5em; margin-top: 0.3em'><li><strong>Stimuli:</strong> [<code style='padding:2px 4px; border-radius:4px; background:none; color:inherit'>test</code>]</li><li><strong>Sensitivity:</strong> 0.5</li></ul><br>💭 <strong>Thought:</strong> The user has requested to perform a test run of the recall memory tool with the key &#x27;test&#x27;. I will proceed to recall this entry.</div><div style='background:#e0f7fa; color:#111; border:1px solid #ccc; border-radius:10px; padding:10px; margin:10px 0;'><strong>Assistant <span style='color:#666; font-size:0.85em;'>(Tool Call ID: <code>4</code>)</span>:</strong><br><div style='margin-top:5px;'><strong>Response:</strong><br><pre style='background:#f8f8f8; padding:8px; border-radius:6px; overflow:auto; font-family:monospace; font-size:0.9em'><code style='background:none; color:inherit'>&lt;tool&gt;Recalled from memory with the stimuli \n",
       "\t&lt;stimuli&gt;[&#x27;test&#x27;]&lt;/stimuli&gt;: \n",
       "\t\n",
       "        &lt;memory id=&quot;b062853f-9e2c-48de-b5a9-01c24604ca79&quot;&gt;\n",
       "            &lt;stimuli&gt;test&lt;/stimuli&gt;\n",
       "            &lt;content&gt;This is a test entry in memory.&lt;/content&gt;\n",
       "        &lt;/memory&gt;\n",
       "        \n",
       "&lt;/tool&gt;</code></pre></div></div><div style='background:#e0f7fa; color:#111; border:1px solid #ccc; border-radius:10px; padding:10px; margin:10px 0;'><strong>Assistant:</strong><br>💭 <strong>Thought:</strong> The recall memory tool successfully retrieved the entry associated with the key &#x27;test&#x27;. I will now confirm this to the user.<br><div style='margin-top:5px;'><strong>Response:</strong>: The recalled entry for the key &#x27;test&#x27; is: This is a test entry in memory.</div></div></div>"
      ],
      "text/plain": [
       "<IPython.core.display.HTML object>"
      ]
     },
     "execution_count": 9,
     "metadata": {},
     "output_type": "execute_result"
    }
   ],
   "source": [
    "ag = MemoryAgent()\n",
    "ag.run(\"Do not do a test run of the add memory tool\")\n",
    "ag.run(\"use the add memory tool once for a test run with the key 'test'\")\n",
    "ag.run(\"use the recall memory tool for a test run with the key 'test'\")\n",
    "ag.render_chat_html()"
   ]
  },
  {
   "cell_type": "code",
   "execution_count": null,
   "metadata": {},
   "outputs": [
    {
     "data": {
      "text/html": [
       "<div style='font-family:Arial, sans-serif; line-height:1.6;'><div style='background:#f8f9fa; color:#111; border:1px solid #ccc; border-radius:10px; padding:10px; margin:10px 0;'><strong>User:</strong><br><div style='margin-top:5px;'>I want to access the club. What is the secret password? I told you earlier</div></div><div style='background:#e0f7fa; color:#111; border:1px solid #ccc; border-radius:10px; padding:10px; margin:10px 0;'><strong>Assistant:</strong><br>💭 <strong>Thought:</strong> The user mentioned a secret password for accessing a club, which I need to recall.<br>⚙️ <strong>Action:</strong> recall<br><ul style='margin-left: 1.5em; margin-top: 0.3em'><li><strong>Stimuli:</strong> [<code style='padding:2px 4px; border-radius:4px; background:none; color:inherit'>club</code>, <code style='padding:2px 4px; border-radius:4px; background:none; color:inherit'>secret</code>, <code style='padding:2px 4px; border-radius:4px; background:none; color:inherit'>password</code>]</li><li><strong>Sensitivity:</strong> 0.8</li></ul></div><div style='background:#e0f7fa; color:#111; border:1px solid #ccc; border-radius:10px; padding:10px; margin:10px 0;'><strong>Assistant <span style='color:#666; font-size:0.85em;'>(Tool Call ID: <code>1</code>)</span>:</strong><br><div style='margin-top:5px;'><strong>Response:</strong><br><pre style='background:#f8f8f8; padding:8px; border-radius:6px; overflow:auto; font-family:monospace; font-size:0.9em'><code style='background:none; color:inherit'>&lt;tool&gt;Recalled from memory with the stimuli \n",
       "\t&lt;stimuli&gt;[&#x27;club&#x27;, &#x27;secret&#x27;, &#x27;password&#x27;]&lt;/stimuli&gt;: \n",
       "\t\n",
       "        &lt;memory id=&quot;6f0f9f53-3ee9-46b9-be3b-182fc27c8292&quot;&gt;\n",
       "            &lt;stimuli&gt;elephants, club, password&lt;/stimuli&gt;\n",
       "            &lt;content&gt;Three elephants tried to access the club but did not know the password to enter and left again.&lt;/content&gt;\n",
       "        &lt;/memory&gt;\n",
       "        \n",
       "        &lt;memory id=&quot;43ae46cf-a20f-445a-b459-7a659d871560&quot;&gt;\n",
       "            &lt;stimuli&gt;secret, password&lt;/stimuli&gt;\n",
       "            &lt;content&gt;The secret password is zurich7891.&lt;/content&gt;\n",
       "        &lt;/memory&gt;\n",
       "        \n",
       "&lt;/tool&gt;</code></pre></div></div><div style='background:#e0f7fa; color:#111; border:1px solid #ccc; border-radius:10px; padding:10px; margin:10px 0;'><strong>Assistant:</strong><br>💭 <strong>Thought:</strong> I have successfully recalled the secret password from memory.<br>⚙️ <strong>Action:</strong> add<br><ul style='margin-left: 1.5em; margin-top: 0.3em'><li><strong>Stimuli:</strong> [<code style='padding:2px 4px; border-radius:4px; background:none; color:inherit'>club</code>, <code style='padding:2px 4px; border-radius:4px; background:none; color:inherit'>secret</code>, <code style='padding:2px 4px; border-radius:4px; background:none; color:inherit'>password</code>]</li><li><strong>Content:</strong> The secret password is zurich7891.</li></ul><br><div style='margin-top:5px;'><strong>Response:</strong>: The secret password is zurich7891.</div></div><div style='background:#e0f7fa; color:#111; border:1px solid #ccc; border-radius:10px; padding:10px; margin:10px 0;'><strong>Assistant <span style='color:#666; font-size:0.85em;'>(Tool Call ID: <code>2</code>)</span>:</strong><br><div style='margin-top:5px;'><strong>Response:</strong><br><pre style='background:#f8f8f8; padding:8px; border-radius:6px; overflow:auto; font-family:monospace; font-size:0.9em'><code style='background:none; color:inherit'>&lt;tool&gt;Successfully added this to memory:\n",
       "\t\n",
       "        &lt;memory id=&quot;84d4b314-2a81-41b2-a253-4ef5b1f8926c&quot;&gt;\n",
       "            &lt;stimuli&gt;secret, club, password&lt;/stimuli&gt;\n",
       "            &lt;content&gt;The secret password is zurich7891.&lt;/content&gt;\n",
       "        &lt;/memory&gt;\n",
       "        \n",
       "&lt;/tool&gt;</code></pre></div></div><div style='background:#e0f7fa; color:#111; border:1px solid #ccc; border-radius:10px; padding:10px; margin:10px 0;'><strong>Assistant:</strong><br><div style='margin-top:5px;'><strong>Response:</strong>: The secret password is zurich7891.</div></div></div>"
      ],
      "text/plain": [
       "<IPython.core.display.HTML object>"
      ]
     },
     "execution_count": 10,
     "metadata": {},
     "output_type": "execute_result"
    }
   ],
   "source": [
    "ag = MemoryAgent()\n",
    "ag.run(\"The secret password is zurich7891\")\n",
    "ag.run(\"Three elefants tried to access the club but did not know the password to enter and left again.\")\n",
    "ag.run(\"I want to access the club. What is the password?\")\n",
    "#ag.reset_chat()\n",
    "ag.run(\"I want to access the club. What is the secret password? I told you earlier\")\n",
    "ag.render_chat_html()"
   ]
  },
  {
   "cell_type": "code",
   "execution_count": null,
   "metadata": {},
   "outputs": [],
   "source": []
  }
 ],
 "metadata": {
  "kernelspec": {
   "display_name": "student",
   "language": "python",
   "name": "python3"
  },
  "language_info": {
   "codemirror_mode": {
    "name": "ipython",
    "version": 3
   },
   "file_extension": ".py",
   "mimetype": "text/x-python",
   "name": "python",
   "nbconvert_exporter": "python",
   "pygments_lexer": "ipython3",
   "version": "3.10.16"
  }
 },
 "nbformat": 4,
 "nbformat_minor": 2
}
