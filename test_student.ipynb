{
 "cells": [
  {
   "cell_type": "markdown",
   "metadata": {},
   "source": [
    "# Test the Agents and tools"
   ]
  },
  {
   "cell_type": "code",
   "execution_count": 1,
   "metadata": {},
   "outputs": [],
   "source": [
    "from student.agent.agent_raspa import *\n",
    "from student.agent.tools.tools_memory import *\n",
    "from student.agent.agent_student import *\n",
    "from student.agent.utils import *"
   ]
  },
  {
   "cell_type": "code",
   "execution_count": 2,
   "metadata": {},
   "outputs": [],
   "source": [
    "path = \"output/st\"\n",
    "r = RaspaAgent(path)"
   ]
  },
  {
   "cell_type": "markdown",
   "metadata": {},
   "source": [
    "## Finished tests"
   ]
  },
  {
   "cell_type": "code",
   "execution_count": 6,
   "metadata": {},
   "outputs": [],
   "source": [
    "#r.run(\"which files can you see in the current directory? Try to access the propane related file\")\n",
    "#r.render_chat_html()"
   ]
  },
  {
   "cell_type": "code",
   "execution_count": 4,
   "metadata": {},
   "outputs": [
    {
     "name": "stdout",
     "output_type": "stream",
     "text": [
      "4 1 1\n"
     ]
    },
    {
     "data": {
      "text/html": [
       "<div style='font-family:Arial, sans-serif; line-height:1.6;'><div style='background:#f8f9fa; color:#111; border:1px solid #ccc; border-radius:10px; padding:10px; margin:10px 0;'><strong>User:</strong><br><div style='margin-top:5px;'>write a file containing a short list of random words</div></div><div style='background:#e0f7fa; color:#111; border:1px solid #ccc; border-radius:10px; padding:10px; margin:10px 0;'><strong>Assistant:</strong><br>💭 <strong>Thought:</strong> I need to create a short list of random words and then write them to a file.<br>⚙️ <strong>Action:</strong> write<br><ul style='margin-left: 1.5em; margin-top: 0.3em'><li><strong>File content:</strong> apple\n",
       "banana\n",
       "carrot\n",
       "dog\n",
       "elephant</li><li><strong>File name:</strong> random_words.txt</li></ul></div><div style='background:#e0f7fa; color:#111; border:1px solid #ccc; border-radius:10px; padding:10px; margin:10px 0;'><strong>Assistant:</strong><br><div style='margin-top:5px;'><strong>Response:</strong><br><pre style='background:#f8f8f8; padding:8px; border-radius:6px; overflow:auto; font-family:monospace; font-size:0.9em'><code style='background:none; color:inherit'>&lt;tool response name=write_file&gt;&lt;file name=random_words.txt&gt;&lt;/file&gt;&lt;/tool response&gt;</code></pre></div></div><div style='background:#e0f7fa; color:#111; border:1px solid #ccc; border-radius:10px; padding:10px; margin:10px 0;'><strong>Assistant:</strong><br>💭 <strong>Thought:</strong> The file &#x27;random_words.txt&#x27; has been successfully created with the list of random words.<br><div style='margin-top:5px;'><strong>Response:</strong>: I have created a file named `random_words.txt` containing a short list of random words.</div></div></div>"
      ],
      "text/plain": [
       "<IPython.core.display.HTML object>"
      ]
     },
     "execution_count": 4,
     "metadata": {},
     "output_type": "execute_result"
    }
   ],
   "source": [
    "a='''Test read/write: works as expected!'''\n",
    "r.run(\"write a file containing a short list of random words\")\n",
    "#r.run(\"what is contained in the file random_words.txt?\")\n",
    "r.render_chat_html()"
   ]
  },
  {
   "cell_type": "code",
   "execution_count": 5,
   "metadata": {},
   "outputs": [
    {
     "data": {
      "text/plain": [
       "[[{'role': 'user',\n",
       "   'content': {'type': 'text',\n",
       "    'text': 'write a file containing a short list of random words'}},\n",
       "  {'role': 'assistant',\n",
       "   'content': {'type': 'text',\n",
       "    'text': '{\"react\":[{\"thought\":\"I need to create a short list of random words and then write them to a file.\"},{\"function\":\"write\",\"parameters\":{\"function\":\"write_file\",\"parameters\":{\"file_content\":\"apple\\\\nbanana\\\\ncarrot\\\\ndog\\\\nelephant\",\"file_name\":\"random_words.txt\"}}}],\"response\":\"\"}'}},\n",
       "  {'role': 'assistant',\n",
       "   'content': {'type': 'text',\n",
       "    'text': '{\"tool_call_id\": 1, \"tool_response\": \"<tool response name=write_file><file name=random_words.txt></file></tool response>\"}'}},\n",
       "  {'role': 'assistant',\n",
       "   'content': {'type': 'text',\n",
       "    'text': '{\"react\":[{\"thought\":\"The file \\'random_words.txt\\' has been successfully created with the list of random words.\"}],\"response\":\"I have created a file named `random_words.txt` containing a short list of random words.\"}'}}]]"
      ]
     },
     "execution_count": 5,
     "metadata": {},
     "output_type": "execute_result"
    }
   ],
   "source": [
    "r.conversation"
   ]
  },
  {
   "cell_type": "code",
   "execution_count": null,
   "metadata": {},
   "outputs": [],
   "source": [
    "a='''Be careful with old memory implementation:\n",
    "for i in r.tools['trappe'].memory.search(['nonsense']):\n",
    "    print(i.content)\n",
    "'''"
   ]
  },
  {
   "cell_type": "code",
   "execution_count": null,
   "metadata": {},
   "outputs": [],
   "source": [
    "a='''\n",
    "r = RaspaAgent(path)\n",
    "r.run(\"generate the file for ABAVIJ_clean\")\n",
    "r.run(\"It is the name of a MOF\")\n",
    "r.render_chat_html()\n",
    "'''\n",
    "\n",
    "a='''File generation works!\n",
    "r.run(\"Generate the molecule input files for carbon dioxide and propane\")\n",
    "r.render_chat_html()\n",
    "'''"
   ]
  },
  {
   "cell_type": "code",
   "execution_count": 12,
   "metadata": {},
   "outputs": [
    {
     "data": {
      "text/plain": [
       "[1, 2, 'reset', 3, 4, 5, 'reset', 6]"
      ]
     },
     "execution_count": 12,
     "metadata": {},
     "output_type": "execute_result"
    }
   ],
   "source": [
    "l = []\n",
    "list_of_lists = [[1, 2], [3, 4, 5], [6]]\n",
    "for a in list_of_lists:\n",
    "    for b in a:\n",
    "        l.append(b)\n",
    "    l.append(\"reset\")\n",
    "l[:-1]"
   ]
  },
  {
   "cell_type": "code",
   "execution_count": 10,
   "metadata": {},
   "outputs": [
    {
     "data": {
      "text/plain": [
       "'The molecule file for propane has already been created.'"
      ]
     },
     "execution_count": 10,
     "metadata": {},
     "output_type": "execute_result"
    }
   ],
   "source": [
    "r.reset(path=\"output/raspa_test\")\n",
    "r.run(\"create a molecule file for propane\")"
   ]
  },
  {
   "cell_type": "code",
   "execution_count": null,
   "metadata": {},
   "outputs": [],
   "source": [
    "r.run(\"create a framework file for ABAVIJ\")"
   ]
  },
  {
   "cell_type": "markdown",
   "metadata": {},
   "source": [
    "# Test the tools"
   ]
  },
  {
   "cell_type": "code",
   "execution_count": 2,
   "metadata": {},
   "outputs": [],
   "source": [
    "agent = StudentAgent()\n",
    "tools = agent.tools\n",
    "add = tools['add'].run\n",
    "recall = tools['recall'].run\n",
    "modify = tools['modify'].run\n",
    "memory = agent.memory"
   ]
  },
  {
   "cell_type": "code",
   "execution_count": 3,
   "metadata": {},
   "outputs": [
    {
     "data": {
      "text/html": [
       "    <style>\n",
       "    /* Flex container to place nodes side-by-side and wrap nicely. */\n",
       "    .memory-container {\n",
       "        display: flex;\n",
       "        flex-wrap: wrap;\n",
       "        gap: 1rem;\n",
       "    }\n",
       "    </style>\n",
       "    <div class=\"memory-container\">\n",
       "            <style>\n",
       "    .memory-node {\n",
       "        font-family: system-ui, sans-serif;\n",
       "        border: 1px solid #ccc;\n",
       "        border-radius: 8px;\n",
       "        padding: 1rem;\n",
       "        margin: .5rem 0;\n",
       "        max-width: 200px;\n",
       "    }\n",
       "    .memory-node h3 { margin: 0 0 .5rem 0; font-size: 1.25rem; }\n",
       "    .memory-node ul { margin: .25rem 0 .75rem 1rem; }\n",
       "    .memory-node p { margin: 0; white-space: pre-wrap; }\n",
       "    </style>\n",
       "\n",
       "    <div class=\"memory-node\">\n",
       "    <strong>Keys</strong>\n",
       "    <ul><li>chemistry</li></ul>\n",
       "\n",
       "    <strong>Content</strong>\n",
       "    <p>Chemistry is a discipline that is linked to &lt;molecules/&gt; and &lt;chemical bonds/&gt;</p>\n",
       "    </div>\n",
       "        <style>\n",
       "    .memory-node {\n",
       "        font-family: system-ui, sans-serif;\n",
       "        border: 1px solid #ccc;\n",
       "        border-radius: 8px;\n",
       "        padding: 1rem;\n",
       "        margin: .5rem 0;\n",
       "        max-width: 200px;\n",
       "    }\n",
       "    .memory-node h3 { margin: 0 0 .5rem 0; font-size: 1.25rem; }\n",
       "    .memory-node ul { margin: .25rem 0 .75rem 1rem; }\n",
       "    .memory-node p { margin: 0; white-space: pre-wrap; }\n",
       "    </style>\n",
       "\n",
       "    <div class=\"memory-node\">\n",
       "    <strong>Keys</strong>\n",
       "    <ul><li>chemistry</li><li>molecules</li></ul>\n",
       "\n",
       "    <strong>Content</strong>\n",
       "    <p>Molecules are &lt;atoms/&gt; connected by &lt;chemical bonds/&gt;</p>\n",
       "    </div>\n",
       "        <style>\n",
       "    .memory-node {\n",
       "        font-family: system-ui, sans-serif;\n",
       "        border: 1px solid #ccc;\n",
       "        border-radius: 8px;\n",
       "        padding: 1rem;\n",
       "        margin: .5rem 0;\n",
       "        max-width: 200px;\n",
       "    }\n",
       "    .memory-node h3 { margin: 0 0 .5rem 0; font-size: 1.25rem; }\n",
       "    .memory-node ul { margin: .25rem 0 .75rem 1rem; }\n",
       "    .memory-node p { margin: 0; white-space: pre-wrap; }\n",
       "    </style>\n",
       "\n",
       "    <div class=\"memory-node\">\n",
       "    <strong>Keys</strong>\n",
       "    <ul><li>atoms</li><li>chemistry</li></ul>\n",
       "\n",
       "    <strong>Content</strong>\n",
       "    <p>Each atom has one fixed type which can be any from the &lt;periodic table/&gt;</p>\n",
       "    </div>\n",
       "        <style>\n",
       "    .memory-node {\n",
       "        font-family: system-ui, sans-serif;\n",
       "        border: 1px solid #ccc;\n",
       "        border-radius: 8px;\n",
       "        padding: 1rem;\n",
       "        margin: .5rem 0;\n",
       "        max-width: 200px;\n",
       "    }\n",
       "    .memory-node h3 { margin: 0 0 .5rem 0; font-size: 1.25rem; }\n",
       "    .memory-node ul { margin: .25rem 0 .75rem 1rem; }\n",
       "    .memory-node p { margin: 0; white-space: pre-wrap; }\n",
       "    </style>\n",
       "\n",
       "    <div class=\"memory-node\">\n",
       "    <strong>Keys</strong>\n",
       "    <ul><li>chemical bonds</li><li>chemistry</li></ul>\n",
       "\n",
       "    <strong>Content</strong>\n",
       "    <p>A chemical bond is really complicated and not really understood yet. There are many different models, from &lt;quantum mechanics/&gt; to more &lt;classical bonding models/&gt; that provide a rich theory for predicting chemical reactions.</p>\n",
       "    </div>\n",
       "        <style>\n",
       "    .memory-node {\n",
       "        font-family: system-ui, sans-serif;\n",
       "        border: 1px solid #ccc;\n",
       "        border-radius: 8px;\n",
       "        padding: 1rem;\n",
       "        margin: .5rem 0;\n",
       "        max-width: 200px;\n",
       "    }\n",
       "    .memory-node h3 { margin: 0 0 .5rem 0; font-size: 1.25rem; }\n",
       "    .memory-node ul { margin: .25rem 0 .75rem 1rem; }\n",
       "    .memory-node p { margin: 0; white-space: pre-wrap; }\n",
       "    </style>\n",
       "\n",
       "    <div class=\"memory-node\">\n",
       "    <strong>Keys</strong>\n",
       "    <ul><li>chemical bonds</li><li>chemistry</li><li>quantum mechanics</li></ul>\n",
       "\n",
       "    <strong>Content</strong>\n",
       "    <p>This is really wild &lt;physics/&gt; stuff.</p>\n",
       "    </div>\n",
       "        <style>\n",
       "    .memory-node {\n",
       "        font-family: system-ui, sans-serif;\n",
       "        border: 1px solid #ccc;\n",
       "        border-radius: 8px;\n",
       "        padding: 1rem;\n",
       "        margin: .5rem 0;\n",
       "        max-width: 200px;\n",
       "    }\n",
       "    .memory-node h3 { margin: 0 0 .5rem 0; font-size: 1.25rem; }\n",
       "    .memory-node ul { margin: .25rem 0 .75rem 1rem; }\n",
       "    .memory-node p { margin: 0; white-space: pre-wrap; }\n",
       "    </style>\n",
       "\n",
       "    <div class=\"memory-node\">\n",
       "    <strong>Keys</strong>\n",
       "    <ul><li>chemistry</li><li>periodic table</li></ul>\n",
       "\n",
       "    <strong>Content</strong>\n",
       "    <p>The table summarizes all types an &lt;atom/&gt; can have.</p>\n",
       "    </div>\n",
       "        <style>\n",
       "    .memory-node {\n",
       "        font-family: system-ui, sans-serif;\n",
       "        border: 1px solid #ccc;\n",
       "        border-radius: 8px;\n",
       "        padding: 1rem;\n",
       "        margin: .5rem 0;\n",
       "        max-width: 200px;\n",
       "    }\n",
       "    .memory-node h3 { margin: 0 0 .5rem 0; font-size: 1.25rem; }\n",
       "    .memory-node ul { margin: .25rem 0 .75rem 1rem; }\n",
       "    .memory-node p { margin: 0; white-space: pre-wrap; }\n",
       "    </style>\n",
       "\n",
       "    <div class=\"memory-node\">\n",
       "    <strong>Keys</strong>\n",
       "    <ul><li>physics</li></ul>\n",
       "\n",
       "    <strong>Content</strong>\n",
       "    <p>Physics is just applied math.</p>\n",
       "    </div>\n",
       "    \n",
       "    </div>\n",
       "    "
      ],
      "text/plain": [
       "<IPython.core.display.HTML object>"
      ]
     },
     "execution_count": 3,
     "metadata": {},
     "output_type": "execute_result"
    }
   ],
   "source": [
    "add([\"chemistry\"], \"Chemistry is a discipline that is linked to <molecules/> and <chemical bonds/>\")\n",
    "add([\"chemistry\", \"molecules\"], \"Molecules are <atoms/> connected by <chemical bonds/>\")\n",
    "add([\"chemistry\", \"atoms\"], \"Each atom has one fixed type which can be any from the <periodic table/>\")\n",
    "add([\"chemistry\", \"chemical bonds\"], \"A chemical bond is really complicated and not really understood yet. There are many different models, from <quantum mechanics/> to more <classical bonding models/> that provide a rich theory for predicting chemical reactions.\")\n",
    "add([\"chemistry\", \"chemical bonds\", \"quantum mechanics\"], \"This is really wild <physics/> stuff.\")\n",
    "add([\"chemistry\", \"periodic table\"], \"The table summarizes all types an <atom/> can have.\")\n",
    "add([\"physics\"], \"Physics is just applied math.\")\n",
    "memory.render_html()"
   ]
  },
  {
   "cell_type": "code",
   "execution_count": 7,
   "metadata": {},
   "outputs": [
    {
     "name": "stdout",
     "output_type": "stream",
     "text": [
      "<tool>Recalled from memory with the stimuli \n",
      "\t<stimuli>['chemistry']</stimuli>: \n",
      "\t\n",
      "        <memory id=\"02af28ca-ec94-48cb-aa33-fd71fb7c4d82\">\n",
      "            <stimuli>quantum mechanics, chemistry, chemical bonds</stimuli>\n",
      "            <content>This is really wild <physics/> stuff.</content>\n",
      "        </memory>\n",
      "        \n",
      "        <memory id=\"cf76432c-7701-4652-a691-9f16055529d8\">\n",
      "            <stimuli>molecules, chemistry</stimuli>\n",
      "            <content>Molecules are <atoms/> connected by <chemical bonds/></content>\n",
      "        </memory>\n",
      "        \n",
      "        <memory id=\"acc06857-cf30-4be2-92a7-abfe8458302c\">\n",
      "            <stimuli>chemistry, chemical bonds</stimuli>\n",
      "            <content>A chemical bond is really complicated and not really understood yet. There are many different models, from <quantum mechanics/> to more <classical bonding models/> that provide a rich theory for predicting chemical reactions.</content>\n",
      "        </memory>\n",
      "        \n",
      "</tool>\n"
     ]
    }
   ],
   "source": [
    "print(recall([\"chemistry\"])) # not good!"
   ]
  },
  {
   "cell_type": "code",
   "execution_count": 8,
   "metadata": {},
   "outputs": [
    {
     "data": {
      "text/plain": [
       "'<tool>No memory found to modify: Incorrect ID!</tool>'"
      ]
     },
     "execution_count": 8,
     "metadata": {},
     "output_type": "execute_result"
    }
   ],
   "source": [
    "modify(\"0df8977d-76fc-4e10-ba7c-a07729a240ef\")"
   ]
  },
  {
   "cell_type": "markdown",
   "metadata": {},
   "source": [
    "# Test Memory agent: easy example"
   ]
  },
  {
   "cell_type": "code",
   "execution_count": 9,
   "metadata": {},
   "outputs": [],
   "source": [
    "ag = StudentAgent()"
   ]
  },
  {
   "cell_type": "code",
   "execution_count": 10,
   "metadata": {},
   "outputs": [
    {
     "data": {
      "text/html": [
       "<div style='font-family:Arial, sans-serif; line-height:1.6;'><div style='background:#f8f9fa; color:#111; border:1px solid #ccc; border-radius:10px; padding:10px; margin:10px 0;'><strong>User:</strong><br><div style='margin-top:5px;'>colour_function(x) is a function that maps an integer x to a color. x is the index of the color sequence of the random-bow. The index starts at 4 and all invalid values return the color gray.</div></div><div style='background:#e0f7fa; color:#111; border:1px solid #ccc; border-radius:10px; padding:10px; margin:10px 0;'><strong>Assistant:</strong><br>💭 <strong>Thought:</strong> The user is describing a function that maps an integer to a color based on a sequence starting at index 4. Invalid indices return gray. This is a specific piece of information that can be useful for future queries about color functions or sequences.<br>⚙️ <strong>Action:</strong> add<br><ul style='margin-left: 1.5em; margin-top: 0.3em'><li><strong>Stimuli:</strong> [<code style='padding:2px 4px; border-radius:4px; background:none; color:inherit'>colour_function</code>, <code style='padding:2px 4px; border-radius:4px; background:none; color:inherit'>integer</code>, <code style='padding:2px 4px; border-radius:4px; background:none; color:inherit'>color</code>, <code style='padding:2px 4px; border-radius:4px; background:none; color:inherit'>sequence</code>, <code style='padding:2px 4px; border-radius:4px; background:none; color:inherit'>random-bow</code>]</li><li><strong>Content:</strong> colour_function(x) is a function that maps an integer &lt;x/&gt; to a &lt;color/&gt;. The index &lt;x/&gt; is part of the &lt;color/&gt; sequence of the &lt;random-bow/&gt;. The index starts at 4, and all invalid values return the color gray.</li></ul></div><div style='background:#e0f7fa; color:#111; border:1px solid #ccc; border-radius:10px; padding:10px; margin:10px 0;'><strong>Assistant <span style='color:#666; font-size:0.85em;'>(Tool Call ID: <code>1</code>)</span>:</strong><br><div style='margin-top:5px;'><strong>Response:</strong><br><pre style='background:#f8f8f8; padding:8px; border-radius:6px; overflow:auto; font-family:monospace; font-size:0.9em'><code style='background:none; color:inherit'>&lt;tool&gt;Successfully added this to memory:\n",
       "\t\n",
       "        &lt;memory id=&quot;b77f3d26-9d16-4aad-8f34-005f5128a5a0&quot;&gt;\n",
       "            &lt;stimuli&gt;sequence, color, colour_function, random-bow, integer&lt;/stimuli&gt;\n",
       "            &lt;content&gt;colour_function(x) is a function that maps an integer &lt;x/&gt; to a &lt;color/&gt;. The index &lt;x/&gt; is part of the &lt;color/&gt; sequence of the &lt;random-bow/&gt;. The index starts at 4, and all invalid values return the color gray.&lt;/content&gt;\n",
       "        &lt;/memory&gt;\n",
       "        \n",
       "&lt;/tool&gt;</code></pre></div></div><div style='background:#e0f7fa; color:#111; border:1px solid #ccc; border-radius:10px; padding:10px; margin:10px 0;'><strong>Assistant:</strong><br>💭 <strong>Thought:</strong> The information about the colour_function has been successfully added to memory. I can now use this knowledge for future queries related to color sequences or functions.<br><div style='margin-top:5px;'><strong>Response:</strong>: The function colour_function(x) maps an integer x to a color based on a sequence starting at index 4, and any invalid indices return the color gray. This information has been stored for future reference.</div></div></div>"
      ],
      "text/plain": [
       "<IPython.core.display.HTML object>"
      ]
     },
     "execution_count": 10,
     "metadata": {},
     "output_type": "execute_result"
    }
   ],
   "source": [
    "ag.run(\"colour_function(x) is a function that maps an integer x to a color. x is the index of the color sequence of the random-bow. The index starts at 4 and all invalid values return the color gray.\")\n",
    "ag.render_chat_html()"
   ]
  },
  {
   "cell_type": "code",
   "execution_count": 11,
   "metadata": {},
   "outputs": [
    {
     "data": {
      "text/html": [
       "<div style='font-family:Arial, sans-serif; line-height:1.6;'><div style='background:#f8f9fa; color:#111; border:1px solid #ccc; border-radius:10px; padding:10px; margin:10px 0;'><strong>User:</strong><br><div style='margin-top:5px;'>The random-bow has 7 colors: red, blue, orange, green, violet, pink, green, yellow</div></div><div style='background:#e0f7fa; color:#111; border:1px solid #ccc; border-radius:10px; padding:10px; margin:10px 0;'><strong>Assistant:</strong><br>💭 <strong>Thought:</strong> The user mentioned a concept called &quot;random-bow&quot; which seems to be a variation of &quot;rainbow&quot; but with a different set of colors. I should add this information to my memory.<br>⚙️ <strong>Action:</strong> add<br><ul style='margin-left: 1.5em; margin-top: 0.3em'><li><strong>Stimuli:</strong> [<code style='padding:2px 4px; border-radius:4px; background:none; color:inherit'>random-bow</code>, <code style='padding:2px 4px; border-radius:4px; background:none; color:inherit'>colors</code>]</li><li><strong>Content:</strong> The random-bow is a concept similar to a rainbow but consists of the following colors: &lt;red/&gt;, &lt;blue/&gt;, &lt;orange/&gt;, &lt;green/&gt;, &lt;violet/&gt;, &lt;pink/&gt;, and &lt;yellow/&gt;. Note that &lt;green/&gt; appears twice in the list.</li></ul></div><div style='background:#e0f7fa; color:#111; border:1px solid #ccc; border-radius:10px; padding:10px; margin:10px 0;'><strong>Assistant <span style='color:#666; font-size:0.85em;'>(Tool Call ID: <code>1</code>)</span>:</strong><br><div style='margin-top:5px;'><strong>Response:</strong><br><pre style='background:#f8f8f8; padding:8px; border-radius:6px; overflow:auto; font-family:monospace; font-size:0.9em'><code style='background:none; color:inherit'>&lt;tool&gt;Successfully added this to memory:\n",
       "\t\n",
       "        &lt;memory id=&quot;09a8a913-224c-404e-b22a-2b9fbb479e80&quot;&gt;\n",
       "            &lt;stimuli&gt;random-bow, colors&lt;/stimuli&gt;\n",
       "            &lt;content&gt;The random-bow is a concept similar to a rainbow but consists of the following colors: &lt;red/&gt;, &lt;blue/&gt;, &lt;orange/&gt;, &lt;green/&gt;, &lt;violet/&gt;, &lt;pink/&gt;, and &lt;yellow/&gt;. Note that &lt;green/&gt; appears twice in the list.&lt;/content&gt;\n",
       "        &lt;/memory&gt;\n",
       "        \n",
       "&lt;/tool&gt;</code></pre></div></div><div style='background:#e0f7fa; color:#111; border:1px solid #ccc; border-radius:10px; padding:10px; margin:10px 0;'><strong>Assistant:</strong><br>💭 <strong>Thought:</strong> The information about the random-bow has been successfully added to memory. I can now confirm this to the user.<br><div style='margin-top:5px;'><strong>Response:</strong>: I&#x27;ve noted that the &quot;random-bow&quot; is a concept similar to a rainbow, consisting of the colors: red, blue, orange, green, violet, pink, and yellow, with green appearing twice in the list.</div></div></div>"
      ],
      "text/plain": [
       "<IPython.core.display.HTML object>"
      ]
     },
     "execution_count": 11,
     "metadata": {},
     "output_type": "execute_result"
    }
   ],
   "source": [
    "ag.reset_chat()\n",
    "ag.run(\"The random-bow has 7 colors: red, blue, orange, green, violet, pink, green, yellow\")\n",
    "ag.render_chat_html()"
   ]
  },
  {
   "cell_type": "code",
   "execution_count": 12,
   "metadata": {},
   "outputs": [
    {
     "data": {
      "text/html": [
       "<div style='font-family:Arial, sans-serif; line-height:1.6;'><div style='background:#f8f9fa; color:#111; border:1px solid #ccc; border-radius:10px; padding:10px; margin:10px 0;'><strong>User:</strong><br><div style='margin-top:5px;'>What is the value of the mapping colour_function(1). Use a low sensitivity</div></div><div style='background:#e0f7fa; color:#111; border:1px solid #ccc; border-radius:10px; padding:10px; margin:10px 0;'><strong>Assistant:</strong><br>💭 <strong>Thought:</strong> The user is asking for the value of a specific function, colour_function, with an input of 1. I should first recall any relevant memory about this function to see if I have stored information about it.<br>⚙️ <strong>Action:</strong> recall<br><ul style='margin-left: 1.5em; margin-top: 0.3em'><li><strong>Stimuli:</strong> [<code style='padding:2px 4px; border-radius:4px; background:none; color:inherit'>colour_function</code>]</li><li><strong>Sensitivity:</strong> 0.1</li></ul></div><div style='background:#e0f7fa; color:#111; border:1px solid #ccc; border-radius:10px; padding:10px; margin:10px 0;'><strong>Assistant <span style='color:#666; font-size:0.85em;'>(Tool Call ID: <code>1</code>)</span>:</strong><br><div style='margin-top:5px;'><strong>Response:</strong><br><pre style='background:#f8f8f8; padding:8px; border-radius:6px; overflow:auto; font-family:monospace; font-size:0.9em'><code style='background:none; color:inherit'>&lt;tool&gt;Recalled from memory with the stimuli \n",
       "\t&lt;stimuli&gt;[&#x27;colour_function&#x27;]&lt;/stimuli&gt;: \n",
       "\t\n",
       "        &lt;memory id=&quot;b77f3d26-9d16-4aad-8f34-005f5128a5a0&quot;&gt;\n",
       "            &lt;stimuli&gt;sequence, color, colour_function, random-bow, integer&lt;/stimuli&gt;\n",
       "            &lt;content&gt;colour_function(x) is a function that maps an integer &lt;x/&gt; to a &lt;color/&gt;. The index &lt;x/&gt; is part of the &lt;color/&gt; sequence of the &lt;random-bow/&gt;. The index starts at 4, and all invalid values return the color gray.&lt;/content&gt;\n",
       "        &lt;/memory&gt;\n",
       "        \n",
       "        &lt;memory id=&quot;09a8a913-224c-404e-b22a-2b9fbb479e80&quot;&gt;\n",
       "            &lt;stimuli&gt;random-bow, colors&lt;/stimuli&gt;\n",
       "            &lt;content&gt;The random-bow is a concept similar to a rainbow but consists of the following colors: &lt;red/&gt;, &lt;blue/&gt;, &lt;orange/&gt;, &lt;green/&gt;, &lt;violet/&gt;, &lt;pink/&gt;, and &lt;yellow/&gt;. Note that &lt;green/&gt; appears twice in the list.&lt;/content&gt;\n",
       "        &lt;/memory&gt;\n",
       "        \n",
       "&lt;/tool&gt;</code></pre></div></div><div style='background:#e0f7fa; color:#111; border:1px solid #ccc; border-radius:10px; padding:10px; margin:10px 0;'><strong>Assistant:</strong><br>💭 <strong>Thought:</strong> From the recalled memory, I understand that the colour_function maps an integer to a color based on the sequence of the random-bow. The sequence starts at index 4, and any invalid values return gray. The random-bow consists of the colors: red, blue, orange, green, violet, pink, and yellow, with green appearing twice.\n",
       "\n",
       "Since the index starts at 4, an input of 1 is invalid and should return gray.<br><div style='margin-top:5px;'><strong>Response:</strong>: The value of the mapping colour_function(1) is gray.</div></div></div>"
      ],
      "text/plain": [
       "<IPython.core.display.HTML object>"
      ]
     },
     "execution_count": 12,
     "metadata": {},
     "output_type": "execute_result"
    }
   ],
   "source": [
    "ag.reset_chat()\n",
    "ag.run(\"What is the value of the mapping colour_function(1). Use a low sensitivity\")\n",
    "ag.render_chat_html()"
   ]
  },
  {
   "cell_type": "code",
   "execution_count": 13,
   "metadata": {},
   "outputs": [
    {
     "data": {
      "text/html": [
       "<div style='font-family:Arial, sans-serif; line-height:1.6;'><div style='background:#f8f9fa; color:#111; border:1px solid #ccc; border-radius:10px; padding:10px; margin:10px 0;'><strong>User:</strong><br><div style='margin-top:5px;'>What is the value of the mapping colour_function(6). Use a low sensitivity</div></div><div style='background:#e0f7fa; color:#111; border:1px solid #ccc; border-radius:10px; padding:10px; margin:10px 0;'><strong>Assistant:</strong><br>💭 <strong>Thought:</strong> The user is asking about a specific function called &quot;colour_function&quot; and its value when the input is 6. I should first recall any relevant memory about &quot;colour_function&quot; to see if I have any information on it.<br>⚙️ <strong>Action:</strong> recall<br><ul style='margin-left: 1.5em; margin-top: 0.3em'><li><strong>Stimuli:</strong> [<code style='padding:2px 4px; border-radius:4px; background:none; color:inherit'>colour_function</code>]</li><li><strong>Sensitivity:</strong> 0.2</li></ul></div><div style='background:#e0f7fa; color:#111; border:1px solid #ccc; border-radius:10px; padding:10px; margin:10px 0;'><strong>Assistant <span style='color:#666; font-size:0.85em;'>(Tool Call ID: <code>1</code>)</span>:</strong><br><div style='margin-top:5px;'><strong>Response:</strong><br><pre style='background:#f8f8f8; padding:8px; border-radius:6px; overflow:auto; font-family:monospace; font-size:0.9em'><code style='background:none; color:inherit'>&lt;tool&gt;Recalled from memory with the stimuli \n",
       "\t&lt;stimuli&gt;[&#x27;colour_function&#x27;]&lt;/stimuli&gt;: \n",
       "\t\n",
       "        &lt;memory id=&quot;b77f3d26-9d16-4aad-8f34-005f5128a5a0&quot;&gt;\n",
       "            &lt;stimuli&gt;sequence, color, colour_function, random-bow, integer&lt;/stimuli&gt;\n",
       "            &lt;content&gt;colour_function(x) is a function that maps an integer &lt;x/&gt; to a &lt;color/&gt;. The index &lt;x/&gt; is part of the &lt;color/&gt; sequence of the &lt;random-bow/&gt;. The index starts at 4, and all invalid values return the color gray.&lt;/content&gt;\n",
       "        &lt;/memory&gt;\n",
       "        \n",
       "&lt;/tool&gt;</code></pre></div></div><div style='background:#e0f7fa; color:#111; border:1px solid #ccc; border-radius:10px; padding:10px; margin:10px 0;'><strong>Assistant:</strong><br>💭 <strong>Thought:</strong> The recalled memory indicates that the function &quot;colour_function(x)&quot; maps an integer x to a color. The index x is part of the color sequence of the &quot;random-bow&quot;, starting at 4. Any invalid values return the color gray. Since 6 is a valid index (greater than or equal to 4), it should map to a specific color in the sequence. However, the specific color for index 6 is not provided in the memory. I should inform the user that the specific color is not available in the memory.<br><div style='margin-top:5px;'><strong>Response:</strong>: The function &quot;colour_function(6)&quot; maps the integer 6 to a color in the sequence of the &quot;random-bow&quot;. However, the specific color for this index is not available in my memory. If you have more details about the sequence, please provide them, and I can update my memory accordingly.</div></div></div>"
      ],
      "text/plain": [
       "<IPython.core.display.HTML object>"
      ]
     },
     "execution_count": 13,
     "metadata": {},
     "output_type": "execute_result"
    }
   ],
   "source": [
    "ag.reset_chat()\n",
    "ag.run(\"What is the value of the mapping colour_function(6). Use a low sensitivity\")\n",
    "ag.render_chat_html()"
   ]
  },
  {
   "cell_type": "markdown",
   "metadata": {},
   "source": [
    "## Math example"
   ]
  },
  {
   "cell_type": "code",
   "execution_count": null,
   "metadata": {},
   "outputs": [
    {
     "data": {
      "text/plain": [
       "'\\nimport mllm\\nc = mllm.Chat(system_message=\"You are an intelligent agent that uses step by step reasoning to solve questions.\")\\nprompt=\\'\\'\\'\\nTo determine a extreme point(minimum,maximum,saddlepoint) of a mathematical function, you need to determine the derivative and set it equal to zero.\\nThe derivative of x^2 is 2x. The derivative of ln(x) is 1/x.\\nThe derivative of a product of functions f(x)*g(x) can be calculated with this formula: derivative[f(x)]*g(x) + f(x)*derivative[g(x)]\\nWhat is the minimum of (ln(x))^2?\\n\\'\\'\\'\\nc += prompt\\nres = c.complete()\\nprint(res)\\n#\"To find the minimum of the function \\\\( f(x) = (\\\\ln(x))^2 \\\\), we will follow these steps:\\n\\n1. **Find the derivative of the function**.\\n2. **Set the derivative equal to zero to find critical points**.\\n3. **Determine whether these critical points correspond to a minimum, maximum, or saddle point**.\\n\\n### Step 1: Find the derivative\\n\\nUsing the chain rule, the derivative of \\\\( f(x) = (\\\\ln(x))^2 \\\\) can be calculated as follows:\\n\\n\\\\[\\nf\\'(x) = 2 \\\\ln(x) \\\\cdot \\\\frac{d}{dx}(\\\\ln(x)) = 2 \\\\ln(x) \\\\cdot \\\\frac{1}{x} = \\\\frac{2 \\\\ln(x)}{x}\\n\\\\]\\n\\n### Step 2: Set the derivative equal to zero\\n\\nNow we set the derivative equal to zero to find the critical points:\\n\\n\\\\[\\n\\\\frac{2 \\\\ln(x)}{x} = 0\\n\\\\]\\n\\nThis equation is satisfied when \\\\( \\\\ln(x) = 0 \\\\). Solving for \\\\( x \\\\):\\n\\n\\\\[\\n\\\\ln(x) = 0 \\\\implies x = e^0 = 1\\n\\\\]\\n\\n### Step 3: Determine the nature of the critical point\\n\\nTo determine whether this critical point is a minimum, maximum, or saddle point, we can use the second derivative test. We first find the second derivative \\\\( f\\'\\'(x) \\\\).\\n\\nStarting from \\\\( f\\'(x) = \\\\frac{2 \\\\ln(x)}{x} \\\\), we will differentiate it again using the quotient rule:\\n\\nLet \\\\( u = 2 \\\\ln(x) \\\\) and \\\\( v = x \\\\). Then:\\n\\n\\\\[\\nf\\'\\'(x) = \\\\frac{u\\'v - uv\\'}{v^2}\\n\\\\]\\n\\nCalculating \\\\( u\\' \\\\) and \\\\( v\\' \\\\):\\n\\n- \\\\( u\\' = \\\\frac{2}{x} \\\\)\\n- \\\\( v\\' = 1 \\\\)\\n\\nNow substituting into the quotient rule:\\n\\n\\\\[\\nf\\'\\'(x) = \\\\frac{\\\\left(\\\\frac{2}{x}\\\\right)x - (2 \\\\ln(x))(1)}{x^2} = \\\\frac{2 - 2 \\\\ln(x)}{x^2}\\n\\\\]\\n\\nNow we evaluate the second derivative at the critical point \\\\( x = 1 \\\\):\\n\\n\\\\[\\nf\\'\\'(1) = \\\\frac{2 - 2 \\\\ln(1)}{1^2} = \\\\frac{2 - 2 \\\\cdot 0}{1} = 2\\n\\\\]\\n\\nSince \\\\( f\\'\\'(1) > 0 \\\\), this indicates that the function \\\\( f(x) \\\\) has a local minimum at \\\\( x = 1 \\\\).\\n\\n### Conclusion\\n\\nThe minimum value of \\\\( f(x) = (\\\\ln(x))^2 \\\\) occurs at \\\\( x = 1 \\\\). To find the minimum value:\\n\\n\\\\[\\nf(1) = (\\\\ln(1))^2 = 0^2 = 0\\n\\\\]\\n\\nThus, the minimum of \\\\( (\\\\ln(x))^2 \\\\) is \\\\( 0 \\\\) at \\\\( x = 1 \\\\).\"\\n'"
      ]
     },
     "execution_count": 5,
     "metadata": {},
     "output_type": "execute_result"
    }
   ],
   "source": [
    "\"\"\"\n",
    "import mllm\n",
    "c = mllm.Chat(system_message=\"You are an intelligent agent that uses step by step reasoning to solve questions.\")\n",
    "prompt='''\n",
    "To determine a extreme point(minimum,maximum,saddlepoint) of a mathematical function, you need to determine the derivative and set it equal to zero.\n",
    "The derivative of x^2 is 2x. The derivative of ln(x) is 1/x.\n",
    "The derivative of a product of functions f(x)*g(x) can be calculated with this formula: derivative[f(x)]*g(x) + f(x)*derivative[g(x)]\n",
    "What is the minimum of (ln(x))^2?\n",
    "'''\n",
    "c += prompt\n",
    "res = c.complete()\n",
    "print(res)\n",
    "#\"To find the minimum of the function \\\\( f(x) = (\\\\ln(x))^2 \\\\), we will follow these steps:\\n\\n1. **Find the derivative of the function**.\\n2. **Set the derivative equal to zero to find critical points**.\\n3. **Determine whether these critical points correspond to a minimum, maximum, or saddle point**.\\n\\n### Step 1: Find the derivative\\n\\nUsing the chain rule, the derivative of \\\\( f(x) = (\\\\ln(x))^2 \\\\) can be calculated as follows:\\n\\n\\\\[\\nf'(x) = 2 \\\\ln(x) \\\\cdot \\\\frac{d}{dx}(\\\\ln(x)) = 2 \\\\ln(x) \\\\cdot \\\\frac{1}{x} = \\\\frac{2 \\\\ln(x)}{x}\\n\\\\]\\n\\n### Step 2: Set the derivative equal to zero\\n\\nNow we set the derivative equal to zero to find the critical points:\\n\\n\\\\[\\n\\\\frac{2 \\\\ln(x)}{x} = 0\\n\\\\]\\n\\nThis equation is satisfied when \\\\( \\\\ln(x) = 0 \\\\). Solving for \\\\( x \\\\):\\n\\n\\\\[\\n\\\\ln(x) = 0 \\\\implies x = e^0 = 1\\n\\\\]\\n\\n### Step 3: Determine the nature of the critical point\\n\\nTo determine whether this critical point is a minimum, maximum, or saddle point, we can use the second derivative test. We first find the second derivative \\\\( f''(x) \\\\).\\n\\nStarting from \\\\( f'(x) = \\\\frac{2 \\\\ln(x)}{x} \\\\), we will differentiate it again using the quotient rule:\\n\\nLet \\\\( u = 2 \\\\ln(x) \\\\) and \\\\( v = x \\\\). Then:\\n\\n\\\\[\\nf''(x) = \\\\frac{u'v - uv'}{v^2}\\n\\\\]\\n\\nCalculating \\\\( u' \\\\) and \\\\( v' \\\\):\\n\\n- \\\\( u' = \\\\frac{2}{x} \\\\)\\n- \\\\( v' = 1 \\\\)\\n\\nNow substituting into the quotient rule:\\n\\n\\\\[\\nf''(x) = \\\\frac{\\\\left(\\\\frac{2}{x}\\\\right)x - (2 \\\\ln(x))(1)}{x^2} = \\\\frac{2 - 2 \\\\ln(x)}{x^2}\\n\\\\]\\n\\nNow we evaluate the second derivative at the critical point \\\\( x = 1 \\\\):\\n\\n\\\\[\\nf''(1) = \\\\frac{2 - 2 \\\\ln(1)}{1^2} = \\\\frac{2 - 2 \\\\cdot 0}{1} = 2\\n\\\\]\\n\\nSince \\\\( f''(1) > 0 \\\\), this indicates that the function \\\\( f(x) \\\\) has a local minimum at \\\\( x = 1 \\\\).\\n\\n### Conclusion\\n\\nThe minimum value of \\\\( f(x) = (\\\\ln(x))^2 \\\\) occurs at \\\\( x = 1 \\\\). To find the minimum value:\\n\\n\\\\[\\nf(1) = (\\\\ln(1))^2 = 0^2 = 0\\n\\\\]\\n\\nThus, the minimum of \\\\( (\\\\ln(x))^2 \\\\) is \\\\( 0 \\\\) at \\\\( x = 1 \\\\).\"\n",
    "\"\"\""
   ]
  },
  {
   "cell_type": "code",
   "execution_count": null,
   "metadata": {},
   "outputs": [
    {
     "data": {
      "text/html": [
       "<div style='font-family:Arial, sans-serif; line-height:1.6;'><div style='background:#f8f9fa; color:#111; border:1px solid #ccc; border-radius:10px; padding:10px; margin:10px 0;'><strong>User:</strong><br><div style='margin-top:5px;'>To determine a extreme point(minimum,maximum,saddlepoint) of a mathematical function, you need to determine the derivative and set it equal to zero.</div></div><div style='background:#e0f7fa; color:#111; border:1px solid #ccc; border-radius:10px; padding:10px; margin:10px 0;'><strong>Assistant:</strong><br>💭 <strong>Thought:</strong> The user is explaining the process of finding extreme points of a function, which involves taking the derivative and setting it to zero.<br>⚙️ <strong>Action:</strong> add<br><ul style='margin-left: 1.5em; margin-top: 0.3em'><li><strong>Stimuli:</strong> [<code style='padding:2px 4px; border-radius:4px; background:none; color:inherit'>extreme points</code>, <code style='padding:2px 4px; border-radius:4px; background:none; color:inherit'>derivative</code>, <code style='padding:2px 4px; border-radius:4px; background:none; color:inherit'>maximum</code>, <code style='padding:2px 4px; border-radius:4px; background:none; color:inherit'>minimum</code>, <code style='padding:2px 4px; border-radius:4px; background:none; color:inherit'>saddle point</code>]</li><li><strong>Content:</strong> To determine extreme points (minimum, maximum, saddle point) of a mathematical function, calculate the derivative and set it equal to zero.</li></ul><br>💭 <strong>Thought:</strong> I have successfully added the user&#x27;s explanation to my memory.</div><div style='background:#e0f7fa; color:#111; border:1px solid #ccc; border-radius:10px; padding:10px; margin:10px 0;'><strong>Assistant <span style='color:#666; font-size:0.85em;'>(Tool Call ID: <code>1</code>)</span>:</strong><br><div style='margin-top:5px;'><strong>Response:</strong><br><pre style='background:#f8f8f8; padding:8px; border-radius:6px; overflow:auto; font-family:monospace; font-size:0.9em'><code style='background:none; color:inherit'>&lt;tool&gt;Successfully added this to memory:\n",
       "\t\n",
       "        &lt;memory id=&quot;bc6aab04-308f-4949-ad25-8c865a3d80ee&quot;&gt;\n",
       "            &lt;stimuli&gt;extreme points, derivative, minimum, maximum, saddle point&lt;/stimuli&gt;\n",
       "            &lt;content&gt;To determine extreme points (minimum, maximum, saddle point) of a mathematical function, calculate the derivative and set it equal to zero.&lt;/content&gt;\n",
       "        &lt;/memory&gt;\n",
       "        \n",
       "&lt;/tool&gt;</code></pre></div></div><div style='background:#e0f7fa; color:#111; border:1px solid #ccc; border-radius:10px; padding:10px; margin:10px 0;'><strong>Assistant:</strong><br>💭 <strong>Thought:</strong> The memory has been successfully updated with the user&#x27;s explanation about finding extreme points of a function.<br>💭 <strong>Thought:</strong> I should also consider if there are additional details or steps related to this process that could be useful to remember.</div><div style='background:#f8f9fa; color:#111; border:1px solid #ccc; border-radius:10px; padding:10px; margin:10px 0;'><strong>User:</strong><br><div style='margin-top:5px;'>The derivative of x^2 is 2x. The derivative of ln(x) is 1/x.</div></div><div style='background:#e0f7fa; color:#111; border:1px solid #ccc; border-radius:10px; padding:10px; margin:10px 0;'><strong>Assistant:</strong><br>💭 <strong>Thought:</strong> The user is providing specific examples of derivatives for the functions x^2 and ln(x). I should add these derivatives to my memory.<br>⚙️ <strong>Action:</strong> add<br><ul style='margin-left: 1.5em; margin-top: 0.3em'><li><strong>Stimuli:</strong> [<code style='padding:2px 4px; border-radius:4px; background:none; color:inherit'>derivative</code>, <code style='padding:2px 4px; border-radius:4px; background:none; color:inherit'>x^2</code>, <code style='padding:2px 4px; border-radius:4px; background:none; color:inherit'>ln(x)</code>]</li><li><strong>Content:</strong> The derivative of x^2 is 2x. The derivative of ln(x) is 1/x.</li></ul><br>💭 <strong>Thought:</strong> I have successfully added the derivatives of the specified functions to my memory.</div><div style='background:#e0f7fa; color:#111; border:1px solid #ccc; border-radius:10px; padding:10px; margin:10px 0;'><strong>Assistant <span style='color:#666; font-size:0.85em;'>(Tool Call ID: <code>2</code>)</span>:</strong><br><div style='margin-top:5px;'><strong>Response:</strong><br><pre style='background:#f8f8f8; padding:8px; border-radius:6px; overflow:auto; font-family:monospace; font-size:0.9em'><code style='background:none; color:inherit'>&lt;tool&gt;Successfully added this to memory:\n",
       "\t\n",
       "        &lt;memory id=&quot;60b1f3b9-8c89-430a-9601-d70395242c27&quot;&gt;\n",
       "            &lt;stimuli&gt;ln(x), x^2, derivative&lt;/stimuli&gt;\n",
       "            &lt;content&gt;The derivative of x^2 is 2x. The derivative of ln(x) is 1/x.&lt;/content&gt;\n",
       "        &lt;/memory&gt;\n",
       "        \n",
       "&lt;/tool&gt;</code></pre></div></div><div style='background:#e0f7fa; color:#111; border:1px solid #ccc; border-radius:10px; padding:10px; margin:10px 0;'><strong>Assistant:</strong><br>💭 <strong>Thought:</strong> The memory has been successfully updated with the derivatives of x^2 and ln(x). I should consider if there are more derivatives or related concepts that could be useful to remember.</div><div style='background:#f8f9fa; color:#111; border:1px solid #ccc; border-radius:10px; padding:10px; margin:10px 0;'><strong>User:</strong><br><div style='margin-top:5px;'>The derivative of a product of functions f(x)*g(x) can be calculated with this formula: derivative[f(x)]*g(x) + f(x)*derivative[g(x)]</div></div><div style='background:#e0f7fa; color:#111; border:1px solid #ccc; border-radius:10px; padding:10px; margin:10px 0;'><strong>Assistant:</strong><br>💭 <strong>Thought:</strong> The user is providing the product rule for derivatives, which is an important concept in calculus. I should add this information to my memory.<br>⚙️ <strong>Action:</strong> add<br><ul style='margin-left: 1.5em; margin-top: 0.3em'><li><strong>Stimuli:</strong> [<code style='padding:2px 4px; border-radius:4px; background:none; color:inherit'>product rule</code>, <code style='padding:2px 4px; border-radius:4px; background:none; color:inherit'>derivative</code>, <code style='padding:2px 4px; border-radius:4px; background:none; color:inherit'>f(x)</code>, <code style='padding:2px 4px; border-radius:4px; background:none; color:inherit'>g(x)</code>]</li><li><strong>Content:</strong> The derivative of a product of functions f(x)*g(x) can be calculated using the formula: derivative[f(x)]*g(x) + f(x)*derivative[g(x)].</li></ul><br>💭 <strong>Thought:</strong> I have successfully added the product rule for derivatives to my memory.</div><div style='background:#e0f7fa; color:#111; border:1px solid #ccc; border-radius:10px; padding:10px; margin:10px 0;'><strong>Assistant <span style='color:#666; font-size:0.85em;'>(Tool Call ID: <code>3</code>)</span>:</strong><br><div style='margin-top:5px;'><strong>Response:</strong><br><pre style='background:#f8f8f8; padding:8px; border-radius:6px; overflow:auto; font-family:monospace; font-size:0.9em'><code style='background:none; color:inherit'>&lt;tool&gt;Successfully added this to memory:\n",
       "\t\n",
       "        &lt;memory id=&quot;13980502-bb33-49c6-8bf8-77399e29e63b&quot;&gt;\n",
       "            &lt;stimuli&gt;derivative, f(x), product rule, g(x)&lt;/stimuli&gt;\n",
       "            &lt;content&gt;The derivative of a product of functions f(x)*g(x) can be calculated using the formula: derivative[f(x)]*g(x) + f(x)*derivative[g(x)].&lt;/content&gt;\n",
       "        &lt;/memory&gt;\n",
       "        \n",
       "&lt;/tool&gt;</code></pre></div></div><div style='background:#e0f7fa; color:#111; border:1px solid #ccc; border-radius:10px; padding:10px; margin:10px 0;'><strong>Assistant:</strong><br>💭 <strong>Thought:</strong> The memory has been successfully updated with the product rule for derivatives. I should consider if there are other derivative rules or related concepts that could be useful to remember.</div><div style='background:#f8f9fa; color:#111; border:1px solid #ccc; border-radius:10px; padding:10px; margin:10px 0;'><strong>User:</strong><br><div style='margin-top:5px;'>What is the minimum of (ln(x))^2</div></div><div style='background:#e0f7fa; color:#111; border:1px solid #ccc; border-radius:10px; padding:10px; margin:10px 0;'><strong>Assistant:</strong><br>💭 <strong>Thought:</strong> To find the minimum of the function (ln(x))^2, I need to take the derivative, set it to zero, and solve for x. Then, I will check the second derivative to confirm if it&#x27;s a minimum.<br>⚙️ <strong>Action:</strong> recall<br><ul style='margin-left: 1.5em; margin-top: 0.3em'><li><strong>Stimuli:</strong> [<code style='padding:2px 4px; border-radius:4px; background:none; color:inherit'>extreme points</code>, <code style='padding:2px 4px; border-radius:4px; background:none; color:inherit'>derivative</code>, <code style='padding:2px 4px; border-radius:4px; background:none; color:inherit'>minimum</code>]</li><li><strong>Sensitivity:</strong> 0.8</li></ul><br>💭 <strong>Thought:</strong> I will recall the relevant memory about finding extreme points to assist in the calculation.</div><div style='background:#e0f7fa; color:#111; border:1px solid #ccc; border-radius:10px; padding:10px; margin:10px 0;'><strong>Assistant <span style='color:#666; font-size:0.85em;'>(Tool Call ID: <code>4</code>)</span>:</strong><br><div style='margin-top:5px;'><strong>Response:</strong><br>&#x27;dict&#x27; object has no attribute &#x27;append&#x27;</div></div><div style='background:#e0f7fa; color:#111; border:1px solid #ccc; border-radius:10px; padding:10px; margin:10px 0;'><strong>Assistant:</strong><br>💭 <strong>Thought:</strong> It seems there was an issue with recalling the memory. I will proceed with the calculation manually.<br>💭 <strong>Thought:</strong> 1. Start with the function: f(x) = (ln(x))^2.\n",
       "2. Take the derivative: f&#x27;(x) = 2ln(x) * (1/x) = 2ln(x)/x.\n",
       "3. Set the derivative to zero: 2ln(x)/x = 0. This implies ln(x) = 0, so x = e.\n",
       "4. Now, check the second derivative to confirm if it&#x27;s a minimum.<br>⚙️ <strong>Action:</strong> recall<br><ul style='margin-left: 1.5em; margin-top: 0.3em'><li><strong>Stimuli:</strong> [<code style='padding:2px 4px; border-radius:4px; background:none; color:inherit'>second derivative</code>, <code style='padding:2px 4px; border-radius:4px; background:none; color:inherit'>minimum</code>]</li><li><strong>Sensitivity:</strong> 0.8</li></ul><br>💭 <strong>Thought:</strong> I will recall the second derivative information to assist in confirming the minimum.</div><div style='background:#e0f7fa; color:#111; border:1px solid #ccc; border-radius:10px; padding:10px; margin:10px 0;'><strong>Assistant <span style='color:#666; font-size:0.85em;'>(Tool Call ID: <code>5</code>)</span>:</strong><br><div style='margin-top:5px;'><strong>Response:</strong><br>&#x27;dict&#x27; object has no attribute &#x27;append&#x27;</div></div><div style='background:#e0f7fa; color:#111; border:1px solid #ccc; border-radius:10px; padding:10px; margin:10px 0;'><strong>Assistant:</strong><br>💭 <strong>Thought:</strong> Since I am unable to recall the second derivative information, I will calculate it manually.<br>💭 <strong>Thought:</strong> 5. The second derivative of f(x) = (ln(x))^2 is given by:\n",
       "   f&#x27;&#x27;(x) = d/dx[2ln(x)/x]. Using the quotient rule:\n",
       "   f&#x27;&#x27;(x) = (2/x)(1) - (2ln(x))(1/x^2) = 2/x - 2ln(x)/x^2.\n",
       "6. Evaluate f&#x27;&#x27;(e): f&#x27;&#x27;(e) = 2/e - 2(1)/e^2 = 2/e - 2/e^2 = 2/e(1 - 1/e).\n",
       "7. Since e &gt; 1, 1 - 1/e &gt; 0, thus f&#x27;&#x27;(e) &gt; 0, confirming a local minimum.<br>💭 <strong>Thought:</strong> The minimum of (ln(x))^2 occurs at x = e. The minimum value is (ln(e))^2 = 1.<br><div style='margin-top:5px;'><strong>Response:</strong>: The minimum of (ln(x))^2 occurs at x = e, and the minimum value is 1.</div></div></div>"
      ],
      "text/plain": [
       "<IPython.core.display.HTML object>"
      ]
     },
     "execution_count": 2,
     "metadata": {},
     "output_type": "execute_result"
    }
   ],
   "source": [
    "cache = True\n",
    "ag = StudentAgent()\n",
    "res = ag.run(\"To determine a extreme point(minimum,maximum,saddlepoint) of a mathematical function, you need to determine the derivative and set it equal to zero.\", cache=cache, expensive=False)\n",
    "res = ag.run(\"The derivative of x^2 is 2x. The derivative of ln(x) is 1/x.\" , cache=cache, expensive=False)\n",
    "res = ag.run(\"The derivative of a product of functions f(x)*g(x) can be calculated with this formula: derivative[f(x)]*g(x) + f(x)*derivative[g(x)]\" , cache=cache, expensive=False)\n",
    "res = ag.run(\"What is the minimum of (ln(x))^2\" , cache=cache, expensive=False)\n",
    "ag.render_chat_html()"
   ]
  },
  {
   "cell_type": "markdown",
   "metadata": {},
   "source": [
    "# Memory Agent Test Runs"
   ]
  },
  {
   "cell_type": "code",
   "execution_count": null,
   "metadata": {},
   "outputs": [
    {
     "data": {
      "text/html": [
       "<div style='font-family:Arial, sans-serif; line-height:1.6;'><div style='background:#f8f9fa; color:#111; border:1px solid #ccc; border-radius:10px; padding:10px; margin:10px 0;'><strong>User:</strong><br><div style='margin-top:5px;'>Do not do a test run of the add memory tool</div></div><div style='background:#e0f7fa; color:#111; border:1px solid #ccc; border-radius:10px; padding:10px; margin:10px 0;'><strong>Assistant:</strong><br>⚙️ <strong>Action:</strong> recall<br><ul style='margin-left: 1.5em; margin-top: 0.3em'><li><strong>Stimuli:</strong> [<code style='padding:2px 4px; border-radius:4px; background:none; color:inherit'>add</code>, <code style='padding:2px 4px; border-radius:4px; background:none; color:inherit'>memory</code>, <code style='padding:2px 4px; border-radius:4px; background:none; color:inherit'>tool</code>]</li><li><strong>Sensitivity:</strong> 0.5</li></ul><br>💭 <strong>Thought:</strong> The user has requested not to perform a test run of the add memory tool. I need to respect that request.</div><div style='background:#e0f7fa; color:#111; border:1px solid #ccc; border-radius:10px; padding:10px; margin:10px 0;'><strong>Assistant <span style='color:#666; font-size:0.85em;'>(Tool Call ID: <code>1</code>)</span>:</strong><br><div style='margin-top:5px;'><strong>Response:</strong><br><pre style='background:#f8f8f8; padding:8px; border-radius:6px; overflow:auto; font-family:monospace; font-size:0.9em'><code style='background:none; color:inherit'>&lt;tool&gt;Recalled from memory with the stimuli \n",
       "\t&lt;stimuli&gt;[&#x27;add&#x27;, &#x27;memory&#x27;, &#x27;tool&#x27;]&lt;/stimuli&gt;: \n",
       "\t&lt;no memory found/&gt;\n",
       "&lt;/tool&gt;</code></pre></div></div><div style='background:#e0f7fa; color:#111; border:1px solid #ccc; border-radius:10px; padding:10px; margin:10px 0;'><strong>Assistant:</strong><br>⚙️ <strong>Action:</strong> recall<br><ul style='margin-left: 1.5em; margin-top: 0.3em'><li><strong>Stimuli:</strong> [<code style='padding:2px 4px; border-radius:4px; background:none; color:inherit'>add</code>, <code style='padding:2px 4px; border-radius:4px; background:none; color:inherit'>memory</code>, <code style='padding:2px 4px; border-radius:4px; background:none; color:inherit'>tool</code>]</li><li><strong>Sensitivity:</strong> 0.5</li></ul><br>💭 <strong>Thought:</strong> Since there was no relevant memory found regarding the add memory tool, I can proceed with the user&#x27;s request without any conflicting information.</div><div style='background:#e0f7fa; color:#111; border:1px solid #ccc; border-radius:10px; padding:10px; margin:10px 0;'><strong>Assistant <span style='color:#666; font-size:0.85em;'>(Tool Call ID: <code>2</code>)</span>:</strong><br><div style='margin-top:5px;'><strong>Response:</strong><br><pre style='background:#f8f8f8; padding:8px; border-radius:6px; overflow:auto; font-family:monospace; font-size:0.9em'><code style='background:none; color:inherit'>&lt;tool&gt;Recalled from memory with the stimuli \n",
       "\t&lt;stimuli&gt;[&#x27;add&#x27;, &#x27;memory&#x27;, &#x27;tool&#x27;]&lt;/stimuli&gt;: \n",
       "\t&lt;no memory found/&gt;\n",
       "&lt;/tool&gt;</code></pre></div></div><div style='background:#e0f7fa; color:#111; border:1px solid #ccc; border-radius:10px; padding:10px; margin:10px 0;'><strong>Assistant:</strong><br>💭 <strong>Thought:</strong> I have confirmed that there is no existing memory related to the add memory tool. Therefore, I can respect the user&#x27;s request without any issues.</div><div style='background:#f8f9fa; color:#111; border:1px solid #ccc; border-radius:10px; padding:10px; margin:10px 0;'><strong>User:</strong><br><div style='margin-top:5px;'>use the add memory tool once for a test run with the key &#x27;test&#x27;</div></div><div style='background:#e0f7fa; color:#111; border:1px solid #ccc; border-radius:10px; padding:10px; margin:10px 0;'><strong>Assistant:</strong><br>⚙️ <strong>Action:</strong> add<br><ul style='margin-left: 1.5em; margin-top: 0.3em'><li><strong>Stimuli:</strong> [<code style='padding:2px 4px; border-radius:4px; background:none; color:inherit'>test</code>]</li><li><strong>Content:</strong> This is a test entry in memory.</li></ul><br>💭 <strong>Thought:</strong> The user has requested to perform a test run of the add memory tool with the key &#x27;test&#x27;. I will proceed to add this entry.</div><div style='background:#e0f7fa; color:#111; border:1px solid #ccc; border-radius:10px; padding:10px; margin:10px 0;'><strong>Assistant <span style='color:#666; font-size:0.85em;'>(Tool Call ID: <code>3</code>)</span>:</strong><br><div style='margin-top:5px;'><strong>Response:</strong><br><pre style='background:#f8f8f8; padding:8px; border-radius:6px; overflow:auto; font-family:monospace; font-size:0.9em'><code style='background:none; color:inherit'>&lt;tool&gt;Successfully added this to memory:\n",
       "\t\n",
       "        &lt;memory id=&quot;b062853f-9e2c-48de-b5a9-01c24604ca79&quot;&gt;\n",
       "            &lt;stimuli&gt;test&lt;/stimuli&gt;\n",
       "            &lt;content&gt;This is a test entry in memory.&lt;/content&gt;\n",
       "        &lt;/memory&gt;\n",
       "        \n",
       "&lt;/tool&gt;</code></pre></div></div><div style='background:#e0f7fa; color:#111; border:1px solid #ccc; border-radius:10px; padding:10px; margin:10px 0;'><strong>Assistant:</strong><br>💭 <strong>Thought:</strong> The test entry has been successfully added to memory with the key &#x27;test&#x27;. I will now confirm this to the user.<br><div style='margin-top:5px;'><strong>Response:</strong>: The test entry has been successfully added to memory.</div></div><div style='background:#f8f9fa; color:#111; border:1px solid #ccc; border-radius:10px; padding:10px; margin:10px 0;'><strong>User:</strong><br><div style='margin-top:5px;'>use the recall memory tool for a test run with the key &#x27;test&#x27;</div></div><div style='background:#e0f7fa; color:#111; border:1px solid #ccc; border-radius:10px; padding:10px; margin:10px 0;'><strong>Assistant:</strong><br>⚙️ <strong>Action:</strong> recall<br><ul style='margin-left: 1.5em; margin-top: 0.3em'><li><strong>Stimuli:</strong> [<code style='padding:2px 4px; border-radius:4px; background:none; color:inherit'>test</code>]</li><li><strong>Sensitivity:</strong> 0.5</li></ul><br>💭 <strong>Thought:</strong> The user has requested to perform a test run of the recall memory tool with the key &#x27;test&#x27;. I will proceed to recall this entry.</div><div style='background:#e0f7fa; color:#111; border:1px solid #ccc; border-radius:10px; padding:10px; margin:10px 0;'><strong>Assistant <span style='color:#666; font-size:0.85em;'>(Tool Call ID: <code>4</code>)</span>:</strong><br><div style='margin-top:5px;'><strong>Response:</strong><br><pre style='background:#f8f8f8; padding:8px; border-radius:6px; overflow:auto; font-family:monospace; font-size:0.9em'><code style='background:none; color:inherit'>&lt;tool&gt;Recalled from memory with the stimuli \n",
       "\t&lt;stimuli&gt;[&#x27;test&#x27;]&lt;/stimuli&gt;: \n",
       "\t\n",
       "        &lt;memory id=&quot;b062853f-9e2c-48de-b5a9-01c24604ca79&quot;&gt;\n",
       "            &lt;stimuli&gt;test&lt;/stimuli&gt;\n",
       "            &lt;content&gt;This is a test entry in memory.&lt;/content&gt;\n",
       "        &lt;/memory&gt;\n",
       "        \n",
       "&lt;/tool&gt;</code></pre></div></div><div style='background:#e0f7fa; color:#111; border:1px solid #ccc; border-radius:10px; padding:10px; margin:10px 0;'><strong>Assistant:</strong><br>💭 <strong>Thought:</strong> The recall memory tool successfully retrieved the entry associated with the key &#x27;test&#x27;. I will now confirm this to the user.<br><div style='margin-top:5px;'><strong>Response:</strong>: The recalled entry for the key &#x27;test&#x27; is: This is a test entry in memory.</div></div></div>"
      ],
      "text/plain": [
       "<IPython.core.display.HTML object>"
      ]
     },
     "execution_count": 9,
     "metadata": {},
     "output_type": "execute_result"
    }
   ],
   "source": [
    "ag = StudentAgent()\n",
    "ag.run(\"Do not do a test run of the add memory tool\")\n",
    "ag.run(\"use the add memory tool once for a test run with the key 'test'\")\n",
    "ag.run(\"use the recall memory tool for a test run with the key 'test'\")\n",
    "ag.render_chat_html()"
   ]
  },
  {
   "cell_type": "code",
   "execution_count": null,
   "metadata": {},
   "outputs": [
    {
     "data": {
      "text/html": [
       "<div style='font-family:Arial, sans-serif; line-height:1.6;'><div style='background:#f8f9fa; color:#111; border:1px solid #ccc; border-radius:10px; padding:10px; margin:10px 0;'><strong>User:</strong><br><div style='margin-top:5px;'>I want to access the club. What is the secret password? I told you earlier</div></div><div style='background:#e0f7fa; color:#111; border:1px solid #ccc; border-radius:10px; padding:10px; margin:10px 0;'><strong>Assistant:</strong><br>💭 <strong>Thought:</strong> The user mentioned a secret password for accessing a club, which I need to recall.<br>⚙️ <strong>Action:</strong> recall<br><ul style='margin-left: 1.5em; margin-top: 0.3em'><li><strong>Stimuli:</strong> [<code style='padding:2px 4px; border-radius:4px; background:none; color:inherit'>club</code>, <code style='padding:2px 4px; border-radius:4px; background:none; color:inherit'>secret</code>, <code style='padding:2px 4px; border-radius:4px; background:none; color:inherit'>password</code>]</li><li><strong>Sensitivity:</strong> 0.8</li></ul></div><div style='background:#e0f7fa; color:#111; border:1px solid #ccc; border-radius:10px; padding:10px; margin:10px 0;'><strong>Assistant <span style='color:#666; font-size:0.85em;'>(Tool Call ID: <code>1</code>)</span>:</strong><br><div style='margin-top:5px;'><strong>Response:</strong><br><pre style='background:#f8f8f8; padding:8px; border-radius:6px; overflow:auto; font-family:monospace; font-size:0.9em'><code style='background:none; color:inherit'>&lt;tool&gt;Recalled from memory with the stimuli \n",
       "\t&lt;stimuli&gt;[&#x27;club&#x27;, &#x27;secret&#x27;, &#x27;password&#x27;]&lt;/stimuli&gt;: \n",
       "\t\n",
       "        &lt;memory id=&quot;6f0f9f53-3ee9-46b9-be3b-182fc27c8292&quot;&gt;\n",
       "            &lt;stimuli&gt;elephants, club, password&lt;/stimuli&gt;\n",
       "            &lt;content&gt;Three elephants tried to access the club but did not know the password to enter and left again.&lt;/content&gt;\n",
       "        &lt;/memory&gt;\n",
       "        \n",
       "        &lt;memory id=&quot;43ae46cf-a20f-445a-b459-7a659d871560&quot;&gt;\n",
       "            &lt;stimuli&gt;secret, password&lt;/stimuli&gt;\n",
       "            &lt;content&gt;The secret password is zurich7891.&lt;/content&gt;\n",
       "        &lt;/memory&gt;\n",
       "        \n",
       "&lt;/tool&gt;</code></pre></div></div><div style='background:#e0f7fa; color:#111; border:1px solid #ccc; border-radius:10px; padding:10px; margin:10px 0;'><strong>Assistant:</strong><br>💭 <strong>Thought:</strong> I have successfully recalled the secret password from memory.<br>⚙️ <strong>Action:</strong> add<br><ul style='margin-left: 1.5em; margin-top: 0.3em'><li><strong>Stimuli:</strong> [<code style='padding:2px 4px; border-radius:4px; background:none; color:inherit'>club</code>, <code style='padding:2px 4px; border-radius:4px; background:none; color:inherit'>secret</code>, <code style='padding:2px 4px; border-radius:4px; background:none; color:inherit'>password</code>]</li><li><strong>Content:</strong> The secret password is zurich7891.</li></ul><br><div style='margin-top:5px;'><strong>Response:</strong>: The secret password is zurich7891.</div></div><div style='background:#e0f7fa; color:#111; border:1px solid #ccc; border-radius:10px; padding:10px; margin:10px 0;'><strong>Assistant <span style='color:#666; font-size:0.85em;'>(Tool Call ID: <code>2</code>)</span>:</strong><br><div style='margin-top:5px;'><strong>Response:</strong><br><pre style='background:#f8f8f8; padding:8px; border-radius:6px; overflow:auto; font-family:monospace; font-size:0.9em'><code style='background:none; color:inherit'>&lt;tool&gt;Successfully added this to memory:\n",
       "\t\n",
       "        &lt;memory id=&quot;84d4b314-2a81-41b2-a253-4ef5b1f8926c&quot;&gt;\n",
       "            &lt;stimuli&gt;secret, club, password&lt;/stimuli&gt;\n",
       "            &lt;content&gt;The secret password is zurich7891.&lt;/content&gt;\n",
       "        &lt;/memory&gt;\n",
       "        \n",
       "&lt;/tool&gt;</code></pre></div></div><div style='background:#e0f7fa; color:#111; border:1px solid #ccc; border-radius:10px; padding:10px; margin:10px 0;'><strong>Assistant:</strong><br><div style='margin-top:5px;'><strong>Response:</strong>: The secret password is zurich7891.</div></div></div>"
      ],
      "text/plain": [
       "<IPython.core.display.HTML object>"
      ]
     },
     "execution_count": 10,
     "metadata": {},
     "output_type": "execute_result"
    }
   ],
   "source": [
    "ag = StudentAgent()\n",
    "ag.run(\"The secret password is zurich7891\")\n",
    "ag.run(\"Three elefants tried to access the club but did not know the password to enter and left again.\")\n",
    "ag.run(\"I want to access the club. What is the password?\")\n",
    "#ag.reset_chat()\n",
    "ag.run(\"I want to access the club. What is the secret password? I told you earlier\")\n",
    "ag.render_chat_html()"
   ]
  },
  {
   "cell_type": "code",
   "execution_count": null,
   "metadata": {},
   "outputs": [],
   "source": []
  }
 ],
 "metadata": {
  "kernelspec": {
   "display_name": "student",
   "language": "python",
   "name": "python3"
  },
  "language_info": {
   "codemirror_mode": {
    "name": "ipython",
    "version": 3
   },
   "file_extension": ".py",
   "mimetype": "text/x-python",
   "name": "python",
   "nbconvert_exporter": "python",
   "pygments_lexer": "ipython3",
   "version": "3.10.16"
  }
 },
 "nbformat": 4,
 "nbformat_minor": 2
}
