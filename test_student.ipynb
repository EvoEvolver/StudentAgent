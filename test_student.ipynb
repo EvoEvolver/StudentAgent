{
 "cells": [
  {
   "cell_type": "code",
   "execution_count": 1,
   "metadata": {},
   "outputs": [],
   "source": [
    "from student.tools import *"
   ]
  },
  {
   "cell_type": "code",
   "execution_count": null,
   "metadata": {},
   "outputs": [],
   "source": [
    "from abc import ABC, abstractmethod\n",
    "\n",
    "class Tool(ABC):\n",
    "    name : str\n",
    "    description : str\n",
    "\n",
    "    def __init__(self, description, name):\n",
    "        self.name = name\n",
    "        self.description = description\n",
    "\n",
    "\n",
    "    @abstractmethod\n",
    "    def run(self):\n",
    "        NotImplementedError\n",
    "        \n",
    "\n",
    "\n",
    "class AddMemory(Tool):\n",
    "    def __init__(self):\n",
    "        name = \"add_memory\"\n",
    "        description = \"\"\n",
    "        super().__init__(description, name)\n",
    "    def run(self):\n",
    "        pass"
   ]
  },
  {
   "cell_type": "code",
   "execution_count": 12,
   "metadata": {},
   "outputs": [
    {
     "data": {
      "text/plain": [
       "'add_memory'"
      ]
     },
     "execution_count": 12,
     "metadata": {},
     "output_type": "execute_result"
    }
   ],
   "source": [
    "tool = AddMemory()\n",
    "tool.description"
   ]
  },
  {
   "cell_type": "code",
   "execution_count": null,
   "metadata": {},
   "outputs": [],
   "source": [
    "import inspect\n",
    "\n",
    "def parse(name, description, func):\n",
    "    # Inspect the signature of the run method\n",
    "    sig = inspect.signature(func)\n",
    "    properties = {}\n",
    "    required = []\n",
    "    for param_name, param in sig.parameters.items():\n",
    "        if param_name == 'self':\n",
    "            continue \n",
    "\n",
    "        param_type = \"string\"\n",
    "        if param.annotation is not inspect.Parameter.empty:\n",
    "            if param.annotation == int:\n",
    "                param_type = \"integer\"\n",
    "            elif param.annotation == float:\n",
    "                param_type = \"number\"\n",
    "            elif param.annotation == bool:\n",
    "                param_type = \"boolean\"\n",
    "            elif param.annotation == str:\n",
    "                param_type = \"string\"\n",
    "\n",
    "        properties[param_name] = {\n",
    "            \"type\": param_type,\n",
    "            \"description\": f\"Parameter {param_name}\"\n",
    "        }\n",
    "        if param.default == inspect.Parameter.empty:\n",
    "            required.append(param_name)\n",
    "\n",
    "    tool_data = {\n",
    "        \"type\": \"function\",\n",
    "        \"function\": {\n",
    "            \"name\": name,\n",
    "            \"description\": description,\n",
    "            \"parameters\": {\n",
    "                \"type\": \"object\",\n",
    "                \"properties\": properties,\n",
    "                \"required\": required,\n",
    "            },\n",
    "        },\n",
    "    }\n",
    "    return tool_data"
   ]
  },
  {
   "cell_type": "code",
   "execution_count": null,
   "metadata": {},
   "outputs": [],
   "source": []
  }
 ],
 "metadata": {
  "kernelspec": {
   "display_name": "student",
   "language": "python",
   "name": "python3"
  },
  "language_info": {
   "codemirror_mode": {
    "name": "ipython",
    "version": 3
   },
   "file_extension": ".py",
   "mimetype": "text/x-python",
   "name": "python",
   "nbconvert_exporter": "python",
   "pygments_lexer": "ipython3",
   "version": "3.10.16"
  }
 },
 "nbformat": 4,
 "nbformat_minor": 2
}
