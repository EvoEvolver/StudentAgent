{
 "cells": [
  {
   "cell_type": "code",
   "execution_count": 1,
   "metadata": {},
   "outputs": [],
   "source": [
    "from student.tools import *\n",
    "from student.agent import *"
   ]
  },
  {
   "cell_type": "code",
   "execution_count": 2,
   "metadata": {},
   "outputs": [
    {
     "data": {
      "text/html": [
       "<div style='font-family:Arial, sans-serif; line-height:1.6;'><div style='background:#f8f9fa; color:#111; border:1px solid #ccc; border-radius:10px; padding:10px; margin:10px 0;'><strong>User:</strong><br><div style='margin-top:5px; font-family:monospace;'>Do not do a test run of the add memory tool</div></div><div style='background:#e0f7fa; color:#111; border:1px solid #ccc; border-radius:10px; padding:10px; margin:10px 0;'><strong>Assistant:</strong><br><div style='margin-top:5px; font-family:monospace;'>Understood! I won&#x27;t perform a test run of the add memory tool. If you have any specific information you&#x27;d like to discuss or store, feel free to let me know!</div></div><div style='background:#f8f9fa; color:#111; border:1px solid #ccc; border-radius:10px; padding:10px; margin:10px 0;'><strong>User:</strong><br><div style='margin-top:5px; font-family:monospace;'>use the add memory tool once for a test run with the key &#x27;test&#x27;</div></div><div style='background:#e0f7fa; color:#111; border:1px solid #ccc; border-radius:10px; padding:10px; margin:10px 0;'><strong>Assistant:</strong><br><div style='margin-top:5px; font-family:monospace;'>Tool calls: [{&#x27;function&#x27;: {&#x27;arguments&#x27;: &#x27;{&quot;thought_content&quot;:&quot;The user has requested to use the add memory tool for a test run with the key \\&#x27;test\\&#x27;. I will proceed to add a memory with this key.&quot;}&#x27;, &#x27;name&#x27;: &#x27;think&#x27;}, &#x27;id&#x27;: &#x27;call_N5oK9pWHnRDQPIAH2Ifs4QF4&#x27;, &#x27;type&#x27;: &#x27;function&#x27;}]</div></div><div style='background:#e0f7fa; color:#111; border:1px solid #ccc; border-radius:10px; padding:10px; margin:10px 0;'><strong>Assistant <span style='color:#666; font-size:0.85em;'>(Tool Call ID: <code>call_N5oK9pWHnRDQPIAH2Ifs4QF4</code>)</span>:</strong><br><pre style='margin:0;'>&lt;thought&gt;\n",
       "\tThe user has requested to use the add memory tool for a test run with the key &#x27;test&#x27;. I will proceed to add a memory with this key.\n",
       "&lt;/thought&gt;</pre></div><div style='background:#e0f7fa; color:#111; border:1px solid #ccc; border-radius:10px; padding:10px; margin:10px 0;'><strong>Assistant:</strong><br><div style='margin-top:5px; font-family:monospace;'>Tool calls: [{&#x27;function&#x27;: {&#x27;arguments&#x27;: &#x27;{&quot;stimuli&quot;:[&quot;test&quot;],&quot;content&quot;:&quot;This is a test memory entry.&quot;}&#x27;, &#x27;name&#x27;: &#x27;add&#x27;}, &#x27;id&#x27;: &#x27;call_adtyuEGf2jyykBR5YVZZnzN2&#x27;, &#x27;type&#x27;: &#x27;function&#x27;}]</div></div><div style='background:#e0f7fa; color:#111; border:1px solid #ccc; border-radius:10px; padding:10px; margin:10px 0;'><strong>Assistant <span style='color:#666; font-size:0.85em;'>(Tool Call ID: <code>call_adtyuEGf2jyykBR5YVZZnzN2</code>)</span>:</strong><br><pre style='margin:0;'>&lt;tool&gt;Successfully added this to memory:\n",
       "\t\n",
       "        &lt;memory id=&quot;aaf73ac3-bd52-4bd3-84a6-6f087daed014&quot;&gt;\n",
       "            &lt;stimuli&gt;test&lt;/stimuli&gt;\n",
       "            &lt;content&gt;This is a test memory entry.&lt;/content&gt;\n",
       "        &lt;/memory&gt;\n",
       "        \n",
       "&lt;/tool&gt;</pre></div><div style='background:#e0f7fa; color:#111; border:1px solid #ccc; border-radius:10px; padding:10px; margin:10px 0;'><strong>Assistant:</strong><br><div style='margin-top:5px; font-family:monospace;'>I have successfully added a test memory entry with the key &quot;test.&quot; Here are the details:<br><br>- **Memory ID**: aaf73ac3-bd52-4bd3-84a6-6f087daed014<br>- **Stimuli**: test<br>- **Content**: This is a test memory entry.<br><br>If you need anything else or want to modify this memory, just let me know!</div></div><div style='background:#f8f9fa; color:#111; border:1px solid #ccc; border-radius:10px; padding:10px; margin:10px 0;'><strong>User:</strong><br><div style='margin-top:5px; font-family:monospace;'>use the recall memory tool for a test run with the key &#x27;test&#x27;</div></div><div style='background:#e0f7fa; color:#111; border:1px solid #ccc; border-radius:10px; padding:10px; margin:10px 0;'><strong>Assistant:</strong><br><div style='margin-top:5px; font-family:monospace;'>Tool calls: [{&#x27;function&#x27;: {&#x27;arguments&#x27;: &#x27;{&quot;thought_content&quot;:&quot;The user has requested to use the recall memory tool for a test run with the key \\&#x27;test\\&#x27;. I will proceed to recall the memory associated with this key.&quot;}&#x27;, &#x27;name&#x27;: &#x27;think&#x27;}, &#x27;id&#x27;: &#x27;call_w7Z7fbi0aHhmbAiRuRMRO7t3&#x27;, &#x27;type&#x27;: &#x27;function&#x27;}]</div></div><div style='background:#e0f7fa; color:#111; border:1px solid #ccc; border-radius:10px; padding:10px; margin:10px 0;'><strong>Assistant <span style='color:#666; font-size:0.85em;'>(Tool Call ID: <code>call_w7Z7fbi0aHhmbAiRuRMRO7t3</code>)</span>:</strong><br><pre style='margin:0;'>&lt;thought&gt;\n",
       "\tThe user has requested to use the recall memory tool for a test run with the key &#x27;test&#x27;. I will proceed to recall the memory associated with this key.\n",
       "&lt;/thought&gt;</pre></div><div style='background:#e0f7fa; color:#111; border:1px solid #ccc; border-radius:10px; padding:10px; margin:10px 0;'><strong>Assistant:</strong><br><div style='margin-top:5px; font-family:monospace;'>Tool calls: [{&#x27;function&#x27;: {&#x27;arguments&#x27;: &#x27;{&quot;stimuli&quot;:[&quot;test&quot;],&quot;sensitivity&quot;:0.5}&#x27;, &#x27;name&#x27;: &#x27;recall&#x27;}, &#x27;id&#x27;: &#x27;call_dZSw82HzCymM4HTKYXnzkz9g&#x27;, &#x27;type&#x27;: &#x27;function&#x27;}]</div></div><div style='background:#e0f7fa; color:#111; border:1px solid #ccc; border-radius:10px; padding:10px; margin:10px 0;'><strong>Assistant <span style='color:#666; font-size:0.85em;'>(Tool Call ID: <code>call_dZSw82HzCymM4HTKYXnzkz9g</code>)</span>:</strong><br><pre style='margin:0;'>&lt;tool&gt;Recalled from memory with the stimuli \n",
       "\t&lt;stimuli&gt;[&#x27;test&#x27;]&lt;/stimuli&gt;: \n",
       "\t\n",
       "        &lt;memory id=&quot;aaf73ac3-bd52-4bd3-84a6-6f087daed014&quot;&gt;\n",
       "            &lt;stimuli&gt;test&lt;/stimuli&gt;\n",
       "            &lt;content&gt;This is a test memory entry.&lt;/content&gt;\n",
       "        &lt;/memory&gt;\n",
       "        \n",
       "&lt;/tool&gt;</pre></div><div style='background:#e0f7fa; color:#111; border:1px solid #ccc; border-radius:10px; padding:10px; margin:10px 0;'><strong>Assistant:</strong><br><div style='margin-top:5px; font-family:monospace;'>I have successfully recalled the memory associated with the key &quot;test.&quot; Here are the details:<br><br>- **Memory ID**: aaf73ac3-bd52-4bd3-84a6-6f087daed014<br>- **Stimuli**: test<br>- **Content**: This is a test memory entry.<br><br>If you need further assistance or want to modify this memory, just let me know!</div></div></div>"
      ],
      "text/plain": [
       "<IPython.core.display.HTML object>"
      ]
     },
     "execution_count": 2,
     "metadata": {},
     "output_type": "execute_result"
    }
   ],
   "source": [
    "ag = MemoryAgent()\n",
    "ag.run(\"Do not do a test run of the add memory tool\")\n",
    "ag.run(\"use the add memory tool once for a test run with the key 'test'\")\n",
    "ag.run(\"use the recall memory tool for a test run with the key 'test'\")\n",
    "ag.render_chat_html()"
   ]
  },
  {
   "cell_type": "code",
   "execution_count": 10,
   "metadata": {},
   "outputs": [
    {
     "data": {
      "text/html": [
       "<div style='font-family:Arial, sans-serif; line-height:1.6;'><div style='background:#f8f9fa; color:#111; border:1px solid #ccc; border-radius:10px; padding:10px; margin:10px 0;'><strong>User:</strong><br><div style='margin-top:5px; font-family:monospace;'>The secret password is zurich7891</div></div><div style='background:#e0f7fa; color:#111; border:1px solid #ccc; border-radius:10px; padding:10px; margin:10px 0;'><strong>Assistant:</strong><br><div style='margin-top:5px; font-family:monospace;'>Tool calls: [{&#x27;function&#x27;: {&#x27;arguments&#x27;: &#x27;{&quot;thought_content&quot;:&quot;User provided a secret password: zurich7891. I need to store this information for future reference.&quot;}&#x27;, &#x27;name&#x27;: &#x27;think&#x27;}, &#x27;id&#x27;: &#x27;call_PoYgFWPWIidVeUCE5evJAcsl&#x27;, &#x27;type&#x27;: &#x27;function&#x27;}]</div></div><div style='background:#e0f7fa; color:#111; border:1px solid #ccc; border-radius:10px; padding:10px; margin:10px 0;'><strong>Assistant <span style='color:#666; font-size:0.85em;'>(Tool Call ID: <code>call_PoYgFWPWIidVeUCE5evJAcsl</code>)</span>:</strong><br><pre style='margin:0;'>&lt;thought&gt;\n",
       "\tUser provided a secret password: zurich7891. I need to store this information for future reference.\n",
       "&lt;/thought&gt;</pre></div><div style='background:#e0f7fa; color:#111; border:1px solid #ccc; border-radius:10px; padding:10px; margin:10px 0;'><strong>Assistant:</strong><br><div style='margin-top:5px; font-family:monospace;'>Tool calls: [{&#x27;function&#x27;: {&#x27;arguments&#x27;: &#x27;{&quot;stimuli&quot;:[&quot;secret password&quot;,&quot;zurich7891&quot;],&quot;content&quot;:&quot;The secret password is zurich7891.&quot;}&#x27;, &#x27;name&#x27;: &#x27;add&#x27;}, &#x27;id&#x27;: &#x27;call_qxcNxLyk2yIyrApMQgQxZ3uy&#x27;, &#x27;type&#x27;: &#x27;function&#x27;}]</div></div><div style='background:#e0f7fa; color:#111; border:1px solid #ccc; border-radius:10px; padding:10px; margin:10px 0;'><strong>Assistant <span style='color:#666; font-size:0.85em;'>(Tool Call ID: <code>call_qxcNxLyk2yIyrApMQgQxZ3uy</code>)</span>:</strong><br><pre style='margin:0;'>&lt;tool&gt;Successfully added this to memory:\n",
       "\t\n",
       "        &lt;memory id=&quot;39d3aeb4-053b-4c9b-b894-a82150a355ed&quot;&gt;\n",
       "            &lt;stimuli&gt;zurich7891, secret password&lt;/stimuli&gt;\n",
       "            &lt;content&gt;The secret password is zurich7891.&lt;/content&gt;\n",
       "        &lt;/memory&gt;\n",
       "        \n",
       "&lt;/tool&gt;</pre></div><div style='background:#e0f7fa; color:#111; border:1px solid #ccc; border-radius:10px; padding:10px; margin:10px 0;'><strong>Assistant:</strong><br><div style='margin-top:5px; font-family:monospace;'>I&#x27;ve stored the secret password &quot;zurich7891&quot; for future reference. If you need to access it later, just let me know!</div></div><div style='background:#f8f9fa; color:#111; border:1px solid #ccc; border-radius:10px; padding:10px; margin:10px 0;'><strong>User:</strong><br><div style='margin-top:5px; font-family:monospace;'>I want to access the club. What is the password?</div></div><div style='background:#e0f7fa; color:#111; border:1px solid #ccc; border-radius:10px; padding:10px; margin:10px 0;'><strong>Assistant:</strong><br><div style='margin-top:5px; font-family:monospace;'>Tool calls: [{&#x27;function&#x27;: {&#x27;arguments&#x27;: &#x27;{&quot;stimuli&quot;:[&quot;secret password&quot;,&quot;club&quot;],&quot;sensitivity&quot;:0.8}&#x27;, &#x27;name&#x27;: &#x27;recall&#x27;}, &#x27;id&#x27;: &#x27;call_d64nCQXoQ9q1Qjm1Sw80hryS&#x27;, &#x27;type&#x27;: &#x27;function&#x27;}]</div></div><div style='background:#e0f7fa; color:#111; border:1px solid #ccc; border-radius:10px; padding:10px; margin:10px 0;'><strong>Assistant <span style='color:#666; font-size:0.85em;'>(Tool Call ID: <code>call_d64nCQXoQ9q1Qjm1Sw80hryS</code>)</span>:</strong><br><pre style='margin:0;'>&lt;tool&gt;Recalled from memory with the stimuli \n",
       "\t&lt;stimuli&gt;[&#x27;secret password&#x27;, &#x27;club&#x27;]&lt;/stimuli&gt;: \n",
       "\t\n",
       "        &lt;memory id=&quot;39d3aeb4-053b-4c9b-b894-a82150a355ed&quot;&gt;\n",
       "            &lt;stimuli&gt;zurich7891, secret password&lt;/stimuli&gt;\n",
       "            &lt;content&gt;The secret password is zurich7891.&lt;/content&gt;\n",
       "        &lt;/memory&gt;\n",
       "        \n",
       "&lt;/tool&gt;</pre></div><div style='background:#e0f7fa; color:#111; border:1px solid #ccc; border-radius:10px; padding:10px; margin:10px 0;'><strong>Assistant:</strong><br><div style='margin-top:5px; font-family:monospace;'>The password to access the club is &quot;zurich7891.&quot; If you need anything else, feel free to ask!</div></div></div>"
      ],
      "text/plain": [
       "<IPython.core.display.HTML object>"
      ]
     },
     "execution_count": 10,
     "metadata": {},
     "output_type": "execute_result"
    }
   ],
   "source": [
    "ag = MemoryAgent()\n",
    "ag.run(\"The secret password is zurich7891\")\n",
    "# ag.run(\"Three elefants tried to access the club but did not know the password to enter and left again.\")\n",
    "ag.run(\"I want to access the club. What is the password?\")\n",
    "ag.render_chat_html()"
   ]
  },
  {
   "cell_type": "code",
   "execution_count": null,
   "metadata": {},
   "outputs": [
    {
     "data": {
      "text/html": [
       "<div style='font-family:Arial, sans-serif; line-height:1.6;'><div style='background:#f8f9fa; color:#111; border:1px solid #ccc; border-radius:10px; padding:10px; margin:10px 0;'><strong>User:</strong><br><div style='margin-top:5px; font-family:monospace;'>I want to access the club. What is the secret password? I told you earlier</div></div><div style='background:#e0f7fa; color:#111; border:1px solid #ccc; border-radius:10px; padding:10px; margin:10px 0;'><strong>Assistant:</strong><br><div style='margin-top:5px; font-family:monospace;'>Tool calls: [{&#x27;function&#x27;: {&#x27;arguments&#x27;: &#x27;{&quot;stimuli&quot;:[&quot;club&quot;,&quot;secret password&quot;],&quot;sensitivity&quot;:0.8}&#x27;, &#x27;name&#x27;: &#x27;recall&#x27;}, &#x27;id&#x27;: &#x27;call_ozhEKMZHIu7ckBBCySoiA9FX&#x27;, &#x27;type&#x27;: &#x27;function&#x27;}]</div></div><div style='background:#e0f7fa; color:#111; border:1px solid #ccc; border-radius:10px; padding:10px; margin:10px 0;'><strong>Assistant <span style='color:#666; font-size:0.85em;'>(Tool Call ID: <code>call_ozhEKMZHIu7ckBBCySoiA9FX</code>)</span>:</strong><br><pre style='margin:0;'>&lt;tool&gt;Recalled from memory with the stimuli \n",
       "\t&lt;stimuli&gt;[&#x27;club&#x27;, &#x27;secret password&#x27;]&lt;/stimuli&gt;: \n",
       "\t\n",
       "        &lt;memory id=&quot;39d3aeb4-053b-4c9b-b894-a82150a355ed&quot;&gt;\n",
       "            &lt;stimuli&gt;zurich7891, secret password&lt;/stimuli&gt;\n",
       "            &lt;content&gt;The secret password is zurich7891.&lt;/content&gt;\n",
       "        &lt;/memory&gt;\n",
       "        \n",
       "&lt;/tool&gt;</pre></div><div style='background:#e0f7fa; color:#111; border:1px solid #ccc; border-radius:10px; padding:10px; margin:10px 0;'><strong>Assistant:</strong><br><div style='margin-top:5px; font-family:monospace;'>The secret password to access the club is **zurich7891**.</div></div></div>"
      ],
      "text/plain": [
       "<IPython.core.display.HTML object>"
      ]
     },
     "execution_count": 12,
     "metadata": {},
     "output_type": "execute_result"
    }
   ],
   "source": [
    "ag.reset_chat()\n",
    "ag.run(\"I want to access the club. What is the secret password? I told you earlier\")\n",
    "ag.render_chat_html()"
   ]
  },
  {
   "cell_type": "code",
   "execution_count": null,
   "metadata": {},
   "outputs": [],
   "source": []
  }
 ],
 "metadata": {
  "kernelspec": {
   "display_name": "student",
   "language": "python",
   "name": "python3"
  },
  "language_info": {
   "codemirror_mode": {
    "name": "ipython",
    "version": 3
   },
   "file_extension": ".py",
   "mimetype": "text/x-python",
   "name": "python",
   "nbconvert_exporter": "python",
   "pygments_lexer": "ipython3",
   "version": "3.10.16"
  }
 },
 "nbformat": 4,
 "nbformat_minor": 2
}
