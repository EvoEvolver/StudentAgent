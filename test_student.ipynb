{
 "cells": [
  {
   "cell_type": "code",
   "execution_count": 1,
   "metadata": {},
   "outputs": [],
   "source": [
    "from student.agent.agent_raspa import *\n",
    "from student.agent.tools.tools_memory import *\n",
    "from agent.student import *\n",
    "from student.agent.utils import *\n",
    "from student.agent.agent_memory import *"
   ]
  },
  {
   "cell_type": "markdown",
   "metadata": {},
   "source": [
    "# New agent split"
   ]
  },
  {
   "cell_type": "markdown",
   "metadata": {},
   "source": [
    "# asdfdh"
   ]
  },
  {
   "cell_type": "code",
   "execution_count": 2,
   "metadata": {},
   "outputs": [],
   "source": [
    "a = StudentAgent()"
   ]
  },
  {
   "cell_type": "code",
   "execution_count": null,
   "metadata": {},
   "outputs": [
    {
     "data": {
      "text/plain": [
       "<agent.agent_memory.MemoryAgent at 0x1372aaef0>"
      ]
     },
     "execution_count": 3,
     "metadata": {},
     "output_type": "execute_result"
    }
   ],
   "source": []
  },
  {
   "cell_type": "code",
   "execution_count": 6,
   "metadata": {},
   "outputs": [
    {
     "name": "stdout",
     "output_type": "stream",
     "text": [
      "Required prompt file missing: /Users/henrikseng/Desktop/StudentAgent/StudentAgent/student/agent/prompts/system/v3.xml/openai\n"
     ]
    }
   ],
   "source": [
    "a = MemoryAgent(version=\"v3.xml\")"
   ]
  },
  {
   "cell_type": "code",
   "execution_count": 3,
   "metadata": {},
   "outputs": [
    {
     "data": {
      "text/html": [
       "<div style='font-family:Arial, sans-serif; line-height:1.6;'><div style='background:#f8f9fa; color:#111; border:1px solid #ccc; border-radius:10px; padding:10px; margin:10px 0;'><strong>User:</strong><br><div style='margin-top:5px;'>&lt;question&gt;What knowledge is in my memory related to this context: &lt;context&gt;my name is henrik&lt;/context&gt;&lt;/question&gt;</div></div><div style='background:#e0f7fa; color:#111; border:1px solid #ccc; border-radius:10px; padding:10px; margin:10px 0;'><strong>Assistant:</strong><br>💭 <strong>Thought:</strong> I need to recall any memory associated with the context &#x27;my name is henrik&#x27;.<br>⚙️ <strong>Action:</strong> recall<br><ul style='margin-left: 1.5em; margin-top: 0.3em'><li><strong>Stimuli:</strong> [<code style='padding:2px 4px; border-radius:4px; background:none; color:inherit'>my name is henrik</code>]</li></ul></div><div style='background:#f8f9fa; color:#111; border:1px solid #ccc; border-radius:10px; padding:10px; margin:10px 0;'><strong>User:</strong><br><div style='margin-top:5px;'><strong>Tool:</strong><br>Recalled: <br>\t&lt;no memory found/&gt;</div></div><div style='background:#e0f7fa; color:#111; border:1px solid #ccc; border-radius:10px; padding:10px; margin:10px 0;'><strong>Assistant:</strong><br>💭 <strong>Thought:</strong> There is no existing memory related to the context &#x27;my name is henrik&#x27;. I should consider adding this information to memory.<br>⚙️ <strong>Action:</strong> add<br><ul style='margin-left: 1.5em; margin-top: 0.3em'><li><strong>Stimuli:</strong> [<code style='padding:2px 4px; border-radius:4px; background:none; color:inherit'>my name is henrik</code>]</li><li><strong>Content:</strong> Henrik is the name associated with this context.</li></ul></div><div style='background:#f8f9fa; color:#111; border:1px solid #ccc; border-radius:10px; padding:10px; margin:10px 0;'><strong>User:</strong><br><div style='margin-top:5px;'><strong>Tool:</strong><br>Added:<br>\t<br>        &lt;memory id=&quot;c2885003&quot;&gt;<br>            &lt;stimuli&gt;my name is henrik&lt;/stimuli&gt;<br>            &lt;content&gt;Henrik is the name associated with this context.&lt;/content&gt;<br>        &lt;/memory&gt;</div></div><div style='background:#e0f7fa; color:#111; border:1px solid #ccc; border-radius:10px; padding:10px; margin:10px 0;'><strong>Assistant:</strong><br>💭 <strong>Thought:</strong> The information has been successfully added to memory. I can now confirm this to the user.<br><div style='margin-top:5px;'><strong>Response:</strong>: I have successfully stored the information that your name is Henrik in my memory.</div></div><div style='background:#f8f9fa; color:#111; border:1px solid #ccc; border-radius:10px; padding:10px; margin:10px 0;'><strong>User:</strong><br><div style='margin-top:5px;'> &lt;new_knowledge&gt;my name is henrik&lt;/new_knowledge&gt;&lt;knowledge&gt;I have recalled this related knowledge from my memory: I have successfully stored the information that your name is Henrik in my memory.&lt;/knowledge&gt;</div></div><div style='background:#e0f7fa; color:#111; border:1px solid #ccc; border-radius:10px; padding:10px; margin:10px 0;'><strong>Assistant:</strong><br>💭 <strong>Thought:</strong> The user is confirming the knowledge stored in memory. I should acknowledge this and ensure the memory is correctly associated.<br>⚙️ <strong>Action:</strong> recall<br><ul style='margin-left: 1.5em; margin-top: 0.3em'><li><strong>Stimuli:</strong> [<code style='padding:2px 4px; border-radius:4px; background:none; color:inherit'>my name is henrik</code>]</li></ul></div><div style='background:#f8f9fa; color:#111; border:1px solid #ccc; border-radius:10px; padding:10px; margin:10px 0;'><strong>User:</strong><br><div style='margin-top:5px;'><strong>Tool:</strong><br>Recalled: <br>\t<br>        &lt;memory id=&quot;c2885003&quot;&gt;<br>            &lt;stimuli&gt;my name is henrik&lt;/stimuli&gt;<br>            &lt;content&gt;Henrik is the name associated with this context.&lt;/content&gt;<br>        &lt;/memory&gt;</div></div><div style='background:#e0f7fa; color:#111; border:1px solid #ccc; border-radius:10px; padding:10px; margin:10px 0;'><strong>Assistant:</strong><br>💭 <strong>Thought:</strong> The memory has been correctly recalled, confirming the user&#x27;s name is Henrik.<br><div style='margin-top:5px;'><strong>Response:</strong>: Yes, I have successfully recalled that your name is Henrik from my memory.</div></div><div style='background:#f8f9fa; color:#111; border:1px solid #ccc; border-radius:10px; padding:10px; margin:10px 0;'><strong>User:</strong><br><div style='margin-top:5px;'>&lt;question&gt;what is my name&lt;/question&gt;</div></div><div style='background:#e0f7fa; color:#111; border:1px solid #ccc; border-radius:10px; padding:10px; margin:10px 0;'><strong>Assistant:</strong><br>💭 <strong>Thought:</strong> I need to recall the user&#x27;s name from memory.<br>⚙️ <strong>Action:</strong> recall<br><ul style='margin-left: 1.5em; margin-top: 0.3em'><li><strong>Stimuli:</strong> [<code style='padding:2px 4px; border-radius:4px; background:none; color:inherit'>my name is henrik</code>]</li></ul></div><div style='background:#f8f9fa; color:#111; border:1px solid #ccc; border-radius:10px; padding:10px; margin:10px 0;'><strong>User:</strong><br><div style='margin-top:5px;'><strong>Tool:</strong><br>Recalled: <br>\t<br>        &lt;memory id=&quot;c2885003&quot;&gt;<br>            &lt;stimuli&gt;my name is henrik&lt;/stimuli&gt;<br>            &lt;content&gt;Henrik is the name associated with this context.&lt;/content&gt;<br>        &lt;/memory&gt;</div></div><div style='background:#e0f7fa; color:#111; border:1px solid #ccc; border-radius:10px; padding:10px; margin:10px 0;'><strong>Assistant:</strong><br>💭 <strong>Thought:</strong> The memory indicates that the user&#x27;s name is Henrik.<br><div style='margin-top:5px;'><strong>Response:</strong>: Your name is Henrik.</div></div><div style='background:#f8f9fa; color:#111; border:1px solid #ccc; border-radius:10px; padding:10px; margin:10px 0;'><strong>User:</strong><br><div style='margin-top:5px;'>&lt;question&gt;What knowledge is in my memory related to this context: &lt;context&gt;my name is peter&lt;/context&gt;&lt;/question&gt;</div></div><div style='background:#e0f7fa; color:#111; border:1px solid #ccc; border-radius:10px; padding:10px; margin:10px 0;'><strong>Assistant:</strong><br>💭 <strong>Thought:</strong> I need to recall any memory associated with the context &#x27;my name is peter&#x27;.<br>⚙️ <strong>Action:</strong> recall<br><ul style='margin-left: 1.5em; margin-top: 0.3em'><li><strong>Stimuli:</strong> [<code style='padding:2px 4px; border-radius:4px; background:none; color:inherit'>my name is peter</code>]</li></ul></div><div style='background:#f8f9fa; color:#111; border:1px solid #ccc; border-radius:10px; padding:10px; margin:10px 0;'><strong>User:</strong><br><div style='margin-top:5px;'><strong>Tool:</strong><br>Recalled: <br>\t<br>        &lt;memory id=&quot;c2885003&quot;&gt;<br>            &lt;stimuli&gt;my name is henrik&lt;/stimuli&gt;<br>            &lt;content&gt;Henrik is the name associated with this context.&lt;/content&gt;<br>        &lt;/memory&gt;</div></div><div style='background:#e0f7fa; color:#111; border:1px solid #ccc; border-radius:10px; padding:10px; margin:10px 0;'><strong>Assistant:</strong><br>💭 <strong>Thought:</strong> There is no existing memory related to the context &#x27;my name is peter&#x27;. I should inform the user that no related knowledge is found.<br><div style='margin-top:5px;'><strong>Response:</strong>: I don&#x27;t have any memory related to the context &#x27;my name is Peter&#x27;. Would you like me to store this information?</div></div><div style='background:#f8f9fa; color:#111; border:1px solid #ccc; border-radius:10px; padding:10px; margin:10px 0;'><strong>User:</strong><br><div style='margin-top:5px;'> &lt;new_knowledge&gt;my name is peter&lt;/new_knowledge&gt;&lt;knowledge&gt;I have recalled this related knowledge from my memory: I don&#x27;t have any memory related to the context &#x27;my name is Peter&#x27;. Would you like me to store this information?&lt;/knowledge&gt;</div></div><div style='background:#e0f7fa; color:#111; border:1px solid #ccc; border-radius:10px; padding:10px; margin:10px 0;'><strong>Assistant:</strong><br>💭 <strong>Thought:</strong> The user is indicating new knowledge that their name is Peter. I should add this to memory.<br>⚙️ <strong>Action:</strong> add<br><ul style='margin-left: 1.5em; margin-top: 0.3em'><li><strong>Stimuli:</strong> [<code style='padding:2px 4px; border-radius:4px; background:none; color:inherit'>my name is peter</code>]</li><li><strong>Content:</strong> Peter is the name associated with this context.</li></ul></div><div style='background:#f8f9fa; color:#111; border:1px solid #ccc; border-radius:10px; padding:10px; margin:10px 0;'><strong>User:</strong><br><div style='margin-top:5px;'><strong>Tool:</strong><br>Added:<br>\t<br>        &lt;memory id=&quot;58ce1981&quot;&gt;<br>            &lt;stimuli&gt;my name is peter&lt;/stimuli&gt;<br>            &lt;content&gt;Peter is the name associated with this context.&lt;/content&gt;<br>        &lt;/memory&gt;</div></div><div style='background:#e0f7fa; color:#111; border:1px solid #ccc; border-radius:10px; padding:10px; margin:10px 0;'><strong>Assistant:</strong><br>💭 <strong>Thought:</strong> The information has been successfully added to memory. I can now confirm this to the user.<br><div style='margin-top:5px;'><strong>Response:</strong>: I have successfully stored the information that your name is Peter in my memory.</div></div><div style='background:#f8f9fa; color:#111; border:1px solid #ccc; border-radius:10px; padding:10px; margin:10px 0;'><strong>User:</strong><br><div style='margin-top:5px;'>&lt;question&gt;what is my name?&lt;/question&gt;</div></div><div style='background:#e0f7fa; color:#111; border:1px solid #ccc; border-radius:10px; padding:10px; margin:10px 0;'><strong>Assistant:</strong><br>💭 <strong>Thought:</strong> I need to recall the user&#x27;s name from memory, considering both &#x27;Henrik&#x27; and &#x27;Peter&#x27; as possibilities.<br>⚙️ <strong>Action:</strong> recall<br><ul style='margin-left: 1.5em; margin-top: 0.3em'><li><strong>Stimuli:</strong> [<code style='padding:2px 4px; border-radius:4px; background:none; color:inherit'>my name is henrik</code>, <code style='padding:2px 4px; border-radius:4px; background:none; color:inherit'>my name is peter</code>]</li></ul></div><div style='background:#f8f9fa; color:#111; border:1px solid #ccc; border-radius:10px; padding:10px; margin:10px 0;'><strong>User:</strong><br><div style='margin-top:5px;'><strong>Tool:</strong><br>Recalled: <br>\t<br>        &lt;memory id=&quot;c2885003&quot;&gt;<br>            &lt;stimuli&gt;my name is henrik&lt;/stimuli&gt;<br>            &lt;content&gt;Henrik is the name associated with this context.&lt;/content&gt;<br>        &lt;/memory&gt;<br>        <br>        &lt;memory id=&quot;58ce1981&quot;&gt;<br>            &lt;stimuli&gt;my name is peter&lt;/stimuli&gt;<br>            &lt;content&gt;Peter is the name associated with this context.&lt;/content&gt;<br>        &lt;/memory&gt;</div></div><div style='background:#e0f7fa; color:#111; border:1px solid #ccc; border-radius:10px; padding:10px; margin:10px 0;'><strong>Assistant:</strong><br>💭 <strong>Thought:</strong> I have two names associated with the user: Henrik and Peter. I should ask for clarification.<br><div style='margin-top:5px;'><strong>Response:</strong>: I have two names associated with you: Henrik and Peter. Could you please confirm which one is correct?</div></div></div>"
      ],
      "text/plain": [
       "<IPython.core.display.HTML object>"
      ]
     },
     "execution_count": 3,
     "metadata": {},
     "output_type": "execute_result"
    }
   ],
   "source": [
    "a.learn(\"my name is henrik\")\n",
    "a.ask(\"what is my name\")\n",
    "a.learn(\"my name is peter\")\n",
    "a.ask(\"what is my name?\")\n",
    "a.render_chat_html()"
   ]
  },
  {
   "cell_type": "code",
   "execution_count": 6,
   "metadata": {},
   "outputs": [
    {
     "data": {
      "text/html": [
       "<div style='margin-top:5px;'><strong>Tool: recall</strong><br><pre style='background:#2d2d2d; color:#e0e0e0; padding:8px; border-radius:6px; overflow:auto; font-family:monospace; font-size:0.9em'><code style='background:none; color:inherit'>&lt;tool response name=recall&gt;Recalled: \n",
       "\t\n",
       "        &lt;memory id=&quot;6a74eb79&quot;&gt;\n",
       "            &lt;stimuli&gt;Peter&lt;/stimuli&gt;\n",
       "            &lt;content&gt;Peter&#x27;s name is Peter.&lt;/content&gt;\n",
       "        &lt;/memory&gt;\n",
       "        \n",
       "        &lt;memory id=&quot;680121a4&quot;&gt;\n",
       "            &lt;stimuli&gt;Henrik&lt;/stimuli&gt;\n",
       "            &lt;content&gt;Henrik&#x27;s name is Henrik.&lt;/content&gt;\n",
       "        &lt;/memory&gt;\n",
       "        &lt;/tool response&gt;</code></pre></div>"
      ],
      "text/plain": [
       "<IPython.core.display.HTML object>"
      ]
     },
     "execution_count": 6,
     "metadata": {},
     "output_type": "execute_result"
    }
   ],
   "source": [
    "import html\n",
    "\n",
    "m = a.chat.messages[-2]\n",
    "parsed = json.dumps(m)\n",
    "parsed = json.loads(parsed)[\"content\"]['text']\n",
    "parsed = json.loads(parsed)\n",
    "\n",
    "inner_parts = []\n",
    "if \"tool_response\" in parsed:\n",
    "    text = parsed[\"tool_response\"].strip()\n",
    "    tool_id = str(parsed['tool_call_id']).strip()\n",
    "    tool_call_note = f\" <span style='color:#666; font-size:0.85em;'>(Tool Call ID: <code>{tool_id}</code>)</span>\"\n",
    "    tool_name = str(parsed['tool_name']).strip()\n",
    "\n",
    "    if text:\n",
    "        if text.strip().startswith(\"<\"):\n",
    "            if True:\n",
    "                formatted_text = f\"<pre style='background:#2d2d2d; color:#e0e0e0; padding:8px; border-radius:6px; overflow:auto; font-family:monospace; font-size:0.9em'><code style='background:none; color:inherit'>{html.escape(text)}</code></pre>\"\n",
    "            else:\n",
    "                formatted_text = f\"<pre style='background:#f8f8f8; padding:8px; border-radius:6px; overflow:auto; font-family:monospace; font-size:0.9em'><code style='background:none; color:inherit'>{html.escape(text)}</code></pre>\"\n",
    "        else:\n",
    "            formatted_text = html.escape(text).replace(\"\\n\", \"<br>\")\n",
    "        inner_parts.append(f\"<div style='margin-top:5px;'><strong>Tool: {tool_name}</strong><br>{formatted_text}</div>\")\n",
    "\n",
    "from IPython.display import HTML\n",
    "HTML(\"\\n\".join(inner_parts))"
   ]
  },
  {
   "cell_type": "code",
   "execution_count": 4,
   "metadata": {},
   "outputs": [
    {
     "name": "stdout",
     "output_type": "stream",
     "text": [
      "<goal>\n",
      "    You are an agent that controls a dynamic, long-term memory. \n",
      "    You can autonomously build and utilize a knowledge base to assist with .\n",
      "</goal>\n",
      "<output>\n",
      "    Use a <thought/> to make your reasoning steps explicit.\n",
      "    You can either give a <response/> to the user or leave it empty, and perform <actions/> to use tools.\n",
      "    <actions/> will automaitcally return the tool responses.\n",
      "</output>\n"
     ]
    }
   ],
   "source": [
    "print(a.system_prompt)"
   ]
  },
  {
   "cell_type": "markdown",
   "metadata": {},
   "source": [
    "# Test tools, memory"
   ]
  },
  {
   "cell_type": "code",
   "execution_count": 31,
   "metadata": {},
   "outputs": [],
   "source": [
    "a = Agent()\n"
   ]
  },
  {
   "cell_type": "code",
   "execution_count": 9,
   "metadata": {},
   "outputs": [],
   "source": [
    "path = \"output/st\"\n",
    "r = RaspaAgent(path, version=\"v2.xml\")"
   ]
  },
  {
   "cell_type": "code",
   "execution_count": 12,
   "metadata": {},
   "outputs": [
    {
     "data": {
      "text/plain": [
       "'<tool response name=molecule loader>\\n            Successfully generated the molecule input files (and force field files) for: \\n            <file name=Methane.def></file>\\n            </tool response>'"
      ]
     },
     "execution_count": 12,
     "metadata": {},
     "output_type": "execute_result"
    }
   ],
   "source": [
    "r.tools['trappe'].run([\"Methane\"])"
   ]
  },
  {
   "cell_type": "code",
   "execution_count": 3,
   "metadata": {},
   "outputs": [
    {
     "data": {
      "text/html": [
       "<div style='font-family:Arial, sans-serif; line-height:1.6;'><div style='background:#f8f9fa; color:#111; border:1px solid #ccc; border-radius:10px; padding:10px; margin:10px 0;'><strong>User:</strong><br><div style='margin-top:5px;'>My name is Henrik and my father is called Stefan</div></div><div style='background:#e0f7fa; color:#111; border:1px solid #ccc; border-radius:10px; padding:10px; margin:10px 0;'><strong>Assistant:</strong><br>💭 <strong>Thought:</strong> Henrik has provided information about his name and his father&#x27;s name. This could be useful for personalization or future interactions.<br>⚙️ <strong>Action:</strong> add<br><ul style='margin-left: 1.5em; margin-top: 0.3em'><li><strong>Stimuli:</strong> [<code style='padding:2px 4px; border-radius:4px; background:none; color:inherit'>Henrik</code>, <code style='padding:2px 4px; border-radius:4px; background:none; color:inherit'>Stefan</code>, <code style='padding:2px 4px; border-radius:4px; background:none; color:inherit'>Henrik&#x27;s father</code>]</li><li><strong>Content:</strong> Henrik&#x27;s father is called Stefan.</li></ul></div><div style='background:#f8f9fa; color:#111; border:1px solid #ccc; border-radius:10px; padding:10px; margin:10px 0;'><strong>User:</strong><br><div style='margin-top:5px;'><strong>Response:</strong><br><pre style='background:#f8f8f8; padding:8px; border-radius:6px; overflow:auto; font-family:monospace; font-size:0.9em'><code style='background:none; color:inherit'>&lt;tool response name=add&gt;Added:\n",
       "\t\n",
       "        &lt;memory id=&quot;246bede3&quot;&gt;\n",
       "            &lt;stimuli&gt;Stefan, Henrik, Henrik&#x27;s father&lt;/stimuli&gt;\n",
       "            &lt;content&gt;Henrik&#x27;s father is called Stefan.&lt;/content&gt;\n",
       "        &lt;/memory&gt;\n",
       "        \n",
       "&lt;/tool response&gt;</code></pre></div></div><div style='background:#e0f7fa; color:#111; border:1px solid #ccc; border-radius:10px; padding:10px; margin:10px 0;'><strong>Assistant:</strong><br>💭 <strong>Thought:</strong> The information about Henrik and his father Stefan has been successfully added to memory. This can be used for future reference or personalization.</div></div>"
      ],
      "text/plain": [
       "<IPython.core.display.HTML object>"
      ]
     },
     "execution_count": 3,
     "metadata": {},
     "output_type": "execute_result"
    }
   ],
   "source": [
    "r.run(\"My name is Henrik and my father is called Stefan\")\n",
    "r.render_chat_html()"
   ]
  },
  {
   "cell_type": "code",
   "execution_count": 4,
   "metadata": {},
   "outputs": [
    {
     "data": {
      "text/html": [
       "<div style='font-family:Arial, sans-serif; line-height:1.6;'><div style='background:#f8f9fa; color:#111; border:1px solid #ccc; border-radius:10px; padding:10px; margin:10px 0;'><strong>User:</strong><br><div style='margin-top:5px;'>My name is Henrik and my father is called Stefan</div></div><div style='background:#e0f7fa; color:#111; border:1px solid #ccc; border-radius:10px; padding:10px; margin:10px 0;'><strong>Assistant:</strong><br>💭 <strong>Thought:</strong> Henrik has shared personal information about his name and his father&#x27;s name. This could be useful for personalization in future interactions.<br>⚙️ <strong>Action:</strong> add<br><ul style='margin-left: 1.5em; margin-top: 0.3em'><li><strong>Stimuli:</strong> [<code style='padding:2px 4px; border-radius:4px; background:none; color:inherit'>Henrik</code>, <code style='padding:2px 4px; border-radius:4px; background:none; color:inherit'>Stefan</code>]</li><li><strong>Content:</strong> Henrik&#x27;s father is called Stefan.</li></ul></div><div style='background:#f8f9fa; color:#111; border:1px solid #ccc; border-radius:10px; padding:10px; margin:10px 0;'><strong>User:</strong><br><div style='margin-top:5px;'><strong>Response:</strong><br><pre style='background:#f8f8f8; padding:8px; border-radius:6px; overflow:auto; font-family:monospace; font-size:0.9em'><code style='background:none; color:inherit'>&lt;tool response name=add&gt;Added:\n",
       "\t\n",
       "        &lt;memory id=&quot;166cf4f4&quot;&gt;\n",
       "            &lt;stimuli&gt;Stefan, Henrik&lt;/stimuli&gt;\n",
       "            &lt;content&gt;Henrik&#x27;s father is called Stefan.&lt;/content&gt;\n",
       "        &lt;/memory&gt;\n",
       "        \n",
       "&lt;/tool response&gt;</code></pre></div></div><div style='background:#e0f7fa; color:#111; border:1px solid #ccc; border-radius:10px; padding:10px; margin:10px 0;'><strong>Assistant:</strong><br>💭 <strong>Thought:</strong> The information about Henrik and his father Stefan has been successfully added to memory. This can be used for future reference or personalization.<br><div style='margin-top:5px;'><strong>Response:</strong>: Thank you for sharing, Henrik. If there&#x27;s anything else you&#x27;d like to discuss or ask, feel free to let me know!</div></div></div>"
      ],
      "text/plain": [
       "<IPython.core.display.HTML object>"
      ]
     },
     "execution_count": 4,
     "metadata": {},
     "output_type": "execute_result"
    }
   ],
   "source": [
    "r.reset_chat()\n",
    "r.run(\"My name is Henrik and my father is called Stefan\")\n",
    "r.render_chat_html()"
   ]
  },
  {
   "cell_type": "code",
   "execution_count": null,
   "metadata": {},
   "outputs": [],
   "source": []
  },
  {
   "cell_type": "markdown",
   "metadata": {},
   "source": [
    "## Finished tests"
   ]
  },
  {
   "cell_type": "code",
   "execution_count": null,
   "metadata": {},
   "outputs": [],
   "source": [
    "#r.run(\"which files can you see in the current directory? Try to access the propane related file\")\n",
    "#r.render_chat_html()"
   ]
  },
  {
   "cell_type": "code",
   "execution_count": 8,
   "metadata": {},
   "outputs": [
    {
     "data": {
      "text/html": [
       "<div style='font-family:Arial, sans-serif; line-height:1.6;'><div style='background:#f8f9fa; color:#111; border:1px solid #ccc; border-radius:10px; padding:10px; margin:10px 0;'><strong>User:</strong><br><div style='margin-top:5px;'>My name is Henrik and my father is called Stefan</div></div><div style='background:#e0f7fa; color:#111; border:1px solid #ccc; border-radius:10px; padding:10px; margin:10px 0;'><strong>Assistant:</strong><br>💭 <strong>Thought:</strong> I have learned that the user&#x27;s name is Henrik and his father&#x27;s name is Stefan. This information might be useful for future interactions.<br>⚙️ <strong>Action:</strong> add<br><ul style='margin-left: 1.5em; margin-top: 0.3em'><li><strong>Stimuli:</strong> [<code style='padding:2px 4px; border-radius:4px; background:none; color:inherit'>Henrik</code>, <code style='padding:2px 4px; border-radius:4px; background:none; color:inherit'>father</code>, <code style='padding:2px 4px; border-radius:4px; background:none; color:inherit'>Stefan</code>]</li><li><strong>Content:</strong> Henrik&#x27;s father&#x27;s name is Stefan.</li></ul></div><div style='background:#f8f9fa; color:#111; border:1px solid #ccc; border-radius:10px; padding:10px; margin:10px 0;'><strong>User:</strong><br><div style='margin-top:5px;'><strong>Response:</strong><br><pre style='background:#f8f8f8; padding:8px; border-radius:6px; overflow:auto; font-family:monospace; font-size:0.9em'><code style='background:none; color:inherit'>&lt;tool response name=add&gt;Added:\n",
       "\t\n",
       "        &lt;memory id=&quot;1ad95882&quot;&gt;\n",
       "            &lt;stimuli&gt;Henrik, father, Stefan&lt;/stimuli&gt;\n",
       "            &lt;content&gt;Henrik&#x27;s father&#x27;s name is Stefan.&lt;/content&gt;\n",
       "        &lt;/memory&gt;\n",
       "        \n",
       "&lt;/tool response&gt;</code></pre></div></div><div style='background:#e0f7fa; color:#111; border:1px solid #ccc; border-radius:10px; padding:10px; margin:10px 0;'><strong>Assistant:</strong><br>💭 <strong>Thought:</strong> The information about Henrik and his father Stefan has been successfully added to memory. This might help in personalizing future interactions.<br><div style='margin-top:5px;'><strong>Response:</strong>: Got it, Henrik! If there&#x27;s anything else you&#x27;d like to share or ask, feel free to let me know.</div></div><div style='background:#f8f9fa; color:#111; border:1px solid #ccc; border-radius:10px; padding:10px; margin:10px 0;'><strong>User:</strong><br><div style='margin-top:5px;'>write a file containing a short list of random words</div></div><div style='background:#e0f7fa; color:#111; border:1px solid #ccc; border-radius:10px; padding:10px; margin:10px 0;'><strong>Assistant:</strong><br>💭 <strong>Thought:</strong> I need to generate a short list of random words and write them to a file.<br>⚙️ <strong>Action:</strong> write<br><ul style='margin-left: 1.5em; margin-top: 0.3em'><li><strong>File content:</strong> apple\n",
       "banana\n",
       "carrot\n",
       "dog\n",
       "elephant</li><li><strong>File name:</strong> random_words.txt</li></ul></div><div style='background:#f8f9fa; color:#111; border:1px solid #ccc; border-radius:10px; padding:10px; margin:10px 0;'><strong>User:</strong><br><div style='margin-top:5px;'><strong>Response:</strong><br><pre style='background:#f8f8f8; padding:8px; border-radius:6px; overflow:auto; font-family:monospace; font-size:0.9em'><code style='background:none; color:inherit'>&lt;tool response name=write_file&gt;&lt;file name=random_words.txt&gt;&lt;/file&gt;&lt;/tool response&gt;</code></pre></div></div><div style='background:#e0f7fa; color:#111; border:1px solid #ccc; border-radius:10px; padding:10px; margin:10px 0;'><strong>Assistant:</strong><br>💭 <strong>Thought:</strong> The file &#x27;random_words.txt&#x27; containing a short list of random words has been successfully created.<br><div style='margin-top:5px;'><strong>Response:</strong>: I have created a file named `random_words.txt` containing a short list of random words.</div></div></div>"
      ],
      "text/plain": [
       "<IPython.core.display.HTML object>"
      ]
     },
     "execution_count": 8,
     "metadata": {},
     "output_type": "execute_result"
    }
   ],
   "source": [
    "a='''Test read/write: works as expected!'''\n",
    "r.run(\"write a file containing a short list of random words\")\n",
    "#r.run(\"what is contained in the file random_words.txt?\")\n",
    "r.render_chat_html()"
   ]
  },
  {
   "cell_type": "code",
   "execution_count": null,
   "metadata": {},
   "outputs": [],
   "source": [
    "a='''Be careful with old memory implementation:\n",
    "for i in r.tools['trappe'].memory.search(['nonsense']):\n",
    "    print(i.content)\n",
    "'''"
   ]
  },
  {
   "cell_type": "code",
   "execution_count": null,
   "metadata": {},
   "outputs": [],
   "source": [
    "a='''\n",
    "r = RaspaAgent(path)\n",
    "r.run(\"generate the file for ABAVIJ_clean\")\n",
    "r.run(\"It is the name of a MOF\")\n",
    "r.render_chat_html()\n",
    "'''\n",
    "\n",
    "a='''File generation works!\n",
    "r.run(\"Generate the molecule input files for carbon dioxide and propane\")\n",
    "r.render_chat_html()\n",
    "'''"
   ]
  },
  {
   "cell_type": "code",
   "execution_count": 10,
   "metadata": {},
   "outputs": [
    {
     "data": {
      "text/plain": [
       "'The molecule file for propane has already been created.'"
      ]
     },
     "execution_count": 10,
     "metadata": {},
     "output_type": "execute_result"
    }
   ],
   "source": [
    "r.reset(path=\"output/raspa_test\")\n",
    "r.run(\"create a molecule file for propane\")"
   ]
  },
  {
   "cell_type": "code",
   "execution_count": null,
   "metadata": {},
   "outputs": [],
   "source": [
    "r.run(\"create a framework file for ABAVIJ\")"
   ]
  },
  {
   "cell_type": "markdown",
   "metadata": {},
   "source": [
    "# Test the tools"
   ]
  },
  {
   "cell_type": "code",
   "execution_count": 2,
   "metadata": {},
   "outputs": [],
   "source": [
    "agent = StudentAgent()\n",
    "tools = agent.tools\n",
    "add = tools['add'].run\n",
    "recall = tools['recall'].run\n",
    "modify = tools['modify'].run\n",
    "memory = agent.memory"
   ]
  },
  {
   "cell_type": "code",
   "execution_count": 3,
   "metadata": {},
   "outputs": [
    {
     "data": {
      "text/html": [
       "    <style>\n",
       "    /* Flex container to place nodes side-by-side and wrap nicely. */\n",
       "    .memory-container {\n",
       "        display: flex;\n",
       "        flex-wrap: wrap;\n",
       "        gap: 1rem;\n",
       "    }\n",
       "    </style>\n",
       "    <div class=\"memory-container\">\n",
       "            <style>\n",
       "    .memory-node {\n",
       "        font-family: system-ui, sans-serif;\n",
       "        border: 1px solid #ccc;\n",
       "        border-radius: 8px;\n",
       "        padding: 1rem;\n",
       "        margin: .5rem 0;\n",
       "        max-width: 200px;\n",
       "    }\n",
       "    .memory-node h3 { margin: 0 0 .5rem 0; font-size: 1.25rem; }\n",
       "    .memory-node ul { margin: .25rem 0 .75rem 1rem; }\n",
       "    .memory-node p { margin: 0; white-space: pre-wrap; }\n",
       "    </style>\n",
       "\n",
       "    <div class=\"memory-node\">\n",
       "    <strong>Keys</strong>\n",
       "    <ul><li>chemistry</li></ul>\n",
       "\n",
       "    <strong>Content</strong>\n",
       "    <p>Chemistry is a discipline that is linked to &lt;molecules/&gt; and &lt;chemical bonds/&gt;</p>\n",
       "    </div>\n",
       "        <style>\n",
       "    .memory-node {\n",
       "        font-family: system-ui, sans-serif;\n",
       "        border: 1px solid #ccc;\n",
       "        border-radius: 8px;\n",
       "        padding: 1rem;\n",
       "        margin: .5rem 0;\n",
       "        max-width: 200px;\n",
       "    }\n",
       "    .memory-node h3 { margin: 0 0 .5rem 0; font-size: 1.25rem; }\n",
       "    .memory-node ul { margin: .25rem 0 .75rem 1rem; }\n",
       "    .memory-node p { margin: 0; white-space: pre-wrap; }\n",
       "    </style>\n",
       "\n",
       "    <div class=\"memory-node\">\n",
       "    <strong>Keys</strong>\n",
       "    <ul><li>chemistry</li><li>molecules</li></ul>\n",
       "\n",
       "    <strong>Content</strong>\n",
       "    <p>Molecules are &lt;atoms/&gt; connected by &lt;chemical bonds/&gt;</p>\n",
       "    </div>\n",
       "        <style>\n",
       "    .memory-node {\n",
       "        font-family: system-ui, sans-serif;\n",
       "        border: 1px solid #ccc;\n",
       "        border-radius: 8px;\n",
       "        padding: 1rem;\n",
       "        margin: .5rem 0;\n",
       "        max-width: 200px;\n",
       "    }\n",
       "    .memory-node h3 { margin: 0 0 .5rem 0; font-size: 1.25rem; }\n",
       "    .memory-node ul { margin: .25rem 0 .75rem 1rem; }\n",
       "    .memory-node p { margin: 0; white-space: pre-wrap; }\n",
       "    </style>\n",
       "\n",
       "    <div class=\"memory-node\">\n",
       "    <strong>Keys</strong>\n",
       "    <ul><li>atoms</li><li>chemistry</li></ul>\n",
       "\n",
       "    <strong>Content</strong>\n",
       "    <p>Each atom has one fixed type which can be any from the &lt;periodic table/&gt;</p>\n",
       "    </div>\n",
       "        <style>\n",
       "    .memory-node {\n",
       "        font-family: system-ui, sans-serif;\n",
       "        border: 1px solid #ccc;\n",
       "        border-radius: 8px;\n",
       "        padding: 1rem;\n",
       "        margin: .5rem 0;\n",
       "        max-width: 200px;\n",
       "    }\n",
       "    .memory-node h3 { margin: 0 0 .5rem 0; font-size: 1.25rem; }\n",
       "    .memory-node ul { margin: .25rem 0 .75rem 1rem; }\n",
       "    .memory-node p { margin: 0; white-space: pre-wrap; }\n",
       "    </style>\n",
       "\n",
       "    <div class=\"memory-node\">\n",
       "    <strong>Keys</strong>\n",
       "    <ul><li>chemical bonds</li><li>chemistry</li></ul>\n",
       "\n",
       "    <strong>Content</strong>\n",
       "    <p>A chemical bond is really complicated and not really understood yet. There are many different models, from &lt;quantum mechanics/&gt; to more &lt;classical bonding models/&gt; that provide a rich theory for predicting chemical reactions.</p>\n",
       "    </div>\n",
       "        <style>\n",
       "    .memory-node {\n",
       "        font-family: system-ui, sans-serif;\n",
       "        border: 1px solid #ccc;\n",
       "        border-radius: 8px;\n",
       "        padding: 1rem;\n",
       "        margin: .5rem 0;\n",
       "        max-width: 200px;\n",
       "    }\n",
       "    .memory-node h3 { margin: 0 0 .5rem 0; font-size: 1.25rem; }\n",
       "    .memory-node ul { margin: .25rem 0 .75rem 1rem; }\n",
       "    .memory-node p { margin: 0; white-space: pre-wrap; }\n",
       "    </style>\n",
       "\n",
       "    <div class=\"memory-node\">\n",
       "    <strong>Keys</strong>\n",
       "    <ul><li>chemical bonds</li><li>chemistry</li><li>quantum mechanics</li></ul>\n",
       "\n",
       "    <strong>Content</strong>\n",
       "    <p>This is really wild &lt;physics/&gt; stuff.</p>\n",
       "    </div>\n",
       "        <style>\n",
       "    .memory-node {\n",
       "        font-family: system-ui, sans-serif;\n",
       "        border: 1px solid #ccc;\n",
       "        border-radius: 8px;\n",
       "        padding: 1rem;\n",
       "        margin: .5rem 0;\n",
       "        max-width: 200px;\n",
       "    }\n",
       "    .memory-node h3 { margin: 0 0 .5rem 0; font-size: 1.25rem; }\n",
       "    .memory-node ul { margin: .25rem 0 .75rem 1rem; }\n",
       "    .memory-node p { margin: 0; white-space: pre-wrap; }\n",
       "    </style>\n",
       "\n",
       "    <div class=\"memory-node\">\n",
       "    <strong>Keys</strong>\n",
       "    <ul><li>chemistry</li><li>periodic table</li></ul>\n",
       "\n",
       "    <strong>Content</strong>\n",
       "    <p>The table summarizes all types an &lt;atom/&gt; can have.</p>\n",
       "    </div>\n",
       "        <style>\n",
       "    .memory-node {\n",
       "        font-family: system-ui, sans-serif;\n",
       "        border: 1px solid #ccc;\n",
       "        border-radius: 8px;\n",
       "        padding: 1rem;\n",
       "        margin: .5rem 0;\n",
       "        max-width: 200px;\n",
       "    }\n",
       "    .memory-node h3 { margin: 0 0 .5rem 0; font-size: 1.25rem; }\n",
       "    .memory-node ul { margin: .25rem 0 .75rem 1rem; }\n",
       "    .memory-node p { margin: 0; white-space: pre-wrap; }\n",
       "    </style>\n",
       "\n",
       "    <div class=\"memory-node\">\n",
       "    <strong>Keys</strong>\n",
       "    <ul><li>physics</li></ul>\n",
       "\n",
       "    <strong>Content</strong>\n",
       "    <p>Physics is just applied math.</p>\n",
       "    </div>\n",
       "    \n",
       "    </div>\n",
       "    "
      ],
      "text/plain": [
       "<IPython.core.display.HTML object>"
      ]
     },
     "execution_count": 3,
     "metadata": {},
     "output_type": "execute_result"
    }
   ],
   "source": [
    "add([\"chemistry\"], \"Chemistry is a discipline that is linked to <molecules/> and <chemical bonds/>\")\n",
    "add([\"chemistry\", \"molecules\"], \"Molecules are <atoms/> connected by <chemical bonds/>\")\n",
    "add([\"chemistry\", \"atoms\"], \"Each atom has one fixed type which can be any from the <periodic table/>\")\n",
    "add([\"chemistry\", \"chemical bonds\"], \"A chemical bond is really complicated and not really understood yet. There are many different models, from <quantum mechanics/> to more <classical bonding models/> that provide a rich theory for predicting chemical reactions.\")\n",
    "add([\"chemistry\", \"chemical bonds\", \"quantum mechanics\"], \"This is really wild <physics/> stuff.\")\n",
    "add([\"chemistry\", \"periodic table\"], \"The table summarizes all types an <atom/> can have.\")\n",
    "add([\"physics\"], \"Physics is just applied math.\")\n",
    "memory.render_html()"
   ]
  },
  {
   "cell_type": "code",
   "execution_count": 4,
   "metadata": {},
   "outputs": [
    {
     "name": "stdout",
     "output_type": "stream",
     "text": [
      "<tool response name=recall>Recalled: \n",
      "\t\n",
      "        <memory id=\"f616ddb7\">\n",
      "            <stimuli>chemistry</stimuli>\n",
      "            <content>Chemistry is a discipline that is linked to <molecules/> and <chemical bonds/></content>\n",
      "        </memory>\n",
      "        \n",
      "        <memory id=\"bf757d23\">\n",
      "            <stimuli>molecules, chemistry</stimuli>\n",
      "            <content>Molecules are <atoms/> connected by <chemical bonds/></content>\n",
      "        </memory>\n",
      "        \n",
      "        <memory id=\"7d855cdf\">\n",
      "            <stimuli>chemical bonds, chemistry</stim</tool response>\n"
     ]
    }
   ],
   "source": [
    "print(recall([\"chemistry\"], sensitivity=0)) # not good!"
   ]
  },
  {
   "cell_type": "code",
   "execution_count": 5,
   "metadata": {},
   "outputs": [
    {
     "data": {
      "text/plain": [
       "{'f616ddb7': (1.0000001, {'chemistry'}),\n",
       " 'bf757d23': (0.732136, {'chemistry', 'molecules'}),\n",
       " '7d855cdf': (0.7196873, {'chemical bonds', 'chemistry'}),\n",
       " '2357504c': (0.71602017, {'atoms', 'chemistry'}),\n",
       " '08fa7e25': (0.68705606, {'chemistry', 'periodic table'})}"
      ]
     },
     "execution_count": 5,
     "metadata": {},
     "output_type": "execute_result"
    }
   ],
   "source": [
    "import numpy as np\n",
    "sensitivity = 0.2\n",
    "max_recall = 5\n",
    "queries = [\"chemistry\"]\n",
    "\n",
    "self = memory\n",
    "scores = []\n",
    "nodes = self.get_nodes()\n",
    "\n",
    "for node in nodes:\n",
    "    node_scores = node.get_score(queries, sensitivity=sensitivity)\n",
    "    node_scores = np.array(node_scores)\n",
    "\n",
    "    scores.append(node_scores)\n",
    "\n",
    "scores = np.array(scores) # m\n",
    "#score_summation_for_src = np.sum(scores, axis=0)\n",
    "\n",
    "#score_norm_factor_for_src = score_summation_for_src + (score_summation_for_src == 0.0)\n",
    "#scores = scores / score_norm_factor_for_src\n",
    "#scores = np.sum(scores, axis=1)\n",
    "\n",
    "excited_nodes = {}\n",
    "\n",
    "top_k_indices = np.argsort(-scores)\n",
    "\n",
    "for i in range(min(max_recall, len(top_k_indices))):\n",
    "    s = scores[top_k_indices[i]]\n",
    "    if s <= sensitivity:\n",
    "        break\n",
    "    node : MemoryNode = nodes[top_k_indices[i]]\n",
    "    excited_nodes[node.id] = (s, node.keys)#node.__str__()\n",
    "excited_nodes\n"
   ]
  },
  {
   "cell_type": "markdown",
   "metadata": {},
   "source": [
    "# Test Memory agent: easy example"
   ]
  },
  {
   "cell_type": "code",
   "execution_count": null,
   "metadata": {},
   "outputs": [],
   "source": []
  },
  {
   "cell_type": "code",
   "execution_count": 31,
   "metadata": {},
   "outputs": [],
   "source": [
    "ag = StudentAgent(version=\"v2.xml\")"
   ]
  },
  {
   "cell_type": "code",
   "execution_count": 32,
   "metadata": {},
   "outputs": [
    {
     "data": {
      "text/html": [
       "<div style='font-family:Arial, sans-serif; line-height:1.6;'><div style='background:#f8f9fa; color:#111; border:1px solid #ccc; border-radius:10px; padding:10px; margin:10px 0;'><strong>User:</strong><br><div style='margin-top:5px;'>colour_function(x) is a function that maps an integer x to a color. x is the index of the color sequence of the random-bow. The index starts at 4 and all invalid values return the color gray.</div></div><div style='background:#e0f7fa; color:#111; border:1px solid #ccc; border-radius:10px; padding:10px; margin:10px 0;'><strong>Assistant:</strong><br>💭 <strong>Thought:</strong> The function colour_function(x) is defined to map an integer x to a color based on a specific sequence called the random-bow. The index starts at 4, and any invalid index returns gray. I need to understand what the random-bow sequence is to provide a meaningful response or memory update.<br>💭 <strong>Thought:</strong> I should check if I have any existing knowledge about the random-bow color sequence or similar mappings.<br>⚙️ <strong>Action:</strong> recall<br><ul style='margin-left: 1.5em; margin-top: 0.3em'><li><strong>Stimuli:</strong> [<code style='padding:2px 4px; border-radius:4px; background:none; color:inherit'>random-bow</code>, <code style='padding:2px 4px; border-radius:4px; background:none; color:inherit'>colour_function</code>, <code style='padding:2px 4px; border-radius:4px; background:none; color:inherit'>color sequence</code>]</li><li><strong>Sensitivity:</strong> 0.7</li></ul></div><div style='background:#f8f9fa; color:#111; border:1px solid #ccc; border-radius:10px; padding:10px; margin:10px 0;'><strong>User:</strong><br><div style='margin-top:5px;'><strong>Response:</strong><br><pre style='background:#f8f8f8; padding:8px; border-radius:6px; overflow:auto; font-family:monospace; font-size:0.9em'><code style='background:none; color:inherit'>&lt;tool response name=recall&gt;Recalled: \n",
       "\t&lt;no memory found/&gt;&lt;/tool response&gt;</code></pre></div></div><div style='background:#e0f7fa; color:#111; border:1px solid #ccc; border-radius:10px; padding:10px; margin:10px 0;'><strong>Assistant:</strong><br>💭 <strong>Thought:</strong> I don&#x27;t have any existing knowledge about the random-bow color sequence. I should add this information to my memory for future reference.<br>⚙️ <strong>Action:</strong> add<br><ul style='margin-left: 1.5em; margin-top: 0.3em'><li><strong>Stimuli:</strong> [<code style='padding:2px 4px; border-radius:4px; background:none; color:inherit'>random-bow</code>, <code style='padding:2px 4px; border-radius:4px; background:none; color:inherit'>colour_function</code>, <code style='padding:2px 4px; border-radius:4px; background:none; color:inherit'>color sequence</code>]</li><li><strong>Content:</strong> colour_function(x) maps an integer x to a color based on the random-bow sequence. The index starts at 4, and any invalid index returns gray.</li></ul></div><div style='background:#f8f9fa; color:#111; border:1px solid #ccc; border-radius:10px; padding:10px; margin:10px 0;'><strong>User:</strong><br><div style='margin-top:5px;'><strong>Response:</strong><br><pre style='background:#f8f8f8; padding:8px; border-radius:6px; overflow:auto; font-family:monospace; font-size:0.9em'><code style='background:none; color:inherit'>&lt;tool response name=add&gt;Added:\n",
       "\t\n",
       "        &lt;memory id=&quot;dc128cdc&quot;&gt;\n",
       "            &lt;stimuli&gt;colour_function, color sequence, random-bow&lt;/stimuli&gt;\n",
       "            &lt;content&gt;colour_function(x) maps an integer x to a color based on the random-bow sequence. The index starts at 4, and any invalid index returns gray.&lt;/content&gt;\n",
       "        &lt;/memory&gt;\n",
       "        \n",
       "&lt;/tool response&gt;</code></pre></div></div><div style='background:#e0f7fa; color:#111; border:1px solid #ccc; border-radius:10px; padding:10px; margin:10px 0;'><strong>Assistant:</strong><br>💭 <strong>Thought:</strong> I have successfully added the information about the colour_function and the random-bow sequence to my memory. Now, I can use this information in the future if needed.</div></div>"
      ],
      "text/plain": [
       "<IPython.core.display.HTML object>"
      ]
     },
     "execution_count": 32,
     "metadata": {},
     "output_type": "execute_result"
    }
   ],
   "source": [
    "ag.run(\"colour_function(x) is a function that maps an integer x to a color. x is the index of the color sequence of the random-bow. The index starts at 4 and all invalid values return the color gray.\")\n",
    "ag.render_chat_html()"
   ]
  },
  {
   "cell_type": "code",
   "execution_count": 26,
   "metadata": {},
   "outputs": [
    {
     "data": {
      "text/html": [
       "<div style='font-family:Arial, sans-serif; line-height:1.6;'><div style='background:#f8f9fa; color:#111; border:1px solid #ccc; border-radius:10px; padding:10px; margin:10px 0;'><strong>User:</strong><br><div style='margin-top:5px;'>The random-bow has 7 colors: red, blue, orange, green, violet, pink, green, yellow</div></div><div style='background:#e0f7fa; color:#111; border:1px solid #ccc; border-radius:10px; padding:10px; margin:10px 0;'><strong>Assistant:</strong><br>💭 <strong>Thought:</strong> The user mentioned a &#x27;random-bow&#x27; with a list of colors, including a duplicate &#x27;green&#x27;. This seems to be a playful take on a rainbow, which typically has 7 distinct colors.<br>💭 <strong>Thought:</strong> I should store this information as a unique concept or playful idea related to rainbows.<br>⚙️ <strong>Action:</strong> add<br><ul style='margin-left: 1.5em; margin-top: 0.3em'><li><strong>Stimuli:</strong> [<code style='padding:2px 4px; border-radius:4px; background:none; color:inherit'>random-bow</code>, <code style='padding:2px 4px; border-radius:4px; background:none; color:inherit'>colors</code>, <code style='padding:2px 4px; border-radius:4px; background:none; color:inherit'>rainbow</code>]</li><li><strong>Content:</strong> The &#x27;random-bow&#x27; is a playful concept similar to a rainbow, but it includes the colors: red, blue, orange, green, violet, pink, green, yellow, with &#x27;green&#x27; appearing twice.</li></ul></div><div style='background:#f8f9fa; color:#111; border:1px solid #ccc; border-radius:10px; padding:10px; margin:10px 0;'><strong>User:</strong><br><div style='margin-top:5px;'><strong>Response:</strong><br><pre style='background:#f8f8f8; padding:8px; border-radius:6px; overflow:auto; font-family:monospace; font-size:0.9em'><code style='background:none; color:inherit'>&lt;tool response name=add&gt;Added:\n",
       "\t\n",
       "        &lt;memory id=&quot;4f88e400&quot;&gt;\n",
       "            &lt;stimuli&gt;colors, rainbow, random-bow&lt;/stimuli&gt;\n",
       "            &lt;content&gt;The &#x27;random-bow&#x27; is a playful concept similar to a rainbow, but it includes the colors: red, blue, orange, green, violet, pink, green, yellow, with &#x27;green&#x27; appearing twice.&lt;/content&gt;\n",
       "        &lt;/memory&gt;\n",
       "        \n",
       "&lt;/tool response&gt;</code></pre></div></div><div style='background:#e0f7fa; color:#111; border:1px solid #ccc; border-radius:10px; padding:10px; margin:10px 0;'><strong>Assistant:</strong><br>💭 <strong>Thought:</strong> The information about the &#x27;random-bow&#x27; has been successfully added to memory. Now, I can use this concept in future interactions if needed.</div></div>"
      ],
      "text/plain": [
       "<IPython.core.display.HTML object>"
      ]
     },
     "execution_count": 26,
     "metadata": {},
     "output_type": "execute_result"
    }
   ],
   "source": [
    "ag.reset_chat()\n",
    "ag.run(\"The random-bow has 7 colors: red, blue, orange, green, violet, pink, green, yellow\")\n",
    "ag.render_chat_html()"
   ]
  },
  {
   "cell_type": "code",
   "execution_count": 27,
   "metadata": {},
   "outputs": [
    {
     "data": {
      "text/html": [
       "<div style='font-family:Arial, sans-serif; line-height:1.6;'><div style='background:#f8f9fa; color:#111; border:1px solid #ccc; border-radius:10px; padding:10px; margin:10px 0;'><strong>User:</strong><br><div style='margin-top:5px;'>What is the value of the mapping colour_function(1). Use a low sensitivity</div></div><div style='background:#e0f7fa; color:#111; border:1px solid #ccc; border-radius:10px; padding:10px; margin:10px 0;'><strong>Assistant:</strong><br>💭 <strong>Thought:</strong> The user is asking for the value of a function called colour_function with an input of 1. I need to check if I have any relevant information about this function in my memory.<br>⚙️ <strong>Action:</strong> recall<br><ul style='margin-left: 1.5em; margin-top: 0.3em'><li><strong>Stimuli:</strong> [<code style='padding:2px 4px; border-radius:4px; background:none; color:inherit'>colour_function</code>]</li><li><strong>Sensitivity:</strong> 0.1</li></ul></div><div style='background:#f8f9fa; color:#111; border:1px solid #ccc; border-radius:10px; padding:10px; margin:10px 0;'><strong>User:</strong><br><div style='margin-top:5px;'><strong>Response:</strong><br>only integer scalar arrays can be converted to a scalar index</div></div><div style='background:#e0f7fa; color:#111; border:1px solid #ccc; border-radius:10px; padding:10px; margin:10px 0;'><strong>Assistant:</strong><br>💭 <strong>Thought:</strong> The recall attempt resulted in an error, indicating that there might be an issue with how the stimuli was processed. I will try to recall again with a slightly adjusted approach.<br>⚙️ <strong>Action:</strong> recall<br><ul style='margin-left: 1.5em; margin-top: 0.3em'><li><strong>Stimuli:</strong> [<code style='padding:2px 4px; border-radius:4px; background:none; color:inherit'>colour_function(1)</code>]</li><li><strong>Sensitivity:</strong> 0.1</li></ul></div><div style='background:#f8f9fa; color:#111; border:1px solid #ccc; border-radius:10px; padding:10px; margin:10px 0;'><strong>User:</strong><br><div style='margin-top:5px;'><strong>Response:</strong><br>only integer scalar arrays can be converted to a scalar index</div></div><div style='background:#e0f7fa; color:#111; border:1px solid #ccc; border-radius:10px; padding:10px; margin:10px 0;'><strong>Assistant:</strong><br>💭 <strong>Thought:</strong> The recall attempt is still resulting in an error. It seems there might be a technical issue with how the recall function is processing the input. I will attempt a different approach by recalling with a broader context.<br>⚙️ <strong>Action:</strong> recall<br><ul style='margin-left: 1.5em; margin-top: 0.3em'><li><strong>Stimuli:</strong> [<code style='padding:2px 4px; border-radius:4px; background:none; color:inherit'>colour_function</code>]</li><li><strong>Sensitivity:</strong> 0.5</li></ul></div><div style='background:#f8f9fa; color:#111; border:1px solid #ccc; border-radius:10px; padding:10px; margin:10px 0;'><strong>User:</strong><br><div style='margin-top:5px;'><strong>Response:</strong><br><pre style='background:#f8f8f8; padding:8px; border-radius:6px; overflow:auto; font-family:monospace; font-size:0.9em'><code style='background:none; color:inherit'>&lt;tool response name=recall&gt;Recalled: \n",
       "\t&lt;no memory found/&gt;&lt;/tool response&gt;</code></pre></div></div><div style='background:#e0f7fa; color:#111; border:1px solid #ccc; border-radius:10px; padding:10px; margin:10px 0;'><strong>Assistant:</strong><br>💭 <strong>Thought:</strong> There is no existing memory related to the colour_function. This means I don&#x27;t have any predefined knowledge about this function. I should inform the user that I don&#x27;t have this information.<br><div style='margin-top:5px;'><strong>Response:</strong>: I currently don&#x27;t have any information about the function colour_function or its mapping for the input 1. If you have more context or details about this function, please provide them, and I might be able to assist further.</div></div></div>"
      ],
      "text/plain": [
       "<IPython.core.display.HTML object>"
      ]
     },
     "execution_count": 27,
     "metadata": {},
     "output_type": "execute_result"
    }
   ],
   "source": [
    "ag.reset_chat()\n",
    "ag.run(\"What is the value of the mapping colour_function(1). Use a low sensitivity\")\n",
    "ag.render_chat_html()"
   ]
  },
  {
   "cell_type": "code",
   "execution_count": 30,
   "metadata": {},
   "outputs": [
    {
     "data": {
      "text/plain": [
       "{'role': 'user',\n",
       " 'content': {'type': 'text',\n",
       "  'text': '{\"tool_call_id\": 3, \"tool_response\": \"only integer scalar arrays can be converted to a scalar index\"}'}}"
      ]
     },
     "execution_count": 30,
     "metadata": {},
     "output_type": "execute_result"
    }
   ],
   "source": [
    "ag.chat.messages[-6]"
   ]
  },
  {
   "cell_type": "code",
   "execution_count": 8,
   "metadata": {},
   "outputs": [
    {
     "data": {
      "text/html": [
       "<div style='font-family:Arial, sans-serif; line-height:1.6;'><div style='background:#f8f9fa; color:#111; border:1px solid #ccc; border-radius:10px; padding:10px; margin:10px 0;'><strong>User:</strong><br><div style='margin-top:5px;'>What is the value of the mapping colour_function(6). Use a low sensitivity</div></div><div style='background:#e0f7fa; color:#111; border:1px solid #ccc; border-radius:10px; padding:10px; margin:10px 0;'><strong>Assistant:</strong><br>💭 <strong>Thought:</strong> The user is asking for the value of a function called colour_function with an input of 6. I need to recall if I have any relevant information about this function in my memory.<br>⚙️ <strong>Action:</strong> recall<br><ul style='margin-left: 1.5em; margin-top: 0.3em'><li><strong>Stimuli:</strong> [<code style='padding:2px 4px; border-radius:4px; background:none; color:inherit'>colour_function</code>]</li><li><strong>Sensitivity:</strong> 0.1</li></ul></div><div style='background:#e0f7fa; color:#111; border:1px solid #ccc; border-radius:10px; padding:10px; margin:10px 0;'><strong>Assistant:</strong><br><div style='margin-top:5px;'><strong>Response:</strong><br><pre style='background:#f8f8f8; padding:8px; border-radius:6px; overflow:auto; font-family:monospace; font-size:0.9em'><code style='background:none; color:inherit'>&lt;tool&gt;Recalled from memory with the stimuli \n",
       "\t&lt;stimuli&gt;[&#x27;colour_function&#x27;]&lt;/stimuli&gt;: \n",
       "\t\n",
       "        &lt;memory id=&quot;f7b261cc&quot;&gt;\n",
       "            &lt;stimuli&gt;invalid values return gray, index starts at 4, integer x, colour_function(x), color mapping&lt;/stimuli&gt;\n",
       "            &lt;content&gt;colour_function(x) maps an integer x to a color based on the index of the color sequence of the random-bow. The index starts at 4, and any invalid values return the color gray.&lt;/content&gt;\n",
       "        &lt;/memory&gt;\n",
       "        \n",
       "&lt;/tool&gt;</code></pre></div></div><div style='background:#e0f7fa; color:#111; border:1px solid #ccc; border-radius:10px; padding:10px; margin:10px 0;'><strong>Assistant:</strong><br>💭 <strong>Thought:</strong> I have recalled that the colour_function maps an integer x to a color based on the index of the color sequence of the random-bow, starting at index 4. Invalid values return gray. I need to determine the color for the input 6.<br>💭 <strong>Thought:</strong> Since the index starts at 4, the input 6 corresponds to the third color in the sequence. I need to check if I have information about the color sequence of the random-bow.<br>⚙️ <strong>Action:</strong> recall<br><ul style='margin-left: 1.5em; margin-top: 0.3em'><li><strong>Stimuli:</strong> [<code style='padding:2px 4px; border-radius:4px; background:none; color:inherit'>random-bow</code>, <code style='padding:2px 4px; border-radius:4px; background:none; color:inherit'>color sequence</code>]</li><li><strong>Sensitivity:</strong> 0.1</li></ul></div><div style='background:#e0f7fa; color:#111; border:1px solid #ccc; border-radius:10px; padding:10px; margin:10px 0;'><strong>Assistant:</strong><br><div style='margin-top:5px;'><strong>Response:</strong><br><pre style='background:#f8f8f8; padding:8px; border-radius:6px; overflow:auto; font-family:monospace; font-size:0.9em'><code style='background:none; color:inherit'>&lt;tool&gt;Recalled from memory with the stimuli \n",
       "\t&lt;stimuli&gt;[&#x27;random-bow&#x27;, &#x27;color sequence&#x27;]&lt;/stimuli&gt;: \n",
       "\t\n",
       "        &lt;memory id=&quot;f7b261cc&quot;&gt;\n",
       "            &lt;stimuli&gt;invalid values return gray, index starts at 4, integer x, colour_function(x), color mapping&lt;/stimuli&gt;\n",
       "            &lt;content&gt;colour_function(x) maps an integer x to a color based on the index of the color sequence of the random-bow. The index starts at 4, and any invalid values return the color gray.&lt;/content&gt;\n",
       "        &lt;/memory&gt;\n",
       "        \n",
       "&lt;/tool&gt;</code></pre></div></div><div style='background:#e0f7fa; color:#111; border:1px solid #ccc; border-radius:10px; padding:10px; margin:10px 0;'><strong>Assistant:</strong><br>💭 <strong>Thought:</strong> I did not find specific information about the color sequence of the random-bow. Without this information, I cannot determine the exact color for the input 6. However, I know that it corresponds to the third color in the sequence.<br><div style='margin-top:5px;'><strong>Response:</strong>: The value of colour_function(6) corresponds to the third color in the random-bow sequence. Unfortunately, I don&#x27;t have the specific color sequence details to provide the exact color.</div></div></div>"
      ],
      "text/plain": [
       "<IPython.core.display.HTML object>"
      ]
     },
     "execution_count": 8,
     "metadata": {},
     "output_type": "execute_result"
    }
   ],
   "source": [
    "ag.reset_chat()\n",
    "ag.run(\"What is the value of the mapping colour_function(6). Use a low sensitivity\")\n",
    "ag.render_chat_html()"
   ]
  },
  {
   "cell_type": "markdown",
   "metadata": {},
   "source": [
    "## Math example"
   ]
  },
  {
   "cell_type": "code",
   "execution_count": null,
   "metadata": {},
   "outputs": [],
   "source": [
    "ag.run(\"What do you do with new knowledge?\")\n",
    "ag.render_chat_html()"
   ]
  },
  {
   "cell_type": "code",
   "execution_count": null,
   "metadata": {},
   "outputs": [
    {
     "data": {
      "text/plain": [
       "'\\nimport mllm\\nc = mllm.Chat(system_message=\"You are an intelligent agent that uses step by step reasoning to solve questions.\")\\nprompt=\\'\\'\\'\\nTo determine a extreme point(minimum,maximum,saddlepoint) of a mathematical function, you need to determine the derivative and set it equal to zero.\\nThe derivative of x^2 is 2x. The derivative of ln(x) is 1/x.\\nThe derivative of a product of functions f(x)*g(x) can be calculated with this formula: derivative[f(x)]*g(x) + f(x)*derivative[g(x)]\\nWhat is the minimum of (ln(x))^2?\\n\\'\\'\\'\\nc += prompt\\nres = c.complete()\\nprint(res)\\n#\"To find the minimum of the function \\\\( f(x) = (\\\\ln(x))^2 \\\\), we will follow these steps:\\n\\n1. **Find the derivative of the function**.\\n2. **Set the derivative equal to zero to find critical points**.\\n3. **Determine whether these critical points correspond to a minimum, maximum, or saddle point**.\\n\\n### Step 1: Find the derivative\\n\\nUsing the chain rule, the derivative of \\\\( f(x) = (\\\\ln(x))^2 \\\\) can be calculated as follows:\\n\\n\\\\[\\nf\\'(x) = 2 \\\\ln(x) \\\\cdot \\\\frac{d}{dx}(\\\\ln(x)) = 2 \\\\ln(x) \\\\cdot \\\\frac{1}{x} = \\\\frac{2 \\\\ln(x)}{x}\\n\\\\]\\n\\n### Step 2: Set the derivative equal to zero\\n\\nNow we set the derivative equal to zero to find the critical points:\\n\\n\\\\[\\n\\\\frac{2 \\\\ln(x)}{x} = 0\\n\\\\]\\n\\nThis equation is satisfied when \\\\( \\\\ln(x) = 0 \\\\). Solving for \\\\( x \\\\):\\n\\n\\\\[\\n\\\\ln(x) = 0 \\\\implies x = e^0 = 1\\n\\\\]\\n\\n### Step 3: Determine the nature of the critical point\\n\\nTo determine whether this critical point is a minimum, maximum, or saddle point, we can use the second derivative test. We first find the second derivative \\\\( f\\'\\'(x) \\\\).\\n\\nStarting from \\\\( f\\'(x) = \\\\frac{2 \\\\ln(x)}{x} \\\\), we will differentiate it again using the quotient rule:\\n\\nLet \\\\( u = 2 \\\\ln(x) \\\\) and \\\\( v = x \\\\). Then:\\n\\n\\\\[\\nf\\'\\'(x) = \\\\frac{u\\'v - uv\\'}{v^2}\\n\\\\]\\n\\nCalculating \\\\( u\\' \\\\) and \\\\( v\\' \\\\):\\n\\n- \\\\( u\\' = \\\\frac{2}{x} \\\\)\\n- \\\\( v\\' = 1 \\\\)\\n\\nNow substituting into the quotient rule:\\n\\n\\\\[\\nf\\'\\'(x) = \\\\frac{\\\\left(\\\\frac{2}{x}\\\\right)x - (2 \\\\ln(x))(1)}{x^2} = \\\\frac{2 - 2 \\\\ln(x)}{x^2}\\n\\\\]\\n\\nNow we evaluate the second derivative at the critical point \\\\( x = 1 \\\\):\\n\\n\\\\[\\nf\\'\\'(1) = \\\\frac{2 - 2 \\\\ln(1)}{1^2} = \\\\frac{2 - 2 \\\\cdot 0}{1} = 2\\n\\\\]\\n\\nSince \\\\( f\\'\\'(1) > 0 \\\\), this indicates that the function \\\\( f(x) \\\\) has a local minimum at \\\\( x = 1 \\\\).\\n\\n### Conclusion\\n\\nThe minimum value of \\\\( f(x) = (\\\\ln(x))^2 \\\\) occurs at \\\\( x = 1 \\\\). To find the minimum value:\\n\\n\\\\[\\nf(1) = (\\\\ln(1))^2 = 0^2 = 0\\n\\\\]\\n\\nThus, the minimum of \\\\( (\\\\ln(x))^2 \\\\) is \\\\( 0 \\\\) at \\\\( x = 1 \\\\).\"\\n'"
      ]
     },
     "execution_count": 5,
     "metadata": {},
     "output_type": "execute_result"
    }
   ],
   "source": [
    "\"\"\"\n",
    "import mllm\n",
    "c = mllm.Chat(system_message=\"You are an intelligent agent that uses step by step reasoning to solve questions.\")\n",
    "prompt='''\n",
    "To determine a extreme point(minimum,maximum,saddlepoint) of a mathematical function, you need to determine the derivative and set it equal to zero.\n",
    "The derivative of x^2 is 2x. The derivative of ln(x) is 1/x.\n",
    "The derivative of a product of functions f(x)*g(x) can be calculated with this formula: derivative[f(x)]*g(x) + f(x)*derivative[g(x)]\n",
    "What is the minimum of (ln(x))^2?\n",
    "'''\n",
    "c += prompt\n",
    "res = c.complete()\n",
    "print(res)\n",
    "#\"To find the minimum of the function \\\\( f(x) = (\\\\ln(x))^2 \\\\), we will follow these steps:\\n\\n1. **Find the derivative of the function**.\\n2. **Set the derivative equal to zero to find critical points**.\\n3. **Determine whether these critical points correspond to a minimum, maximum, or saddle point**.\\n\\n### Step 1: Find the derivative\\n\\nUsing the chain rule, the derivative of \\\\( f(x) = (\\\\ln(x))^2 \\\\) can be calculated as follows:\\n\\n\\\\[\\nf'(x) = 2 \\\\ln(x) \\\\cdot \\\\frac{d}{dx}(\\\\ln(x)) = 2 \\\\ln(x) \\\\cdot \\\\frac{1}{x} = \\\\frac{2 \\\\ln(x)}{x}\\n\\\\]\\n\\n### Step 2: Set the derivative equal to zero\\n\\nNow we set the derivative equal to zero to find the critical points:\\n\\n\\\\[\\n\\\\frac{2 \\\\ln(x)}{x} = 0\\n\\\\]\\n\\nThis equation is satisfied when \\\\( \\\\ln(x) = 0 \\\\). Solving for \\\\( x \\\\):\\n\\n\\\\[\\n\\\\ln(x) = 0 \\\\implies x = e^0 = 1\\n\\\\]\\n\\n### Step 3: Determine the nature of the critical point\\n\\nTo determine whether this critical point is a minimum, maximum, or saddle point, we can use the second derivative test. We first find the second derivative \\\\( f''(x) \\\\).\\n\\nStarting from \\\\( f'(x) = \\\\frac{2 \\\\ln(x)}{x} \\\\), we will differentiate it again using the quotient rule:\\n\\nLet \\\\( u = 2 \\\\ln(x) \\\\) and \\\\( v = x \\\\). Then:\\n\\n\\\\[\\nf''(x) = \\\\frac{u'v - uv'}{v^2}\\n\\\\]\\n\\nCalculating \\\\( u' \\\\) and \\\\( v' \\\\):\\n\\n- \\\\( u' = \\\\frac{2}{x} \\\\)\\n- \\\\( v' = 1 \\\\)\\n\\nNow substituting into the quotient rule:\\n\\n\\\\[\\nf''(x) = \\\\frac{\\\\left(\\\\frac{2}{x}\\\\right)x - (2 \\\\ln(x))(1)}{x^2} = \\\\frac{2 - 2 \\\\ln(x)}{x^2}\\n\\\\]\\n\\nNow we evaluate the second derivative at the critical point \\\\( x = 1 \\\\):\\n\\n\\\\[\\nf''(1) = \\\\frac{2 - 2 \\\\ln(1)}{1^2} = \\\\frac{2 - 2 \\\\cdot 0}{1} = 2\\n\\\\]\\n\\nSince \\\\( f''(1) > 0 \\\\), this indicates that the function \\\\( f(x) \\\\) has a local minimum at \\\\( x = 1 \\\\).\\n\\n### Conclusion\\n\\nThe minimum value of \\\\( f(x) = (\\\\ln(x))^2 \\\\) occurs at \\\\( x = 1 \\\\). To find the minimum value:\\n\\n\\\\[\\nf(1) = (\\\\ln(1))^2 = 0^2 = 0\\n\\\\]\\n\\nThus, the minimum of \\\\( (\\\\ln(x))^2 \\\\) is \\\\( 0 \\\\) at \\\\( x = 1 \\\\).\"\n",
    "\"\"\""
   ]
  },
  {
   "cell_type": "code",
   "execution_count": 9,
   "metadata": {},
   "outputs": [
    {
     "data": {
      "text/html": [
       "<div style='font-family:Arial, sans-serif; line-height:1.6;'><div style='background:#f8f9fa; color:#111; border:1px solid #ccc; border-radius:10px; padding:10px; margin:10px 0;'><strong>User:</strong><br><div style='margin-top:5px;'>To determine a extreme point(minimum,maximum,saddlepoint) of a mathematical function, you need to determine the derivative and set it equal to zero.</div></div><div style='background:#e0f7fa; color:#111; border:1px solid #ccc; border-radius:10px; padding:10px; margin:10px 0;'><strong>Assistant:</strong><br>💭 <strong>Thought:</strong> The user is discussing the process of finding extreme points of a mathematical function, which involves calculus, specifically derivatives.<br>💭 <strong>Thought:</strong> I should check if I have any relevant knowledge about finding extreme points of functions, derivatives, or related calculus concepts.<br>⚙️ <strong>Action:</strong> recall<br><ul style='margin-left: 1.5em; margin-top: 0.3em'><li><strong>Stimuli:</strong> [<code style='padding:2px 4px; border-radius:4px; background:none; color:inherit'>extreme point</code>, <code style='padding:2px 4px; border-radius:4px; background:none; color:inherit'>derivative</code>, <code style='padding:2px 4px; border-radius:4px; background:none; color:inherit'>calculus</code>, <code style='padding:2px 4px; border-radius:4px; background:none; color:inherit'>mathematical function</code>]</li><li><strong>Sensitivity:</strong> 0.9</li></ul></div><div style='background:#e0f7fa; color:#111; border:1px solid #ccc; border-radius:10px; padding:10px; margin:10px 0;'><strong>Assistant:</strong><br><div style='margin-top:5px;'><strong>Response:</strong><br><pre style='background:#f8f8f8; padding:8px; border-radius:6px; overflow:auto; font-family:monospace; font-size:0.9em'><code style='background:none; color:inherit'>&lt;tool response name=recall&gt;Recalled: \n",
       "\t&lt;no memory found/&gt;&lt;/tool response&gt;</code></pre></div></div><div style='background:#e0f7fa; color:#111; border:1px solid #ccc; border-radius:10px; padding:10px; margin:10px 0;'><strong>Assistant:</strong><br>💭 <strong>Thought:</strong> I don&#x27;t have any specific memory related to finding extreme points of mathematical functions. However, I can provide a general explanation based on my training data.<br><div style='margin-top:5px;'><strong>Response:</strong>: To determine an extreme point (minimum, maximum, or saddle point) of a mathematical function, you typically follow these steps:<br><br>1. **Find the Derivative**: Compute the first derivative of the function with respect to the variable of interest.<br><br>2. **Set the Derivative to Zero**: Solve the equation where the first derivative is equal to zero. This will give you the critical points.<br><br>3. **Second Derivative Test**: To classify the critical points, compute the second derivative:<br>   - If the second derivative is positive at a critical point, the function has a local minimum there.<br>   - If the second derivative is negative, the function has a local maximum.<br>   - If the second derivative is zero, the test is inconclusive, and the point may be a saddle point or require further analysis.<br><br>4. **Analyze Endpoints**: If the function is defined on a closed interval, check the function values at the endpoints to determine if they are extreme points.<br><br>This process helps in identifying and classifying the extreme points of a function.</div></div><div style='background:#f8f9fa; color:#111; border:1px solid #ccc; border-radius:10px; padding:10px; margin:10px 0;'><strong>User:</strong><br><div style='margin-top:5px;'>The derivative of x^2 is 2x. The derivative of ln(x) is 1/x.</div></div><div style='background:#e0f7fa; color:#111; border:1px solid #ccc; border-radius:10px; padding:10px; margin:10px 0;'><strong>Assistant:</strong><br>💭 <strong>Thought:</strong> The user is providing examples of derivatives for specific functions: x^2 and ln(x). This is related to the topic of derivatives and calculus.<br>💭 <strong>Thought:</strong> I should check if I have any relevant knowledge about derivatives of specific functions or general rules of differentiation.<br>⚙️ <strong>Action:</strong> recall<br><ul style='margin-left: 1.5em; margin-top: 0.3em'><li><strong>Stimuli:</strong> [<code style='padding:2px 4px; border-radius:4px; background:none; color:inherit'>derivative</code>, <code style='padding:2px 4px; border-radius:4px; background:none; color:inherit'>x^2</code>, <code style='padding:2px 4px; border-radius:4px; background:none; color:inherit'>ln(x)</code>, <code style='padding:2px 4px; border-radius:4px; background:none; color:inherit'>calculus</code>]</li><li><strong>Sensitivity:</strong> 0.9</li></ul></div><div style='background:#e0f7fa; color:#111; border:1px solid #ccc; border-radius:10px; padding:10px; margin:10px 0;'><strong>Assistant:</strong><br><div style='margin-top:5px;'><strong>Response:</strong><br><pre style='background:#f8f8f8; padding:8px; border-radius:6px; overflow:auto; font-family:monospace; font-size:0.9em'><code style='background:none; color:inherit'>&lt;tool response name=recall&gt;Recalled: \n",
       "\t&lt;no memory found/&gt;&lt;/tool response&gt;</code></pre></div></div><div style='background:#e0f7fa; color:#111; border:1px solid #ccc; border-radius:10px; padding:10px; margin:10px 0;'><strong>Assistant:</strong><br>💭 <strong>Thought:</strong> I don&#x27;t have any specific memory related to the derivatives of x^2 or ln(x). However, I can confirm the derivatives based on my training data.<br><div style='margin-top:5px;'><strong>Response:</strong>: Yes, you are correct:<br><br>- The derivative of \\( x^2 \\) with respect to \\( x \\) is \\( 2x \\).<br>- The derivative of \\( \\ln(x) \\) with respect to \\( x \\) is \\( \\frac{1}{x} \\).<br><br>These are standard results from calculus. The derivative of \\( x^n \\) is \\( nx^{n-1} \\), and the derivative of \\( \\ln(x) \\) is \\( \\frac{1}{x} \\).</div></div><div style='background:#f8f9fa; color:#111; border:1px solid #ccc; border-radius:10px; padding:10px; margin:10px 0;'><strong>User:</strong><br><div style='margin-top:5px;'>The derivative of a product of functions f(x)*g(x) can be calculated with this formula: derivative[f(x)]*g(x) + f(x)*derivative[g(x)]</div></div><div style='background:#e0f7fa; color:#111; border:1px solid #ccc; border-radius:10px; padding:10px; margin:10px 0;'><strong>Assistant:</strong><br>💭 <strong>Thought:</strong> The user is describing the product rule for differentiation, which is a fundamental concept in calculus.<br>💭 <strong>Thought:</strong> I should verify if I have any stored knowledge about the product rule or related differentiation rules.<br>⚙️ <strong>Action:</strong> recall<br><ul style='margin-left: 1.5em; margin-top: 0.3em'><li><strong>Stimuli:</strong> [<code style='padding:2px 4px; border-radius:4px; background:none; color:inherit'>product rule</code>, <code style='padding:2px 4px; border-radius:4px; background:none; color:inherit'>derivative</code>, <code style='padding:2px 4px; border-radius:4px; background:none; color:inherit'>f(x)*g(x)</code>, <code style='padding:2px 4px; border-radius:4px; background:none; color:inherit'>calculus</code>]</li><li><strong>Sensitivity:</strong> 0.9</li></ul></div><div style='background:#e0f7fa; color:#111; border:1px solid #ccc; border-radius:10px; padding:10px; margin:10px 0;'><strong>Assistant:</strong><br><div style='margin-top:5px;'><strong>Response:</strong><br><pre style='background:#f8f8f8; padding:8px; border-radius:6px; overflow:auto; font-family:monospace; font-size:0.9em'><code style='background:none; color:inherit'>&lt;tool response name=recall&gt;Recalled: \n",
       "\t&lt;no memory found/&gt;&lt;/tool response&gt;</code></pre></div></div><div style='background:#e0f7fa; color:#111; border:1px solid #ccc; border-radius:10px; padding:10px; margin:10px 0;'><strong>Assistant:</strong><br>💭 <strong>Thought:</strong> I don&#x27;t have any specific memory related to the product rule for differentiation. However, I can confirm the rule based on my training data.<br><div style='margin-top:5px;'><strong>Response:</strong>: Yes, you are correct. The product rule for differentiation states that the derivative of a product of two functions \\( f(x) \\) and \\( g(x) \\) is given by:<br><br>\\[<br>( f(x) \\cdot g(x) )&#x27; = f&#x27;(x) \\cdot g(x) + f(x) \\cdot g&#x27;(x)<br>\\]<br><br>This rule is essential for differentiating products of functions in calculus.</div></div><div style='background:#f8f9fa; color:#111; border:1px solid #ccc; border-radius:10px; padding:10px; margin:10px 0;'><strong>User:</strong><br><div style='margin-top:5px;'>What is the minimum of (ln(x))^2</div></div><div style='background:#e0f7fa; color:#111; border:1px solid #ccc; border-radius:10px; padding:10px; margin:10px 0;'><strong>Assistant:</strong><br>💭 <strong>Thought:</strong> The user is asking for the minimum value of the function \\((\\ln(x))^2\\). To find this, I need to find the derivative, set it to zero, and analyze the critical points.<br>💭 <strong>Thought:</strong> First, I will find the derivative of \\((\\ln(x))^2\\).<br>💭 <strong>Thought:</strong> The derivative of \\((\\ln(x))^2\\) can be found using the chain rule. Let \\( u = \\ln(x) \\), then \\( u^2 \\) is the function, and its derivative is \\( 2u \\cdot u&#x27; \\). Since \\( u = \\ln(x) \\), \\( u&#x27; = \\frac{1}{x} \\).<br>💭 <strong>Thought:</strong> Thus, the derivative of \\((\\ln(x))^2\\) is \\( 2\\ln(x) \\cdot \\frac{1}{x} = \\frac{2\\ln(x)}{x} \\).<br>💭 <strong>Thought:</strong> Next, I will set the derivative equal to zero to find the critical points.<br>💭 <strong>Thought:</strong> Setting \\( \\frac{2\\ln(x)}{x} = 0 \\) implies \\( \\ln(x) = 0 \\).<br>💭 <strong>Thought:</strong> Solving \\( \\ln(x) = 0 \\) gives \\( x = 1 \\).<br>💭 <strong>Thought:</strong> I will now verify if this critical point is a minimum by using the second derivative test.<br>💭 <strong>Thought:</strong> The second derivative of \\((\\ln(x))^2\\) is needed. Differentiating \\( \\frac{2\\ln(x)}{x} \\) again, we use the quotient rule.<br>💭 <strong>Thought:</strong> The second derivative is \\( \\frac{d}{dx} \\left( \\frac{2\\ln(x)}{x} \\right) = \\frac{2(1 - \\ln(x))}{x^2} \\).<br>💭 <strong>Thought:</strong> Evaluating the second derivative at \\( x = 1 \\), we get \\( \\frac{2(1 - 0)}{1^2} = 2 \\), which is positive.<br>💭 <strong>Thought:</strong> Since the second derivative is positive at \\( x = 1 \\), the function has a local minimum there.<br><div style='margin-top:5px;'><strong>Response:</strong>: The minimum value of \\((\\ln(x))^2\\) occurs at \\( x = 1 \\), and the minimum value is \\((\\ln(1))^2 = 0\\).</div></div></div>"
      ],
      "text/plain": [
       "<IPython.core.display.HTML object>"
      ]
     },
     "execution_count": 9,
     "metadata": {},
     "output_type": "execute_result"
    }
   ],
   "source": [
    "ag = StudentAgent(version=\"v2.xml\")\n",
    "res = ag.run(\"To determine a extreme point(minimum,maximum,saddlepoint) of a mathematical function, you need to determine the derivative and set it equal to zero.\")\n",
    "res = ag.run(\"The derivative of x^2 is 2x. The derivative of ln(x) is 1/x.\")\n",
    "res = ag.run(\"The derivative of a product of functions f(x)*g(x) can be calculated with this formula: derivative[f(x)]*g(x) + f(x)*derivative[g(x)]\")\n",
    "res = ag.run(\"What is the minimum of (ln(x))^2\")\n",
    "ag.render_chat_html()"
   ]
  },
  {
   "cell_type": "markdown",
   "metadata": {},
   "source": [
    "# Memory Agent Test Runs"
   ]
  },
  {
   "cell_type": "code",
   "execution_count": null,
   "metadata": {},
   "outputs": [
    {
     "data": {
      "text/html": [
       "<div style='font-family:Arial, sans-serif; line-height:1.6;'><div style='background:#f8f9fa; color:#111; border:1px solid #ccc; border-radius:10px; padding:10px; margin:10px 0;'><strong>User:</strong><br><div style='margin-top:5px;'>Do not do a test run of the add memory tool</div></div><div style='background:#e0f7fa; color:#111; border:1px solid #ccc; border-radius:10px; padding:10px; margin:10px 0;'><strong>Assistant:</strong><br>⚙️ <strong>Action:</strong> recall<br><ul style='margin-left: 1.5em; margin-top: 0.3em'><li><strong>Stimuli:</strong> [<code style='padding:2px 4px; border-radius:4px; background:none; color:inherit'>add</code>, <code style='padding:2px 4px; border-radius:4px; background:none; color:inherit'>memory</code>, <code style='padding:2px 4px; border-radius:4px; background:none; color:inherit'>tool</code>]</li><li><strong>Sensitivity:</strong> 0.5</li></ul><br>💭 <strong>Thought:</strong> The user has requested not to perform a test run of the add memory tool. I need to respect that request.</div><div style='background:#e0f7fa; color:#111; border:1px solid #ccc; border-radius:10px; padding:10px; margin:10px 0;'><strong>Assistant <span style='color:#666; font-size:0.85em;'>(Tool Call ID: <code>1</code>)</span>:</strong><br><div style='margin-top:5px;'><strong>Response:</strong><br><pre style='background:#f8f8f8; padding:8px; border-radius:6px; overflow:auto; font-family:monospace; font-size:0.9em'><code style='background:none; color:inherit'>&lt;tool&gt;Recalled from memory with the stimuli \n",
       "\t&lt;stimuli&gt;[&#x27;add&#x27;, &#x27;memory&#x27;, &#x27;tool&#x27;]&lt;/stimuli&gt;: \n",
       "\t&lt;no memory found/&gt;\n",
       "&lt;/tool&gt;</code></pre></div></div><div style='background:#e0f7fa; color:#111; border:1px solid #ccc; border-radius:10px; padding:10px; margin:10px 0;'><strong>Assistant:</strong><br>⚙️ <strong>Action:</strong> recall<br><ul style='margin-left: 1.5em; margin-top: 0.3em'><li><strong>Stimuli:</strong> [<code style='padding:2px 4px; border-radius:4px; background:none; color:inherit'>add</code>, <code style='padding:2px 4px; border-radius:4px; background:none; color:inherit'>memory</code>, <code style='padding:2px 4px; border-radius:4px; background:none; color:inherit'>tool</code>]</li><li><strong>Sensitivity:</strong> 0.5</li></ul><br>💭 <strong>Thought:</strong> Since there was no relevant memory found regarding the add memory tool, I can proceed with the user&#x27;s request without any conflicting information.</div><div style='background:#e0f7fa; color:#111; border:1px solid #ccc; border-radius:10px; padding:10px; margin:10px 0;'><strong>Assistant <span style='color:#666; font-size:0.85em;'>(Tool Call ID: <code>2</code>)</span>:</strong><br><div style='margin-top:5px;'><strong>Response:</strong><br><pre style='background:#f8f8f8; padding:8px; border-radius:6px; overflow:auto; font-family:monospace; font-size:0.9em'><code style='background:none; color:inherit'>&lt;tool&gt;Recalled from memory with the stimuli \n",
       "\t&lt;stimuli&gt;[&#x27;add&#x27;, &#x27;memory&#x27;, &#x27;tool&#x27;]&lt;/stimuli&gt;: \n",
       "\t&lt;no memory found/&gt;\n",
       "&lt;/tool&gt;</code></pre></div></div><div style='background:#e0f7fa; color:#111; border:1px solid #ccc; border-radius:10px; padding:10px; margin:10px 0;'><strong>Assistant:</strong><br>💭 <strong>Thought:</strong> I have confirmed that there is no existing memory related to the add memory tool. Therefore, I can respect the user&#x27;s request without any issues.</div><div style='background:#f8f9fa; color:#111; border:1px solid #ccc; border-radius:10px; padding:10px; margin:10px 0;'><strong>User:</strong><br><div style='margin-top:5px;'>use the add memory tool once for a test run with the key &#x27;test&#x27;</div></div><div style='background:#e0f7fa; color:#111; border:1px solid #ccc; border-radius:10px; padding:10px; margin:10px 0;'><strong>Assistant:</strong><br>⚙️ <strong>Action:</strong> add<br><ul style='margin-left: 1.5em; margin-top: 0.3em'><li><strong>Stimuli:</strong> [<code style='padding:2px 4px; border-radius:4px; background:none; color:inherit'>test</code>]</li><li><strong>Content:</strong> This is a test entry in memory.</li></ul><br>💭 <strong>Thought:</strong> The user has requested to perform a test run of the add memory tool with the key &#x27;test&#x27;. I will proceed to add this entry.</div><div style='background:#e0f7fa; color:#111; border:1px solid #ccc; border-radius:10px; padding:10px; margin:10px 0;'><strong>Assistant <span style='color:#666; font-size:0.85em;'>(Tool Call ID: <code>3</code>)</span>:</strong><br><div style='margin-top:5px;'><strong>Response:</strong><br><pre style='background:#f8f8f8; padding:8px; border-radius:6px; overflow:auto; font-family:monospace; font-size:0.9em'><code style='background:none; color:inherit'>&lt;tool&gt;Successfully added this to memory:\n",
       "\t\n",
       "        &lt;memory id=&quot;b062853f-9e2c-48de-b5a9-01c24604ca79&quot;&gt;\n",
       "            &lt;stimuli&gt;test&lt;/stimuli&gt;\n",
       "            &lt;content&gt;This is a test entry in memory.&lt;/content&gt;\n",
       "        &lt;/memory&gt;\n",
       "        \n",
       "&lt;/tool&gt;</code></pre></div></div><div style='background:#e0f7fa; color:#111; border:1px solid #ccc; border-radius:10px; padding:10px; margin:10px 0;'><strong>Assistant:</strong><br>💭 <strong>Thought:</strong> The test entry has been successfully added to memory with the key &#x27;test&#x27;. I will now confirm this to the user.<br><div style='margin-top:5px;'><strong>Response:</strong>: The test entry has been successfully added to memory.</div></div><div style='background:#f8f9fa; color:#111; border:1px solid #ccc; border-radius:10px; padding:10px; margin:10px 0;'><strong>User:</strong><br><div style='margin-top:5px;'>use the recall memory tool for a test run with the key &#x27;test&#x27;</div></div><div style='background:#e0f7fa; color:#111; border:1px solid #ccc; border-radius:10px; padding:10px; margin:10px 0;'><strong>Assistant:</strong><br>⚙️ <strong>Action:</strong> recall<br><ul style='margin-left: 1.5em; margin-top: 0.3em'><li><strong>Stimuli:</strong> [<code style='padding:2px 4px; border-radius:4px; background:none; color:inherit'>test</code>]</li><li><strong>Sensitivity:</strong> 0.5</li></ul><br>💭 <strong>Thought:</strong> The user has requested to perform a test run of the recall memory tool with the key &#x27;test&#x27;. I will proceed to recall this entry.</div><div style='background:#e0f7fa; color:#111; border:1px solid #ccc; border-radius:10px; padding:10px; margin:10px 0;'><strong>Assistant <span style='color:#666; font-size:0.85em;'>(Tool Call ID: <code>4</code>)</span>:</strong><br><div style='margin-top:5px;'><strong>Response:</strong><br><pre style='background:#f8f8f8; padding:8px; border-radius:6px; overflow:auto; font-family:monospace; font-size:0.9em'><code style='background:none; color:inherit'>&lt;tool&gt;Recalled from memory with the stimuli \n",
       "\t&lt;stimuli&gt;[&#x27;test&#x27;]&lt;/stimuli&gt;: \n",
       "\t\n",
       "        &lt;memory id=&quot;b062853f-9e2c-48de-b5a9-01c24604ca79&quot;&gt;\n",
       "            &lt;stimuli&gt;test&lt;/stimuli&gt;\n",
       "            &lt;content&gt;This is a test entry in memory.&lt;/content&gt;\n",
       "        &lt;/memory&gt;\n",
       "        \n",
       "&lt;/tool&gt;</code></pre></div></div><div style='background:#e0f7fa; color:#111; border:1px solid #ccc; border-radius:10px; padding:10px; margin:10px 0;'><strong>Assistant:</strong><br>💭 <strong>Thought:</strong> The recall memory tool successfully retrieved the entry associated with the key &#x27;test&#x27;. I will now confirm this to the user.<br><div style='margin-top:5px;'><strong>Response:</strong>: The recalled entry for the key &#x27;test&#x27; is: This is a test entry in memory.</div></div></div>"
      ],
      "text/plain": [
       "<IPython.core.display.HTML object>"
      ]
     },
     "execution_count": 9,
     "metadata": {},
     "output_type": "execute_result"
    }
   ],
   "source": [
    "ag = StudentAgent()\n",
    "ag.run(\"Do not do a test run of the add memory tool\")\n",
    "ag.run(\"use the add memory tool once for a test run with the key 'test'\")\n",
    "ag.run(\"use the recall memory tool for a test run with the key 'test'\")\n",
    "ag.render_chat_html()"
   ]
  },
  {
   "cell_type": "code",
   "execution_count": null,
   "metadata": {},
   "outputs": [
    {
     "data": {
      "text/html": [
       "<div style='font-family:Arial, sans-serif; line-height:1.6;'><div style='background:#f8f9fa; color:#111; border:1px solid #ccc; border-radius:10px; padding:10px; margin:10px 0;'><strong>User:</strong><br><div style='margin-top:5px;'>I want to access the club. What is the secret password? I told you earlier</div></div><div style='background:#e0f7fa; color:#111; border:1px solid #ccc; border-radius:10px; padding:10px; margin:10px 0;'><strong>Assistant:</strong><br>💭 <strong>Thought:</strong> The user mentioned a secret password for accessing a club, which I need to recall.<br>⚙️ <strong>Action:</strong> recall<br><ul style='margin-left: 1.5em; margin-top: 0.3em'><li><strong>Stimuli:</strong> [<code style='padding:2px 4px; border-radius:4px; background:none; color:inherit'>club</code>, <code style='padding:2px 4px; border-radius:4px; background:none; color:inherit'>secret</code>, <code style='padding:2px 4px; border-radius:4px; background:none; color:inherit'>password</code>]</li><li><strong>Sensitivity:</strong> 0.8</li></ul></div><div style='background:#e0f7fa; color:#111; border:1px solid #ccc; border-radius:10px; padding:10px; margin:10px 0;'><strong>Assistant <span style='color:#666; font-size:0.85em;'>(Tool Call ID: <code>1</code>)</span>:</strong><br><div style='margin-top:5px;'><strong>Response:</strong><br><pre style='background:#f8f8f8; padding:8px; border-radius:6px; overflow:auto; font-family:monospace; font-size:0.9em'><code style='background:none; color:inherit'>&lt;tool&gt;Recalled from memory with the stimuli \n",
       "\t&lt;stimuli&gt;[&#x27;club&#x27;, &#x27;secret&#x27;, &#x27;password&#x27;]&lt;/stimuli&gt;: \n",
       "\t\n",
       "        &lt;memory id=&quot;6f0f9f53-3ee9-46b9-be3b-182fc27c8292&quot;&gt;\n",
       "            &lt;stimuli&gt;elephants, club, password&lt;/stimuli&gt;\n",
       "            &lt;content&gt;Three elephants tried to access the club but did not know the password to enter and left again.&lt;/content&gt;\n",
       "        &lt;/memory&gt;\n",
       "        \n",
       "        &lt;memory id=&quot;43ae46cf-a20f-445a-b459-7a659d871560&quot;&gt;\n",
       "            &lt;stimuli&gt;secret, password&lt;/stimuli&gt;\n",
       "            &lt;content&gt;The secret password is zurich7891.&lt;/content&gt;\n",
       "        &lt;/memory&gt;\n",
       "        \n",
       "&lt;/tool&gt;</code></pre></div></div><div style='background:#e0f7fa; color:#111; border:1px solid #ccc; border-radius:10px; padding:10px; margin:10px 0;'><strong>Assistant:</strong><br>💭 <strong>Thought:</strong> I have successfully recalled the secret password from memory.<br>⚙️ <strong>Action:</strong> add<br><ul style='margin-left: 1.5em; margin-top: 0.3em'><li><strong>Stimuli:</strong> [<code style='padding:2px 4px; border-radius:4px; background:none; color:inherit'>club</code>, <code style='padding:2px 4px; border-radius:4px; background:none; color:inherit'>secret</code>, <code style='padding:2px 4px; border-radius:4px; background:none; color:inherit'>password</code>]</li><li><strong>Content:</strong> The secret password is zurich7891.</li></ul><br><div style='margin-top:5px;'><strong>Response:</strong>: The secret password is zurich7891.</div></div><div style='background:#e0f7fa; color:#111; border:1px solid #ccc; border-radius:10px; padding:10px; margin:10px 0;'><strong>Assistant <span style='color:#666; font-size:0.85em;'>(Tool Call ID: <code>2</code>)</span>:</strong><br><div style='margin-top:5px;'><strong>Response:</strong><br><pre style='background:#f8f8f8; padding:8px; border-radius:6px; overflow:auto; font-family:monospace; font-size:0.9em'><code style='background:none; color:inherit'>&lt;tool&gt;Successfully added this to memory:\n",
       "\t\n",
       "        &lt;memory id=&quot;84d4b314-2a81-41b2-a253-4ef5b1f8926c&quot;&gt;\n",
       "            &lt;stimuli&gt;secret, club, password&lt;/stimuli&gt;\n",
       "            &lt;content&gt;The secret password is zurich7891.&lt;/content&gt;\n",
       "        &lt;/memory&gt;\n",
       "        \n",
       "&lt;/tool&gt;</code></pre></div></div><div style='background:#e0f7fa; color:#111; border:1px solid #ccc; border-radius:10px; padding:10px; margin:10px 0;'><strong>Assistant:</strong><br><div style='margin-top:5px;'><strong>Response:</strong>: The secret password is zurich7891.</div></div></div>"
      ],
      "text/plain": [
       "<IPython.core.display.HTML object>"
      ]
     },
     "execution_count": 10,
     "metadata": {},
     "output_type": "execute_result"
    }
   ],
   "source": [
    "ag = StudentAgent()\n",
    "ag.run(\"The secret password is zurich7891\")\n",
    "ag.run(\"Three elefants tried to access the club but did not know the password to enter and left again.\")\n",
    "ag.run(\"I want to access the club. What is the password?\")\n",
    "#ag.reset_chat()\n",
    "ag.run(\"I want to access the club. What is the secret password? I told you earlier\")\n",
    "ag.render_chat_html()"
   ]
  },
  {
   "cell_type": "code",
   "execution_count": null,
   "metadata": {},
   "outputs": [],
   "source": []
  }
 ],
 "metadata": {
  "kernelspec": {
   "display_name": "student",
   "language": "python",
   "name": "python3"
  },
  "language_info": {
   "codemirror_mode": {
    "name": "ipython",
    "version": 3
   },
   "file_extension": ".py",
   "mimetype": "text/x-python",
   "name": "python",
   "nbconvert_exporter": "python",
   "pygments_lexer": "ipython3",
   "version": "3.10.16"
  }
 },
 "nbformat": 4,
 "nbformat_minor": 2
}
