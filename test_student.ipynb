{
 "cells": [
  {
   "cell_type": "code",
   "execution_count": 14,
   "metadata": {},
   "outputs": [],
   "source": [
    "from student.tools import *\n",
    "from student.agent import *"
   ]
  },
  {
   "cell_type": "code",
   "execution_count": 16,
   "metadata": {},
   "outputs": [
    {
     "name": "stdout",
     "output_type": "stream",
     "text": [
      "Add Memory:  ['test'] This is a test memory entry.\n",
      "Recall memory:  ['test'] \n",
      " {'26bf0d42-ecd4-4f76-9869-d966a510e78f': 'This is a test memory entry.'}\n"
     ]
    }
   ],
   "source": [
    "ag = MemoryAgent()\n",
    "ag.run(\"Do not do a test run of the add memory tool\")\n",
    "ag.run(\"use the add memory tool for a test run with the key 'test'\")\n",
    "ag.run(\"use the recall memory tool for a test run with the key 'test'\")"
   ]
  },
  {
   "cell_type": "code",
   "execution_count": null,
   "metadata": {},
   "outputs": [
    {
     "data": {
      "text/html": [
       "<div>\n",
       "<style scoped>\n",
       "    .dataframe tbody tr th:only-of-type {\n",
       "        vertical-align: middle;\n",
       "    }\n",
       "\n",
       "    .dataframe tbody tr th {\n",
       "        vertical-align: top;\n",
       "    }\n",
       "\n",
       "    .dataframe thead th {\n",
       "        text-align: right;\n",
       "    }\n",
       "</style>\n",
       "<table border=\"1\" class=\"dataframe\">\n",
       "  <thead>\n",
       "    <tr style=\"text-align: right;\">\n",
       "      <th></th>\n",
       "      <th>Role</th>\n",
       "      <th>Message</th>\n",
       "    </tr>\n",
       "  </thead>\n",
       "  <tbody>\n",
       "    <tr>\n",
       "      <th>0</th>\n",
       "      <td>User</td>\n",
       "      <td>Do not do a test run of the add memory tool</td>\n",
       "    </tr>\n",
       "    <tr>\n",
       "      <th>1</th>\n",
       "      <td>Assistant</td>\n",
       "      <td>Understood! I won't perform a test run of the ...</td>\n",
       "    </tr>\n",
       "    <tr>\n",
       "      <th>2</th>\n",
       "      <td>User</td>\n",
       "      <td>use the add memory tool for a test run with th...</td>\n",
       "    </tr>\n",
       "    <tr>\n",
       "      <th>3</th>\n",
       "      <td>Assistant (Tool Call ID: call_lb5NQmXLdBdO3jU5...</td>\n",
       "      <td>add</td>\n",
       "    </tr>\n",
       "    <tr>\n",
       "      <th>4</th>\n",
       "      <td>User</td>\n",
       "      <td>use the recall memory tool for a test run with...</td>\n",
       "    </tr>\n",
       "    <tr>\n",
       "      <th>5</th>\n",
       "      <td>Assistant (Tool Call ID: call_N4OOtgAEDdCGltA8...</td>\n",
       "      <td>{'26bf0d42-ecd4-4f76-9869-d966a510e78f': 'This...</td>\n",
       "    </tr>\n",
       "  </tbody>\n",
       "</table>\n",
       "</div>"
      ],
      "text/plain": [
       "                                                Role  \\\n",
       "0                                               User   \n",
       "1                                          Assistant   \n",
       "2                                               User   \n",
       "3  Assistant (Tool Call ID: call_lb5NQmXLdBdO3jU5...   \n",
       "4                                               User   \n",
       "5  Assistant (Tool Call ID: call_N4OOtgAEDdCGltA8...   \n",
       "\n",
       "                                             Message  \n",
       "0        Do not do a test run of the add memory tool  \n",
       "1  Understood! I won't perform a test run of the ...  \n",
       "2  use the add memory tool for a test run with th...  \n",
       "3                                                add  \n",
       "4  use the recall memory tool for a test run with...  \n",
       "5  {'26bf0d42-ecd4-4f76-9869-d966a510e78f': 'This...  "
      ]
     },
     "execution_count": 22,
     "metadata": {},
     "output_type": "execute_result"
    }
   ],
   "source": [
    "import pandas as pd\n",
    "\n",
    "def visualize_chat(chat):\n",
    "    formatted = []\n",
    "    for turn in chat:\n",
    "        role = turn[\"role\"].capitalize()\n",
    "        if \"tool_call_id\" in turn:\n",
    "            tool_id = turn[\"tool_call_id\"]\n",
    "            role += f\" (Tool Call ID: {tool_id})\"\n",
    "        text = turn[\"content\"].get(\"text\", \"\")\n",
    "        formatted.append((role, text))\n",
    "\n",
    "    df = pd.DataFrame(formatted, columns=[\"Role\", \"Message\"])\n",
    "    df.index\n",
    "    return df\n",
    "\n",
    "visualize_chat(ag.chat.messages)\n"
   ]
  },
  {
   "cell_type": "code",
   "execution_count": null,
   "metadata": {},
   "outputs": [
    {
     "data": {
      "text/plain": [
       "[{'role': 'user',\n",
       "  'content': {'type': 'text',\n",
       "   'text': 'Do not do a test run of the add memory tool'}},\n",
       " {'role': 'assistant',\n",
       "  'content': {'type': 'text',\n",
       "   'text': \"Understood! I won't perform a test run of the add memory tool. If you have any specific requests or questions, feel free to let me know!\"}},\n",
       " {'role': 'user',\n",
       "  'content': {'type': 'text',\n",
       "   'text': \"use the add memory tool for a test run with the key 'test'\"}},\n",
       " {'role': 'assistant',\n",
       "  'tool_call_id': 'call_k3gph6biko7Jc0JXj9FCK4AD',\n",
       "  'content': {'type': 'text', 'text': 'add'}},\n",
       " {'role': 'user',\n",
       "  'content': {'type': 'text',\n",
       "   'text': \"use the recall memory tool for a test run with the key 'test'\"}},\n",
       " {'role': 'assistant',\n",
       "  'tool_call_id': 'call_isOVUqg0qVu1gTfhVlqAcqDi',\n",
       "  'content': {'type': 'text',\n",
       "   'text': \"{'24c2c3cd-703d-449d-8f09-696226a16a29': 'This is a test memory entry.'}\"}}]"
      ]
     },
     "execution_count": 4,
     "metadata": {},
     "output_type": "execute_result"
    }
   ],
   "source": [
    "ag.chat.messages"
   ]
  },
  {
   "cell_type": "code",
   "execution_count": 25,
   "metadata": {},
   "outputs": [
    {
     "data": {
      "text/plain": [
       "[{'role': 'user',\n",
       "  'content': {'type': 'text',\n",
       "   'text': \"use the add memory tool for a test run with the key 'test'\"}},\n",
       " {'role': 'assistant', 'content': {'type': 'text', 'text': ''}},\n",
       " {'content': {'type': 'text', 'text': None},\n",
       "  'role': 'assistant',\n",
       "  'tool_calls': [{'function': {'arguments': '{\"stimuli\":[\"test\"],\"content\":\"This is a test memory entry.\"}',\n",
       "     'name': 'add'},\n",
       "    'id': 'call_a9gVFqi4fMI5b0Nxa3WqUYoO',\n",
       "    'type': 'function'}]},\n",
       " {'role': 'assistant',\n",
       "  'tool_call_id': 'call_a9gVFqi4fMI5b0Nxa3WqUYoO',\n",
       "  'content': {'type': 'text', 'text': 'Penguin'}}]"
      ]
     },
     "execution_count": 25,
     "metadata": {},
     "output_type": "execute_result"
    }
   ],
   "source": [
    "msg = ag.chat.additional_res['full_message'].to_dict()\n",
    "if msg.get('content') is None:\n",
    "    # Provide a default or skip based on your application's logic.\n",
    "    msg['content'] = {'type': 'text', 'text': None}\n",
    "del msg['function_call']\n",
    "ag.chat.messages.append(msg)\n",
    "\n",
    "tool_call_id = msg['tool_calls'][0]['id']\n",
    "\n",
    "\n",
    "message = {\n",
    "    \"role\": \"assistant\",\n",
    "    \"tool_call_id\": tool_call_id,\n",
    "    'content': {\n",
    "        'type': 'text',\n",
    "        'text': str(\"Penguin\")\n",
    "    }\n",
    "}\n",
    "ag.chat.messages.append(message)\n",
    "\n",
    "ag.chat.messages"
   ]
  },
  {
   "cell_type": "code",
   "execution_count": 26,
   "metadata": {},
   "outputs": [
    {
     "data": {
      "text/plain": [
       "'How about an elephant?'"
      ]
     },
     "execution_count": 26,
     "metadata": {},
     "output_type": "execute_result"
    }
   ],
   "source": [
    "ag.run(\"Think of an animal\", parse=None)"
   ]
  },
  {
   "cell_type": "code",
   "execution_count": 27,
   "metadata": {},
   "outputs": [
    {
     "data": {
      "text/plain": [
       "[{'role': 'user',\n",
       "  'content': {'type': 'text',\n",
       "   'text': \"use the add memory tool for a test run with the key 'test'\"}},\n",
       " {'role': 'assistant', 'content': {'type': 'text', 'text': ''}},\n",
       " {'content': {'type': 'text', 'text': None},\n",
       "  'role': 'assistant',\n",
       "  'tool_calls': [{'function': {'arguments': '{\"stimuli\":[\"test\"],\"content\":\"This is a test memory entry.\"}',\n",
       "     'name': 'add'},\n",
       "    'id': 'call_a9gVFqi4fMI5b0Nxa3WqUYoO',\n",
       "    'type': 'function'}]},\n",
       " {'role': 'assistant',\n",
       "  'tool_call_id': 'call_a9gVFqi4fMI5b0Nxa3WqUYoO',\n",
       "  'content': {'type': 'text', 'text': 'Penguin'}},\n",
       " {'role': 'user', 'content': {'type': 'text', 'text': 'Think of an animal'}},\n",
       " {'role': 'assistant',\n",
       "  'content': {'type': 'text', 'text': 'How about an elephant?'}}]"
      ]
     },
     "execution_count": 27,
     "metadata": {},
     "output_type": "execute_result"
    }
   ],
   "source": [
    "ag.chat.messages"
   ]
  },
  {
   "cell_type": "code",
   "execution_count": 28,
   "metadata": {},
   "outputs": [],
   "source": [
    "tool_messages = ag.use_tools()\n",
    "tool_messages"
   ]
  },
  {
   "cell_type": "code",
   "execution_count": null,
   "metadata": {},
   "outputs": [],
   "source": []
  },
  {
   "cell_type": "code",
   "execution_count": 10,
   "metadata": {},
   "outputs": [
    {
     "data": {
      "text/plain": [
       "{'type': 'function',\n",
       " 'function': {'name': 'add',\n",
       "  'description': 'This tool can be used to add a new memory item.',\n",
       "  'parameters': {'type': 'object',\n",
       "   'properties': {'stimuli': {'type': 'array',\n",
       "     'items': {'type': 'string'},\n",
       "     'description': 'Parameter stimuli'},\n",
       "    'content': {'type': 'string', 'description': 'Parameter content'}},\n",
       "   'required': ['stimuli', 'content']}}}"
      ]
     },
     "execution_count": 10,
     "metadata": {},
     "output_type": "execute_result"
    }
   ],
   "source": [
    "out_dict = ag.tools[\"add\"].parse()\n",
    "out_dict"
   ]
  },
  {
   "cell_type": "code",
   "execution_count": null,
   "metadata": {},
   "outputs": [
    {
     "name": "stdout",
     "output_type": "stream",
     "text": [
      "\n",
      "    <output>\n",
      "    You are required to output a JSON object with the following keys. If the information is not available, the value should be an empty string.\n",
      "    - \"content\" (str): the text content of your answer.\n",
      "    - \"system\" (str): the system of the simulation.\n",
      "    - \"molecule\" (str): the molecules of the simulation separated with \".\" (e.j. \"butane . carbon dioxide . nitrogen\").\n",
      "    - \"other\" (str): other parameters of the simulation.\n",
      "    </output>\n",
      "    \n"
     ]
    }
   ],
   "source": [
    "def template_json_output(out_dict):\n",
    "    prompt = f'''\n",
    "    <output>\n",
    "    You are required to output a JSON object with the following keys. If the information is not available, the value should be an empty string.\n",
    "    - \"content\" (str): the text content of your answer.\n",
    "    - \"molecule\" (str): the molecules of the simulation separated with \".\" (e.j. \"butane . carbon dioxide . nitrogen\").\n",
    "    - \"other\" (str): other parameters of the simulation.\n",
    "    </output>\n",
    "    '''\n",
    "    return prompt\n",
    "\n",
    "print(template_json_output(out_dict))"
   ]
  },
  {
   "cell_type": "code",
   "execution_count": null,
   "metadata": {},
   "outputs": [],
   "source": []
  }
 ],
 "metadata": {
  "kernelspec": {
   "display_name": "student",
   "language": "python",
   "name": "python3"
  },
  "language_info": {
   "codemirror_mode": {
    "name": "ipython",
    "version": 3
   },
   "file_extension": ".py",
   "mimetype": "text/x-python",
   "name": "python",
   "nbconvert_exporter": "python",
   "pygments_lexer": "ipython3",
   "version": "3.10.16"
  }
 },
 "nbformat": 4,
 "nbformat_minor": 2
}
