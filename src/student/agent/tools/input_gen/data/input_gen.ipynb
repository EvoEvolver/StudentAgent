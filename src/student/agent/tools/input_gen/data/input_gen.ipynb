{
 "cells": [
  {
   "cell_type": "markdown",
   "id": "c604be65",
   "metadata": {},
   "source": [
    "# New molecule/ff input generation pipeline"
   ]
  },
  {
   "cell_type": "code",
   "execution_count": null,
   "id": "fdf1bfee",
   "metadata": {},
   "outputs": [],
   "source": []
  },
  {
   "cell_type": "code",
   "execution_count": 133,
   "id": "1e0762e0",
   "metadata": {},
   "outputs": [],
   "source": [
    "from student.agent.tools.tools_raspa import RaspaTool\n",
    "import os\n",
    "import json\n",
    "import requests\n",
    "from student.agent.utils import *\n",
    "from student.agent.tools.input_gen.pseudoatoms import PseudoAtoms, Atom\n",
    "from student.agent.tools.input_gen.utils_molecules import *\n",
    "from student.agent.tools.input_gen.trappe_loader import *\n",
    "from student.agent.tools.tools_raspa import *"
   ]
  },
  {
   "cell_type": "markdown",
   "id": "2436758d",
   "metadata": {},
   "source": [
    "## Pseusdoatoms typing"
   ]
  },
  {
   "cell_type": "code",
   "execution_count": 134,
   "id": "96d67b18",
   "metadata": {},
   "outputs": [],
   "source": [
    "import os\n",
    "__file__ = os.path.join(os.getcwd(), \"input_gen.ipynb\")"
   ]
  },
  {
   "cell_type": "code",
   "execution_count": 135,
   "id": "0c6239c1",
   "metadata": {},
   "outputs": [
    {
     "name": "stdout",
     "output_type": "stream",
     "text": [
      "Warning: No path was set for Molecule loader!\n"
     ]
    }
   ],
   "source": [
    "t = MoleculeLoader()"
   ]
  },
  {
   "cell_type": "code",
   "execution_count": 136,
   "id": "c1aae621",
   "metadata": {},
   "outputs": [
    {
     "name": "stdout",
     "output_type": "stream",
     "text": [
      "Missing parameters for methyl acetate\n",
      "Missing parameters for ethyl acetate\n",
      "Missing parameters for methyl propionate\n",
      "Missing parameters for vinyl acetate\n"
     ]
    }
   ],
   "source": [
    "atom_types = {}         # main_atom : {ps_type}\n",
    "type_to_params = {}     # ps_type : {(params) : {name}}\n",
    "param_types = {}        # ps_type : {(params)}\n",
    "\n",
    "for name, id in t.molecules.items():\n",
    "    trappe_parameters = download_parameters(id)\n",
    "    pseudoatoms =t.parse_section(trappe_parameters, \"#,(pseudo)atom\", 6)\n",
    "    for atom in pseudoatoms:\n",
    "        try:\n",
    "            ps_id = f\"{int(atom[0])-1}\"\n",
    "            main_atom = atom[1]\n",
    "            ps_type = atom[2]\n",
    "            epsilon = float(atom[3])\n",
    "            sigma = float(atom[4])\n",
    "            charge = float(atom[5])\n",
    "            params = (epsilon, sigma, charge)\n",
    "\n",
    "            if main_atom not in atom_types.keys():\n",
    "                atom_types[main_atom] = set()\n",
    "            atom_types[main_atom].add(ps_type)\n",
    "            #if main_atom == \"M\":\n",
    "            #    print(name, ps_type)\n",
    "\n",
    "            if ps_type not in type_to_params.keys():\n",
    "                type_to_params[ps_type] = dict()\n",
    "            if params not in type_to_params[ps_type]:\n",
    "                type_to_params[ps_type][params] = set()\n",
    "            type_to_params[ps_type][params].add(name)\n",
    "\n",
    "            if ps_type not in param_types.keys():\n",
    "                param_types[ps_type] = params       # first guess is fine, the rest is corrected below based on type_to_params\n",
    "        \n",
    "        except ValueError as e:\n",
    "            print(\"Missing parameters for\", name)"
   ]
  },
  {
   "cell_type": "markdown",
   "id": "02c9e8df",
   "metadata": {},
   "source": [
    "#### Type to label"
   ]
  },
  {
   "cell_type": "code",
   "execution_count": 137,
   "id": "24f38dd3",
   "metadata": {},
   "outputs": [
    {
     "data": {
      "text/plain": [
       "{'CH4': 1,\n",
       " 'CH3': 13,\n",
       " 'CH2': 16,\n",
       " 'CH': 13,\n",
       " 'C': 14,\n",
       " 'O': 16,\n",
       " 'H': 4,\n",
       " 'S': 5,\n",
       " 'N': 5,\n",
       " 'M': 6,\n",
       " 'CF3': 1,\n",
       " 'CF2': 1,\n",
       " 'P': 2,\n",
       " 'F': 1}"
      ]
     },
     "execution_count": 137,
     "metadata": {},
     "output_type": "execute_result"
    }
   ],
   "source": [
    "# How many different types per main pseudoatom?\n",
    "{i: len(k) for i, k in atom_types.items()}"
   ]
  },
  {
   "cell_type": "code",
   "execution_count": null,
   "id": "e1431a6f",
   "metadata": {},
   "outputs": [],
   "source": [
    "type_to_label = {} # main_atom : {ps_type : label/SMARTS}\n",
    "\n",
    "for i,k in atom_types.items():\n",
    "    type_to_label[i] = dict()\n",
    "    for t in k:\n",
    "        type_to_label[i][t] = None if len(k) != 1 else t"
   ]
  },
  {
   "cell_type": "code",
   "execution_count": 139,
   "id": "7b9d74ea",
   "metadata": {},
   "outputs": [],
   "source": [
    "type_to_label[\"CH3\"] = {\n",
    "    '[CH3]-C#N': \"CH3_cn\",\n",
    "    '[CH3]-S-CHx': \"CH3_sc\",\n",
    "    '[CH3]-P': \"CH3_p\",\n",
    "    '[CH3]-O-H': \"CH3_oh\",\n",
    "    '[CH3]-CH=O': \"CH3_co\",\n",
    "    '[CH3]-C-CH-O-P': \"CH3_ccop\",\n",
    "    '[CH3]-S-S-CHx': \"CH3_ssc\",\n",
    "    '[CH3]-SH': \"CH3_sh\",\n",
    "    '[CH3]-CHx': \"CH3_chx\",\n",
    "    '[CH3]-CH-O-P': \"CH3_cop\",\n",
    "    '[CH3]-P(=O)-(OCH3)2': \"CH3_po\",\n",
    "    '[CH3]-O-CHx': \"CH3_ocg\",\n",
    "    '[CH3]-O-P': \"CH3_op\"\n",
    "}\n",
    "\n",
    "type_to_label[\"CH2\"] = {\n",
    "    '[CH2]-O-CH2': \"CH2_oc\",\n",
    "    'O-[CH2]-CH2': \"o_CH2_c\",\n",
    "    '[CH2]=CHx': \"h2C=c\",\n",
    "    'CHx-[CH2]-C#N': \"c_CH2cn\",\n",
    "    'O-[CH2]-CH2-CH2': \"o_CH2_cc\",\n",
    "    'CHx-[CH2]-O-CHy': \"c_CH2_oc\",\n",
    "    'CHx-[CH2]-S-S-CHx': \"c_CH2_ssr\",\n",
    "    'CHx-[CH2]-CH=O': \"c_CH2_cho\",\n",
    "    'CHx-[CH2]-SH': \"c_CH2_sh\",\n",
    "    'O-[CH2]-O': \"o_CH2_o\",\n",
    "    'CH2-[CH2]-CH2': \"ch2_CH2_ch2\",\n",
    "    'O-CH2-[CH2]-CH2': \"oc_CH2_c\",\n",
    "    'O-[CH2]-CH2-O': \"oCH2_c_o\",\n",
    "    'CHx-[CH2]-CHx': \"c_CH2_c\",\n",
    "    'CHx-[CH2]-O-H': \"c_CH2_oh\",\n",
    "    'CHx-[CH2]-S-CHx': \"c_CH2_sc\"\n",
    "}\n",
    "\n",
    "type_to_label[\"CH\"] = {\n",
    "\n",
    "    'CHx=[CH](sp2)-CHy(sp3)': \"c=CH_csp3\",\n",
    "    'CHx=[CH](sp2)-CHy(sp2)': \"c=CH_csp2\",\n",
    "    \n",
    "    '(CHx)2-[CH]-O-H': \"r2_CH_oh\",\n",
    "    '(CHx)2-[CH]-CHx': \"r2_CH_c\",\n",
    "    '(CH3)2-[CH]-O-P': \"r2_CH_op\",\n",
    "    '(CHx)2-[CH]-SH': \"r2_CH_sh\",\n",
    "    '(CHx)2-[CH]-O-CHy': \"r2_CH_oc\",\n",
    "        \n",
    "    'CHx-[CH]=O': \"c_CH=o\",\n",
    "    'CH3-[CH](-C)-O-P': \"me_CH(c)_op\",\n",
    "    \n",
    "    'CH+[CH]+N': \"c+CH+n\",\n",
    "    'CH+[CH]+S': \"c+CH+s\",\n",
    "    'CH+[CH]+CH': \"c+CH+ch\",\n",
    "    'N+[CH]+N': \"n+CH+n\"\n",
    "}\n",
    "\n",
    "type_to_label[\"C\"] = {\n",
    "    'O=[C]=O': \"C_co2\",\n",
    "    'CHx-[C]#N': \"nCr\",\n",
    "\n",
    "    'CHx=[C](sp2)-CHy(sp2)': \"c=C_csp2\",\n",
    "    'CHx=[C](sp2)-CHy(sp3)': \"c=C_csp3\",\n",
    "\n",
    "    '(CHx)3-[C]-O-H': \"me3_C_oh\",\n",
    "    '(CHx)3-[C]-O-CHy': \"me3_C_or\",\n",
    "    '(CHx)3-[C]-CHx': \"me3_C_c\",\n",
    "    '(CH3)3-[C]-CH-O-P': \"me3_C_cop\",\n",
    "    '(CHx)3-[C]-SH': \"me3_C_sh\",\n",
    "    \n",
    "    'CH+[C](-NO2)+CH': \"c+C(no2)+c\",\n",
    "    'CH+[C](-CHx)+CH': \"c+C(c)+c\",\n",
    "    'CH+[C](+CH)+CH': \"c+C(+c)+c\",\n",
    "\n",
    "    'CHx-O-[C]=O': \"roC=o\",\n",
    "    '[C]=O': \"C=o\",\n",
    "}\n",
    "\n",
    "type_to_label[\"O\"] = {\n",
    "    'CHx-[O]-CHy': \"chx_O_chx\",             # ether (generic)\n",
    "    'CH2-[O]-CH2-O': \"ch2_O_ch2_o\",         # ether (double)\n",
    "    'CH2-[O]-CH2-CH2': \"ch2_O_ch2_ch2\",     # ether (c chain)\n",
    "    'CH2-[O]-CH2': \"ch2_O_ch2\",             # ether\n",
    "\n",
    "    'CH=[O]': \"O=ch\",                       # aldehyde\n",
    "    'C=[O]': \"O=c\",                         # carbonyl\n",
    "    'CHx-O-C=[O]': \"O=co\",                  # carbonyl acid\n",
    "    'CHx-[O]-C=O': \"cO_c=o\",                # ester\n",
    "    'P-[O]-CH3': \"pOme\",                    # pOme\n",
    "    'CHx-[O]-H': \"hO_c\",                    # alcohol\n",
    "    \n",
    "    'CHx-N[O]2': \"Ono_c\",                   # nitro\n",
    "    'P-[O]-CH': \"pO_ch\",                    # pOr\n",
    "    '[O]=P-F': \"O=pf\",                      # fp=O\n",
    "    '[O]=P(-CH3)-(OCH3)2': \"O=pco\",         # O=p(c)(oc)2\n",
    "\n",
    "    '[O]=C=O': \"O_co2\",                     # co2\n",
    "    '[O]=O': \"O_o2\",                        # o2\n",
    "}\n",
    "\n",
    "type_to_label[\"H\"] = {\n",
    "    'O-[H]': \"Ho\",      # alcohol H\n",
    "    'S-[H]': \"Hs\",      # thiol S\n",
    "    '[H]-NH2': \"H_nh3\", # NH3\n",
    "    '[H]-SH': \"H_h2s\",  # SH2\n",
    "}\n",
    "\n",
    "type_to_label[\"S\"] = {\n",
    "    'CHx-[S]-H': \"hS_chx\",\n",
    "    'H-[S]-H': \"S_h2s\",\n",
    "    'CHx-[S]-CHx': \"chx_S_chx\",\n",
    "    'CHx-[S]-S-CHx': \"chx_Ss_chx\",\n",
    "    'CH+[S]+CH': \"c+S+c\"\n",
    "}\n",
    "\n",
    "type_to_label[\"N\"] = {\n",
    "    'CH+[N]+CH': \"c+N+c\",\n",
    "    '[N]-H3': \"N_nh3\",\n",
    "    'CHx-C#[N]': \"Nc_chx\",\n",
    "    'CHx-[N]O2': \"o2N_chx\",\n",
    "    '[N]#N': \"N_n2\"\n",
    "}\n",
    "\n",
    "type_to_label[\"M\"] = {\n",
    "    '[M]pi': \"M_pi\",\n",
    "    '[M]center': \"M_center\",\n",
    "    'H2S-[M]': \"M_h2s\",\n",
    "    '[M]-NH3': \"M_nh3\",\n",
    "    'O=[M]=O': \"M_o2\",\n",
    "    'N#[M]#N': \"M_n2\"\n",
    "}\n",
    "\n",
    "type_to_label[\"P\"] = {\n",
    "    'F-[P](=O)-O-CH': \"fPoome\",\n",
    "    'CH3-[P](=O)-(OCH3)2': \"mePoome\"\n",
    "}"
   ]
  },
  {
   "cell_type": "code",
   "execution_count": 140,
   "id": "71951208",
   "metadata": {},
   "outputs": [
    {
     "name": "stdout",
     "output_type": "stream",
     "text": [
      "Unique labels:  True\n"
     ]
    }
   ],
   "source": [
    "# Check for duplicate labels\n",
    "labels = [label for ps_type in type_to_label.values() for label in ps_type.values()]\n",
    "print(\"Unique labels: \", len(labels) == len(set(labels)))\n",
    "\n",
    "from collections import Counter\n",
    "duplicates = [item for item, count in Counter(labels).items() if count > 1]\n",
    "if len(duplicates) > 0:\n",
    "    print(\"Not unique: \", duplicates)"
   ]
  },
  {
   "cell_type": "markdown",
   "id": "52187e57",
   "metadata": {},
   "source": [
    "### Type to smarts"
   ]
  },
  {
   "cell_type": "code",
   "execution_count": null,
   "id": "be8e962d",
   "metadata": {},
   "outputs": [],
   "source": [
    "type_to_smarts = {} # main_atom : {ps_type : label/SMARTS}\n",
    "\n",
    "for i,k in atom_types.items():\n",
    "    type_to_smarts[i] = dict()\n",
    "    for t in k:\n",
    "        type_to_smarts[i][t] = None"
   ]
  },
  {
   "cell_type": "code",
   "execution_count": 142,
   "id": "6c9c91ba",
   "metadata": {},
   "outputs": [],
   "source": [
    "type_to_smarts[\"CH4\"] = {\"CH4\": \"[CH4]\"}\n",
    "type_to_smarts[\"CF3\"] = {\"[CF3]-CFx\": \"[C](F)(F)F-[C;X4]\"}\n",
    "type_to_smarts[\"CF2\"] = {\"CFx-[CF2]-CFx\": \"[C;X4]-[C;X4](F)(F)-[C;X4]\"}\n",
    "type_to_smarts[\"F\"] = {\"P-[F]\": \"[P]-[F]\" }\n",
    "\n",
    "type_to_smarts[\"CH3\"] = {\n",
    "    '[CH3]-C#N': '[CH3][C]#N',\n",
    "    '[CH3]-S-CHx': '[CH3][S][C;X4]',\n",
    "    '[CH3]-P': '[CH3][P]',\n",
    "    '[CH3]-O-H': '[CH3][O][H]',\n",
    "    '[CH3]-CH=O': '[CH3][CH]=O',\n",
    "    '[CH3]-C-CH-O-P': '[CH3][C]([CH])[O][P]',\n",
    "    '[CH3]-S-S-CHx': '[CH3][S][S][C;X4]',\n",
    "    '[CH3]-SH': '[CH3][S][H]',\n",
    "    '[CH3]-CHx': '[CH3][C]',\n",
    "    '[CH3]-CH-O-P': '[CH3][CH][O][P]',\n",
    "    '[CH3]-P(=O)-(OCH3)2': '[CH3][P](=O)(OC)(OC)',\n",
    "    '[CH3]-O-CHx': '[CH3][O][C;X4]',\n",
    "    '[CH3]-O-P': '[CH3][O][P]'\n",
    "}\n",
    "\n",
    "type_to_smarts[\"CH2\"] = {\n",
    "    '[CH2]-O-CH2': '[CH2][O][CH2]',\n",
    "    'O-[CH2]-CH2': '[O][CH2][CH2]',\n",
    "    '[CH2]=CHx': '[CH2]=[C;X4]',\n",
    "    'CHx-[CH2]-C#N': '[C;X4][CH2][C]#N',\n",
    "    'O-[CH2]-CH2-CH2': '[O][CH2][CH2][CH2]',\n",
    "    'CHx-[CH2]-O-CHy': '[C;X4][CH2][O][C;H1+]',\n",
    "    'CHx-[CH2]-S-S-CHx': '[C;X4][CH2][S][S][C;X4]',\n",
    "    'CHx-[CH2]-CH=O': '[C;X4][CH2][CH]=O',\n",
    "    'CHx-[CH2]-SH': '[C;X4][CH2][S][H]',\n",
    "    'O-[CH2]-O': '[O][CH2][O]',\n",
    "    'CH2-[CH2]-CH2': '[CH2][CH2][CH2]',\n",
    "    'O-CH2-[CH2]-CH2': '[O][CH2][CH2][CH2]',\n",
    "    'O-[CH2]-CH2-O': '[O][CH2][CH2][O]',\n",
    "    'CHx-[CH2]-CHx': '[C][CH2][C]',\n",
    "    'CHx-[CH2]-O-H': '[C;X4][CH2][O][H]',\n",
    "    'CHx-[CH2]-S-CHx': '[C;X4][CH2][S][C;X4]'\n",
    "}\n",
    "\n",
    "type_to_smarts[\"CH\"] = {\n",
    "    'CHx=[CH](sp2)-CHy(sp3)': '[C;X4]=[CH][C;X4]',\n",
    "    'CHx=[CH](sp2)-CHy(sp2)': '[C;X4]=[CH][C;X3]',\n",
    "    \n",
    "    '(CHx)2-[CH]-O-H': '[C;X4][CH]([C;X4])[O][H]',\n",
    "    '(CHx)2-[CH]-CHx': '[C;X4][CH]([C;X4])[C;X4]',\n",
    "    '(CH3)2-[CH]-O-P': '[CH3][CH]([CH3])[O][P]',\n",
    "    '(CHx)2-[CH]-SH': '[C;X4][CH]([C;X4])[S][H]',\n",
    "    '(CHx)2-[CH]-O-CHy': '[C;X4][CH]([C;X4])[O][C;H1+]',\n",
    "    \n",
    "    'CHx-[CH]=O': '[C;X4][CH]=O',\n",
    "    'CH3-[CH](-C)-O-P': '[CH3][CH]([C])[O][P]',\n",
    "\n",
    "    'CH+[CH]+N': '[c]:[c]:[n]',\n",
    "    'CH+[CH]+S': '[c]:[c]:[s]',\n",
    "    'CH+[CH]+CH': '[c]:[c]:[c]',\n",
    "    'N+[CH]+N': '[n]:[c]:[n]'\n",
    "}\n",
    "\n",
    "type_to_smarts[\"C\"] = {\n",
    "    'O=[C]=O': 'O=[C]=O',\n",
    "    'CHx-[C]#N': '[C;X4][C]#N',\n",
    "\n",
    "    'CHx=[C](sp2)-CHy(sp2)': '[C;X4]=[C]([C;X3])',\n",
    "    'CHx=[C](sp2)-CHy(sp3)': '[C;X4]=[C]([C;X4])',\n",
    "\n",
    "    '(CHx)3-[C]-O-H': '[C;X4][C]([C;X4])([C;X4])[O][H]',\n",
    "    '(CHx)3-[C]-O-CHy': '[C;X4][C]([C;X4])([C;X4])[O][C;H1+]',\n",
    "    '(CHx)3-[C]-CHx': '[C;X4][C]([C;X4])([C;X4])[C;X4]',\n",
    "    '(CH3)3-[C]-CH-O-P': '[CH3][C]([CH3])([CH3])[CH][O][P]',\n",
    "    '(CHx)3-[C]-SH': '[C;X4][C]([C;X4])([C;X4])[S][H]',\n",
    "\n",
    "    'CH+[C](-NO2)+CH': '[c]:[c]([N](O)[O]):[c]',\n",
    "    'CH+[C](-CHx)+CH': '[c]:[c]([C;X4]):[c]',\n",
    "    'CH+[C](+CH)+CH': '[c]:[c]([c]):[c]',\n",
    "\n",
    "    'CHx-O-[C]=O': '[C;X4][O][C]=O',\n",
    "    '[C]=O': '[C]=O'\n",
    "}\n",
    "\n",
    "type_to_smarts[\"O\"] = {\n",
    "    'CHx-[O]-CHy': '[C;X4][O][C;H1,H2]',\n",
    "    'CH2-[O]-CH2-O': '[CH2][O][CH2][O]',\n",
    "    'CH2-[O]-CH2-CH2': '[CH2][O][CH2][CH2]',\n",
    "    'CH2-[O]-CH2': '[CH2][O][CH2]',\n",
    "\n",
    "    'CH=[O]': '[CH]=O',\n",
    "    'C=[O]': '[C]=O',\n",
    "    'CHx-O-C=[O]': '[C;X4][O][C]=O',\n",
    "    'CHx-[O]-C=O': '[C;X4][O][C]=O',\n",
    "    'P-[O]-CH3': '[P][O][CH3]',\n",
    "    'CHx-[O]-H': '[C;X4][O][H]',\n",
    "    \n",
    "    'CHx-N[O]2': '[C;X4][N](O)[O]',\n",
    "    'P-[O]-CH': '[P][O][CH]',\n",
    "    '[O]=P-F': 'O=P(F)',\n",
    "    '[O]=P(-CH3)-(OCH3)2': 'O=P([CH3])(OC)(OC)',\n",
    "\n",
    "    '[O]=C=O': 'O=C=O',\n",
    "    '[O]=O': 'O=O'\n",
    "}\n",
    "\n",
    "type_to_smarts[\"H\"] = {\n",
    "    '[H]-SH': '[H][S][H]',\n",
    "    '[H]-NH2': '[H][N]([H])[H]',\n",
    "    'O-[H]': '[O][H]',\n",
    "    'S-[H]': '[S][H]',\n",
    "}\n",
    "\n",
    "type_to_smarts[\"S\"] = {\n",
    "    'CHx-[S]-H': '[C;X4][S][H]',\n",
    "    'H-[S]-H': '[H][S][H]',\n",
    "    'CHx-[S]-CHx': '[C;X4][S][C;X4]',\n",
    "    'CHx-[S]-S-CHx': '[C;X4][S][S][C;X4]',\n",
    "    'CH+[S]+CH': '[c]:[s]:[c]'\n",
    "}\n",
    "\n",
    "type_to_smarts[\"N\"] = {\n",
    "    'CH+[N]+CH': '[c]:[n]:[c]',\n",
    "    '[N]-H3': '[N]([H])([H])[H]',\n",
    "    'CHx-C#[N]': '[C;X4][C]#N',\n",
    "    'CHx-[N]O2': '[C;X4][N](O)[O]',\n",
    "    '[N]#N': '[N]#[N]'\n",
    "}\n",
    "\n",
    "type_to_smarts[\"M\"] = {\n",
    "    '[M]pi': '[M]_pi',\n",
    "    '[M]center': '[M]_center',\n",
    "    'H2S-[M]': '[S]([H])[H][M]',\n",
    "    '[M]-NH3': '[M][N]([H])([H])[H]',\n",
    "    'O=[M]=O': 'O=[M]=O',\n",
    "    'N#[M]#N': 'N#[M]#N'\n",
    "}\n",
    "\n",
    "type_to_smarts[\"P\"] = {\n",
    "    'F-[P](=O)-O-CH': '[F][P](=O)([O][CH])',\n",
    "    'CH3-[P](=O)-(OCH3)2': '[CH3][P](=O)(OC)(OC)'\n",
    "}"
   ]
  },
  {
   "cell_type": "markdown",
   "id": "51f2c5de",
   "metadata": {},
   "source": [
    "### Type to parameters"
   ]
  },
  {
   "cell_type": "code",
   "execution_count": 143,
   "id": "c5b35a8f",
   "metadata": {},
   "outputs": [
    {
     "data": {
      "text/plain": [
       "{'CH2-[CH2]-CH2': {(56.3, 3.88, 0.0): {'cyclopentane'},\n",
       "  (52.5, 3.91, 0.0): {'cyclohexane', 'oxane'},\n",
       "  (51.0, 3.89, 0.0): {'cyclododecane', 'cyclooctadecane', 'cyclooctane'}},\n",
       " 'CH2-[O]-CH2': {(155.0, 2.39, -0.36): {'1,3,5-trioxane'},\n",
       "  (190.0, 2.2, -0.41): {'tetrahydrofuran'},\n",
       "  (155.0, 2.39, -0.44): {'oxane'},\n",
       "  (29.0, 3.1, -0.42): {'ethylene oxide'}},\n",
       " 'O-[CH2]-O': {(52.5, 3.91, 0.36): {'1,3,5-trioxane', '1,3-dioxane'},\n",
       "  (56.3, 3.88, 0.36): {'1,3-dioxolane'}},\n",
       " 'CH2-[O]-CH2-O': {(190.0, 2.2, -0.425): {'1,3-dioxolane'},\n",
       "  (155.0, 2.39, -0.395): {'1,3-dioxane'}},\n",
       " 'O-[CH2]-CH2': {(56.3, 3.88, 0.245): {'1,3-dioxolane'},\n",
       "  (56.3, 3.88, 0.16): {'tetrahydrofuran'},\n",
       "  (52.5, 3.91, 0.17): {'oxane'}},\n",
       " 'O-CH2-[CH2]-CH2': {(52.5, 3.91, 0.05): {'1,3-dioxane', 'oxane'},\n",
       "  (56.3, 3.88, 0.045): {'tetrahydrofuran'}},\n",
       " 'CH+[CH]+CH': {(48.0, 3.74, 0.0): {'benzene (9 site)',\n",
       "   'nitrobenzene',\n",
       "   'pyridine',\n",
       "   'pyrimidine',\n",
       "   'toluene (10 site)'},\n",
       "  (50.5, 3.695, 0.0): {'benzene (6 site)',\n",
       "   'ethylbenzene',\n",
       "   'isopropylbenzene',\n",
       "   'm-xylene',\n",
       "   'naphthalene',\n",
       "   'o-xylene',\n",
       "   'p-xylene',\n",
       "   'propylbenzene',\n",
       "   'thiophene',\n",
       "   'toluene (7 site)'}}}"
      ]
     },
     "execution_count": 143,
     "metadata": {},
     "output_type": "execute_result"
    }
   ],
   "source": [
    "# Almost all ps_types have unique parameters, except for these:\n",
    "{k: v for k, v in type_to_params.items() if len(v) != 1}"
   ]
  },
  {
   "cell_type": "markdown",
   "id": "85230f69",
   "metadata": {},
   "source": [
    "### Manual corrections"
   ]
  },
  {
   "cell_type": "code",
   "execution_count": 144,
   "id": "1d19db4d",
   "metadata": {},
   "outputs": [],
   "source": [
    "corrected_types = [\n",
    "    'CH2-[CH2]-CH2 r5',\n",
    "    'CH2-[CH2]-CH2 r6',\n",
    "    'CH2-[CH2]-CH2 r8+',\n",
    "\n",
    "    'CH2-[O]-CH2 r5',\n",
    "    'CH2-[O]-CH2 r6',\n",
    "    'CH2-[O]-CH2 r3',\n",
    "\n",
    "    'O-[CH2]-O',\n",
    "\n",
    "    'CH2-[O]-CH2-O r5',\n",
    "    'CH2-[O]-CH2-O r6',\n",
    "\n",
    "    'O-[CH2]-CH2 r5',\n",
    "    'O-[CH2]-CH2 r6',\n",
    "\n",
    "    'O-CH2-[CH2]-CH2 r6',\n",
    "    'O-CH2-[CH2]-CH2 r5',\n",
    "\n",
    "    'O-CH2-[O]-CH2-O',\n",
    "    'CH2-O-[CH2]-O-CH2',\n",
    "    'O-[CH2]-CH2-O',\n",
    "]"
   ]
  },
  {
   "cell_type": "code",
   "execution_count": 145,
   "id": "fec86549",
   "metadata": {},
   "outputs": [
    {
     "name": "stdout",
     "output_type": "stream",
     "text": [
      "Parameters corrected!\n"
     ]
    }
   ],
   "source": [
    "# exclude aromatics with pi system:  {'benzene (9 site)', 'nitrobenzene', 'pyridine', 'pyrimidine', 'toluene (10 site)'}\n",
    "\n",
    "# include ring size for the others:\n",
    "param_corrections = {\n",
    "    'CH+[CH]+CH' : (50.5, 3.695, 0.0),\n",
    "\n",
    "    'CH2-[CH2]-CH2 r5': (56.3, 3.88, 0.0),\n",
    "    'CH2-[CH2]-CH2 r6': (52.5, 3.91, 0.0),\n",
    "    'CH2-[CH2]-CH2 r8+': (51.0, 3.89, 0.0), # or greater!\n",
    "\n",
    "    'CH2-[O]-CH2 r5': (190.0, 2.2, -0.41),\n",
    "    'CH2-[O]-CH2 r6': (155.0, 2.39, -0.44),    # \n",
    "    'CH2-[O]-CH2 r3': (29.0, 3.1, -0.42),\n",
    " \n",
    "    'O-[CH2]-O': (56.3, 3.88, 0.36),\n",
    " \n",
    "    'CH2-[O]-CH2-O r5': (190.0, 2.2, -0.425),\n",
    "    'CH2-[O]-CH2-O r6': (155.0, 2.39, -0.395),\n",
    " \n",
    "    'O-[CH2]-CH2 r5': (56.3, 3.88, 0.16),\n",
    "    'O-[CH2]-CH2 r6': (52.5, 3.91, 0.17),\n",
    " \n",
    "    'O-CH2-[CH2]-CH2 r6' : (52.5, 3.91, 0.05),\n",
    "    'O-CH2-[CH2]-CH2 r5' : (56.3, 3.88, 0.045),\n",
    "    \n",
    "    'O-CH2-[O]-CH2-O' : (155.0, 2.39, -0.36),    # 1,3,5-trioxane\n",
    "    'CH2-O-[CH2]-O-CH2' : (52.5, 3.91, 0.36),    # {'1,3,5-trioxane', '1,3-dioxane'},\n",
    "    'O-[CH2]-CH2-O' : (56.3, 3.88, 0.245),       # {'1,3-dioxolane'},\n",
    "}\n",
    "\n",
    "for ps_type, params in param_corrections.items():\n",
    "    param_types[ps_type] = params\n",
    "\n",
    "# deletes = ['CH2-[CH2]-CH2', 'CH2-[O]-CH2']\n",
    "print(\"Parameters corrected!\")"
   ]
  },
  {
   "cell_type": "code",
   "execution_count": 185,
   "id": "0cff670e",
   "metadata": {},
   "outputs": [
    {
     "data": {
      "text/plain": [
       "'CH2-[CH2]-CH2 r6'"
      ]
     },
     "execution_count": 185,
     "metadata": {},
     "output_type": "execute_result"
    }
   ],
   "source": [
    "def correct_label(main_atom, label, name):\n",
    "    if main_atom == \"CH2\":\n",
    "        if label == \"CH2-[CH2]-CH2\":\n",
    "            if name == \"cyclopentane\":\n",
    "                return 'CH2-[CH2]-CH2 r5'\n",
    "            if name == \"cyclohexane\":\n",
    "                return 'CH2-[CH2]-CH2 r6'\n",
    "            if name in ['cyclododecane', 'cyclooctadecane', 'cyclooctane']:\n",
    "                return 'CH2-[CH2]-CH2 r8+'\n",
    "        \n",
    "        if name == '1,3-dioxolane':\n",
    "            if label == \"CH2-[CH2]-CH2\":\n",
    "                return \"CH2-[CH2]-CH2 r6\"\n",
    "            if label == 'O-[CH2]-CH2':\n",
    "                return \"O-[CH2]-CH2-O\"\n",
    "            if label == 'O-[CH2]-O':\n",
    "                return 'CH2-O-[CH2]-O-CH2'    \n",
    "        if name == '1,3,5-trioxane':\n",
    "            return 'CH2-O-[CH2]-O-CH2'\n",
    "\n",
    "        if name == \"tetrahydrofuran\":\n",
    "            if label == 'O-[CH2]-CH2':\n",
    "                return 'O-[CH2]-CH2 r5'\n",
    "            if label == 'O-CH2-[CH2]-CH2':\n",
    "                return 'O-CH2-[CH2]-CH2 r5'\n",
    "        if name == \"oxane\":\n",
    "            if label == 'O-[CH2]-CH2':\n",
    "                return 'O-[CH2]-CH2 r6'\n",
    "            if label == 'O-CH2-[CH2]-CH2':\n",
    "                return 'O-CH2-[CH2]-CH2 r6'\n",
    "        \n",
    "        if name == \"1,3-dioxane\":\n",
    "            if label == 'O-[CH2]-O':\n",
    "                return 'CH2-O-[CH2]-O-CH2'\n",
    "            if label == 'O-CH2-[CH2]-CH2':\n",
    "                return 'O-CH2-[CH2]-CH2 r6'\n",
    "        if name == \"oxane\":\n",
    "            if label == 'O-[CH2]-CH2':\n",
    "                return 'O-[CH2]-CH2 r6'\n",
    "            if label == 'CH2-[CH2]-CH2':\n",
    "                return 'CH2-[CH2]-CH2 r6'\n",
    "            if label == \"O-CH2-[CH2]-CH2\":\n",
    "                return \"O-CH2-[CH2]-CH2 r6\"\n",
    "\n",
    "    if main_atom == \"O\":\n",
    "        if label == 'CH2-[O]-CH2':\n",
    "            if name == '1,3,5-trioxane':\n",
    "                return 'O-CH2-[O]-CH2-O'\n",
    "            if name == \"tetrahydrofuran\":\n",
    "                return 'CH2-[O]-CH2 r5'\n",
    "            if name == \"oxane\":\n",
    "                return 'CH2-[O]-CH2 r6'\n",
    "            if name == \"ethylene oxide\":\n",
    "                return 'CH2-[O]-CH2 r3'\n",
    "\n",
    "        if label == 'CH2-[O]-CH2-O': \n",
    "            if name == '1,3-dioxolane':\n",
    "                return 'CH2-[O]-CH2-O r5'\n",
    "            if name == '1,3-dioxane':\n",
    "                return 'CH2-[O]-CH2-O r6'\n",
    "    return label\n",
    "correct_label(\"CH2\", \"CH2-[CH2]-CH2\", \"oxane\")"
   ]
  },
  {
   "cell_type": "markdown",
   "id": "7ad7ea1f",
   "metadata": {},
   "source": [
    "##### Adapt labels"
   ]
  },
  {
   "cell_type": "code",
   "execution_count": 173,
   "id": "75d0145c",
   "metadata": {},
   "outputs": [],
   "source": [
    "x = type_to_label[\"CH2\"]\n",
    "x['CH2-[CH2]-CH2 r5']= \"ch2_CH2_ch2\"\n",
    "x['CH2-[CH2]-CH2 r6']= \"ch2_CH2_ch2\"\n",
    "x['CH2-[CH2]-CH2 r8+']= \"ch2_CH2_ch2\"\n",
    "x['O-[CH2]-CH2 r5']= \"o_CH2_c\"\n",
    "x['O-[CH2]-CH2 r6']= \"o_CH2_c\"\n",
    "x['O-CH2-[CH2]-CH2 r6']= \"oc_CH2_c\"\n",
    "x['O-CH2-[CH2]-CH2 r5']= \"oc_CH2_c\"\n",
    "x['O-[CH2]-O']= \"o_CH2_o\"\n",
    "x['CH2-O-[CH2]-O-CH2']= \"co_CH2_oc\"\n",
    "x['O-[CH2]-CH2-O']= \"o_CH2_co\"\n",
    "\n",
    "x = type_to_label[\"O\"]\n",
    "x['CH2-[O]-CH2 r5']= \"ch2_O_ch2\"\n",
    "x['CH2-[O]-CH2 r6'] = \"ch2_O_ch2\"\n",
    "x['CH2-[O]-CH2 r3'] = \"ch2_O_ch2\"\n",
    "x['CH2-[O]-CH2-O r5']= \"ch2_O_ch2o\"\n",
    "x['CH2-[O]-CH2-O r6']= \"ch2_O_ch2o\"\n",
    "x['O-CH2-[O]-CH2-O']= \"och2_O_ch2o\""
   ]
  },
  {
   "cell_type": "markdown",
   "id": "01886503",
   "metadata": {},
   "source": [
    "##### Adapt SMARTS"
   ]
  },
  {
   "cell_type": "code",
   "execution_count": 193,
   "id": "cc1c50ff",
   "metadata": {},
   "outputs": [],
   "source": [
    "x = type_to_smarts[\"CH2\"]\n",
    "x['CH2-[CH2]-CH2 r5']= \"[CH2;r5][CH2;r5][CH2;r5]\"\n",
    "x['CH2-[CH2]-CH2 r6']= \"[CH2;r6][CH2;r6][CH2;r6]\"\n",
    "x['CH2-[CH2]-CH2 r8+']= \"[CH2;r7+][CH2;r7+][CH2;r7+]\"\n",
    "del x['CH2-[CH2]-CH2']\n",
    "\n",
    "x['O-[CH2]-CH2 r5']= \"[O;r5][CH2;r5][CH2;r5]\"\n",
    "x['O-[CH2]-CH2 r6']= \"[O;r6][CH2;r6][CH2;r6]\"\n",
    "del x['O-[CH2]-CH2']\n",
    "\n",
    "x['O-CH2-[CH2]-CH2 r6']= \"[O;r6][CH2;r6][CH2;r6][CH2;r6]\"\n",
    "x['O-CH2-[CH2]-CH2 r5']= \"[O;r5][CH2;r5][CH2;r5][CH2;r5]\"\n",
    "del x['O-CH2-[CH2]-CH2']\n",
    "\n",
    "x['O-[CH2]-O']= '[O][CH2][O]'\n",
    "x['CH2-O-[CH2]-O-CH2']= \"[CH2][O][CH2][O][CH2]\"\n",
    "x['O-[CH2]-CH2-O']= \"[O][CH2][CH2][O]\"\n",
    "\n",
    "x = type_to_smarts[\"O\"]\n",
    "x['CH2-[O]-CH2-O r5']= \"[CH2;r5][O;r5][CH2;r5][O]\"\n",
    "x['CH2-[O]-CH2-O r6']= \"[CH2;r6][O;r6][CH2;r6][O]\"\n",
    "del x['CH2-[O]-CH2-O']\n",
    "\n",
    "x['CH2-[O]-CH2 r5']= \"[CH2;r5][O;r5][CH2;r5]\"\n",
    "x['CH2-[O]-CH2 r6'] = \"[CH2;r6][O;r6][CH2;r6]\"\n",
    "x['CH2-[O]-CH2 r3'] = \"[CH2;r3][O;r3][CH2;r3]\"\n",
    "del x['CH2-[O]-CH2']\n",
    "\n",
    "x['O-CH2-[O]-CH2-O']= \"[O][CH2][O][CH2][O]\""
   ]
  },
  {
   "cell_type": "code",
   "execution_count": 357,
   "id": "61b09752",
   "metadata": {},
   "outputs": [],
   "source": [
    "import pickle\n",
    "\n",
    "with open(\"parameters/ps_type_to_label.pkl\", \"wb\") as f:\n",
    "    pickle.dump(type_to_label, f)\n",
    "\n",
    "with open(\"parameters/ps_type_to_smarts.pkl\", \"wb\") as f:\n",
    "    pickle.dump(type_to_smarts, f)\n",
    "\n",
    "with open(\"parameters/param_types.pkl\", \"wb\") as f:\n",
    "    pickle.dump(param_types, f)\n",
    "\n",
    "\n",
    "\n",
    "with open(\"parameters/ps_type_to_label.pkl\", \"rb\") as f:\n",
    "    type_to_label = pickle.load(f)\n",
    "\n",
    "with open(\"parameters/ps_type_to_smarts.pkl\", \"rb\") as f:\n",
    "    type_to_smarts = pickle.load(f)\n",
    "\n",
    "with open(\"parameters/param_types.pkl\", \"rb\") as f:\n",
    "    param_types = pickle.load(f)"
   ]
  },
  {
   "cell_type": "markdown",
   "id": "d3eb4a21",
   "metadata": {},
   "source": [
    "## Load critical properties"
   ]
  },
  {
   "cell_type": "code",
   "execution_count": 177,
   "id": "e179713d",
   "metadata": {},
   "outputs": [],
   "source": [
    "import pandas as pd"
   ]
  },
  {
   "cell_type": "code",
   "execution_count": 119,
   "id": "34471666",
   "metadata": {},
   "outputs": [
    {
     "name": "stdout",
     "output_type": "stream",
     "text": [
      "Index(['smiles', 'Tc (K)', 'Pc (bar)', 'omega (-)'], dtype='object')\n"
     ]
    },
    {
     "data": {
      "text/html": [
       "<div>\n",
       "<style scoped>\n",
       "    .dataframe tbody tr th:only-of-type {\n",
       "        vertical-align: middle;\n",
       "    }\n",
       "\n",
       "    .dataframe tbody tr th {\n",
       "        vertical-align: top;\n",
       "    }\n",
       "\n",
       "    .dataframe thead th {\n",
       "        text-align: right;\n",
       "    }\n",
       "</style>\n",
       "<table border=\"1\" class=\"dataframe\">\n",
       "  <thead>\n",
       "    <tr style=\"text-align: right;\">\n",
       "      <th></th>\n",
       "      <th>smiles</th>\n",
       "      <th>Tc (K)</th>\n",
       "      <th>Pc (bar)</th>\n",
       "      <th>omega (-)</th>\n",
       "    </tr>\n",
       "  </thead>\n",
       "  <tbody>\n",
       "    <tr>\n",
       "      <th>0</th>\n",
       "      <td>C</td>\n",
       "      <td>190.56</td>\n",
       "      <td>45.97</td>\n",
       "      <td>0.011</td>\n",
       "    </tr>\n",
       "    <tr>\n",
       "      <th>1</th>\n",
       "      <td>CC</td>\n",
       "      <td>305.35</td>\n",
       "      <td>48.71</td>\n",
       "      <td>0.099</td>\n",
       "    </tr>\n",
       "    <tr>\n",
       "      <th>2</th>\n",
       "      <td>CCC</td>\n",
       "      <td>369.82</td>\n",
       "      <td>42.39</td>\n",
       "      <td>0.151</td>\n",
       "    </tr>\n",
       "    <tr>\n",
       "      <th>3</th>\n",
       "      <td>CCCC</td>\n",
       "      <td>425.15</td>\n",
       "      <td>37.90</td>\n",
       "      <td>0.199</td>\n",
       "    </tr>\n",
       "    <tr>\n",
       "      <th>4</th>\n",
       "      <td>CCCCC</td>\n",
       "      <td>469.69</td>\n",
       "      <td>33.67</td>\n",
       "      <td>0.252</td>\n",
       "    </tr>\n",
       "    <tr>\n",
       "      <th>...</th>\n",
       "      <td>...</td>\n",
       "      <td>...</td>\n",
       "      <td>...</td>\n",
       "      <td>...</td>\n",
       "    </tr>\n",
       "    <tr>\n",
       "      <th>5675</th>\n",
       "      <td>CCCCCOC(=O)C1=CC=CC=C1</td>\n",
       "      <td>736.00</td>\n",
       "      <td>21.90</td>\n",
       "      <td>NaN</td>\n",
       "    </tr>\n",
       "    <tr>\n",
       "      <th>5676</th>\n",
       "      <td>CCCCCCOC(=O)C1=CC=CC=C1</td>\n",
       "      <td>748.00</td>\n",
       "      <td>19.80</td>\n",
       "      <td>NaN</td>\n",
       "    </tr>\n",
       "    <tr>\n",
       "      <th>5677</th>\n",
       "      <td>C(=C/F)\\C(F)(F)F</td>\n",
       "      <td>382.40</td>\n",
       "      <td>36.40</td>\n",
       "      <td>NaN</td>\n",
       "    </tr>\n",
       "    <tr>\n",
       "      <th>5678</th>\n",
       "      <td>C(=C\\F)\\C(F)(F)F</td>\n",
       "      <td>423.30</td>\n",
       "      <td>35.33</td>\n",
       "      <td>NaN</td>\n",
       "    </tr>\n",
       "    <tr>\n",
       "      <th>5679</th>\n",
       "      <td>C=C(C(F)(F)F)F</td>\n",
       "      <td>367.85</td>\n",
       "      <td>33.81</td>\n",
       "      <td>NaN</td>\n",
       "    </tr>\n",
       "  </tbody>\n",
       "</table>\n",
       "<p>5680 rows × 4 columns</p>\n",
       "</div>"
      ],
      "text/plain": [
       "                       smiles  Tc (K)  Pc (bar)  omega (-)\n",
       "0                           C  190.56     45.97      0.011\n",
       "1                          CC  305.35     48.71      0.099\n",
       "2                         CCC  369.82     42.39      0.151\n",
       "3                        CCCC  425.15     37.90      0.199\n",
       "4                       CCCCC  469.69     33.67      0.252\n",
       "...                       ...     ...       ...        ...\n",
       "5675   CCCCCOC(=O)C1=CC=CC=C1  736.00     21.90        NaN\n",
       "5676  CCCCCCOC(=O)C1=CC=CC=C1  748.00     19.80        NaN\n",
       "5677         C(=C/F)\\C(F)(F)F  382.40     36.40        NaN\n",
       "5678         C(=C\\F)\\C(F)(F)F  423.30     35.33        NaN\n",
       "5679           C=C(C(F)(F)F)F  367.85     33.81        NaN\n",
       "\n",
       "[5680 rows x 4 columns]"
      ]
     },
     "execution_count": 119,
     "metadata": {},
     "output_type": "execute_result"
    }
   ],
   "source": [
    "data = pd.read_csv(\"properties/critprop_data_only_smiles_mean_value_expt.csv\", usecols=[0,1,2,4])\n",
    "print(data.columns)\n",
    "data"
   ]
  },
  {
   "cell_type": "code",
   "execution_count": 120,
   "id": "5051d448",
   "metadata": {},
   "outputs": [
    {
     "name": "stdout",
     "output_type": "stream",
     "text": [
      "5680\n"
     ]
    },
    {
     "data": {
      "text/html": [
       "<div>\n",
       "<style scoped>\n",
       "    .dataframe tbody tr th:only-of-type {\n",
       "        vertical-align: middle;\n",
       "    }\n",
       "\n",
       "    .dataframe tbody tr th {\n",
       "        vertical-align: top;\n",
       "    }\n",
       "\n",
       "    .dataframe thead th {\n",
       "        text-align: right;\n",
       "    }\n",
       "</style>\n",
       "<table border=\"1\" class=\"dataframe\">\n",
       "  <thead>\n",
       "    <tr style=\"text-align: right;\">\n",
       "      <th></th>\n",
       "      <th>smiles</th>\n",
       "      <th>Tc (K)</th>\n",
       "      <th>Pc (bar)</th>\n",
       "      <th>omega (-)</th>\n",
       "    </tr>\n",
       "  </thead>\n",
       "  <tbody>\n",
       "    <tr>\n",
       "      <th>76</th>\n",
       "      <td>CCCO</td>\n",
       "      <td>536.78</td>\n",
       "      <td>51.48</td>\n",
       "      <td>0.621</td>\n",
       "    </tr>\n",
       "  </tbody>\n",
       "</table>\n",
       "</div>"
      ],
      "text/plain": [
       "   smiles  Tc (K)  Pc (bar)  omega (-)\n",
       "76   CCCO  536.78     51.48      0.621"
      ]
     },
     "execution_count": 120,
     "metadata": {},
     "output_type": "execute_result"
    }
   ],
   "source": [
    "all_smiles = data[\"smiles\"]\n",
    "print(len(all_smiles))\n",
    "query = \"CCCO\"\n",
    "x = data[data[\"smiles\"] == query]\n",
    "x"
   ]
  },
  {
   "cell_type": "code",
   "execution_count": 121,
   "id": "041261fb",
   "metadata": {},
   "outputs": [
    {
     "data": {
      "text/plain": [
       "dict_keys(['smiles', 'Tc (K)', 'Pc (bar)', 'omega (-)'])"
      ]
     },
     "execution_count": 121,
     "metadata": {},
     "output_type": "execute_result"
    }
   ],
   "source": [
    "x.to_dict('records')[0].keys()"
   ]
  },
  {
   "cell_type": "markdown",
   "id": "27d2dfb4",
   "metadata": {},
   "source": [
    "#### Check if the smiles are the pubchem smiles"
   ]
  },
  {
   "cell_type": "code",
   "execution_count": 122,
   "id": "64c767a1",
   "metadata": {},
   "outputs": [],
   "source": [
    "fails = 0\n",
    "f = {}\n",
    "success = 0\n",
    "exceptions = {}\n",
    "\n",
    "for s in all_smiles[600:700]:\n",
    "    try:\n",
    "        id = smiles_to_pubchem_id(s, same_isotope=False)\n",
    "        smiles_pubchem = pubchem_id_to_property(id[0], \"SMILES\")\n",
    "        if s in smiles_pubchem:\n",
    "            success +=1\n",
    "        else:\n",
    "            fails += 1\n",
    "            f[s] = smiles_pubchem\n",
    "    except Exception as e:\n",
    "        exceptions[s] = e"
   ]
  },
  {
   "cell_type": "code",
   "execution_count": 123,
   "id": "2fdb1fdb",
   "metadata": {},
   "outputs": [
    {
     "name": "stdout",
     "output_type": "stream",
     "text": [
      "4 96\n"
     ]
    }
   ],
   "source": [
    "print(fails, success)"
   ]
  },
  {
   "cell_type": "code",
   "execution_count": 124,
   "id": "be9b2b11",
   "metadata": {},
   "outputs": [
    {
     "name": "stdout",
     "output_type": "stream",
     "text": [
      "{'C=C/C(C)=C/C': ['C/C=C(\\\\C)/C=C'], 'C/C=C/CC(C)=O': ['C/C=C/CC(=O)C'], 'C/C=C(/C=O)CC': ['CC/C(=C\\\\C)/C=O'], 'C/C=C/C(=O)OCC': ['CCOC(=O)/C=C/C']}\n"
     ]
    }
   ],
   "source": [
    "print(f)    # other canonicalization!"
   ]
  },
  {
   "cell_type": "code",
   "execution_count": 125,
   "id": "60d3c7bd",
   "metadata": {},
   "outputs": [
    {
     "data": {
      "text/plain": [
       "['C/C=C/CC(=O)C']"
      ]
     },
     "execution_count": 125,
     "metadata": {},
     "output_type": "execute_result"
    }
   ],
   "source": [
    "id = smiles_to_pubchem_id('C/C=C/CC(C)=O', same_isotope=False)\n",
    "smiles_pubchem = pubchem_id_to_property(id[0], \"SMILES\")\n",
    "smiles_pubchem"
   ]
  },
  {
   "cell_type": "markdown",
   "id": "c260dcf7",
   "metadata": {},
   "source": [
    "#### Update SMILES to PubChem compatible SMILES"
   ]
  },
  {
   "cell_type": "code",
   "execution_count": 126,
   "id": "cf7878f5",
   "metadata": {},
   "outputs": [],
   "source": [
    "def smiles_to_pubchem_smiles(smiles):\n",
    "    try:\n",
    "        id = smiles_to_pubchem_id(s, same_isotope=False)\n",
    "        smiles_pubchem = pubchem_id_to_property(id[0], \"SMILES\")\n",
    "        if s in smiles_pubchem:\n",
    "            return smiles\n",
    "        else:\n",
    "            print(smiles,\" -> \", smiles_pubchem)\n",
    "            return smiles_pubchem\n",
    "    except Exception as e:\n",
    "        return smiles\n",
    "\n",
    "# data['smiles'] = data['smiles'].apply(smiles_to_pubchem_smiles)   # ~ 60 min"
   ]
  },
  {
   "cell_type": "markdown",
   "id": "a4778667",
   "metadata": {},
   "source": [
    "### Interface"
   ]
  },
  {
   "cell_type": "code",
   "execution_count": null,
   "id": "05d49aad",
   "metadata": {},
   "outputs": [],
   "source": [
    "# load data only if required, store for next time\n",
    "def get_properties(smiles):\n",
    "    properties = data[data[\"smiles\"] == smiles]\n",
    "    return properties.to_dict('records')[0]         # keys = ['smiles', 'Tc (K)', 'Pc (bar)', 'omega (-)']\n",
    "from rdkit import Chem\n",
    "from rdkit.Chem import Atom\n",
    "\n",
    "print(\"Main atom types: \", list(type_to_smarts.keys()))"
   ]
  },
  {
   "cell_type": "markdown",
   "id": "bb0a6849",
   "metadata": {},
   "source": [
    "# Bonded interactions"
   ]
  },
  {
   "cell_type": "code",
   "execution_count": 195,
   "id": "8f9a8274",
   "metadata": {},
   "outputs": [
    {
     "name": "stdout",
     "output_type": "stream",
     "text": [
      "Warning: No path was set for Molecule loader!\n"
     ]
    }
   ],
   "source": [
    "t = MoleculeLoader()"
   ]
  },
  {
   "cell_type": "markdown",
   "id": "b2718deb",
   "metadata": {},
   "source": [
    "### Check for uniquness:"
   ]
  },
  {
   "cell_type": "code",
   "execution_count": 196,
   "id": "647dade6",
   "metadata": {},
   "outputs": [],
   "source": [
    "stretch_labels = {}   # label : {force constants}\n",
    "bend_labels = {}\n",
    "torsion_labels = {}\n",
    "\n",
    "for name, id in t.molecules.items():\n",
    "    trappe_parameters = download_parameters(id)\n",
    "    \n",
    "    stretches =t.parse_section(trappe_parameters, \"#,stretch\", 4)\n",
    "    bond_stretches = []\n",
    "    bonds = []\n",
    "    for bond in stretches:\n",
    "        _, bond_range, bond_type, length_str = bond\n",
    "        if bond_type not in stretch_labels.keys():\n",
    "            stretch_labels[bond_type] = set()\n",
    "        stretch_labels[bond_type].add(length_str)\n",
    "\n",
    "        #if bond_type == \"CH2-O\":\n",
    "        #    print(name, length_str)\n",
    "   \n",
    "    bends =t.parse_section(trappe_parameters, \"#,bend\", 5)\n",
    "    bond_bends = []\n",
    "    for bend in bends:\n",
    "        _, bend_range, bend_type, theta_str, k_theta_str = bend\n",
    "        if bend_type not in bend_labels.keys():\n",
    "            bend_labels[bend_type] = set()\n",
    "        bend_labels[bend_type].add((theta_str, k_theta_str))\n",
    "        \n",
    "    torsions =t.parse_section(trappe_parameters, \"#,torsion\", 7)\n",
    "    bond_torsions = []\n",
    "    for torsion in torsions:\n",
    "        _, torsion_range, torsion_type, c0_str, c1_str, c2_str, c3_str = torsion\n",
    "        if torsion_type not in torsion_labels.keys():\n",
    "            torsion_labels[torsion_type] = set()\n",
    "        torsion_labels[torsion_type].add((c0_str, c1_str, c2_str, c3_str))"
   ]
  },
  {
   "cell_type": "code",
   "execution_count": 197,
   "id": "d4fcbd40",
   "metadata": {},
   "outputs": [
    {
     "data": {
      "text/plain": [
       "{'CH2-O': {'1.41', '1.431'}}"
      ]
     },
     "execution_count": 197,
     "metadata": {},
     "output_type": "execute_result"
    }
   ],
   "source": [
    "{i:j for i,j in stretch_labels.items() if len(j) > 1} \n",
    "# unique stretch lenght except for 'CH2-O': {'1.41', '1.431'}\n",
    "# 1.431 is for ethylene oxide (epoxide)!"
   ]
  },
  {
   "cell_type": "code",
   "execution_count": 198,
   "id": "48c25b30",
   "metadata": {},
   "outputs": [
    {
     "data": {
      "text/plain": [
       "{}"
      ]
     },
     "execution_count": 198,
     "metadata": {},
     "output_type": "execute_result"
    }
   ],
   "source": [
    "{i:j for i,j in bend_labels.items() if len(j) > 1} # unique stretch lenght except for 'CH2-O': {'1.41', '1.431'},"
   ]
  },
  {
   "cell_type": "code",
   "execution_count": 199,
   "id": "0718c85c",
   "metadata": {},
   "outputs": [
    {
     "data": {
      "text/plain": [
       "{}"
      ]
     },
     "execution_count": 199,
     "metadata": {},
     "output_type": "execute_result"
    }
   ],
   "source": [
    "{i:j for i,j in torsion_labels.items() if len(j) > 1}"
   ]
  },
  {
   "cell_type": "markdown",
   "id": "75a0d4c6",
   "metadata": {},
   "source": [
    "## Generate useful datastructures with information on bonded interactions"
   ]
  },
  {
   "cell_type": "code",
   "execution_count": 260,
   "id": "c287ac21",
   "metadata": {},
   "outputs": [
    {
     "name": "stdout",
     "output_type": "stream",
     "text": [
      "No data available for  methyl acetate\n",
      "No data available for  ethyl acetate\n",
      "No data available for  methyl propionate\n",
      "No data available for  vinyl acetate\n"
     ]
    }
   ],
   "source": [
    "stretch_labels = {}   # label : force constant\n",
    "stretches_atoms = {}   # tuple(atom1, atom2) : label\n",
    "stretches_atoms_bonds = {}  #atom1 : {atom2 : label}        => two directions\n",
    "\n",
    "bend_labels = {}       # label : params\n",
    "bend_atoms = {}        # atom_center : {atom_left :{atom_right : label}}    => two directions\n",
    "\n",
    "torsion_labels = {}\n",
    "torsion_atoms = {}     # a1 : {a2 : {a3: {a4 : label}}}         => two directions\n",
    "\n",
    "for name, id in t.molecules.items():\n",
    "    trappe_parameters = download_parameters(id) \n",
    "\n",
    "    id_ps = {}   \n",
    "\n",
    "    if name in [\"methyl acetate\", \"ethyl acetate\", \"methyl propionate\", \"vinyl acetate\"]:\n",
    "        print(\"No data available for \", name)\n",
    "        continue\n",
    "    \n",
    "    try:\n",
    "        pseudoatoms =t.parse_section(trappe_parameters, \"#,(pseudo)atom\", 6)\n",
    "        for atom in pseudoatoms:\n",
    "            \n",
    "            ps_id = int(atom[0])-1\n",
    "            main_atom = atom[1]\n",
    "            ps_type = atom[2]\n",
    "            epsilon = float(atom[3])\n",
    "            sigma = float(atom[4])\n",
    "            charge = float(atom[5])\n",
    "            \n",
    "            ps_type = correct_label(main_atom, ps_type, name)\n",
    "            if ps_type == \"CH2-[CH2]-CH2\":\n",
    "                print(name, atom)\n",
    "            \n",
    "            id_ps[ps_id] = ps_type\n",
    "\n",
    "            if main_atom not in atom_types.keys():\n",
    "                atom_types[main_atom] = set()\n",
    "            atom_types[main_atom].add(ps_type)\n",
    "            #if main_atom == \"M\":\n",
    "            #    print(name, ps_type)\n",
    "\n",
    "        stretches =t.parse_section(trappe_parameters, \"#,stretch\", 4)\n",
    "        bond_stretches = []\n",
    "        bonds = []\n",
    "        for bond in stretches:\n",
    "            if bond == ['', '\"\\' - \\'\"', '', '']:\n",
    "                continue\n",
    "\n",
    "            _, bond_range, bond_type, length_str = bond\n",
    "            if bond_type not in stretch_labels.keys():\n",
    "                stretch_labels[bond_type] = set()\n",
    "            stretch_labels[bond_type].add(length_str)\n",
    "\n",
    "            #if bond_type == \"CH2-O\":\n",
    "            #    print(name, length_str)\n",
    "\n",
    "            \n",
    "            bond_range = bond_range.strip(' \"\\'')\n",
    "            parts = [p.strip(' \"\\'') for p in bond_range.split('-')]\n",
    "            try:\n",
    "                atom1 = int(parts[0]) - 1  # Convert from 1-indexed to 0-indexed.\n",
    "                atom2 = int(parts[1]) - 1\n",
    "                eq_length = float(length_str)\n",
    "\n",
    "                ps1 = id_ps[atom1]\n",
    "                ps2 = id_ps[atom2]\n",
    "\n",
    "                stretches_atoms[(ps1, ps2)] = bond_type\n",
    "\n",
    "                if ps1 not in stretches_atoms_bonds.keys():\n",
    "                    stretches_atoms_bonds[ps1] = dict()\n",
    "                \n",
    "                if ps2 not in stretches_atoms_bonds.keys():\n",
    "                    stretches_atoms_bonds[ps2] = dict()\n",
    "\n",
    "                stretches_atoms_bonds[ps1][ps2] = bond_type\n",
    "                stretches_atoms_bonds[ps2][ps1] = bond_type\n",
    "\n",
    "\n",
    "            except Exception as e:\n",
    "                raise e\n",
    "        \n",
    "        bends =t.parse_section(trappe_parameters, \"#,bend\", 5)\n",
    "        bond_bends = []\n",
    "        for bend in bends:\n",
    "            if bend == ['', '\"\\' -  - \\'\"', '', '', '']:\n",
    "                continue\n",
    "\n",
    "            # bend: [index, bend_range, bend_type, theta_str, k_theta_str]\n",
    "            _, bend_range, bend_type, theta_str, k_theta_str = bend\n",
    "            if bend_type not in bend_labels.keys():\n",
    "                bend_labels[bend_type] = set()\n",
    "            bend_labels[bend_type].add((float(theta_str), float(k_theta_str)))\n",
    "            \n",
    "            bend_range = bend_range.strip(' \"\\'')\n",
    "            parts = [p.strip(' \"\\'') for p in bend_range.split('-')]\n",
    "            if len(parts) == 3:\n",
    "\n",
    "                atom2 = int(parts[0]) - 1\n",
    "                atom1 = int(parts[1]) - 1   # center atom!\n",
    "                atom3 = int(parts[2]) - 1\n",
    "                theta = float(theta_str)\n",
    "                force_constant = float(k_theta_str)\n",
    "                    \n",
    "                ps1 = id_ps[atom1]\n",
    "                ps2 = id_ps[atom2]\n",
    "                ps3 = id_ps[atom3]\n",
    "                \n",
    "                if ps1 not in bend_atoms.keys():\n",
    "                    bend_atoms[ps1] = dict()\n",
    "\n",
    "                if ps2 not in bend_atoms[ps1].keys():\n",
    "                    bend_atoms[ps1][ps2] = dict()\n",
    "                if ps3 not in bend_atoms[ps1].keys():\n",
    "                    bend_atoms[ps1][ps3] = dict()\n",
    "\n",
    "                bend_atoms[ps1][ps2][ps3] = bend_type\n",
    "                bend_atoms[ps1][ps3][ps2] = bend_type\n",
    "\n",
    "            \n",
    "        torsions =t.parse_section(trappe_parameters, \"#,torsion\", 7)\n",
    "        bond_torsions = []\n",
    "        for torsion in torsions:\n",
    "            # torsion: [index, torsion_range, torsion_type, c0_str, c1_str, c2_str, c3_str]\n",
    "            _, torsion_range, torsion_type, c0_str, c1_str, c2_str, c3_str = torsion\n",
    "            if torsion_type not in torsion_labels.keys():\n",
    "                torsion_labels[torsion_type] = set()\n",
    "            \n",
    "            torsion_labels[torsion_type].add((float(c0_str), float(c1_str), float(c2_str), float(c3_str)))\n",
    "            \n",
    "            torsion_range = torsion_range.strip(' \"\\'')\n",
    "            parts = [p.strip(' \"\\'') for p in torsion_range.split('-')]\n",
    "            if len(parts) == 4:\n",
    "            \n",
    "                atom1 = int(parts[0]) - 1\n",
    "                atom2 = int(parts[1]) - 1\n",
    "                atom3 = int(parts[2]) - 1\n",
    "                atom4 = int(parts[3]) - 1\n",
    "            \n",
    "                ps1 = id_ps[atom1]\n",
    "                ps2 = id_ps[atom2]\n",
    "                ps3 = id_ps[atom3]\n",
    "                ps4 = id_ps[atom4]\n",
    "                \n",
    "                if ps1 not in torsion_atoms.keys():\n",
    "                    torsion_atoms[ps1] = dict()\n",
    "                if ps4 not in torsion_atoms.keys():\n",
    "                    torsion_atoms[ps4] = dict()\n",
    "\n",
    "                if ps2 not in torsion_atoms[ps1].keys():\n",
    "                    torsion_atoms[ps1][ps2] = dict()\n",
    "                if ps3 not in torsion_atoms[ps4].keys():\n",
    "                    torsion_atoms[ps4][ps3] = dict()\n",
    "\n",
    "                if ps3 not in torsion_atoms[ps1][ps2].keys():\n",
    "                    torsion_atoms[ps1][ps2][ps3] = dict()\n",
    "                if ps2 not in torsion_atoms[ps4][ps3].keys():\n",
    "                    torsion_atoms[ps4][ps3][ps2] = dict()\n",
    "\n",
    "                torsion_atoms[ps1][ps2][ps3][ps4] = torsion_type\n",
    "                torsion_atoms[ps4][ps3][ps2][ps1] = torsion_type                \n",
    "            \n",
    "    except Exception as e:\n",
    "        print(name, e)"
   ]
  },
  {
   "cell_type": "code",
   "execution_count": 261,
   "id": "96ea3a4c",
   "metadata": {},
   "outputs": [],
   "source": [
    "import pickle\n",
    "\n",
    "bonded = (stretch_labels, stretches_atoms, stretches_atoms_bonds, bend_labels, bend_atoms, torsion_labels, torsion_atoms)\n",
    "with open(f\"parameters/bonded.pkl\", \"wb\") as f:\n",
    "    pickle.dump(bonded, f)\n",
    "\n",
    "with open(\"parameters/bonded.pkl\", \"rb\") as f:\n",
    "    bonded = pickle.load(f)\n",
    "\n",
    "stretch_labels, stretches_atoms, stretches_atoms_bonds, bend_labels, bend_atoms, torsion_labels, torsion_atoms = bonded"
   ]
  },
  {
   "cell_type": "code",
   "execution_count": 202,
   "id": "d8dc4e67",
   "metadata": {},
   "outputs": [
    {
     "data": {
      "text/plain": [
       "[37, 193, 105, 58, 72, 47, 49]"
      ]
     },
     "execution_count": 202,
     "metadata": {},
     "output_type": "execute_result"
    }
   ],
   "source": [
    "[len(i) for i in bonded]"
   ]
  },
  {
   "cell_type": "markdown",
   "id": "df26818e",
   "metadata": {},
   "source": [
    "# SMARTS pattern matching"
   ]
  },
  {
   "cell_type": "code",
   "execution_count": 203,
   "id": "64a4d508",
   "metadata": {},
   "outputs": [],
   "source": [
    "def get_main_type(atom : Atom):\n",
    "    \"\"\"\n",
    "    Returns the main_type string for a given atom, or None if no match.\n",
    "    \"\"\"\n",
    "    symbol = atom.GetSymbol()\n",
    "    if symbol != 'C':\n",
    "        if symbol in ['C', 'N', 'O', 'H', 'S', 'P', 'F']:\n",
    "            return symbol\n",
    "        else:\n",
    "            return None\n",
    "\n",
    "    num_h = atom.GetTotalNumHs()\n",
    "    num_f = sum(1 for nbr in atom.GetNeighbors() if nbr.GetSymbol() == 'F')\n",
    "    \n",
    "    if num_f == 3:\n",
    "        return 'CF3'\n",
    "    elif num_f == 2:\n",
    "        return 'CF2'\n",
    "    elif num_h == 4:\n",
    "        return 'CH4'\n",
    "    elif num_h == 3:\n",
    "        return 'CH3'\n",
    "    elif num_h == 2:\n",
    "        return 'CH2'\n",
    "    elif num_h == 1:\n",
    "        return 'CH'\n",
    "    elif num_h == 0:\n",
    "        return 'C'\n",
    "\n",
    "    return None"
   ]
  },
  {
   "cell_type": "code",
   "execution_count": 204,
   "id": "cabb5fb0",
   "metadata": {},
   "outputs": [],
   "source": [
    "def load_smarts(type_to_smarts):\n",
    "    # Precompile SMARTS\n",
    "    compiled_smarts = {\n",
    "        main_type: {\n",
    "            label: Chem.MolFromSmarts(smarts)\n",
    "            for label, smarts in label_dict.items()\n",
    "            if smarts is not None and Chem.MolFromSmarts(smarts) is not None\n",
    "        }\n",
    "        for main_type, label_dict in type_to_smarts.items() if main_type != \"M\"\n",
    "    }\n",
    "    return compiled_smarts\n",
    "\n",
    "res = load_smarts(type_to_smarts)\n",
    "for mol_dict in res.values():\n",
    "    for i, mol in mol_dict.items():\n",
    "        if i is None:\n",
    "            print(\"Invalid mol for SMARTS: \", i)"
   ]
  },
  {
   "cell_type": "code",
   "execution_count": 205,
   "id": "527eb6fc",
   "metadata": {},
   "outputs": [
    {
     "name": "stdout",
     "output_type": "stream",
     "text": [
      "CH3   ->   [CH3]-CHx\n",
      "CH2   ->   CHx-[CH2]-CHx\n",
      "CH2   ->   CHx-[CH2]-CHx\n",
      "CH2   ->   CHx-[CH2]-CHx\n",
      "CH2   ->   CHx-[CH2]-CHx\n",
      "CH3   ->   [CH3]-CHx\n"
     ]
    },
    {
     "data": {
      "image/png": "[encoded data removed]",
      "text/plain": [
       "<rdkit.Chem.rdchem.Mol at 0x16304e730>"
      ]
     },
     "execution_count": 205,
     "metadata": {},
     "output_type": "execute_result"
    }
   ],
   "source": [
    "def assign_atom_types_by_smarts(mol, type_to_smarts):\n",
    "    \"\"\"\n",
    "    Assigns:\n",
    "    - atom.SetProp(\"main_type\", main_type) using get_main_type()\n",
    "    - atom.SetProp(\"label\", label) based on SMARTS match and declared priority\n",
    "    \"\"\"\n",
    "    compiled_smarts = load_smarts(type_to_smarts)\n",
    "    \n",
    "    # First pass: assign main_type to all atoms\n",
    "    for atom in mol.GetAtoms():\n",
    "        main_type = get_main_type(atom)\n",
    "        if main_type in type_to_smarts:\n",
    "            atom.SetProp(\"main_type\", main_type)\n",
    "    \n",
    "    # Process atoms by main_type\n",
    "    for main_type, patterns in compiled_smarts.items():\n",
    "        atoms_of_type = [\n",
    "            atom for atom in mol.GetAtoms()\n",
    "            if atom.HasProp(\"main_type\") and atom.GetProp(\"main_type\") == main_type\n",
    "        ]\n",
    "        if not atoms_of_type:\n",
    "            continue\n",
    "\n",
    "        # Precompute all SMARTS matches for this type\n",
    "        pattern_matches = {}\n",
    "        for label, pattern in patterns.items():\n",
    "            matches = mol.GetSubstructMatches(pattern)\n",
    "            for match in matches:\n",
    "                for atom_idx in match:\n",
    "                    if atom_idx not in pattern_matches:\n",
    "                        pattern_matches[atom_idx] = label  # first match wins\n",
    "\n",
    "        # Assign labels\n",
    "        for atom in atoms_of_type:\n",
    "            idx = atom.GetIdx()\n",
    "            if idx in pattern_matches:\n",
    "                atom.SetProp(\"label\", pattern_matches[idx])\n",
    "            else:\n",
    "                atom.SetProp(\"label\", main_type)\n",
    "                print(\"Warning: No corresponding pseudoatom type could be assigned to atom with index \", atom.GetIdx(), \" and main type \", main_type)\n",
    "        # print(pattern_matches)\n",
    "    return mol\n",
    "\n",
    "mol = get_mol(\"hexane\")\n",
    "mol = assign_atom_types_by_smarts(mol, type_to_smarts)\n",
    "\n",
    "for atom in mol.GetAtoms():\n",
    "    print(atom.GetProp(\"main_type\"), \"  ->  \", atom.GetProp(\"label\"))\n",
    "\n",
    "mol"
   ]
  },
  {
   "cell_type": "code",
   "execution_count": 122,
   "id": "db822bda",
   "metadata": {},
   "outputs": [],
   "source": [
    "a='''\n",
    "print(\"Not covered: multiple overlapping functional groups\")\n",
    "mol = get_mol(\"1-hydroxy-hexan-2-one\")\n",
    "x = assign_atom_types_by_smarts(mol, type_to_smarts)\n",
    "x.__sssAtoms=[6]\n",
    "x.Compute2DCoords()\n",
    "\n",
    "for atom in x.GetAtoms():\n",
    "    print(atom.GetProp(\"main_type\"), \"  ->  \", atom.GetProp(\"label\"))\n",
    "x\n",
    "'''"
   ]
  },
  {
   "cell_type": "code",
   "execution_count": 342,
   "id": "4d0967c1",
   "metadata": {},
   "outputs": [],
   "source": [
    "def bonded_definitions(stretches, bends, torsions, bonded):\n",
    "    stretch_labels, _, _, bend_labels, _, torsion_labels, _ = bonded\n",
    "\n",
    "    # Bond stretching parameters\n",
    "    lines = []\n",
    "    \n",
    "    if len(stretches) > 0:\n",
    "        lines.append(\"# Bond stretch: atom n1-n2, type, parameters\")\n",
    "        for atoms, bond_type in stretches.items():\n",
    "            atom1, atom2 = atoms\n",
    "            eq_length = list(stretch_labels[bond_type])[0]\n",
    "            lines.append(f\"{atom1} {atom2} {bond_type} 96500 {eq_length}\")\n",
    "\n",
    "    # Bond bending parameters\n",
    "    if len(bends) > 0:\n",
    "        lines.append(\"# Bond bending: atom n1-n2-n3, type, parameters\")\n",
    "        for atoms, bend_type in bends.items():\n",
    "            atom1, atom2, atom3 = atoms \n",
    "            force_constant, theta = list(bend_labels[bend_type])[0]\n",
    "            lines.append(f\"{atom1} {atom2} {atom3} {bend_type} {force_constant} {theta}\")\n",
    "\n",
    "    # Torsion parameters\n",
    "    if len(torsions) > 0:\n",
    "        lines.append(\"# Torsion: atom n1-n2-n3-n4, type, parameters\")\n",
    "        for atoms, torsion_type in torsions.items():\n",
    "            atom1, atom2, atom3, atom4 = atoms\n",
    "            c0, c1, c2, c3 = list(torsion_labels[torsion_type])[0]\n",
    "            lines.append(f\"{atom1} {atom2} {atom3} {atom4} {torsion_type} {c0} {c1} {c2} {c3}\")\n",
    "    return\"\\n\".join(lines)"
   ]
  },
  {
   "cell_type": "code",
   "execution_count": 344,
   "id": "9664871e",
   "metadata": {},
   "outputs": [],
   "source": [
    "def assign_bonded_interactions(mol, bonded):\n",
    "    stretch_labels, stretches_atoms, stretches_atoms_bonds, bend_labels, bend_atoms, torsion_labels, torsion_atoms = bonded\n",
    "\n",
    "    bonds = {}\n",
    "\n",
    "    for bond in mol.GetBonds():\n",
    "        a1 = bond.GetBeginAtom().GetProp(\"label\")\n",
    "        a2 = bond.GetEndAtom().GetProp(\"label\")\n",
    "\n",
    "        label = stretches_atoms_bonds.get(a1, {}).get(a2, None)\n",
    "        if label is not None:\n",
    "            bond.SetProp(\"label\", label)\n",
    "            bonds[(bond.GetBeginAtom().GetIdx(), bond.GetEndAtom().GetIdx())] = label\n",
    "            continue\n",
    "        \n",
    "        print(\"No bond label could be matched for \", a1, \" <-> \", a2)\n",
    "        \n",
    "\n",
    "    bends = {}\n",
    "\n",
    "    for a in mol.GetAtoms():\n",
    "        neighbors = a.GetNeighbors()\n",
    "        if len(neighbors) < 2:\n",
    "            continue\n",
    "        \n",
    "        bends_a = bend_atoms.get(a.GetProp(\"label\"), None)\n",
    "        if bends_a is None:\n",
    "            print(\"No bends known for atom with type \", a.GetProp(\"label\"))\n",
    "            continue\n",
    "\n",
    "        for n1 in neighbors:\n",
    "            bends_t = bends_a.get(n1.GetProp(\"label\"), None)\n",
    "            if bends_t is None:\n",
    "                print(\"No bends known for atoms with type \", a.GetProp(\"label\"), \" and \", n1.GetProp(\"label\"))\n",
    "                break\n",
    "\n",
    "            for n2 in neighbors:\n",
    "                if n1 == n2:\n",
    "                    break\n",
    "                b = bends_t.get(n2.GetProp(\"label\"), None)\n",
    "                if b is None:\n",
    "                    print(\"No bends known for atoms with type \", a.GetProp(\"label\"), \" and \", n1.GetProp(\"label\"), \" and \", n2.GetProp(\"label\"))\n",
    "                    break\n",
    "                \n",
    "                bends[(n1.GetIdx(), a.GetIdx(), n2.GetIdx())] = b\n",
    "\n",
    "    torsions = {}\n",
    "    for bond in mol.GetBonds():\n",
    "        b_id = bond.GetIdx()\n",
    "\n",
    "        a1 = bond.GetBeginAtom()\n",
    "        a2 = bond.GetEndAtom()\n",
    "        l1 = a1.GetProp(\"label\")\n",
    "        l2 = a2.GetProp(\"label\")\n",
    "\n",
    "        # find all pairs of neighboring bonds\n",
    "        \n",
    "        b1 = [b for b in a1.GetBonds() if b.GetIdx() != b_id]\n",
    "        b2 = [b for b in a2.GetBonds() if b.GetIdx() != b_id]\n",
    "\n",
    "        if len(b1) == 0 or len(b2) == 0:    # >= 1 atom is terminal\n",
    "            continue\n",
    "\n",
    "        for b0 in b1:\n",
    "            a0 = [a for a in [b0.GetBeginAtom(), b0.GetEndAtom()] if a.GetIdx() != a1.GetIdx()][0]\n",
    "            l0 = a0.GetProp(\"label\")\n",
    "            \n",
    "            t0 = torsion_atoms.get(l0, None)\n",
    "            if t0 is None:\n",
    "                print(\"No torsion for atom \", l0)\n",
    "                continue\n",
    "\n",
    "            t1 = t0.get(l1, None)\n",
    "            if t1 is None:\n",
    "                print(\"No torsion for atom \",l0, \" <-> \", l1)\n",
    "                continue\n",
    "\n",
    "            t2 = t1.get(a2.GetProp(\"label\"), None)\n",
    "            if t2 is None:\n",
    "                print(\"No torsion for atom \", l0, \" <-> \", l1, \" <-> \", l2)\n",
    "                continue\n",
    "\n",
    "            for b3 in b2:\n",
    "                a3 = [a for a in [b3.GetBeginAtom(), b3.GetEndAtom()] if a.GetIdx() != a2.GetIdx()][0]\n",
    "                l3 = a3.GetProp(\"label\")\n",
    "                \n",
    "                t3 = t2.get(l3, None)\n",
    "                if t3 is None:\n",
    "                    print(\"No torsion for atom \", l0, \" <-> \", l1, \" <-> \", l2, \" <-> \", l3)\n",
    "                    continue\n",
    "\n",
    "                # torsion of atoms a0 - a1 - a2 - a3\n",
    "\n",
    "                if a0 == a3:    # 3-ring has no torsions\n",
    "                    continue\n",
    "\n",
    "                torsions[(a0.GetIdx(), a1.GetIdx(), a2.GetIdx(), a3.GetIdx())] = t3\n",
    "\n",
    "    return stretches, bends, torsions    "
   ]
  },
  {
   "cell_type": "code",
   "execution_count": 347,
   "id": "a4466e04",
   "metadata": {},
   "outputs": [
    {
     "name": "stdout",
     "output_type": "stream",
     "text": [
      "# Bond stretch: atom n1-n2, type, parameters\n",
      "0 1 CHx-CHy 96500 1.54\n",
      "1 2 CHx-CHy 96500 1.54\n",
      "2 3 CHx-CHy 96500 1.54\n",
      "3 4 CHx-CHy 96500 1.54\n",
      "4 5 CHx-CHy 96500 1.54\n",
      "# Bond bending: atom n1-n2-n3, type, parameters\n",
      "2 1 0 CHx-(CH2)-CHy 114.0 62500.0\n",
      "3 2 1 CHx-(CH2)-CHy 114.0 62500.0\n",
      "4 3 2 CHx-(CH2)-CHy 114.0 62500.0\n",
      "5 4 3 CHx-(CH2)-CHy 114.0 62500.0\n",
      "# Torsion: atom n1-n2-n3-n4, type, parameters\n",
      "0 1 2 3 CHx-(CH2)-(CH2)-CHy 0.0 355.03 -68.19 791.32\n",
      "1 2 3 4 CHx-(CH2)-(CH2)-CHy 0.0 355.03 -68.19 791.32\n",
      "2 3 4 5 CHx-(CH2)-(CH2)-CHy 0.0 355.03 -68.19 791.32\n"
     ]
    }
   ],
   "source": [
    "\n",
    "stretches, bends, torsions = assign_bonded_interactions(mol, bonded)\n",
    "print(bonded_definitions(bonds, bends, torsions, bonded))"
   ]
  }
 ],
 "metadata": {
  "kernelspec": {
   "display_name": "student3.11",
   "language": "python",
   "name": "python3"
  },
  "language_info": {
   "codemirror_mode": {
    "name": "ipython",
    "version": 3
   },
   "file_extension": ".py",
   "mimetype": "text/x-python",
   "name": "python",
   "nbconvert_exporter": "python",
   "pygments_lexer": "ipython3",
   "version": "3.11.13"
  }
 },
 "nbformat": 4,
 "nbformat_minor": 5
}
