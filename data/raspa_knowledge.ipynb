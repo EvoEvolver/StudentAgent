{
 "cells": [
  {
   "cell_type": "markdown",
   "id": "0db61c52",
   "metadata": {},
   "source": [
    "# Developing RASPA agent"
   ]
  },
  {
   "cell_type": "markdown",
   "id": "0f9a99cc",
   "metadata": {},
   "source": [
    "## Knowledge"
   ]
  },
  {
   "cell_type": "markdown",
   "id": "3a38e1b6",
   "metadata": {},
   "source": [
    "## Teaching Workflow"
   ]
  },
  {
   "cell_type": "markdown",
   "id": "b41433e5",
   "metadata": {},
   "source": [
    "### Tests"
   ]
  }
 ],
 "metadata": {
  "language_info": {
   "name": "python"
  }
 },
 "nbformat": 4,
 "nbformat_minor": 5
}
