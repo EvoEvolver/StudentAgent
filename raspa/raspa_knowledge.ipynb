{
 "cells": [
  {
   "cell_type": "markdown",
   "id": "0db61c52",
   "metadata": {},
   "source": [
    "# Developing RASPA agent"
   ]
  },
  {
   "cell_type": "code",
   "execution_count": 1,
   "id": "28d7b0d5",
   "metadata": {},
   "outputs": [
    {
     "name": "stdout",
     "output_type": "stream",
     "text": [
      "Using device: cpu\n"
     ]
    }
   ],
   "source": [
    "from student.agent.agent_raspa import RaspaAgent\n",
    "agent = RaspaAgent(provider=\"anthropic\", path=\"output/learning\", csd_path=\"./\")"
   ]
  },
  {
   "cell_type": "code",
   "execution_count": 2,
   "id": "3e9447c1",
   "metadata": {},
   "outputs": [],
   "source": [
    "from latex_parsing import *\n",
    "\n",
    "def parse_tex(filename):\n",
    "    with open(filename) as f:\n",
    "            latex_text = f.read()\n",
    "    return construct_tree(split_latex_sections(latex_text, depth=0))"
   ]
  },
  {
   "cell_type": "code",
   "execution_count": 3,
   "id": "4469214e",
   "metadata": {},
   "outputs": [],
   "source": [
    "def save(agent, filename):\n",
    "    filename = \"checkpoints/\"+filename\n",
    "    os.makedirs(filename, exist_ok=True)\n",
    "    agent.save_conversation(f\"{filename}/conversation.txt\")\n",
    "    agent.get_memory_agent().save_memory(f\"{filename}/memory.txt\")\n",
    "    agent.get_memory_agent().save_conversation(f\"{filename}/conversation_memory.txt\")\n",
    "\n",
    "def load(agent, filename):\n",
    "    filename = \"checkpoints/\"+filename\n",
    "    agent.load_conversation(f\"{filename}/conversation.txt\")\n",
    "    agent.get_memory_agent().load_memory(f\"{filename}/memory.txt\")\n",
    "    agent.get_memory_agent().load_conversation(f\"{filename}/conversation_memory.txt\")"
   ]
  },
  {
   "cell_type": "markdown",
   "id": "eec670d9",
   "metadata": {},
   "source": [
    "# MVP"
   ]
  },
  {
   "cell_type": "code",
   "execution_count": 10,
   "id": "318dae94",
   "metadata": {},
   "outputs": [],
   "source": [
    "mvp = RaspaAgent(provider=\"anthropic\", path=\"output/mvp\")"
   ]
  },
  {
   "cell_type": "code",
   "execution_count": 11,
   "id": "06f4042a",
   "metadata": {},
   "outputs": [],
   "source": [
    "p1=\"\"\"\n",
    "I will teach you how to use RASPA to do classical molecular simulations. \n",
    "Build a knowledge into your memory. The memory is currently empty.\n",
    "Integrate the tools (as <tool name=\"{tool_name}\">) in to your knowledge for easy reference.\n",
    "\n",
    "These are basic instructions how to run a simulation:\n",
    "<simulations>\n",
    "1. Identify the molecules (gas/liquid) to simulate. Generate a molecular definition file and corresponding force field and pseudoatoms files using the \"trappe\" tool.\n",
    "2. Identify the framework for the simulation. It can either be an empty box or a porous material (MOF, zeolite, ...). You can load the structure file for some MOFs with the \"coremof\" tool. If you cannot load a structure file, ask for it.\n",
    "3. Build a simulation input file with the \"input\" tool. You must look at an example and tune the parameters depending on your simulation type and what you want to calculate.\n",
    "4. Double-check with the \"files\" and \"read\" tools, if everything is correct.\n",
    "5. Run the simulation with \"raspa\" tool.\n",
    "6. If finished, use the \"output\" tool to parse some relevant information from the output. \n",
    "</simulations>\n",
    "\n",
    "Learn the above. Afterwards I will provide you with examples for the simulation input files which you dont know yet how to generate.\n",
    "\"\"\"\n"
   ]
  },
  {
   "cell_type": "code",
   "execution_count": 12,
   "id": "cdd29a6d",
   "metadata": {},
   "outputs": [],
   "source": [
    "mvp.run(p1)"
   ]
  },
  {
   "cell_type": "markdown",
   "id": "62cc9c6b",
   "metadata": {},
   "source": [
    "### Define examples"
   ]
  },
  {
   "cell_type": "code",
   "execution_count": 13,
   "id": "c6008dbe",
   "metadata": {},
   "outputs": [],
   "source": [
    "c1 = \"# Monte Carlo of methane in a box\\nSimulationType                MonteCarlo\\nNumberOfCycles                10000\\nNumberOfInitializationCycles  5000\\nPrintEvery                    1000\\n\\nForcefield                    ExampleMoleculeForceField\\n\\n\\nBox 0\\nBoxLengths 30 30 30\\nExternalTemperature 300.0\\nMovies yes\\nWriteMoviesEvery 100\\n\\nComponent 0 MoleculeName             methane\\n            MoleculeDefinition       ExampleDefinitions\\n            TranslationProbability   1.0\\n            CreateNumberOfMolecules  100\"\n",
    "k1 = [\"Monte Carlo of methane in a box\", \"Monte Carlo\", \"MC\"]\n",
    "a1 = \"\"\"\n",
    "A Monte Carlo run of 100 methane molecules in a $30\\times30\\times30$ \\AA\\ box.\n",
    "After 5000 cycles of initialization the production run is started.\n",
    "A movie is written and every 100th configuration is appended to the movie. \n",
    "The movie is stored in `Movies/System\\_0',\n",
    "and can be viewed with iRASPA or VMD.\n",
    "\"\"\"\n",
    "a1_full = a1 + \"\"\"\n",
    "In RASPA, the cycle is define as max(20,$N$) steps, where $N$ is the number of molecules in the system. In every cycle, each of the molecules\n",
    "has on average been used for a Monte Carlo move (accepted or rejected). There is a minimum of 20 steps to avoid that low-density\n",
    "systems or not sampled well. The definition of a cycle is less dependent on the system size. The number of Monte Carlo steps\n",
    "is roughly the number of cycles times the average number of molecules.\n",
    "\n",
    "The output is written to the 'Output' directory (per system), and the temperature and pressure are appended to all output filenames.\n",
    "In the output file, the simulation writes an important check to the file\n",
    "\\begin{tiny}\n",
    "\\begin{verbatim}\n",
    "     Energy-drift status\n",
    "     ===========================================================================\n",
    "     Adsorbate/Adsorbate energy-drift:                                     1.05012e-10\n",
    "         Adsorbate/Adsorbate VDW energy-drift:                               1.05012e-10\n",
    "     ===========================================================================\n",
    "     Total energy-drift: 1.05012e-10\n",
    "\\end{verbatim}\n",
    "\\end{tiny}\n",
    "In Monte Carlo, only difference in energies are computed. These differences are continuously added to keep track of the current energies\n",
    "(from which average energies etc. are computed). Obviously, the current energy that is kept track off during the simulation should\n",
    "be equal to a full recalculation of the energies. The difference between the two signals an error. If the drift is higher than\n",
    "say $1e-3$ or $1e-4$ the results of the simulation are in error. This could be due to an error in one of the Monte Carlo moves\n",
    "or because the force field is ``wrong'' (a typical error is when one forgets to define required potentials).\n",
    "\n",
    "The performance of Monte Carlo moves is monitored. Translation moves are usually scaled to achieve an acceptance rate of 50\\%.\n",
    "Here, the move reached its upper limit of 1 \\AA\\ because of the low density of the system.\n",
    "\\begin{tiny}\n",
    "\\begin{verbatim}\n",
    "     Performance of the translation move:\n",
    "     ======================================\n",
    "     Component 0 [methane]\n",
    "         total        332905.000000 333233.000000 333862.000000\n",
    "         succesfull   283926.000000 284388.000000 284917.000000\n",
    "         accepted   0.852874 0.853421 0.853398\n",
    "         displacement 1.000000 1.000000 1.000000\n",
    "\\end{verbatim}\n",
    "\\end{tiny}\n",
    "\n",
    "Averages are computed along with an error bar. The error is computed by dividing the simulation in 5 blocks and calculating the standard deviation.\n",
    "The errors in RASPA are computed as the 95\\% confidence interval.\n",
    "\\begin{tiny}\n",
    "\\begin{verbatim}\n",
    "     Total energy:\n",
    "     =============\n",
    "         Block[ 0]       -18276.83475 [K]\n",
    "         Block[ 1]       -18329.57756 [K]\n",
    "         Block[ 2]       -18502.81990 [K]\n",
    "         Block[ 3]       -18371.38298 [K]\n",
    "         Block[ 4]       -19216.89509 [K]\n",
    "         ------------------------------------------------------------------------------\n",
    "         Average         -18539.50205 [K] +/-          481.43129 [K]\n",
    "\\end{verbatim}\n",
    "\\end{tiny}\n",
    "\"\"\""
   ]
  },
  {
   "cell_type": "code",
   "execution_count": 14,
   "id": "5cf07c75",
   "metadata": {},
   "outputs": [],
   "source": [
    "c2 =  \"# Monte Carlo of CO2 in a box and N2 in another box (two independent simulations)\\nSimulationType                MonteCarlo\\nNumberOfCycles                10000\\nNumberOfInitializationCycles  1000\\nPrintEvery                    100\\n\\nForcefield                    ExampleMoleculeForceField\\n\\n\\nBox 0\\nBoxLengths 25 25 25\\nExternalTemperature 300.0\\nMovies yes\\nWriteMoviesEvery 10\\n\\nBox 1\\nBoxLengths 30 30 30\\nBoxAngles 90 120 90\\nExternalTemperature 500.0\\nMovies yes\\nWriteMoviesEvery 10\\n\\nComponent 0 MoleculeName             N2\\n            MoleculeDefinition       ExampleDefinitions\\n            TranslationProbability   1.0\\n            RotationProbability      1.0\\n            ReinsertionProbability   1.0\\n            CreateNumberOfMolecules  50 25\\n\\nComponent 1 MoleculeName             CO2\\n            MoleculeDefinition       ExampleDefinitions\\n            TranslationProbability   1.0\\n            RotationProbability      1.0\\n            ReinsertionProbability   1.0\\n            CreateNumberOfMolecules  25 50\"\n",
    "k2 = [\"Monte Carlo of CO2 in a box and N2 in another box (two independent simulations)\", \"Monte Carlo\"]\n",
    "a2 = \"\"\"\n",
    "RASPA has a build-in structure of being able to simulate several systems at the same time. This has applications in Gibbs-ensembles and (hyper) parallel tempering\n",
    "for example. However, this capability can also be used for independent systems. The first box is $30\\times30\\times30$ \\AA\\ with 90 $^\\circ$ angles,\n",
    "containing 50 N$_2$ and 25 CO$_2$ and molecules and moved around by translation, rotation and reinsertion. The second box is monoclinic \n",
    "and of size $25\\times25\\times25$ with \n",
    "$\\beta=120^\\circ,\\alpha=\\gamma=90^\\circ$ containing 25 N$_2$ and 50 CO$_2$ molecules. The first system is at 300K, the second at 500K. \n",
    "\"\"\"\n",
    "a2_full = a2 +\"\"\"\n",
    "One thing to note is that system-dependent statements apply to the \\emph{current} box, following `Box [int]'. The initialization\n",
    "of the systems with molecules is done using the `CreateNumberOfMolecules' which applies similarly to the \\emph{current} component\n",
    "specified using `component [int]'. The list of integers represent the initial amount of molecules for each system. Note that when the\n",
    "`BoxAngles' line is omitted, $\\alpha=\\beta=\\gamma=90^\\circ$ is assumed as the default.\n",
    "\n",
    "Note that we specify only relative probabilities of MC particle moves. They will be correctly rescaled as shown in the output-file:\n",
    "\\begin{tiny}\n",
    "\\begin{verbatim}\n",
    "     Particle Moves:\n",
    "          ProbabilityTranslationMove:                  33.333333\n",
    "              TranslationDirection:      XYZ\n",
    "          Percentage of rotation moves:                      33.333333\n",
    "          Percentage of reinsertion moves:                   33.333333\n",
    "\\end{verbatim}\n",
    "\\end{tiny}\n",
    "At every MC-step, each move will be randomly selected with 1/3 probability.\n",
    "\"\"\""
   ]
  },
  {
   "cell_type": "code",
   "execution_count": 15,
   "id": "55e4254e",
   "metadata": {},
   "outputs": [],
   "source": [
    "c3 = \"# Monte Carlo of a binary mixture in a box\\nSimulationType                MonteCarlo\\nNumberOfCycles                10000\\nNumberOfInitializationCycles  2000\\nPrintEvery                    100\\n\\nForcefield                    ExampleMoleculeForceField\\n\\n\\nBox 0\\nBoxLengths 30 30 30\\nExternalTemperature 300.0\\nMovies yes\\nWriteMoviesEvery 10\\n\\nComponent 0 MoleculeName             propane\\n            MoleculeDefinition       ExampleDefinitions\\n            TranslationProbability   1.0\\n            RotationProbability      1.0\\n            ReinsertionProbability   1.0\\n            CreateNumberOfMolecules  50\\n\\nComponent 1 MoleculeName             butane\\n            MoleculeDefinition       ExampleDefinitions\\n            TranslationProbability   1.0\\n            RotationProbability      1.0\\n            ReinsertionProbability   1.0\\n            CreateNumberOfMolecules  50\"\n",
    "k3 = [\"Monte Carlo of a binary mixture in a box\", \"Monte Carlo\", \"MC\"]\n",
    "a3 = \"\"\"\n",
    "A Monte Carlo run of 50 propane and 50 butane molecules in a $30\\times30\\times30$ \\AA\\ box. The MC moves are\n",
    "translation, rotation, and full reinsertion.\n",
    "After 1000 steps of initialization the production run is started.\n",
    "A movie is written and every 10th configuration is appended to the movie. \n",
    "The movie is stored in `Movies/System\\_0',\n",
    "and can be viewed with iRASPA or VMD.\n",
    "\"\"\"\n",
    "\n",
    "a3_full = a3 +\"\"\"\n",
    "The propane and butane molecules are modeled as flexible united-atom beads.\n",
    "The intra-molecular force field contains bond, bend, and torsion terms\n",
    "\\begin{tiny}\n",
    "\\begin{verbatim}\n",
    "     Average Adsorbate Bond stretch energy:\n",
    "     ====================================\n",
    "         Block[ 0]        37377.65243 [K]\n",
    "         Block[ 1]        37822.77336 [K]\n",
    "         Block[ 2]        37216.91024 [K]\n",
    "         Block[ 3]        37033.87935 [K]\n",
    "         Block[ 4]        37658.50987 [K]\n",
    "         ------------------------------------------------------------------------------\n",
    "         Average          37421.94505 [K] +/-          398.05476 [K]\n",
    "     \n",
    "     Average Adsorbate Bend angle energy:\n",
    "     ====================================\n",
    "         Block[ 0]        23136.71656 [K]\n",
    "         Block[ 1]        22692.37638 [K]\n",
    "         Block[ 2]        22046.60765 [K]\n",
    "         Block[ 3]        22185.01877 [K]\n",
    "         Block[ 4]        21419.84764 [K]\n",
    "         ------------------------------------------------------------------------------\n",
    "         Average          22296.11340 [K] +/-          810.78089 [K]\n",
    "     \n",
    "     Average Adsorbate Torsion energy:\n",
    "     =================================\n",
    "         Block[ 0]        13601.19894 [K]\n",
    "         Block[ 1]        13749.89405 [K]\n",
    "         Block[ 2]        13355.15893 [K]\n",
    "         Block[ 3]        13339.11856 [K]\n",
    "         Block[ 4]        13049.12955 [K]\n",
    "         ------------------------------------------------------------------------------\n",
    "         Average          13418.90000 [K] +/-          334.24478 [K]\n",
    "\\end{verbatim}\n",
    "\\end{tiny}\n",
    "The translation and rotation moves leave the internal structure invariant.\n",
    "The reinsertion-move regrows the molecule at a random position with a new internal structure.\n",
    "\\begin{tiny}\n",
    "\\begin{verbatim}\n",
    "     Performance of the Reinsertion move:\n",
    "     ====================================\n",
    "     Component [propane] total tried: 333613.000000 succesfull growth: 333407.000000 (99.938252 [%]) accepted: 85599.000000 (25.658173 [%])\n",
    "     Component [butane] total tried: 332088.000000 succesfull growth: 331383.000000 (99.787707 [%]) accepted: 46465.000000 (13.991773 [%])\n",
    "\\end{verbatim}\n",
    "\\end{tiny}\n",
    "The acceptance percentages are here high enough. But for dense systems, the insertion acceptance ratios become too small.\n",
    "In these cases, other moves (like partial-reinsertion or MC/MD hybrid moves) become essential to properly sample the internal structure of molecules.\n",
    "\n",
    "\"\"\""
   ]
  },
  {
   "cell_type": "code",
   "execution_count": 16,
   "id": "b06a741f",
   "metadata": {},
   "outputs": [],
   "source": [
    "c4 = \"# Monte Carlo of CO$_2$ and N$_2$ in two independent boxes\\nSimulationType                MonteCarlo\\nNumberOfCycles                10000\\nNumberOfInitializationCycles  1000\\nPrintEvery                    100\\n\\nForcefield                    ExampleMoleculeForceField\\n\\n\\nBox 0\\nBoxLengths 25 25 25\\nExternalTemperature 300.0\\nMovies yes\\nWriteMoviesEvery 10\\n\\nBox 1\\nBoxLengths 30 30 30\\nBoxAngles 90 120 90\\nExternalTemperature 500.0\\nMovies yes\\nWriteMoviesEvery 5\\n\\nComponent 0 MoleculeName             CO2\\n            MoleculeDefinition       ExampleDefinitions\\n            TranslationProbability   1.0\\n            RotationProbability      1.0\\n            ReinsertionProbability   1.0\\n            CreateNumberOfMolecules  100 0\\n\\nComponent 1 MoleculeName             N2\\n            MoleculeDefinition       ExampleDefinitions\\n            TranslationProbability   1.0\\n            RotationProbability      1.0\\n            ReinsertionProbability   1.0\\n            CreateNumberOfMolecules  0 100\"\n",
    "k4 = [\"Monte Carlo of CO$_2$ and N$_2$ in two independent boxes\", \"Monte Carlo\", \"MC\"]\n",
    "a4 = \"\"\"\n",
    "An example of a binary mixture of CO$_2$ and N$_2$ in two independent boxes. Box one contains 100 CO$_2$ molecules\n",
    "at 300 Kelvin, box two (monoclinic shape) contains 100 N$_2$ molecules at 500 Kelvin. The movies for box one are appended\n",
    "every 10 cycles, the movie for box two every 5 cycles. Three types of Monte Carlo moves are used: translation, rotation, and\n",
    "reinsertion. \n",
    "\"\"\"\n",
    "a4_full = a4"
   ]
  },
  {
   "cell_type": "markdown",
   "id": "45331c62",
   "metadata": {},
   "source": [
    "### Learn examples"
   ]
  },
  {
   "cell_type": "code",
   "execution_count": 17,
   "id": "0c1bdb79",
   "metadata": {},
   "outputs": [],
   "source": [
    "def example(content, keywords, annotation):\n",
    "    return f'<example keywords=\"{keywords}\"><annotation>{annotation}</annotation><input>{content}</input></example>'\n",
    "\n",
    "ex1 = example(c1, k1, a1)\n",
    "ex2 = example(c2, k2, a2)\n",
    "ex3 = example(c3, k3, a3)\n",
    "ex4 = example(c4, k4, a4)"
   ]
  },
  {
   "cell_type": "code",
   "execution_count": 18,
   "id": "f90ad8fc",
   "metadata": {},
   "outputs": [],
   "source": [
    "p2=f\"\"\"\n",
    "I will give you 4 annotated examples one by one for Monte Carlo simulations (abbreviated as MC). \n",
    "DO NOT ask for clarifications until you have seen example 4! Afterwards answer\n",
    "The examples include keywords, the simulation input file and annotations. \n",
    "The annotations explain the simulation.\n",
    "These examples should be integrated into the memory such that you can refer to them for generating your own simulation input files.\n",
    "YOU MUST include the input files formats correctly since RASPA is really sensitive to formatting.\n",
    "\n",
    "Example 1:\n",
    "{ex1}\n",
    "\"\"\""
   ]
  },
  {
   "cell_type": "code",
   "execution_count": 19,
   "id": "d1d71688",
   "metadata": {},
   "outputs": [],
   "source": [
    "mvp.run(p2)"
   ]
  },
  {
   "cell_type": "code",
   "execution_count": 20,
   "id": "277688ff",
   "metadata": {},
   "outputs": [],
   "source": [
    "p3=f\"Example 2: \\n{ex2}\"\n",
    "p4=f\"Example 3: \\n{ex3}\"\n",
    "p5=f\"Example 4: \\n{ex4}\""
   ]
  },
  {
   "cell_type": "code",
   "execution_count": 21,
   "id": "01a43ef4",
   "metadata": {},
   "outputs": [],
   "source": [
    "mvp.run(p3)\n",
    "mvp.run(p4)\n",
    "mvp.run(p5)"
   ]
  },
  {
   "cell_type": "code",
   "execution_count": null,
   "id": "f9bab017",
   "metadata": {},
   "outputs": [],
   "source": [
    "mvp.render_conversation()"
   ]
  },
  {
   "cell_type": "code",
   "execution_count": null,
   "id": "59f5677c",
   "metadata": {},
   "outputs": [],
   "source": [
    "clarifications = \"\"\"\n",
    "Clarification: \n",
    "1. You are right. The number in the annotation is incorrect!\n",
    "2. This is not important for the moment. \n",
    "3. Yes, these are placeholders. The molecule loader / framework loader tools automatically generate the actual files. You do not need to change the field in the input file.\n",
    "4. No, but i dont think that you would use more than two for anything.\n",
    "5. This is not important for the moment.\n",
    "\"\"\"\n",
    "#mvp.run(clarifications)"
   ]
  },
  {
   "cell_type": "code",
   "execution_count": null,
   "id": "24334bac",
   "metadata": {},
   "outputs": [],
   "source": [
    "save(mvp, \"mvp3\")"
   ]
  },
  {
   "cell_type": "markdown",
   "id": "19d0aa5f",
   "metadata": {},
   "source": [
    "## Load and test"
   ]
  },
  {
   "cell_type": "code",
   "execution_count": 9,
   "id": "4a2e6131",
   "metadata": {},
   "outputs": [],
   "source": [
    "loaded = RaspaAgent(provider=\"anthropic\", path=\"output/test_mc\")"
   ]
  },
  {
   "cell_type": "code",
   "execution_count": 11,
   "id": "45e18173",
   "metadata": {},
   "outputs": [],
   "source": [
    "load(loaded, \"mvp2\")\n",
    "loaded.reset_chat()"
   ]
  },
  {
   "cell_type": "code",
   "execution_count": 12,
   "id": "3ee5d985",
   "metadata": {},
   "outputs": [],
   "source": [
    "loaded.auto_run=True\n",
    "loaded.run(\"Generate a simulation input file for a monte carlo simulation of propane and methane in some box.\")\n",
    "loaded.run(\"Generate the molecule definition files and then run raspa\")"
   ]
  },
  {
   "cell_type": "code",
   "execution_count": null,
   "id": "fab0bcab",
   "metadata": {},
   "outputs": [],
   "source": [
    "loaded.render_chat_html()"
   ]
  },
  {
   "cell_type": "code",
   "execution_count": 17,
   "id": "ce5384bf",
   "metadata": {},
   "outputs": [
    {
     "data": {
      "text/plain": [
       "{'role': 'assistant',\n",
       " 'content': {'type': 'text',\n",
       "  'text': '{\"react\": [{\"thought\": \"I can see that despite the errors, RASPA actually generated output files! There are output files, restart files, VTK files, and movie files created. The simulation seems to have run but with some warnings. Let me check the main output file to see what results we got.\"}, {\"function\": \"output\", \"parameters\": {\"file_path\": \"Output/System_0/output_Box_1.1.1_300.000000_0.data\"}}, {\"function\": \"learn\", \"parameters\": {\"context\": \"RASPA simulation can sometimes run successfully despite showing error messages like \\'force_field.def not found\\' and \\'Matrix Inversion Singular Matrix\\' warnings. The presence of output files (Output/, Restart/, VTK/, Movies/) indicates the simulation completed and generated results even with these warnings.\"}}], \"response\": \"\"}'}}"
      ]
     },
     "execution_count": 17,
     "metadata": {},
     "output_type": "execute_result"
    }
   ],
   "source": [
    "loaded.chat.messages[-10]"
   ]
  },
  {
   "cell_type": "code",
   "execution_count": 23,
   "id": "57f01fb2",
   "metadata": {},
   "outputs": [],
   "source": [
    "from student.agent.tools.tools_raspa import *\n",
    "self = loaded.tools['output']\n",
    "file_path = \"Output/System_0/output_Box_1.1.1_300.000000_0.data\"\n",
    "path = os.path.join(self.get_path(full=True), file_path)\n",
    "\n",
    "with open(path) as in_file:\n",
    "    data = in_file.read()\n",
    "out = output_parser.parse(data)\n",
    "    \n",
    "out = self.filter(out)"
   ]
  },
  {
   "cell_type": "code",
   "execution_count": 31,
   "id": "92a94f06",
   "metadata": {},
   "outputs": [
    {
     "data": {
      "text/plain": [
       "{'Average Properties at Current cycle: 0 out of 10000': {'Henry coefficients': [],\n",
       "  'Energy <U_gh>_1-<U_h>_0 from Widom': []},\n",
       " 'Monte-Carlo moves statistics': {},\n",
       " 'Performance of the small-MC scheme': {'Component 0': ['methane'],\n",
       "  'Bead': [2.0],\n",
       "  'Component 1': ['propane'],\n",
       "  'maximum bond length change': [0.3],\n",
       "  'maximum change bend angle': [0.26888],\n",
       "  'change bend angle acceptence': [40.03082, '%']},\n",
       " 'Performance of the translation move': {'Component 0': ['methane'],\n",
       "  'total        111249.000000 111536.000000 110630.000000': [],\n",
       "  'succesfull   90686.000000 90895.000000 89975.000000': [],\n",
       "  'accepted   0.815162 0.814939 0.813297': [],\n",
       "  'displacement 1.000000 1.000000 1.000000': [],\n",
       "  'Component 1': ['propane'],\n",
       "  'total        111197.000000 110686.000000 111359.000000': [],\n",
       "  'succesfull   79275.000000 78898.000000 79278.000000': [],\n",
       "  'accepted   0.712924 0.712809 0.711914': [],\n",
       "  'Random translation move was OFF for all components': []},\n",
       " 'Performance of the rotation move': {'Component 0': ['methane'],\n",
       "  'total        110501.000000 111289.000000 110773.000000': [],\n",
       "  'succesfull   110501.000000 111289.000000 110773.000000': [],\n",
       "  'accepted   1.000000 1.000000 1.000000': [],\n",
       "  'angle-change 126.562500 126.562500 126.562500': [],\n",
       "  'Component 1': ['propane'],\n",
       "  'total        111101.000000 112014.000000 110798.000000': [],\n",
       "  'succesfull   71880.000000 73533.000000 74253.000000': [],\n",
       "  'accepted   0.646979 0.656463 0.670166': [],\n",
       "  'angle-change 93.857037 93.792581 89.459629': [],\n",
       "  'Random rotation move was OFF for all components': [],\n",
       "  'Swap addition move was OFF for all components': [],\n",
       "  'Swap deletion move was OFF for all components': []},\n",
       " 'Performance of the Reinsertion move': {'Component': ['propane',\n",
       "   'total tried',\n",
       "   '332500.000000 succesfull growth',\n",
       "   332496.0,\n",
       "   99.998797,\n",
       "   '%',\n",
       "   'accepted',\n",
       "   177786.0,\n",
       "   53.469474,\n",
       "   '%'],\n",
       "  'Reinsertion-in-plane move was OFF for all components': [],\n",
       "  'Reinsertion-in-place move was OFF for all components': [],\n",
       "  'Partial reinsertion move was OFF for all components': [],\n",
       "  'Identity change move was OFF for all components': [],\n",
       "  'Parallel tempering move was OFF': [],\n",
       "  'Hyper parallel tempering move was OFF': [],\n",
       "  'Parallel mol-fraction move was OFF': [],\n",
       "  'Chiral inversion move was OFF': [],\n",
       "  'Volume move was OFF': [],\n",
       "  'Box shape change move was OFF': [],\n",
       "  'Framework change move was OFF': [],\n",
       "  'Framework shift move was OFF': [],\n",
       "  'Hybrid MC/MD move in the NVE-ensemble was OFF': [],\n",
       "  'Hybrid MC/MD in the NPH-ensemble move was OFF': [],\n",
       "  'Hybrid MC/MD in the NPH-ensemble': ['Parrinello-Rahman', 'move was OFF'],\n",
       "  'Gibbs volume change move was OFF': [],\n",
       "  'Gibbs swap move was OFF for all components': [],\n",
       "  'Gibbs identity change move was OFF for all components': [],\n",
       "  'CFCMC swap lambda move was OFF for all components': [],\n",
       "  'CB/CFCMC swap lambda move was OFF for all components': [],\n",
       "  'CFCMC Gibbs lambda move was OFF for all components': [],\n",
       "  'CB/CFCMC Gibbs lambda move was OFF for all components': [],\n",
       "  'No reactions present': ['RXMC is OFF'],\n",
       "  'Exchange fractional-particle move was OFF for all components': [],\n",
       "  'CFCMC Gibbs Lambda-change move was OFF for all components': [],\n",
       "  'CFCMC Gibbs Swap-Fractional-Molecule-To-Other-Box move was OFF for all components': [],\n",
       "  'Gibbs Widom move was OFF for all components': []},\n",
       " 'Energy-drift status': {'Internal energy': [],\n",
       "  'Adsorbate stretch energy-drift': [1.69331e-09],\n",
       "  'Adsorbate bend energy-drift': [3.12628e-09],\n",
       "  'Adsorbate/Adsorbate energy-drift': [-2.52028e-09],\n",
       "  'Adsorbate/Adsorbate VDW energy-drift': [-2.52028e-09],\n",
       "  'Polarization energy-drift': [],\n",
       "  'Total energy-drift': [4.46956e-09]},\n",
       " 'Average properties of the system[0]': {},\n",
       " 'Average Volume': {'Block[0]': [27000.0, '[A^3]'],\n",
       "  'Block[1]': [27000.0, '[A^3]'],\n",
       "  'Block[2]': [27000.0, '[A^3]'],\n",
       "  'Block[3]': [27000.0, '[A^3]'],\n",
       "  'Block[4]': [27000.0, '[A^3]'],\n",
       "  '[A^3]': [27000.0, '+/-', 0.0]},\n",
       " 'Average Box-lengths': {'Block[ 0]': [90.0, '[A^3]'],\n",
       "  'Block[ 1]': [90.0, '[A^3]'],\n",
       "  'Block[ 2]': [90.0, '[A^3]'],\n",
       "  'Block[ 3]': [90.0, '[A^3]'],\n",
       "  'Block[ 4]': [90.0, '[A^3]'],\n",
       "  'Average Box.ax': [30.0, '[A^3]', '+/-', 0.0, '[A^3]'],\n",
       "  'Average Box.by': [30.0, '[A^3]', '+/-', 0.0, '[A^3]'],\n",
       "  'Average Box.cz': [30.0, '[A^3]', '+/-', 0.0, '[A^3]'],\n",
       "  'Average alpha angle': [90.0, '[degrees]', '+/-', 0.0, '[degrees]'],\n",
       "  'Average beta angle': [90.0, '[degrees]', '+/-', 0.0, '[degrees]'],\n",
       "  'Average gamma angle': [90.0, '[degrees]', '+/-', 0.0, '[degrees]']},\n",
       " 'Average density': {'Block[0]': [135.60156, '[kg/m^3]'],\n",
       "  'Block[1]': [135.60156, '[kg/m^3]'],\n",
       "  'Block[2]': [135.60156, '[kg/m^3]'],\n",
       "  'Block[3]': [135.60156, '[kg/m^3]'],\n",
       "  'Block[4]': [135.60156, '[kg/m^3]'],\n",
       "  '[kg/m^3]': [135.60156, '+/-', 0.0],\n",
       "  'Average density component 0': ['methane'],\n",
       "  'Average density component 1': ['propane']},\n",
       " 'Average Heat Capacity (MC-NPT-ensemble): [1/(kB T^2)]*[<H^2>-<H>^2]': {'Block[0]': [1202.035137,\n",
       "   '[J/mol/K]'],\n",
       "  'Block[1]': [1230.977062, '[J/mol/K]'],\n",
       "  'Block[2]': [1334.212822, '[J/mol/K]'],\n",
       "  'Block[3]': [1313.481739, '[J/mol/K]'],\n",
       "  'Block[4]': [1200.861093, '[J/mol/K]'],\n",
       "  '[J/mol/K]': [1256.31357, '+/-', 78.51605],\n",
       "  '[cal/mol/K]': [300.26615, '+/-', 18.76579]},\n",
       " 'Average energies of the system[0]': {},\n",
       " 'Average Adsorbate Bond stretch energy': {'Block[0]': [14841.16991, '[K]'],\n",
       "  'Block[1]': [15109.46003, '[K]'],\n",
       "  'Block[2]': [15017.58985, '[K]'],\n",
       "  'Block[3]': [14920.90713, '[K]'],\n",
       "  'Block[4]': [14996.18149, '[K]'],\n",
       "  '[K]': [14977.06168, '+/-', 125.92967]},\n",
       " 'Average Adsorbate Bend angle energy': {'Block[0]': [7449.68897, '[K]'],\n",
       "  'Block[1]': [7595.31434, '[K]'],\n",
       "  'Block[2]': [7648.91469, '[K]'],\n",
       "  'Block[3]': [7382.8527, '[K]'],\n",
       "  'Block[4]': [7553.67669, '[K]'],\n",
       "  '[K]': [7526.08948, '+/-', 134.56154]},\n",
       " 'Average Adsorbate-Adsorbate energy': {'Block[0]': [-43637.03547,\n",
       "   {'Van der Waals': -43637.03547, 'Coulomb': 0.0}],\n",
       "  'Block[1]': [-43491.4303, {'Van der Waals': -43491.4303, 'Coulomb': 0.0}],\n",
       "  'Block[2]': [-43930.7544, {'Van der Waals': -43930.7544, 'Coulomb': 0.0}],\n",
       "  'Block[3]': [-43762.99028, {'Van der Waals': -43762.99028, 'Coulomb': 0.0}],\n",
       "  'Block[4]': [-43894.37151, {'Van der Waals': -43894.37151, 'Coulomb': 0.0}],\n",
       "  'Average': -43743.31639,\n",
       "  'Average Van der Waals': -43743.316395,\n",
       "  'standard deviation': ['+/-',\n",
       "   226.44398,\n",
       "   '+/-',\n",
       "   226.443984,\n",
       "   '+/-',\n",
       "   0.0,\n",
       "   '[K]']},\n",
       " 'Total energy': {'Block[0]': [-21346.17659, '[K]'],\n",
       "  'Block[1]': [-20786.65593, '[K]'],\n",
       "  'Block[2]': [-21264.24986, '[K]'],\n",
       "  'Block[3]': [-21459.23045, '[K]'],\n",
       "  'Block[4]': [-21344.51333, '[K]'],\n",
       "  '[K]': [-21240.16523, '+/-', 326.32306]},\n",
       " 'Number of molecules': {'methane': {'Average loading absolute': [50.0,\n",
       "    '+/-',\n",
       "    0.0,\n",
       "    '[-]'],\n",
       "   'Average loading absolute [molecules/unit cell]': [50.0, '+/-', 0.0, '[-]'],\n",
       "   'Average loading absolute [cm^3 (STP)/cm^3 framework]': [68.9245828678,\n",
       "    '+/-',\n",
       "    0.0,\n",
       "    '[-]'],\n",
       "   'Average loading excess': [50.0, '+/-', 0.0, '[-]'],\n",
       "   'Average loading excess [molecules/unit cell]': [50.0, '+/-', 0.0, '[-]'],\n",
       "   'Average loading excess [cm^3 (STP)/cm^3 framework]': [68.9245828678,\n",
       "    '+/-',\n",
       "    0.0,\n",
       "    '[-]']},\n",
       "  'Block[0]': [50.0, '[-]'],\n",
       "  'Block[1]': [50.0, '[-]'],\n",
       "  'Block[2]': [50.0, '[-]'],\n",
       "  'Block[3]': [50.0, '[-]'],\n",
       "  'Block[4]': [50.0, '[-]'],\n",
       "  'propane': {'Average loading absolute': [50.0, '+/-', 0.0, '[-]'],\n",
       "   'Average loading absolute [molecules/unit cell]': [50.0, '+/-', 0.0, '[-]'],\n",
       "   'Average loading absolute [cm^3 (STP)/cm^3 framework]': [68.9245828678,\n",
       "    '+/-',\n",
       "    0.0,\n",
       "    '[-]'],\n",
       "   'Average loading excess': [50.0, '+/-', 0.0, '[-]'],\n",
       "   'Average loading excess [molecules/unit cell]': [50.0, '+/-', 0.0, '[-]'],\n",
       "   'Average loading excess [cm^3 (STP)/cm^3 framework]': [68.9245828678,\n",
       "    '+/-',\n",
       "    0.0,\n",
       "    '[-]']}}}"
      ]
     },
     "execution_count": 31,
     "metadata": {},
     "output_type": "execute_result"
    }
   ],
   "source": [
    "out"
   ]
  },
  {
   "cell_type": "markdown",
   "id": "7b8b9b9c",
   "metadata": {},
   "source": [
    "# Full learning"
   ]
  },
  {
   "cell_type": "markdown",
   "id": "0f9a99cc",
   "metadata": {},
   "source": [
    "## Knowledge"
   ]
  },
  {
   "cell_type": "code",
   "execution_count": 4,
   "id": "1a2f0362",
   "metadata": {},
   "outputs": [],
   "source": [
    "a='''\n",
    "TODO:\n",
    "- Latex parsing\n",
    "- Annotation\n",
    "    - Delete irrelevant parts\n",
    "    - Annotate tool capabilities\n",
    "'''"
   ]
  },
  {
   "cell_type": "markdown",
   "id": "92b282d3",
   "metadata": {},
   "source": [
    "### RASPA theory"
   ]
  },
  {
   "cell_type": "code",
   "execution_count": 5,
   "id": "ee595374",
   "metadata": {},
   "outputs": [],
   "source": [
    "a='''\n",
    "1.1 Design Philosophy\n",
    "1.2. Units and conventions\n",
    "\n",
    "2. Format of the Input Files\n",
    "    2.1. Introduction\n",
    "    2.2. Simulation input\n",
    "    (2.3. Force field) -> automatically with trappe tool\n",
    "    (2.4. Molecules) -> automatically with trappe tool\n",
    "    (2.5. Framework) -> coremof or other tool (for zeolites, ... TODO)\n",
    "'''"
   ]
  },
  {
   "cell_type": "code",
   "execution_count": 4,
   "id": "3558172e",
   "metadata": {},
   "outputs": [],
   "source": [
    "intro = \"raw_knowledge/introduction.tex\"\n",
    "intro_parsed = parse_tex(intro)\n",
    "\n",
    "philosophy = intro_parsed[0]\n",
    "#prompt_philosophy = parse_node(philosophy)\n",
    "\n",
    "units = intro_parsed[1].children[0]\n",
    "#prompt_units = parse_node(units)"
   ]
  },
  {
   "cell_type": "code",
   "execution_count": 5,
   "id": "fcac644f",
   "metadata": {},
   "outputs": [],
   "source": [
    "input_files = \"raw_knowledge/input_files.tex\"\n",
    "input_files_parsed = parse_tex(input_files)\n",
    "\n",
    "introduction = input_files_parsed[0]\n",
    "sim_input = input_files_parsed[1]\n",
    "# ff = input_files_parsed[2]\n",
    "# molecules = input_files_parsed[3]\n",
    "# framework = input_files_parsed[4]"
   ]
  },
  {
   "cell_type": "code",
   "execution_count": null,
   "id": "20988f23",
   "metadata": {},
   "outputs": [],
   "source": [
    "def parse_node(node):\n",
    "    title = node.title\n",
    "    content = node.content\n",
    "    prompt = f\"Remember this information integrate this into your existing memory: <title>{title}</title><content>{content}</content>\"\n",
    "    return prompt\n",
    "\n",
    "def run_agent(prompt, agent):\n",
    "    agent.run(prompt)\n",
    "    \n",
    "\n",
    "def learn(node,agent):\n",
    "    prompt = parse_node(node)\n",
    "    run_agent(prompt, agent)\n",
    "    for child in node.children:\n",
    "        learn(child, agent)"
   ]
  },
  {
   "cell_type": "code",
   "execution_count": null,
   "id": "cceaa074",
   "metadata": {},
   "outputs": [],
   "source": [
    "agent.run(\"\"\"\n",
    "I will teach you how to use the tool RASPA. \n",
    "Therefore, I will give you some information piece by piece. \n",
    "Starting from an empty memory, build a knowledge into your memory.\n",
    "You have several tools to generate different files for the RASPA simulations.\n",
    "Also integrate the knowledge about which tools are available into your memory (add the pattern <tool name=\"{tool_name}\"> into the memory when relevant.)\n",
    "\"\"\")\n",
    "agent.render_conversation()"
   ]
  },
  {
   "cell_type": "code",
   "execution_count": null,
   "id": "8e99d849",
   "metadata": {},
   "outputs": [],
   "source": [
    "learn(introduction, agent)"
   ]
  },
  {
   "cell_type": "code",
   "execution_count": null,
   "id": "3e3569eb",
   "metadata": {},
   "outputs": [],
   "source": [
    "agent.render_conversation()"
   ]
  },
  {
   "cell_type": "code",
   "execution_count": null,
   "id": "5b7b9ee2",
   "metadata": {},
   "outputs": [],
   "source": [
    "agent.get_memory_agent().memory.render_html()"
   ]
  },
  {
   "cell_type": "code",
   "execution_count": null,
   "id": "03d509d4",
   "metadata": {},
   "outputs": [],
   "source": []
  },
  {
   "cell_type": "code",
   "execution_count": 16,
   "id": "4e5f4efd",
   "metadata": {},
   "outputs": [
    {
     "data": {
      "text/plain": [
       "True"
      ]
     },
     "execution_count": 16,
     "metadata": {},
     "output_type": "execute_result"
    }
   ],
   "source": []
  },
  {
   "cell_type": "code",
   "execution_count": null,
   "id": "9af0bf4e",
   "metadata": {},
   "outputs": [],
   "source": [
    "save(agent, \"raspa_learning1\")"
   ]
  },
  {
   "cell_type": "code",
   "execution_count": 27,
   "id": "3213f814",
   "metadata": {},
   "outputs": [],
   "source": [
    "def filter():\n",
    "    # remove irrelevant parts\n",
    "    pass\n",
    "\n",
    "def annotate():\n",
    "    # highlight tool capabilities\n",
    "    pass"
   ]
  },
  {
   "cell_type": "markdown",
   "id": "6a2c2285",
   "metadata": {},
   "source": [
    "### RASPA input/output examples - annotated"
   ]
  },
  {
   "cell_type": "code",
   "execution_count": 28,
   "id": "cb9fcb51",
   "metadata": {},
   "outputs": [],
   "source": [
    "a='''\n",
    "4.2 Basic examples\n",
    "partially \n",
    "    4.3 Non-basic examples\n",
    "    4.4 Advanced examples\n",
    "    4.5 Auxiliary examples\n",
    "partially 4.6 \n",
    "    Number of cycles and run-times\n",
    "'''"
   ]
  },
  {
   "cell_type": "code",
   "execution_count": 29,
   "id": "58cd576a",
   "metadata": {},
   "outputs": [],
   "source": [
    "examples = \"raw_knowledge/examples.tex\"\n",
    "examples_parsed = parse_tex(examples)\n",
    "\n",
    "general = examples_parsed[0].content[:223]\n",
    "files = examples_parsed[0].children\n",
    "\n",
    "sim = parse_node(files[0])\n",
    "ff = parse_node(files[1])\n",
    "mol = parse_node(files[2])\n",
    "structure = parse_node(files[3])"
   ]
  },
  {
   "cell_type": "code",
   "execution_count": null,
   "id": "66a5859d",
   "metadata": {},
   "outputs": [],
   "source": [
    "from student.agent.memory import Memory\n",
    "# from agent_input_file import init_input_file_memory\n",
    "# examples_memory = init_input_file_memory()\n",
    "examples_memory = Memory()\n",
    "examples_memory.load(\"input_file_memory.json\")\n",
    "#examples_memory.recall([\"Monte Carlo\"])"
   ]
  },
  {
   "cell_type": "markdown",
   "id": "7340a2b6",
   "metadata": {},
   "source": [
    "## Questions / Tasks"
   ]
  },
  {
   "cell_type": "markdown",
   "id": "211d57a4",
   "metadata": {},
   "source": [
    "### General questions"
   ]
  },
  {
   "cell_type": "code",
   "execution_count": 17,
   "id": "d8ecfa1f",
   "metadata": {},
   "outputs": [],
   "source": [
    "q1 = \"How to setup a RASPA simulation and how do you use your tools for it?\"\n",
    "q2 = \"How to find the critical temperature of a molecule?\"\n",
    "q3 = \"What types of simulations can you run and which types of properties can you calculate?\"\n",
    "q4 = \"How do you calculate the gas storage potential for a MOF?\"\n",
    "q5 = \"\"\n",
    "q6 = \"\"\n",
    "q7 = \"\"\n",
    "q8 = \"\""
   ]
  },
  {
   "cell_type": "code",
   "execution_count": 18,
   "id": "a0c5a437",
   "metadata": {},
   "outputs": [
    {
     "name": "stdout",
     "output_type": "stream",
     "text": [
      "\n",
      "\u001b[1;31mGive Feedback / Get Help: https://github.com/BerriAI/litellm/issues/new\u001b[0m\n",
      "LiteLLM.Info: If you need to debug this error, use `litellm._turn_on_debug()'.\n",
      "\n"
     ]
    }
   ],
   "source": [
    "agent.run(q1)"
   ]
  },
  {
   "cell_type": "code",
   "execution_count": null,
   "id": "df6f6a2b",
   "metadata": {},
   "outputs": [],
   "source": [
    "agent.render_conversation()"
   ]
  },
  {
   "cell_type": "markdown",
   "id": "eab51212",
   "metadata": {},
   "source": [
    "### Simulation tasks"
   ]
  },
  {
   "cell_type": "code",
   "execution_count": 31,
   "id": "e52b9855",
   "metadata": {},
   "outputs": [],
   "source": [
    "s1 = \"Provide simulation files for running an energy minimization for CO2 in NU-1000\"\n",
    "s2 = \"Find me a structure that has Fm-3m topology and then run methane adsorption in it\"\n",
    "s3 = \"please tell me the performance of reinsertion and partial reinsertion moves for benzene adsorption in MFI type zeolites\"\n",
    "s4 = \"Run a tertiary mixture adsorption of hexane and its isomers in MFI zeolite at 298K and pressures 0 - 100 Pa\"\n",
    "s5 = \"Create simulation files for finding a minimum energy location of methane in MFI zeolite?\"\n",
    "s6 = \"Please provide simulation files for running a adsorption simulation of methane in IFMOF-1\"\n",
    "s7 = \"Provide simulation input files to find the Henry law coefficient of methane in NU-1000\"\n",
    "s8 = \"Provide Input files for running GEMC for methane in NU-1000\"\n",
    "s9 = \"simulate dynamic behaviour of hexane in MFI zeolite\"\n",
    "s10 = \"Run simulation to find the critical temperature of heptane\""
   ]
  },
  {
   "cell_type": "markdown",
   "id": "c3d20b17",
   "metadata": {},
   "source": [
    "### Output analysis tasks"
   ]
  },
  {
   "cell_type": "code",
   "execution_count": 32,
   "id": "09ef3a49",
   "metadata": {},
   "outputs": [],
   "source": [
    "o1 = \"What is the Henry coefficient?\"\n",
    "o2 = \"Compare the simulations for heptane and pentane. Which one has a higher ...?\"\n",
    "o3 = \"\"\n",
    "o4 = \"\"\n",
    "o5 = \"\"\n",
    "o6 = \"\"\n",
    "o7 = \"\"\n",
    "o8 = \"\"\n",
    "o9 = \"\"\n",
    "o10 = \"\""
   ]
  },
  {
   "cell_type": "markdown",
   "id": "8538a493",
   "metadata": {},
   "source": [
    "### Tutorial Tasks"
   ]
  },
  {
   "cell_type": "code",
   "execution_count": 33,
   "id": "a922bdae",
   "metadata": {},
   "outputs": [],
   "source": [
    "tutorial = \"raw_knowledge/tutorial.tex\"\n",
    "tutorial_parsed = parse_tex(tutorial)"
   ]
  },
  {
   "cell_type": "code",
   "execution_count": 34,
   "id": "2b0aa7ca",
   "metadata": {},
   "outputs": [],
   "source": [
    "t1 = parse_node(tutorial_parsed[0])\n",
    "t2 = parse_node(tutorial_parsed[1])\n",
    "t3 = parse_node(tutorial_parsed[2])"
   ]
  },
  {
   "cell_type": "code",
   "execution_count": 35,
   "id": "da3951d4",
   "metadata": {},
   "outputs": [],
   "source": [
    "# TODO: extract \"exercises\""
   ]
  },
  {
   "cell_type": "markdown",
   "id": "3a38e1b6",
   "metadata": {},
   "source": [
    "## Teaching Workflow"
   ]
  },
  {
   "cell_type": "code",
   "execution_count": 3,
   "id": "0b2da096",
   "metadata": {},
   "outputs": [],
   "source": [
    "a='''Try RASPAagent.run() vs explicit MemoryAgent.learn() -> maybe RaspaAgent.learn() ?\n",
    "\n",
    "for knowledge:\n",
    "    while response needs no clarification:\n",
    "        response = agent.run()\n",
    "        answer = \"human response\"\n",
    "        response = agent.run(answer)\n",
    "'''\n"
   ]
  }
 ],
 "metadata": {
  "kernelspec": {
   "display_name": "student",
   "language": "python",
   "name": "python3"
  },
  "language_info": {
   "codemirror_mode": {
    "name": "ipython",
    "version": 3
   },
   "file_extension": ".py",
   "mimetype": "text/x-python",
   "name": "python",
   "nbconvert_exporter": "python",
   "pygments_lexer": "ipython3",
   "version": "3.10.16"
  }
 },
 "nbformat": 4,
 "nbformat_minor": 5
}
