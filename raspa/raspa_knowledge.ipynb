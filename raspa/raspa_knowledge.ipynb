{
 "cells": [
  {
   "cell_type": "markdown",
   "id": "0db61c52",
   "metadata": {},
   "source": [
    "# Developing RASPA agent"
   ]
  },
  {
   "cell_type": "code",
   "execution_count": 20,
   "id": "3e9447c1",
   "metadata": {},
   "outputs": [],
   "source": [
    "from latex_parsing import *\n",
    "\n",
    "def parse_tex(filename):\n",
    "    with open(filename) as f:\n",
    "            latex_text = f.read()\n",
    "    return construct_tree(split_latex_sections(latex_text, depth=0))"
   ]
  },
  {
   "cell_type": "code",
   "execution_count": 21,
   "id": "de10dbf2",
   "metadata": {},
   "outputs": [],
   "source": [
    "def parse_node(node):\n",
    "    return (node.title, node.content)"
   ]
  },
  {
   "cell_type": "markdown",
   "id": "0f9a99cc",
   "metadata": {},
   "source": [
    "## Knowledge"
   ]
  },
  {
   "cell_type": "code",
   "execution_count": 22,
   "id": "1a2f0362",
   "metadata": {},
   "outputs": [],
   "source": [
    "a='''\n",
    "TODO:\n",
    "- Latex parsing\n",
    "- Annotation\n",
    "    - Delete irrelevant parts\n",
    "    - Annotate tool capabilities\n",
    "'''"
   ]
  },
  {
   "cell_type": "markdown",
   "id": "92b282d3",
   "metadata": {},
   "source": [
    "### RASPA theory"
   ]
  },
  {
   "cell_type": "code",
   "execution_count": 23,
   "id": "ee595374",
   "metadata": {},
   "outputs": [],
   "source": [
    "a='''\n",
    "1.1 Design Philosophy\n",
    "1.2. Units and conventions\n",
    "\n",
    "2. Format of the Input Files\n",
    "    2.1. Introduction\n",
    "    2.2. Simulation input\n",
    "    (2.3. Force field) -> automatically with trappe tool\n",
    "    (2.4. Molecules) -> automatically with trappe tool\n",
    "    (2.5. Framework) -> coremof or other tool (for zeolites, ... TODO)\n",
    "'''"
   ]
  },
  {
   "cell_type": "code",
   "execution_count": 24,
   "id": "3558172e",
   "metadata": {},
   "outputs": [],
   "source": [
    "intro = \"raw_knowledge/introduction.tex\"\n",
    "intro_parsed = parse_tex(intro)\n",
    "\n",
    "philosophy = intro_parsed[0]\n",
    "philosophy = parse_node(philosophy)\n",
    "\n",
    "units = intro_parsed[1].children[0]\n",
    "units = parse_node(units)"
   ]
  },
  {
   "cell_type": "code",
   "execution_count": 25,
   "id": "fcac644f",
   "metadata": {},
   "outputs": [],
   "source": [
    "input_files = \"raw_knowledge/input_files.tex\"\n",
    "input_files_parsed = parse_tex(input_files)\n",
    "\n",
    "introduction = input_files_parsed[0]\n",
    "sim_input = input_files_parsed[1]\n",
    "# ff = input_files_parsed[2]\n",
    "# molecules = input_files_parsed[3]\n",
    "# framework = input_files_parsed[4]"
   ]
  },
  {
   "cell_type": "code",
   "execution_count": 26,
   "id": "9f83cd1e",
   "metadata": {},
   "outputs": [],
   "source": [
    "# TODO"
   ]
  },
  {
   "cell_type": "code",
   "execution_count": 27,
   "id": "3213f814",
   "metadata": {},
   "outputs": [],
   "source": [
    "def filter():\n",
    "    # remove irrelevant parts\n",
    "    pass\n",
    "\n",
    "def annotate():\n",
    "    # highlight tool capabilities\n",
    "    pass"
   ]
  },
  {
   "cell_type": "markdown",
   "id": "6a2c2285",
   "metadata": {},
   "source": [
    "### RASPA input/output examples - annotated"
   ]
  },
  {
   "cell_type": "code",
   "execution_count": 28,
   "id": "cb9fcb51",
   "metadata": {},
   "outputs": [],
   "source": [
    "a='''\n",
    "4.2 Basic examples\n",
    "partially \n",
    "    4.3 Non-basic examples\n",
    "    4.4 Advanced examples\n",
    "    4.5 Auxiliary examples\n",
    "partially 4.6 \n",
    "    Number of cycles and run-times\n",
    "'''"
   ]
  },
  {
   "cell_type": "code",
   "execution_count": 29,
   "id": "58cd576a",
   "metadata": {},
   "outputs": [],
   "source": [
    "examples = \"raw_knowledge/examples.tex\"\n",
    "examples_parsed = parse_tex(examples)\n",
    "\n",
    "general = examples_parsed[0].content[:223]\n",
    "files = examples_parsed[0].children\n",
    "\n",
    "sim = parse_node(files[0])\n",
    "ff = parse_node(files[1])\n",
    "mol = parse_node(files[2])\n",
    "structure = parse_node(files[3])"
   ]
  },
  {
   "cell_type": "markdown",
   "id": "7340a2b6",
   "metadata": {},
   "source": [
    "## Questions / Tasks"
   ]
  },
  {
   "cell_type": "markdown",
   "id": "211d57a4",
   "metadata": {},
   "source": [
    "### General questions"
   ]
  },
  {
   "cell_type": "code",
   "execution_count": 30,
   "id": "d8ecfa1f",
   "metadata": {},
   "outputs": [],
   "source": [
    "q1 = \"How to setup a RASPA simulation and how do you use your tools for it?\"\n",
    "q2 = \"How to find the critical temperature of a molecule?\"\n",
    "q3 = \"What types of simulations can you run and which types of properties can you calculate?\"\n",
    "q4 = \"How do you calculate the gas storage potential for a MOF?\"\n",
    "q5 = \"\"\n",
    "q6 = \"\"\n",
    "q7 = \"\"\n",
    "q8 = \"\""
   ]
  },
  {
   "cell_type": "markdown",
   "id": "eab51212",
   "metadata": {},
   "source": [
    "### Simulation tasks"
   ]
  },
  {
   "cell_type": "code",
   "execution_count": 31,
   "id": "e52b9855",
   "metadata": {},
   "outputs": [],
   "source": [
    "s1 = \"Provide simulation files for running an energy minimization for CO2 in NU-1000\"\n",
    "s2 = \"Find me a structure that has Fm-3m topology and then run methane adsorption in it\"\n",
    "s3 = \"please tell me the performance of reinsertion and partial reinsertion moves for benzene adsorption in MFI type zeolites\"\n",
    "s4 = \"Run a tertiary mixture adsorption of hexane and its isomers in MFI zeolite at 298K and pressures 0 - 100 Pa\"\n",
    "s5 = \"Create simulation files for finding a minimum energy location of methane in MFI zeolite?\"\n",
    "s6 = \"Please provide simulation files for running a adsorption simulation of methane in IFMOF-1\"\n",
    "s7 = \"Provide simulation input files to find the Henry law coefficient of methane in NU-1000\"\n",
    "s8 = \"Provide Input files for running GEMC for methane in NU-1000\"\n",
    "s9 = \"simulate dynamic behaviour of hexane in MFI zeolite\"\n",
    "s10 = \"Run simulation to find the critical temperature of heptane\""
   ]
  },
  {
   "cell_type": "markdown",
   "id": "c3d20b17",
   "metadata": {},
   "source": [
    "### Output analysis tasks"
   ]
  },
  {
   "cell_type": "code",
   "execution_count": 32,
   "id": "09ef3a49",
   "metadata": {},
   "outputs": [],
   "source": [
    "o1 = \"What is the Henry coefficient?\"\n",
    "o2 = \"Compare the simulations for heptane and pentane. Which one has a higher ...?\"\n",
    "o3 = \"\"\n",
    "o4 = \"\"\n",
    "o5 = \"\"\n",
    "o6 = \"\"\n",
    "o7 = \"\"\n",
    "o8 = \"\"\n",
    "o9 = \"\"\n",
    "o10 = \"\""
   ]
  },
  {
   "cell_type": "markdown",
   "id": "8538a493",
   "metadata": {},
   "source": [
    "### Tutorial Tasks"
   ]
  },
  {
   "cell_type": "code",
   "execution_count": 33,
   "id": "a922bdae",
   "metadata": {},
   "outputs": [],
   "source": [
    "tutorial = \"raw_knowledge/tutorial.tex\"\n",
    "tutorial_parsed = parse_tex(tutorial)"
   ]
  },
  {
   "cell_type": "code",
   "execution_count": 34,
   "id": "2b0aa7ca",
   "metadata": {},
   "outputs": [],
   "source": [
    "t1 = parse_node(tutorial_parsed[0])\n",
    "t2 = parse_node(tutorial_parsed[1])\n",
    "t3 = parse_node(tutorial_parsed[2])"
   ]
  },
  {
   "cell_type": "code",
   "execution_count": 35,
   "id": "da3951d4",
   "metadata": {},
   "outputs": [],
   "source": [
    "# TODO: extract \"exercises\""
   ]
  },
  {
   "cell_type": "markdown",
   "id": "3a38e1b6",
   "metadata": {},
   "source": [
    "## Teaching Workflow"
   ]
  },
  {
   "cell_type": "code",
   "execution_count": 3,
   "id": "0b2da096",
   "metadata": {},
   "outputs": [],
   "source": [
    "a='''Try RASPAagent.run() vs explicit MemoryAgent.learn() -> maybe RaspaAgent.learn() ?\n",
    "\n",
    "for knowledge:\n",
    "    while response needs no clarification:\n",
    "        response = agent.run()\n",
    "        answer = \"human response\"\n",
    "        response = agent.run(answer)\n",
    "'''\n"
   ]
  },
  {
   "cell_type": "code",
   "execution_count": 1,
   "id": "dc903b1a",
   "metadata": {},
   "outputs": [
    {
     "data": {
      "text/plain": [
       "{'fe02d599': '\\n        <memory id=\"fe02d599\">\\n            <stimuli>Monte Carlo, Monte Carlo of methane in a box</stimuli>\\n            <content># Monte Carlo of methane in a box\\nSimulationType                MonteCarlo\\nNumberOfCycles                10000\\nNumberOfInitializationCycles  5000\\nPrintEvery                    1000\\n\\nForcefield                    ExampleMoleculeForceField\\n\\n\\nBox 0\\nBoxLengths 30 30 30\\nExternalTemperature 300.0\\nMovies yes\\nWriteMoviesEvery 100\\n\\nComponent 0 MoleculeName             methane\\n            MoleculeDefinition       ExampleDefinitions\\n            TranslationProbability   1.0\\n            CreateNumberOfMolecules  100</content>\\n        </memory>\\n        ',\n",
       " '97486aae': '\\n        <memory id=\"97486aae\">\\n            <stimuli>Monte Carlo of a binary mixture in a box, Monte Carlo</stimuli>\\n            <content># Monte Carlo of a binary mixture in a box\\nSimulationType                MonteCarlo\\nNumberOfCycles                10000\\nNumberOfInitializationCycles  2000\\nPrintEvery                    100\\n\\nForcefield                    ExampleMoleculeForceField\\n\\n\\nBox 0\\nBoxLengths 30 30 30\\nExternalTemperature 300.0\\nMovies yes\\nWriteMoviesEvery 10\\n\\nComponent 0 MoleculeName             propane\\n            MoleculeDefinition       ExampleDefinitions\\n            TranslationProbability   1.0\\n            RotationProbability      1.0\\n            ReinsertionProbability   1.0\\n            CreateNumberOfMolecules  50\\n\\nComponent 1 MoleculeName             butane\\n            MoleculeDefinition       ExampleDefinitions\\n            TranslationProbability   1.0\\n            RotationProbability      1.0\\n            ReinsertionProbability   1.0\\n            CreateNumberOfMolecules  50</content>\\n        </memory>\\n        ',\n",
       " '5ee62034': '\\n        <memory id=\"5ee62034\">\\n            <stimuli>Monte Carlo of CO$_2$ and N$_2$ in two independent boxes, Monte Carlo</stimuli>\\n            <content># Monte Carlo of CO$_2$ and N$_2$ in two independent boxes\\nSimulationType                MonteCarlo\\nNumberOfCycles                10000\\nNumberOfInitializationCycles  1000\\nPrintEvery                    100\\n\\nForcefield                    ExampleMoleculeForceField\\n\\n\\nBox 0\\nBoxLengths 25 25 25\\nExternalTemperature 300.0\\nMovies yes\\nWriteMoviesEvery 10\\n\\nBox 1\\nBoxLengths 30 30 30\\nBoxAngles 90 120 90\\nExternalTemperature 500.0\\nMovies yes\\nWriteMoviesEvery 5\\n\\nComponent 0 MoleculeName             CO2\\n            MoleculeDefinition       ExampleDefinitions\\n            TranslationProbability   1.0\\n            RotationProbability      1.0\\n            ReinsertionProbability   1.0\\n            CreateNumberOfMolecules  100 0\\n\\nComponent 1 MoleculeName             N2\\n            MoleculeDefinition       ExampleDefinitions\\n            TranslationProbability   1.0\\n            RotationProbability      1.0\\n            ReinsertionProbability   1.0\\n            CreateNumberOfMolecules  0 100</content>\\n        </memory>\\n        ',\n",
       " '3bcfb78c': '\\n        <memory id=\"3bcfb78c\">\\n            <stimuli>Monte Carlo of CO2 in a box and N2 in another box (two independent simulations), Monte Carlo</stimuli>\\n            <content># Monte Carlo of CO2 in a box and N2 in another box (two independent simulations)\\nSimulationType                MonteCarlo\\nNumberOfCycles                10000\\nNumberOfInitializationCycles  1000\\nPrintEvery                    100\\n\\nForcefield                    ExampleMoleculeForceField\\n\\n\\nBox 0\\nBoxLengths 25 25 25\\nExternalTemperature 300.0\\nMovies yes\\nWriteMoviesEvery 10\\n\\nBox 1\\nBoxLengths 30 30 30\\nBoxAngles 90 120 90\\nExternalTemperature 500.0\\nMovies yes\\nWriteMoviesEvery 10\\n\\nComponent 0 MoleculeName             N2\\n            MoleculeDefinition       ExampleDefinitions\\n            TranslationProbability   1.0\\n            RotationProbability      1.0\\n            ReinsertionProbability   1.0\\n            CreateNumberOfMolecules  50 25\\n\\nComponent 1 MoleculeName             CO2\\n            MoleculeDefinition       ExampleDefinitions\\n            TranslationProbability   1.0\\n            RotationProbability      1.0\\n            ReinsertionProbability   1.0\\n            CreateNumberOfMolecules  25 50</content>\\n        </memory>\\n        ',\n",
       " '049d8e98': '\\n        <memory id=\"049d8e98\">\\n            <stimuli>NPT Monte Carlo, NPT Monte Carlo of propane</stimuli>\\n            <content># NPT Monte Carlo of propane\\nSimulationType                MonteCarlo\\nNumberOfCycles                50000\\nNumberOfInitializationCycles  10000\\nPrintEvery                    1000\\nRestartFile                   no\\n\\nForcefield                    ExampleMoleculeForceField\\n\\n\\nBox 0\\nBoxLengths 30 30 30\\nExternalTemperature 250.0\\nExternalPressure 1e6\\nComputeMolecularPressure yes\\n\\nVolumeChangeProbability       0.05\\n\\nComponent 0 MoleculeName             propane\\n            MoleculeDefinition       ExampleDefinitions\\n            TranslationProbability   0.5\\n            RotationProbability      0.5\\n            ReinsertionProbability   0.5\\n            CreateNumberOfMolecules  256</content>\\n        </memory>\\n        '}"
      ]
     },
     "execution_count": 1,
     "metadata": {},
     "output_type": "execute_result"
    }
   ],
   "source": [
    "from student.agent.memory import Memory\n",
    "# from agent_input_file import init_input_file_memory\n",
    "# examples_memory = init_input_file_memory()\n",
    "examples_memory = Memory()\n",
    "examples_memory.load(\"input_file_memory.json\")\n",
    "examples_memory.recall([\"Monte Carlo\"])"
   ]
  },
  {
   "cell_type": "code",
   "execution_count": null,
   "id": "19e3aae1",
   "metadata": {},
   "outputs": [],
   "source": []
  }
 ],
 "metadata": {
  "kernelspec": {
   "display_name": "student",
   "language": "python",
   "name": "python3"
  },
  "language_info": {
   "codemirror_mode": {
    "name": "ipython",
    "version": 3
   },
   "file_extension": ".py",
   "mimetype": "text/x-python",
   "name": "python",
   "nbconvert_exporter": "python",
   "pygments_lexer": "ipython3",
   "version": "3.10.16"
  }
 },
 "nbformat": 4,
 "nbformat_minor": 5
}
